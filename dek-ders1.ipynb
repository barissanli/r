{
 "cells": [
  {
   "cell_type": "markdown",
   "metadata": {},
   "source": [
    "# İlk ders"
   ]
  },
  {
   "cell_type": "code",
   "execution_count": 3,
   "metadata": {},
   "outputs": [
    {
     "data": {
      "text/html": [
       "9"
      ],
      "text/latex": [
       "9"
      ],
      "text/markdown": [
       "9"
      ],
      "text/plain": [
       "[1] 9"
      ]
     },
     "metadata": {},
     "output_type": "display_data"
    }
   ],
   "source": [
    "3**2"
   ]
  },
  {
   "cell_type": "code",
   "execution_count": 5,
   "metadata": {},
   "outputs": [
    {
     "data": {
      "text/html": [
       "1.09861228866811"
      ],
      "text/latex": [
       "1.09861228866811"
      ],
      "text/markdown": [
       "1.09861228866811"
      ],
      "text/plain": [
       "[1] 1.098612"
      ]
     },
     "metadata": {},
     "output_type": "display_data"
    }
   ],
   "source": [
    "log(3)"
   ]
  },
  {
   "cell_type": "code",
   "execution_count": 6,
   "metadata": {
    "collapsed": true
   },
   "outputs": [],
   "source": [
    "altin<-c(10,12,14,15)"
   ]
  },
  {
   "cell_type": "code",
   "execution_count": 7,
   "metadata": {},
   "outputs": [
    {
     "data": {
      "text/html": [
       "<ol class=list-inline>\n",
       "\t<li>10</li>\n",
       "\t<li>12</li>\n",
       "\t<li>14</li>\n",
       "\t<li>15</li>\n",
       "</ol>\n"
      ],
      "text/latex": [
       "\\begin{enumerate*}\n",
       "\\item 10\n",
       "\\item 12\n",
       "\\item 14\n",
       "\\item 15\n",
       "\\end{enumerate*}\n"
      ],
      "text/markdown": [
       "1. 10\n",
       "2. 12\n",
       "3. 14\n",
       "4. 15\n",
       "\n",
       "\n"
      ],
      "text/plain": [
       "[1] 10 12 14 15"
      ]
     },
     "metadata": {},
     "output_type": "display_data"
    }
   ],
   "source": [
    "altin"
   ]
  },
  {
   "cell_type": "code",
   "execution_count": 9,
   "metadata": {},
   "outputs": [
    {
     "data": {
      "text/html": [
       "<ol class=list-inline>\n",
       "\t<li>15</li>\n",
       "\t<li>14</li>\n",
       "\t<li>12</li>\n",
       "\t<li>10</li>\n",
       "</ol>\n"
      ],
      "text/latex": [
       "\\begin{enumerate*}\n",
       "\\item 15\n",
       "\\item 14\n",
       "\\item 12\n",
       "\\item 10\n",
       "\\end{enumerate*}\n"
      ],
      "text/markdown": [
       "1. 15\n",
       "2. 14\n",
       "3. 12\n",
       "4. 10\n",
       "\n",
       "\n"
      ],
      "text/plain": [
       "[1] 15 14 12 10"
      ]
     },
     "metadata": {},
     "output_type": "display_data"
    }
   ],
   "source": [
    "rev(altin)"
   ]
  },
  {
   "cell_type": "code",
   "execution_count": 10,
   "metadata": {},
   "outputs": [
    {
     "data": {
      "text/html": [
       "<ol class=list-inline>\n",
       "\t<li>100</li>\n",
       "\t<li>144</li>\n",
       "\t<li>196</li>\n",
       "\t<li>225</li>\n",
       "</ol>\n"
      ],
      "text/latex": [
       "\\begin{enumerate*}\n",
       "\\item 100\n",
       "\\item 144\n",
       "\\item 196\n",
       "\\item 225\n",
       "\\end{enumerate*}\n"
      ],
      "text/markdown": [
       "1. 100\n",
       "2. 144\n",
       "3. 196\n",
       "4. 225\n",
       "\n",
       "\n"
      ],
      "text/plain": [
       "[1] 100 144 196 225"
      ]
     },
     "metadata": {},
     "output_type": "display_data"
    }
   ],
   "source": [
    "altin**2"
   ]
  },
  {
   "cell_type": "code",
   "execution_count": 11,
   "metadata": {
    "collapsed": true
   },
   "outputs": [],
   "source": [
    "petrol<-c(23,34,23,54)"
   ]
  },
  {
   "cell_type": "code",
   "execution_count": 13,
   "metadata": {},
   "outputs": [
    {
     "data": {
      "text/html": [
       "<table>\n",
       "<thead><tr><th scope=col>altin</th><th scope=col>petrol</th></tr></thead>\n",
       "<tbody>\n",
       "\t<tr><td>10</td><td>23</td></tr>\n",
       "\t<tr><td>12</td><td>34</td></tr>\n",
       "\t<tr><td>14</td><td>23</td></tr>\n",
       "\t<tr><td>15</td><td>54</td></tr>\n",
       "</tbody>\n",
       "</table>\n"
      ],
      "text/latex": [
       "\\begin{tabular}{ll}\n",
       " altin & petrol\\\\\n",
       "\\hline\n",
       "\t 10 & 23\\\\\n",
       "\t 12 & 34\\\\\n",
       "\t 14 & 23\\\\\n",
       "\t 15 & 54\\\\\n",
       "\\end{tabular}\n"
      ],
      "text/markdown": [
       "\n",
       "altin | petrol | \n",
       "|---|---|---|---|\n",
       "| 10 | 23 | \n",
       "| 12 | 34 | \n",
       "| 14 | 23 | \n",
       "| 15 | 54 | \n",
       "\n",
       "\n"
      ],
      "text/plain": [
       "     altin petrol\n",
       "[1,] 10    23    \n",
       "[2,] 12    34    \n",
       "[3,] 14    23    \n",
       "[4,] 15    54    "
      ]
     },
     "metadata": {},
     "output_type": "display_data"
    }
   ],
   "source": [
    "cbind(altin, petrol)"
   ]
  },
  {
   "cell_type": "code",
   "execution_count": 14,
   "metadata": {},
   "outputs": [
    {
     "data": {
      "text/html": [
       "<table>\n",
       "<tbody>\n",
       "\t<tr><th scope=row>altin</th><td>10</td><td>12</td><td>14</td><td>15</td></tr>\n",
       "\t<tr><th scope=row>petrol</th><td>23</td><td>34</td><td>23</td><td>54</td></tr>\n",
       "</tbody>\n",
       "</table>\n"
      ],
      "text/latex": [
       "\\begin{tabular}{r|llll}\n",
       "\taltin & 10 & 12 & 14 & 15\\\\\n",
       "\tpetrol & 23 & 34 & 23 & 54\\\\\n",
       "\\end{tabular}\n"
      ],
      "text/markdown": [
       "\n",
       "| altin | 10 | 12 | 14 | 15 | \n",
       "| petrol | 23 | 34 | 23 | 54 | \n",
       "\n",
       "\n"
      ],
      "text/plain": [
       "       [,1] [,2] [,3] [,4]\n",
       "altin  10   12   14   15  \n",
       "petrol 23   34   23   54  "
      ]
     },
     "metadata": {},
     "output_type": "display_data"
    }
   ],
   "source": [
    "rbind(altin,petrol)"
   ]
  },
  {
   "cell_type": "code",
   "execution_count": 15,
   "metadata": {
    "collapsed": true
   },
   "outputs": [],
   "source": [
    "toplam<-cbind(altin, petrol, c(55,56,57,34))"
   ]
  },
  {
   "cell_type": "code",
   "execution_count": 16,
   "metadata": {},
   "outputs": [
    {
     "data": {
      "text/html": [
       "<table>\n",
       "<thead><tr><th scope=col>altin</th><th scope=col>petrol</th><th scope=col></th></tr></thead>\n",
       "<tbody>\n",
       "\t<tr><td>10</td><td>23</td><td>55</td></tr>\n",
       "\t<tr><td>12</td><td>34</td><td>56</td></tr>\n",
       "\t<tr><td>14</td><td>23</td><td>57</td></tr>\n",
       "\t<tr><td>15</td><td>54</td><td>34</td></tr>\n",
       "</tbody>\n",
       "</table>\n"
      ],
      "text/latex": [
       "\\begin{tabular}{lll}\n",
       " altin & petrol & \\\\\n",
       "\\hline\n",
       "\t 10 & 23 & 55\\\\\n",
       "\t 12 & 34 & 56\\\\\n",
       "\t 14 & 23 & 57\\\\\n",
       "\t 15 & 54 & 34\\\\\n",
       "\\end{tabular}\n"
      ],
      "text/markdown": [
       "\n",
       "altin | petrol |  | \n",
       "|---|---|---|---|\n",
       "| 10 | 23 | 55 | \n",
       "| 12 | 34 | 56 | \n",
       "| 14 | 23 | 57 | \n",
       "| 15 | 54 | 34 | \n",
       "\n",
       "\n"
      ],
      "text/plain": [
       "     altin petrol   \n",
       "[1,] 10    23     55\n",
       "[2,] 12    34     56\n",
       "[3,] 14    23     57\n",
       "[4,] 15    54     34"
      ]
     },
     "metadata": {},
     "output_type": "display_data"
    }
   ],
   "source": [
    "head(toplam)"
   ]
  },
  {
   "cell_type": "code",
   "execution_count": 17,
   "metadata": {},
   "outputs": [
    {
     "data": {
      "text/html": [
       "<table>\n",
       "<thead><tr><th scope=col>altin</th><th scope=col>petrol</th><th scope=col></th></tr></thead>\n",
       "<tbody>\n",
       "\t<tr><td>10</td><td>23</td><td>55</td></tr>\n",
       "\t<tr><td>12</td><td>34</td><td>56</td></tr>\n",
       "</tbody>\n",
       "</table>\n"
      ],
      "text/latex": [
       "\\begin{tabular}{lll}\n",
       " altin & petrol & \\\\\n",
       "\\hline\n",
       "\t 10 & 23 & 55\\\\\n",
       "\t 12 & 34 & 56\\\\\n",
       "\\end{tabular}\n"
      ],
      "text/markdown": [
       "\n",
       "altin | petrol |  | \n",
       "|---|---|\n",
       "| 10 | 23 | 55 | \n",
       "| 12 | 34 | 56 | \n",
       "\n",
       "\n"
      ],
      "text/plain": [
       "     altin petrol   \n",
       "[1,] 10    23     55\n",
       "[2,] 12    34     56"
      ]
     },
     "metadata": {},
     "output_type": "display_data"
    }
   ],
   "source": [
    "head(toplam,2)"
   ]
  },
  {
   "cell_type": "code",
   "execution_count": 18,
   "metadata": {},
   "outputs": [
    {
     "data": {
      "text/html": [
       "<table>\n",
       "<thead><tr><th></th><th scope=col>altin</th><th scope=col>petrol</th><th scope=col></th></tr></thead>\n",
       "<tbody>\n",
       "\t<tr><th scope=row>[4,]</th><td>15</td><td>54</td><td>34</td></tr>\n",
       "</tbody>\n",
       "</table>\n"
      ],
      "text/latex": [
       "\\begin{tabular}{r|lll}\n",
       "  & altin & petrol & \\\\\n",
       "\\hline\n",
       "\t{[}4,{]} & 15 & 54 & 34\\\\\n",
       "\\end{tabular}\n"
      ],
      "text/markdown": [
       "\n",
       "| <!--/--> | altin | petrol |  | \n",
       "|---|\n",
       "| [4,] | 15 | 54 | 34 | \n",
       "\n",
       "\n"
      ],
      "text/plain": [
       "     altin petrol   \n",
       "[4,] 15    54     34"
      ]
     },
     "metadata": {},
     "output_type": "display_data"
    }
   ],
   "source": [
    "tail(toplam,1)"
   ]
  },
  {
   "cell_type": "code",
   "execution_count": 19,
   "metadata": {
    "collapsed": true
   },
   "outputs": [],
   "source": [
    "?colnames"
   ]
  },
  {
   "cell_type": "code",
   "execution_count": 20,
   "metadata": {
    "collapsed": true
   },
   "outputs": [],
   "source": [
    "colnames(toplam)<-c(\"Altin\",\"Petrol\",\"Platin\")"
   ]
  },
  {
   "cell_type": "code",
   "execution_count": 21,
   "metadata": {},
   "outputs": [
    {
     "data": {
      "text/html": [
       "<table>\n",
       "<thead><tr><th scope=col>Altin</th><th scope=col>Petrol</th><th scope=col>Platin</th></tr></thead>\n",
       "<tbody>\n",
       "\t<tr><td>10</td><td>23</td><td>55</td></tr>\n",
       "\t<tr><td>12</td><td>34</td><td>56</td></tr>\n",
       "\t<tr><td>14</td><td>23</td><td>57</td></tr>\n",
       "\t<tr><td>15</td><td>54</td><td>34</td></tr>\n",
       "</tbody>\n",
       "</table>\n"
      ],
      "text/latex": [
       "\\begin{tabular}{lll}\n",
       " Altin & Petrol & Platin\\\\\n",
       "\\hline\n",
       "\t 10 & 23 & 55\\\\\n",
       "\t 12 & 34 & 56\\\\\n",
       "\t 14 & 23 & 57\\\\\n",
       "\t 15 & 54 & 34\\\\\n",
       "\\end{tabular}\n"
      ],
      "text/markdown": [
       "\n",
       "Altin | Petrol | Platin | \n",
       "|---|---|---|---|\n",
       "| 10 | 23 | 55 | \n",
       "| 12 | 34 | 56 | \n",
       "| 14 | 23 | 57 | \n",
       "| 15 | 54 | 34 | \n",
       "\n",
       "\n"
      ],
      "text/plain": [
       "     Altin Petrol Platin\n",
       "[1,] 10    23     55    \n",
       "[2,] 12    34     56    \n",
       "[3,] 14    23     57    \n",
       "[4,] 15    54     34    "
      ]
     },
     "metadata": {},
     "output_type": "display_data"
    }
   ],
   "source": [
    "toplam"
   ]
  },
  {
   "cell_type": "code",
   "execution_count": 22,
   "metadata": {},
   "outputs": [
    {
     "ename": "ERROR",
     "evalue": "Error in toplam$Altin: $ operator is invalid for atomic vectors\n",
     "output_type": "error",
     "traceback": [
      "Error in toplam$Altin: $ operator is invalid for atomic vectors\nTraceback:\n"
     ]
    }
   ],
   "source": [
    "toplam$Altin"
   ]
  },
  {
   "cell_type": "code",
   "execution_count": 23,
   "metadata": {},
   "outputs": [
    {
     "data": {
      "text/html": [
       "'matrix'"
      ],
      "text/latex": [
       "'matrix'"
      ],
      "text/markdown": [
       "'matrix'"
      ],
      "text/plain": [
       "[1] \"matrix\""
      ]
     },
     "metadata": {},
     "output_type": "display_data"
    }
   ],
   "source": [
    "class(toplam)"
   ]
  },
  {
   "cell_type": "code",
   "execution_count": 30,
   "metadata": {},
   "outputs": [
    {
     "data": {
      "text/html": [
       "<strong>Platin:</strong> 57"
      ],
      "text/latex": [
       "\\textbf{Platin:} 57"
      ],
      "text/markdown": [
       "**Platin:** 57"
      ],
      "text/plain": [
       "Platin \n",
       "    57 "
      ]
     },
     "metadata": {},
     "output_type": "display_data"
    }
   ],
   "source": [
    "toplam[3,3]"
   ]
  },
  {
   "cell_type": "code",
   "execution_count": 31,
   "metadata": {},
   "outputs": [
    {
     "ename": "ERROR",
     "evalue": "Error in `[<-`(`*tmp*`, , 4, value = c(110, 112, 114, 68)): subscript out of bounds\n",
     "output_type": "error",
     "traceback": [
      "Error in `[<-`(`*tmp*`, , 4, value = c(110, 112, 114, 68)): subscript out of bounds\nTraceback:\n"
     ]
    }
   ],
   "source": [
    "toplam[,4]<-toplam[,3]*2"
   ]
  },
  {
   "cell_type": "code",
   "execution_count": 34,
   "metadata": {
    "collapsed": true
   },
   "outputs": [],
   "source": [
    "dates <- seq(as.Date(\"2017-11-01\"), length=4, by=\"days\")"
   ]
  },
  {
   "cell_type": "code",
   "execution_count": 35,
   "metadata": {},
   "outputs": [
    {
     "data": {
      "text/html": [
       "<ol class=list-inline>\n",
       "\t<li><time datetime=\"2017-11-01\">2017-11-01</time></li>\n",
       "\t<li><time datetime=\"2017-11-02\">2017-11-02</time></li>\n",
       "\t<li><time datetime=\"2017-11-03\">2017-11-03</time></li>\n",
       "\t<li><time datetime=\"2017-11-04\">2017-11-04</time></li>\n",
       "</ol>\n"
      ],
      "text/latex": [
       "\\begin{enumerate*}\n",
       "\\item 2017-11-01\n",
       "\\item 2017-11-02\n",
       "\\item 2017-11-03\n",
       "\\item 2017-11-04\n",
       "\\end{enumerate*}\n"
      ],
      "text/markdown": [
       "1. 2017-11-01\n",
       "2. 2017-11-02\n",
       "3. 2017-11-03\n",
       "4. 2017-11-04\n",
       "\n",
       "\n"
      ],
      "text/plain": [
       "[1] \"2017-11-01\" \"2017-11-02\" \"2017-11-03\" \"2017-11-04\""
      ]
     },
     "metadata": {},
     "output_type": "display_data"
    }
   ],
   "source": [
    "dates"
   ]
  },
  {
   "cell_type": "code",
   "execution_count": 37,
   "metadata": {},
   "outputs": [
    {
     "name": "stderr",
     "output_type": "stream",
     "text": [
      "Loading required package: zoo\n",
      "\n",
      "Attaching package: 'zoo'\n",
      "\n",
      "The following objects are masked from 'package:base':\n",
      "\n",
      "    as.Date, as.Date.numeric\n",
      "\n"
     ]
    }
   ],
   "source": [
    "library(xts)"
   ]
  },
  {
   "cell_type": "code",
   "execution_count": 38,
   "metadata": {
    "collapsed": true
   },
   "outputs": [],
   "source": [
    "xts2 <- xts(x=toplam_df, order.by=dates)"
   ]
  },
  {
   "cell_type": "code",
   "execution_count": 39,
   "metadata": {},
   "outputs": [
    {
     "data": {
      "text/plain": [
       "           Altin Petrol Platin normalize\n",
       "2017-11-01    10     23     55        40\n",
       "2017-11-02    12     34     56        48\n",
       "2017-11-03    14     23     57        56\n",
       "2017-11-04    15     54     34        60"
      ]
     },
     "metadata": {},
     "output_type": "display_data"
    }
   ],
   "source": [
    "xts2"
   ]
  },
  {
   "cell_type": "code",
   "execution_count": null,
   "metadata": {
    "collapsed": true
   },
   "outputs": [],
   "source": []
  },
  {
   "cell_type": "code",
   "execution_count": 24,
   "metadata": {
    "collapsed": true
   },
   "outputs": [],
   "source": [
    "toplam_df<-data.frame(toplam)"
   ]
  },
  {
   "cell_type": "code",
   "execution_count": 25,
   "metadata": {},
   "outputs": [
    {
     "data": {
      "text/html": [
       "'data.frame'"
      ],
      "text/latex": [
       "'data.frame'"
      ],
      "text/markdown": [
       "'data.frame'"
      ],
      "text/plain": [
       "[1] \"data.frame\""
      ]
     },
     "metadata": {},
     "output_type": "display_data"
    }
   ],
   "source": [
    "class(toplam_df)"
   ]
  },
  {
   "cell_type": "code",
   "execution_count": 26,
   "metadata": {},
   "outputs": [
    {
     "data": {
      "text/html": [
       "<table>\n",
       "<thead><tr><th></th><th scope=col>Altin</th><th scope=col>Petrol</th><th scope=col>Platin</th></tr></thead>\n",
       "<tbody>\n",
       "\t<tr><th scope=row>Altin</th><td> 1.0000000</td><td> 0.6324848</td><td>-0.6201103</td></tr>\n",
       "\t<tr><th scope=row>Petrol</th><td> 0.6324848</td><td> 1.0000000</td><td>-0.9323975</td></tr>\n",
       "\t<tr><th scope=row>Platin</th><td>-0.6201103</td><td>-0.9323975</td><td> 1.0000000</td></tr>\n",
       "</tbody>\n",
       "</table>\n"
      ],
      "text/latex": [
       "\\begin{tabular}{r|lll}\n",
       "  & Altin & Petrol & Platin\\\\\n",
       "\\hline\n",
       "\tAltin &  1.0000000 &  0.6324848 & -0.6201103\\\\\n",
       "\tPetrol &  0.6324848 &  1.0000000 & -0.9323975\\\\\n",
       "\tPlatin & -0.6201103 & -0.9323975 &  1.0000000\\\\\n",
       "\\end{tabular}\n"
      ],
      "text/markdown": [
       "\n",
       "| <!--/--> | Altin | Petrol | Platin | \n",
       "|---|---|---|\n",
       "| Altin |  1.0000000 |  0.6324848 | -0.6201103 | \n",
       "| Petrol |  0.6324848 |  1.0000000 | -0.9323975 | \n",
       "| Platin | -0.6201103 | -0.9323975 |  1.0000000 | \n",
       "\n",
       "\n"
      ],
      "text/plain": [
       "       Altin      Petrol     Platin    \n",
       "Altin   1.0000000  0.6324848 -0.6201103\n",
       "Petrol  0.6324848  1.0000000 -0.9323975\n",
       "Platin -0.6201103 -0.9323975  1.0000000"
      ]
     },
     "metadata": {},
     "output_type": "display_data"
    }
   ],
   "source": [
    "cor(toplam_df)"
   ]
  },
  {
   "cell_type": "code",
   "execution_count": 27,
   "metadata": {},
   "outputs": [
    {
     "data": {
      "text/html": [
       "<ol class=list-inline>\n",
       "\t<li>10</li>\n",
       "\t<li>12</li>\n",
       "\t<li>14</li>\n",
       "\t<li>15</li>\n",
       "</ol>\n"
      ],
      "text/latex": [
       "\\begin{enumerate*}\n",
       "\\item 10\n",
       "\\item 12\n",
       "\\item 14\n",
       "\\item 15\n",
       "\\end{enumerate*}\n"
      ],
      "text/markdown": [
       "1. 10\n",
       "2. 12\n",
       "3. 14\n",
       "4. 15\n",
       "\n",
       "\n"
      ],
      "text/plain": [
       "[1] 10 12 14 15"
      ]
     },
     "metadata": {},
     "output_type": "display_data"
    }
   ],
   "source": [
    "toplam_df$Altin"
   ]
  },
  {
   "cell_type": "code",
   "execution_count": 28,
   "metadata": {},
   "outputs": [
    {
     "data": {
      "image/png": "[encoded data removed]"
     },
     "metadata": {},
     "output_type": "display_data"
    }
   ],
   "source": [
    "plot(toplam_df$Altin)"
   ]
  },
  {
   "cell_type": "code",
   "execution_count": 29,
   "metadata": {},
   "outputs": [
    {
     "data": {
      "image/png": "[encoded data removed]"
     },
     "metadata": {},
     "output_type": "display_data"
    }
   ],
   "source": [
    "plot(toplam_df$Altin, type=\"l\")"
   ]
  },
  {
   "cell_type": "code",
   "execution_count": 32,
   "metadata": {
    "collapsed": true
   },
   "outputs": [],
   "source": [
    "toplam_df$normalize<-toplam_df$Altin*4"
   ]
  },
  {
   "cell_type": "code",
   "execution_count": 33,
   "metadata": {},
   "outputs": [
    {
     "data": {
      "text/html": [
       "<table>\n",
       "<thead><tr><th scope=col>Altin</th><th scope=col>Petrol</th><th scope=col>Platin</th><th scope=col>normalize</th></tr></thead>\n",
       "<tbody>\n",
       "\t<tr><td>10</td><td>23</td><td>55</td><td>40</td></tr>\n",
       "\t<tr><td>12</td><td>34</td><td>56</td><td>48</td></tr>\n",
       "\t<tr><td>14</td><td>23</td><td>57</td><td>56</td></tr>\n",
       "\t<tr><td>15</td><td>54</td><td>34</td><td>60</td></tr>\n",
       "</tbody>\n",
       "</table>\n"
      ],
      "text/latex": [
       "\\begin{tabular}{r|llll}\n",
       " Altin & Petrol & Platin & normalize\\\\\n",
       "\\hline\n",
       "\t 10 & 23 & 55 & 40\\\\\n",
       "\t 12 & 34 & 56 & 48\\\\\n",
       "\t 14 & 23 & 57 & 56\\\\\n",
       "\t 15 & 54 & 34 & 60\\\\\n",
       "\\end{tabular}\n"
      ],
      "text/markdown": [
       "\n",
       "Altin | Petrol | Platin | normalize | \n",
       "|---|---|---|---|\n",
       "| 10 | 23 | 55 | 40 | \n",
       "| 12 | 34 | 56 | 48 | \n",
       "| 14 | 23 | 57 | 56 | \n",
       "| 15 | 54 | 34 | 60 | \n",
       "\n",
       "\n"
      ],
      "text/plain": [
       "  Altin Petrol Platin normalize\n",
       "1 10    23     55     40       \n",
       "2 12    34     56     48       \n",
       "3 14    23     57     56       \n",
       "4 15    54     34     60       "
      ]
     },
     "metadata": {},
     "output_type": "display_data"
    }
   ],
   "source": [
    "toplam_df"
   ]
  },
  {
   "cell_type": "code",
   "execution_count": null,
   "metadata": {
    "collapsed": true
   },
   "outputs": [],
   "source": []
  },
  {
   "cell_type": "code",
   "execution_count": 1,
   "metadata": {},
   "outputs": [
    {
     "data": {
      "text/plain": [
       "\n",
       "Call:\n",
       "lm(formula = y ~ x)\n",
       "\n",
       "Coefficients:\n",
       "(Intercept)            x  \n",
       "    0.08249      2.10279  \n"
      ]
     },
     "metadata": {},
     "output_type": "display_data"
    }
   ],
   "source": [
    "x <- rnorm(100)\n",
    "y <- 2*x + rnorm(100)\n",
    "lm(formula=y~x)"
   ]
  },
  {
   "cell_type": "code",
   "execution_count": 2,
   "metadata": {},
   "outputs": [
    {
     "data": {
      "text/html": [
       "<ol class=list-inline>\n",
       "\t<li>1.32333756239577</li>\n",
       "\t<li>-0.977415101927154</li>\n",
       "\t<li>-0.195222789272158</li>\n",
       "\t<li>1.68179983994439</li>\n",
       "\t<li>-0.165914042073181</li>\n",
       "\t<li>-0.292351264891867</li>\n",
       "\t<li>0.586948571091125</li>\n",
       "\t<li>-1.43287127828074</li>\n",
       "\t<li>0.48646509447443</li>\n",
       "\t<li>-0.878236212790969</li>\n",
       "\t<li>-0.42532809763064</li>\n",
       "\t<li>0.555180820158438</li>\n",
       "\t<li>-1.19734554994935</li>\n",
       "\t<li>0.291726234568965</li>\n",
       "\t<li>0.102468843376208</li>\n",
       "\t<li>-1.2281918572816</li>\n",
       "\t<li>-1.33587762999318</li>\n",
       "\t<li>-0.499402664467583</li>\n",
       "\t<li>0.29990888927494</li>\n",
       "\t<li>0.652322445656846</li>\n",
       "\t<li>-0.222191124271274</li>\n",
       "\t<li>-0.247387396375954</li>\n",
       "\t<li>-0.854467851576875</li>\n",
       "\t<li>-1.58283447142171</li>\n",
       "\t<li>-0.366988358585114</li>\n",
       "\t<li>0.227610948022988</li>\n",
       "\t<li>-1.87158472539518</li>\n",
       "\t<li>-0.283895788731566</li>\n",
       "\t<li>0.253387397793105</li>\n",
       "\t<li>-0.419947352262816</li>\n",
       "\t<li>-1.28024617328409</li>\n",
       "\t<li>0.239027608927676</li>\n",
       "\t<li>-1.30556057227045</li>\n",
       "\t<li>0.65350992536161</li>\n",
       "\t<li>-1.11746927931752</li>\n",
       "\t<li>0.442258005149874</li>\n",
       "\t<li>0.0619135391499184</li>\n",
       "\t<li>-1.24206243329732</li>\n",
       "\t<li>1.08441651253893</li>\n",
       "\t<li>0.289263179485836</li>\n",
       "\t<li>-1.01203098082494</li>\n",
       "\t<li>-0.0581434182801126</li>\n",
       "\t<li>-1.96461504865146</li>\n",
       "\t<li>1.69794088800749</li>\n",
       "\t<li>0.240352085028049</li>\n",
       "\t<li>-1.98003611725326</li>\n",
       "\t<li>1.5994117436203</li>\n",
       "\t<li>1.13445413680401</li>\n",
       "\t<li>1.27534104147631</li>\n",
       "\t<li>-0.731365098490586</li>\n",
       "\t<li>0.841567972434405</li>\n",
       "\t<li>0.255834314906726</li>\n",
       "\t<li>-1.71649439312891</li>\n",
       "\t<li>2.059396079003</li>\n",
       "\t<li>0.691847457649364</li>\n",
       "\t<li>1.91731880329132</li>\n",
       "\t<li>0.771485651986708</li>\n",
       "\t<li>1.8923792470888</li>\n",
       "\t<li>-0.864966950927848</li>\n",
       "\t<li>-0.488434611817916</li>\n",
       "\t<li>-1.02957080336993</li>\n",
       "\t<li>0.0778869541099654</li>\n",
       "\t<li>0.658617972816314</li>\n",
       "\t<li>-1.98454460229168</li>\n",
       "\t<li>-0.67081617405052</li>\n",
       "\t<li>0.862961447697796</li>\n",
       "\t<li>0.110379942335654</li>\n",
       "\t<li>-1.0338234021623</li>\n",
       "\t<li>1.08213138774458</li>\n",
       "\t<li>0.555531192857151</li>\n",
       "\t<li>-0.0139761799009062</li>\n",
       "\t<li>1.16140761406057</li>\n",
       "\t<li>-0.563187460518959</li>\n",
       "\t<li>0.397459195776781</li>\n",
       "\t<li>-0.17412042315313</li>\n",
       "\t<li>0.312324934426492</li>\n",
       "\t<li>0.00806057493563994</li>\n",
       "\t<li>-1.63190006433758</li>\n",
       "\t<li>0.401135020421719</li>\n",
       "\t<li>-0.410420105572191</li>\n",
       "\t<li>0.164279505921347</li>\n",
       "\t<li>0.0739118415732452</li>\n",
       "\t<li>0.668560639223143</li>\n",
       "\t<li>0.990003647582381</li>\n",
       "\t<li>0.502697944206133</li>\n",
       "\t<li>-1.09984411706197</li>\n",
       "\t<li>0.348652061789538</li>\n",
       "\t<li>0.374499087439401</li>\n",
       "\t<li>-2.06326399482044</li>\n",
       "\t<li>-1.10051382206114</li>\n",
       "\t<li>-0.217620134461652</li>\n",
       "\t<li>-0.784345172030434</li>\n",
       "\t<li>1.34077097685543</li>\n",
       "\t<li>0.672332550966124</li>\n",
       "\t<li>-1.18338497226299</li>\n",
       "\t<li>1.05341440482095</li>\n",
       "\t<li>0.748004303856499</li>\n",
       "\t<li>-0.747990581767464</li>\n",
       "\t<li>0.814027110666201</li>\n",
       "\t<li>-0.0278050520664367</li>\n",
       "</ol>\n"
      ],
      "text/latex": [
       "\\begin{enumerate*}\n",
       "\\item 1.32333756239577\n",
       "\\item -0.977415101927154\n",
       "\\item -0.195222789272158\n",
       "\\item 1.68179983994439\n",
       "\\item -0.165914042073181\n",
       "\\item -0.292351264891867\n",
       "\\item 0.586948571091125\n",
       "\\item -1.43287127828074\n",
       "\\item 0.48646509447443\n",
       "\\item -0.878236212790969\n",
       "\\item -0.42532809763064\n",
       "\\item 0.555180820158438\n",
       "\\item -1.19734554994935\n",
       "\\item 0.291726234568965\n",
       "\\item 0.102468843376208\n",
       "\\item -1.2281918572816\n",
       "\\item -1.33587762999318\n",
       "\\item -0.499402664467583\n",
       "\\item 0.29990888927494\n",
       "\\item 0.652322445656846\n",
       "\\item -0.222191124271274\n",
       "\\item -0.247387396375954\n",
       "\\item -0.854467851576875\n",
       "\\item -1.58283447142171\n",
       "\\item -0.366988358585114\n",
       "\\item 0.227610948022988\n",
       "\\item -1.87158472539518\n",
       "\\item -0.283895788731566\n",
       "\\item 0.253387397793105\n",
       "\\item -0.419947352262816\n",
       "\\item -1.28024617328409\n",
       "\\item 0.239027608927676\n",
       "\\item -1.30556057227045\n",
       "\\item 0.65350992536161\n",
       "\\item -1.11746927931752\n",
       "\\item 0.442258005149874\n",
       "\\item 0.0619135391499184\n",
       "\\item -1.24206243329732\n",
       "\\item 1.08441651253893\n",
       "\\item 0.289263179485836\n",
       "\\item -1.01203098082494\n",
       "\\item -0.0581434182801126\n",
       "\\item -1.96461504865146\n",
       "\\item 1.69794088800749\n",
       "\\item 0.240352085028049\n",
       "\\item -1.98003611725326\n",
       "\\item 1.5994117436203\n",
       "\\item 1.13445413680401\n",
       "\\item 1.27534104147631\n",
       "\\item -0.731365098490586\n",
       "\\item 0.841567972434405\n",
       "\\item 0.255834314906726\n",
       "\\item -1.71649439312891\n",
       "\\item 2.059396079003\n",
       "\\item 0.691847457649364\n",
       "\\item 1.91731880329132\n",
       "\\item 0.771485651986708\n",
       "\\item 1.8923792470888\n",
       "\\item -0.864966950927848\n",
       "\\item -0.488434611817916\n",
       "\\item -1.02957080336993\n",
       "\\item 0.0778869541099654\n",
       "\\item 0.658617972816314\n",
       "\\item -1.98454460229168\n",
       "\\item -0.67081617405052\n",
       "\\item 0.862961447697796\n",
       "\\item 0.110379942335654\n",
       "\\item -1.0338234021623\n",
       "\\item 1.08213138774458\n",
       "\\item 0.555531192857151\n",
       "\\item -0.0139761799009062\n",
       "\\item 1.16140761406057\n",
       "\\item -0.563187460518959\n",
       "\\item 0.397459195776781\n",
       "\\item -0.17412042315313\n",
       "\\item 0.312324934426492\n",
       "\\item 0.00806057493563994\n",
       "\\item -1.63190006433758\n",
       "\\item 0.401135020421719\n",
       "\\item -0.410420105572191\n",
       "\\item 0.164279505921347\n",
       "\\item 0.0739118415732452\n",
       "\\item 0.668560639223143\n",
       "\\item 0.990003647582381\n",
       "\\item 0.502697944206133\n",
       "\\item -1.09984411706197\n",
       "\\item 0.348652061789538\n",
       "\\item 0.374499087439401\n",
       "\\item -2.06326399482044\n",
       "\\item -1.10051382206114\n",
       "\\item -0.217620134461652\n",
       "\\item -0.784345172030434\n",
       "\\item 1.34077097685543\n",
       "\\item 0.672332550966124\n",
       "\\item -1.18338497226299\n",
       "\\item 1.05341440482095\n",
       "\\item 0.748004303856499\n",
       "\\item -0.747990581767464\n",
       "\\item 0.814027110666201\n",
       "\\item -0.0278050520664367\n",
       "\\end{enumerate*}\n"
      ],
      "text/markdown": [
       "1. 1.32333756239577\n",
       "2. -0.977415101927154\n",
       "3. -0.195222789272158\n",
       "4. 1.68179983994439\n",
       "5. -0.165914042073181\n",
       "6. -0.292351264891867\n",
       "7. 0.586948571091125\n",
       "8. -1.43287127828074\n",
       "9. 0.48646509447443\n",
       "10. -0.878236212790969\n",
       "11. -0.42532809763064\n",
       "12. 0.555180820158438\n",
       "13. -1.19734554994935\n",
       "14. 0.291726234568965\n",
       "15. 0.102468843376208\n",
       "16. -1.2281918572816\n",
       "17. -1.33587762999318\n",
       "18. -0.499402664467583\n",
       "19. 0.29990888927494\n",
       "20. 0.652322445656846\n",
       "21. -0.222191124271274\n",
       "22. -0.247387396375954\n",
       "23. -0.854467851576875\n",
       "24. -1.58283447142171\n",
       "25. -0.366988358585114\n",
       "26. 0.227610948022988\n",
       "27. -1.87158472539518\n",
       "28. -0.283895788731566\n",
       "29. 0.253387397793105\n",
       "30. -0.419947352262816\n",
       "31. -1.28024617328409\n",
       "32. 0.239027608927676\n",
       "33. -1.30556057227045\n",
       "34. 0.65350992536161\n",
       "35. -1.11746927931752\n",
       "36. 0.442258005149874\n",
       "37. 0.0619135391499184\n",
       "38. -1.24206243329732\n",
       "39. 1.08441651253893\n",
       "40. 0.289263179485836\n",
       "41. -1.01203098082494\n",
       "42. -0.0581434182801126\n",
       "43. -1.96461504865146\n",
       "44. 1.69794088800749\n",
       "45. 0.240352085028049\n",
       "46. -1.98003611725326\n",
       "47. 1.5994117436203\n",
       "48. 1.13445413680401\n",
       "49. 1.27534104147631\n",
       "50. -0.731365098490586\n",
       "51. 0.841567972434405\n",
       "52. 0.255834314906726\n",
       "53. -1.71649439312891\n",
       "54. 2.059396079003\n",
       "55. 0.691847457649364\n",
       "56. 1.91731880329132\n",
       "57. 0.771485651986708\n",
       "58. 1.8923792470888\n",
       "59. -0.864966950927848\n",
       "60. -0.488434611817916\n",
       "61. -1.02957080336993\n",
       "62. 0.0778869541099654\n",
       "63. 0.658617972816314\n",
       "64. -1.98454460229168\n",
       "65. -0.67081617405052\n",
       "66. 0.862961447697796\n",
       "67. 0.110379942335654\n",
       "68. -1.0338234021623\n",
       "69. 1.08213138774458\n",
       "70. 0.555531192857151\n",
       "71. -0.0139761799009062\n",
       "72. 1.16140761406057\n",
       "73. -0.563187460518959\n",
       "74. 0.397459195776781\n",
       "75. -0.17412042315313\n",
       "76. 0.312324934426492\n",
       "77. 0.00806057493563994\n",
       "78. -1.63190006433758\n",
       "79. 0.401135020421719\n",
       "80. -0.410420105572191\n",
       "81. 0.164279505921347\n",
       "82. 0.0739118415732452\n",
       "83. 0.668560639223143\n",
       "84. 0.990003647582381\n",
       "85. 0.502697944206133\n",
       "86. -1.09984411706197\n",
       "87. 0.348652061789538\n",
       "88. 0.374499087439401\n",
       "89. -2.06326399482044\n",
       "90. -1.10051382206114\n",
       "91. -0.217620134461652\n",
       "92. -0.784345172030434\n",
       "93. 1.34077097685543\n",
       "94. 0.672332550966124\n",
       "95. -1.18338497226299\n",
       "96. 1.05341440482095\n",
       "97. 0.748004303856499\n",
       "98. -0.747990581767464\n",
       "99. 0.814027110666201\n",
       "100. -0.0278050520664367\n",
       "\n",
       "\n"
      ],
      "text/plain": [
       "  [1]  1.323337562 -0.977415102 -0.195222789  1.681799840 -0.165914042\n",
       "  [6] -0.292351265  0.586948571 -1.432871278  0.486465094 -0.878236213\n",
       " [11] -0.425328098  0.555180820 -1.197345550  0.291726235  0.102468843\n",
       " [16] -1.228191857 -1.335877630 -0.499402664  0.299908889  0.652322446\n",
       " [21] -0.222191124 -0.247387396 -0.854467852 -1.582834471 -0.366988359\n",
       " [26]  0.227610948 -1.871584725 -0.283895789  0.253387398 -0.419947352\n",
       " [31] -1.280246173  0.239027609 -1.305560572  0.653509925 -1.117469279\n",
       " [36]  0.442258005  0.061913539 -1.242062433  1.084416513  0.289263179\n",
       " [41] -1.012030981 -0.058143418 -1.964615049  1.697940888  0.240352085\n",
       " [46] -1.980036117  1.599411744  1.134454137  1.275341041 -0.731365098\n",
       " [51]  0.841567972  0.255834315 -1.716494393  2.059396079  0.691847458\n",
       " [56]  1.917318803  0.771485652  1.892379247 -0.864966951 -0.488434612\n",
       " [61] -1.029570803  0.077886954  0.658617973 -1.984544602 -0.670816174\n",
       " [66]  0.862961448  0.110379942 -1.033823402  1.082131388  0.555531193\n",
       " [71] -0.013976180  1.161407614 -0.563187461  0.397459196 -0.174120423\n",
       " [76]  0.312324934  0.008060575 -1.631900064  0.401135020 -0.410420106\n",
       " [81]  0.164279506  0.073911842  0.668560639  0.990003648  0.502697944\n",
       " [86] -1.099844117  0.348652062  0.374499087 -2.063263995 -1.100513822\n",
       " [91] -0.217620134 -0.784345172  1.340770977  0.672332551 -1.183384972\n",
       " [96]  1.053414405  0.748004304 -0.747990582  0.814027111 -0.027805052"
      ]
     },
     "metadata": {},
     "output_type": "display_data"
    }
   ],
   "source": [
    "rnorm(100)"
   ]
  },
  {
   "cell_type": "code",
   "execution_count": null,
   "metadata": {
    "collapsed": true
   },
   "outputs": [],
   "source": []
  }
 ],
 "metadata": {
  "kernelspec": {
   "display_name": "R",
   "language": "R",
   "name": "r"
  },
  "language_info": {
   "codemirror_mode": "r",
   "file_extension": ".r",
   "mimetype": "text/x-r-source",
   "name": "R",
   "pygments_lexer": "r",
   "version": "3.3.3"
  }
 },
 "nbformat": 4,
 "nbformat_minor": 2
}
