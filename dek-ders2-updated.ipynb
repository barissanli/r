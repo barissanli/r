{
 "cells": [
  {
   "cell_type": "code",
   "execution_count": 1,
   "metadata": {},
   "outputs": [
    {
     "name": "stderr",
     "output_type": "stream",
     "text": [
      "Loading required package: zoo\n",
      "\n",
      "Attaching package: ‘zoo’\n",
      "\n",
      "The following objects are masked from ‘package:base’:\n",
      "\n",
      "    as.Date, as.Date.numeric\n",
      "\n"
     ]
    }
   ],
   "source": [
    "library(xts)"
   ]
  },
  {
   "cell_type": "code",
   "execution_count": 2,
   "metadata": {
    "collapsed": true
   },
   "outputs": [],
   "source": [
    "tablo<-readRDS(\"Final-brent-enflasyon-korelasyon.rds\")"
   ]
  },
  {
   "cell_type": "code",
   "execution_count": 3,
   "metadata": {},
   "outputs": [
    {
     "data": {
      "text/plain": [
       "              Brent   Toplam   brentTL TP_DK_USD_A    enf  enf.1  enf.2  enf.3\n",
       "2006-06-30 69.31583 2.316118 112.63666    1.624308 128.63     NA     NA     NA\n",
       "2006-07-31 73.68684 2.348493 114.13217    1.548884 129.72 128.63     NA     NA\n",
       "2006-08-31 73.50682 2.231939 107.49903    1.462191 129.15 129.72 128.63     NA\n",
       "2006-09-29 61.62550 1.986497  90.70836    1.472710 130.81 129.15 129.72 128.63\n",
       "2006-10-31 57.88789 2.076004  85.45447    1.476242 132.47 130.81 129.15 129.72\n",
       "2006-11-30 58.61650 2.112229  84.96947    1.449345 134.18 132.47 130.81 129.15\n",
       "            enf.4  enf.5  enf.6\n",
       "2006-06-30 129.72 129.15 130.81\n",
       "2006-07-31 129.15 130.81 132.47\n",
       "2006-08-31 130.81 132.47 134.18\n",
       "2006-09-29 132.47 134.18 134.49\n",
       "2006-10-31 134.18 134.49 135.84\n",
       "2006-11-30 134.49 135.84 136.42"
      ]
     },
     "metadata": {},
     "output_type": "display_data"
    }
   ],
   "source": [
    "head(tablo)"
   ]
  },
  {
   "cell_type": "code",
   "execution_count": 4,
   "metadata": {},
   "outputs": [
    {
     "name": "stderr",
     "output_type": "stream",
     "text": [
      "also installing the dependency ‘gtools’\n",
      "\n",
      "Updating HTML index of packages in '.Library'\n",
      "Making 'packages.html' ... done\n"
     ]
    }
   ],
   "source": [
    "install.packages(\"gdata\")"
   ]
  },
  {
   "cell_type": "code",
   "execution_count": 4,
   "metadata": {},
   "outputs": [
    {
     "name": "stderr",
     "output_type": "stream",
     "text": [
      "Installing package into '/home/nbcommon/R'\n",
      "(as 'lib' is unspecified)\n"
     ]
    }
   ],
   "source": [
    "install.packages(\"wbstats\")"
   ]
  },
  {
   "cell_type": "code",
   "execution_count": 5,
   "metadata": {
    "collapsed": true
   },
   "outputs": [],
   "source": [
    "library(wbstats)\n"
   ]
  },
  {
   "cell_type": "code",
   "execution_count": 19,
   "metadata": {
    "collapsed": true
   },
   "outputs": [],
   "source": [
    "oil_data <- wb(indicator = c(\"CRUDE_DUBAI\", \"CRUDE_BRENT\", \"CRUDE_WTI\", \"COAL_SAFRICA\",\"COAL_COL\",\"COAL_AUS\",\"GOLD\"),\n",
    "               startdate = \"2006M06\", enddate = \"2017M10\", freq = \"M\", POSIXct = TRUE)\n"
   ]
  },
  {
   "cell_type": "code",
   "execution_count": 20,
   "metadata": {},
   "outputs": [
    {
     "data": {
      "text/html": [
       "<table>\n",
       "<thead><tr><th scope=col>value</th><th scope=col>date</th><th scope=col>indicatorID</th><th scope=col>indicator</th><th scope=col>iso2c</th><th scope=col>country</th><th scope=col>date_ct</th><th scope=col>granularity</th></tr></thead>\n",
       "<tbody>\n",
       "\t<tr><td>55.58                            </td><td>2017M10                          </td><td>CRUDE_DUBAI                      </td><td>Crude oil, Dubai, $/bbl, nominal$</td><td>1W                               </td><td>World                            </td><td>2017-10-01                       </td><td>monthly                          </td></tr>\n",
       "\t<tr><td>53.86                            </td><td>2017M09                          </td><td>CRUDE_DUBAI                      </td><td>Crude oil, Dubai, $/bbl, nominal$</td><td>1W                               </td><td>World                            </td><td>2017-09-01                       </td><td>monthly                          </td></tr>\n",
       "</tbody>\n",
       "</table>\n"
      ],
      "text/latex": [
       "\\begin{tabular}{r|llllllll}\n",
       " value & date & indicatorID & indicator & iso2c & country & date\\_ct & granularity\\\\\n",
       "\\hline\n",
       "\t 55.58                                 & 2017M10                               & CRUDE\\_DUBAI                         & Crude oil, Dubai, \\$/bbl, nominal\\$ & 1W                                    & World                                 & 2017-10-01                            & monthly                              \\\\\n",
       "\t 53.86                                 & 2017M09                               & CRUDE\\_DUBAI                         & Crude oil, Dubai, \\$/bbl, nominal\\$ & 1W                                    & World                                 & 2017-09-01                            & monthly                              \\\\\n",
       "\\end{tabular}\n"
      ],
      "text/markdown": [
       "\n",
       "value | date | indicatorID | indicator | iso2c | country | date_ct | granularity | \n",
       "|---|---|\n",
       "| 55.58                             | 2017M10                           | CRUDE_DUBAI                       | Crude oil, Dubai, $/bbl, nominal$ | 1W                                | World                             | 2017-10-01                        | monthly                           | \n",
       "| 53.86                             | 2017M09                           | CRUDE_DUBAI                       | Crude oil, Dubai, $/bbl, nominal$ | 1W                                | World                             | 2017-09-01                        | monthly                           | \n",
       "\n",
       "\n"
      ],
      "text/plain": [
       "  value date    indicatorID indicator                         iso2c country\n",
       "1 55.58 2017M10 CRUDE_DUBAI Crude oil, Dubai, $/bbl, nominal$ 1W    World  \n",
       "2 53.86 2017M09 CRUDE_DUBAI Crude oil, Dubai, $/bbl, nominal$ 1W    World  \n",
       "  date_ct    granularity\n",
       "1 2017-10-01 monthly    \n",
       "2 2017-09-01 monthly    "
      ]
     },
     "metadata": {},
     "output_type": "display_data"
    }
   ],
   "source": [
    "head(oil_data,2)"
   ]
  },
  {
   "cell_type": "code",
   "execution_count": 21,
   "metadata": {
    "collapsed": true
   },
   "outputs": [],
   "source": [
    "library(reshape2)"
   ]
  },
  {
   "cell_type": "code",
   "execution_count": 25,
   "metadata": {
    "collapsed": true
   },
   "outputs": [],
   "source": [
    "emtia_tablo<-dcast(oil_data,date~indicatorID, value.var='value')"
   ]
  },
  {
   "cell_type": "code",
   "execution_count": 28,
   "metadata": {},
   "outputs": [
    {
     "data": {
      "text/plain": [
       "              Brent   Toplam  brentTL TP_DK_USD_A    enf  enf.1 enf.2 enf.3\n",
       "2006-06-30 69.31583 2.316118 112.6367    1.624308 128.63     NA    NA    NA\n",
       "2006-07-31 73.68684 2.348493 114.1322    1.548884 129.72 128.63    NA    NA\n",
       "            enf.4  enf.5  enf.6\n",
       "2006-06-30 129.72 129.15 130.81\n",
       "2006-07-31 129.15 130.81 132.47"
      ]
     },
     "metadata": {},
     "output_type": "display_data"
    },
    {
     "data": {
      "text/html": [
       "<table>\n",
       "<thead><tr><th></th><th scope=col>date</th><th scope=col>COAL_AUS</th><th scope=col>COAL_COL</th><th scope=col>COAL_SAFRICA</th><th scope=col>CRUDE_BRENT</th><th scope=col>CRUDE_DUBAI</th><th scope=col>CRUDE_WTI</th><th scope=col>GOLD</th></tr></thead>\n",
       "<tbody>\n",
       "\t<tr><th scope=row>136</th><td>2017M09 </td><td>96.86905</td><td>82.7400 </td><td>85.68571</td><td>55.16   </td><td>53.86   </td><td>49.83   </td><td>1314.07 </td></tr>\n",
       "\t<tr><th scope=row>137</th><td>2017M10 </td><td>97.14091</td><td>84.0625 </td><td>85.09955</td><td>57.62   </td><td>55.58   </td><td>51.56   </td><td>1279.51 </td></tr>\n",
       "</tbody>\n",
       "</table>\n"
      ],
      "text/latex": [
       "\\begin{tabular}{r|llllllll}\n",
       "  & date & COAL\\_AUS & COAL\\_COL & COAL\\_SAFRICA & CRUDE\\_BRENT & CRUDE\\_DUBAI & CRUDE\\_WTI & GOLD\\\\\n",
       "\\hline\n",
       "\t136 & 2017M09  & 96.86905 & 82.7400  & 85.68571 & 55.16    & 53.86    & 49.83    & 1314.07 \\\\\n",
       "\t137 & 2017M10  & 97.14091 & 84.0625  & 85.09955 & 57.62    & 55.58    & 51.56    & 1279.51 \\\\\n",
       "\\end{tabular}\n"
      ],
      "text/markdown": [
       "\n",
       "| <!--/--> | date | COAL_AUS | COAL_COL | COAL_SAFRICA | CRUDE_BRENT | CRUDE_DUBAI | CRUDE_WTI | GOLD | \n",
       "|---|---|\n",
       "| 136 | 2017M09  | 96.86905 | 82.7400  | 85.68571 | 55.16    | 53.86    | 49.83    | 1314.07  | \n",
       "| 137 | 2017M10  | 97.14091 | 84.0625  | 85.09955 | 57.62    | 55.58    | 51.56    | 1279.51  | \n",
       "\n",
       "\n"
      ],
      "text/plain": [
       "    date    COAL_AUS COAL_COL COAL_SAFRICA CRUDE_BRENT CRUDE_DUBAI CRUDE_WTI\n",
       "136 2017M09 96.86905 82.7400  85.68571     55.16       53.86       49.83    \n",
       "137 2017M10 97.14091 84.0625  85.09955     57.62       55.58       51.56    \n",
       "    GOLD   \n",
       "136 1314.07\n",
       "137 1279.51"
      ]
     },
     "metadata": {},
     "output_type": "display_data"
    }
   ],
   "source": [
    "head(tablo,2)\n",
    "tail(emtia_tablo,2)"
   ]
  },
  {
   "cell_type": "code",
   "execution_count": 33,
   "metadata": {},
   "outputs": [
    {
     "data": {
      "text/plain": [
       "     date              COAL_AUS         COAL_COL       COAL_SAFRICA   \n",
       " Length:137         Min.   : 44.05   Min.   : 41.38   Min.   : 48.20  \n",
       " Class :character   1st Qu.: 62.55   1st Qu.: 57.31   1st Qu.: 61.13  \n",
       " Mode  :character   Median : 80.95   Median : 69.30   Median : 77.60  \n",
       "                    Mean   : 84.08   Mean   : 75.44   Mean   : 80.52  \n",
       "                    3rd Qu.: 96.87   3rd Qu.: 85.20   3rd Qu.: 89.75  \n",
       "                    Max.   :180.00   Max.   :170.75   Max.   :167.75  \n",
       "  CRUDE_BRENT      CRUDE_DUBAI       CRUDE_WTI           GOLD       \n",
       " Min.   : 30.80   Min.   : 27.00   Min.   : 30.39   Min.   : 585.8  \n",
       " 1st Qu.: 55.79   1st Qu.: 54.91   1st Qu.: 52.51   1st Qu.: 939.8  \n",
       " Median : 76.69   Median : 75.27   Median : 76.41   Median :1227.1  \n",
       " Mean   : 80.67   Mean   : 78.00   Mean   : 75.76   Mean   :1182.1  \n",
       " 3rd Qu.:108.08   3rd Qu.:104.94   3rd Qu.: 94.76   3rd Qu.:1342.0  \n",
       " Max.   :133.87   Max.   :131.22   Max.   :133.93   Max.   :1772.1  \n",
       "     TLkur.Index           TLkur.X[[i]]    \n",
       " Min.   :2006-06-30    Min.   :1.169971    \n",
       " 1st Qu.:2009-04-30    1st Qu.:1.486690    \n",
       " Median :2012-02-29    Median :1.779295    \n",
       " Mean   :2012-02-29    Mean   :1.997723    \n",
       " 3rd Qu.:2014-12-31    3rd Qu.:2.286155    \n",
       " Max.   :2017-10-31    Max.   :3.742445    "
      ]
     },
     "metadata": {},
     "output_type": "display_data"
    },
    {
     "data": {
      "text/html": [
       "<table>\n",
       "<thead><tr><th scope=col>date</th><th scope=col>COAL_AUS</th><th scope=col>COAL_COL</th><th scope=col>COAL_SAFRICA</th><th scope=col>CRUDE_BRENT</th><th scope=col>CRUDE_DUBAI</th><th scope=col>CRUDE_WTI</th><th scope=col>GOLD</th><th scope=col>TLkur</th></tr></thead>\n",
       "<tbody>\n",
       "\t<tr><td>2006M06 </td><td>52.3750 </td><td>54.25   </td><td>52.3750 </td><td>68.85773</td><td>65.08091</td><td>70.93182</td><td>596.145 </td><td>1.624308</td></tr>\n",
       "\t<tr><td>2006M07 </td><td>52.7500 </td><td>53.05   </td><td>51.6800 </td><td>73.89714</td><td>69.04905</td><td>74.40421</td><td>633.710 </td><td>1.548884</td></tr>\n",
       "\t<tr><td>2006M08 </td><td>50.9375 </td><td>55.44   </td><td>53.5875 </td><td>73.61217</td><td>68.78174</td><td>73.04174</td><td>632.593 </td><td>1.462191</td></tr>\n",
       "\t<tr><td>2006M09 </td><td>47.1000 </td><td>49.50   </td><td>48.7500 </td><td>62.77190</td><td>59.77286</td><td>63.81900</td><td>598.186 </td><td>1.472710</td></tr>\n",
       "\t<tr><td>2006M10 </td><td>44.0500 </td><td>50.25   </td><td>49.2125 </td><td>58.38000</td><td>56.50095</td><td>58.85045</td><td>585.780 </td><td>1.476242</td></tr>\n",
       "\t<tr><td>2006M11 </td><td>46.0000 </td><td>51.19   </td><td>48.2000 </td><td>58.48318</td><td>56.81545</td><td>59.13050</td><td>627.827 </td><td>1.449345</td></tr>\n",
       "</tbody>\n",
       "</table>\n"
      ],
      "text/latex": [
       "\\begin{tabular}{r|lllllllll}\n",
       " date & COAL\\_AUS & COAL\\_COL & COAL\\_SAFRICA & CRUDE\\_BRENT & CRUDE\\_DUBAI & CRUDE\\_WTI & GOLD & TLkur\\\\\n",
       "\\hline\n",
       "\t 2006M06  & 52.3750  & 54.25    & 52.3750  & 68.85773 & 65.08091 & 70.93182 & 596.145  & 1.624308\\\\\n",
       "\t 2006M07  & 52.7500  & 53.05    & 51.6800  & 73.89714 & 69.04905 & 74.40421 & 633.710  & 1.548884\\\\\n",
       "\t 2006M08  & 50.9375  & 55.44    & 53.5875  & 73.61217 & 68.78174 & 73.04174 & 632.593  & 1.462191\\\\\n",
       "\t 2006M09  & 47.1000  & 49.50    & 48.7500  & 62.77190 & 59.77286 & 63.81900 & 598.186  & 1.472710\\\\\n",
       "\t 2006M10  & 44.0500  & 50.25    & 49.2125  & 58.38000 & 56.50095 & 58.85045 & 585.780  & 1.476242\\\\\n",
       "\t 2006M11  & 46.0000  & 51.19    & 48.2000  & 58.48318 & 56.81545 & 59.13050 & 627.827  & 1.449345\\\\\n",
       "\\end{tabular}\n"
      ],
      "text/markdown": [
       "\n",
       "date | COAL_AUS | COAL_COL | COAL_SAFRICA | CRUDE_BRENT | CRUDE_DUBAI | CRUDE_WTI | GOLD | TLkur | \n",
       "|---|---|---|---|---|---|\n",
       "| 2006M06  | 52.3750  | 54.25    | 52.3750  | 68.85773 | 65.08091 | 70.93182 | 596.145  | 1.624308 | \n",
       "| 2006M07  | 52.7500  | 53.05    | 51.6800  | 73.89714 | 69.04905 | 74.40421 | 633.710  | 1.548884 | \n",
       "| 2006M08  | 50.9375  | 55.44    | 53.5875  | 73.61217 | 68.78174 | 73.04174 | 632.593  | 1.462191 | \n",
       "| 2006M09  | 47.1000  | 49.50    | 48.7500  | 62.77190 | 59.77286 | 63.81900 | 598.186  | 1.472710 | \n",
       "| 2006M10  | 44.0500  | 50.25    | 49.2125  | 58.38000 | 56.50095 | 58.85045 | 585.780  | 1.476242 | \n",
       "| 2006M11  | 46.0000  | 51.19    | 48.2000  | 58.48318 | 56.81545 | 59.13050 | 627.827  | 1.449345 | \n",
       "\n",
       "\n"
      ],
      "text/plain": [
       "  date    COAL_AUS COAL_COL COAL_SAFRICA CRUDE_BRENT CRUDE_DUBAI CRUDE_WTI\n",
       "1 2006M06 52.3750  54.25    52.3750      68.85773    65.08091    70.93182 \n",
       "2 2006M07 52.7500  53.05    51.6800      73.89714    69.04905    74.40421 \n",
       "3 2006M08 50.9375  55.44    53.5875      73.61217    68.78174    73.04174 \n",
       "4 2006M09 47.1000  49.50    48.7500      62.77190    59.77286    63.81900 \n",
       "5 2006M10 44.0500  50.25    49.2125      58.38000    56.50095    58.85045 \n",
       "6 2006M11 46.0000  51.19    48.2000      58.48318    56.81545    59.13050 \n",
       "  GOLD    TLkur   \n",
       "1 596.145 1.624308\n",
       "2 633.710 1.548884\n",
       "3 632.593 1.462191\n",
       "4 598.186 1.472710\n",
       "5 585.780 1.476242\n",
       "6 627.827 1.449345"
      ]
     },
     "metadata": {},
     "output_type": "display_data"
    }
   ],
   "source": [
    "summary(emtia_tablo)\n",
    "emtia_tablo$TLkur<-tablo[1:137,4]\n",
    "head(emtia_tablo)"
   ]
  },
  {
   "cell_type": "code",
   "execution_count": 7,
   "metadata": {},
   "outputs": [
    {
     "ename": "ERROR",
     "evalue": "Error in saveRDS(emtia_tablo, \"20171201-emtia--.rds\"): object 'emtia_tablo' not found\n",
     "output_type": "error",
     "traceback": [
      "Error in saveRDS(emtia_tablo, \"20171201-emtia--.rds\"): object 'emtia_tablo' not found\nTraceback:\n",
      "1. saveRDS(emtia_tablo, \"20171201-emtia--.rds\")"
     ]
    }
   ],
   "source": [
    "saveRDS(emtia_tablo,\"20171201-emtia--.rds\")"
   ]
  },
  {
   "cell_type": "code",
   "execution_count": 41,
   "metadata": {
    "collapsed": true
   },
   "outputs": [],
   "source": [
    "write.csv (emtia_tablo,\"emtiatabl----o.csv\")"
   ]
  },
  {
   "cell_type": "code",
   "execution_count": 42,
   "metadata": {},
   "outputs": [
    {
     "data": {
      "text/html": [
       "<table>\n",
       "<thead><tr><th></th><th scope=col>date</th><th scope=col>COAL_AUS</th><th scope=col>COAL_COL</th><th scope=col>COAL_SAFRICA</th><th scope=col>CRUDE_BRENT</th><th scope=col>CRUDE_DUBAI</th><th scope=col>CRUDE_WTI</th><th scope=col>GOLD</th><th scope=col>TLkur</th></tr></thead>\n",
       "<tbody>\n",
       "\t<tr><th scope=row>132</th><td>2017M05 </td><td>74.52000</td><td>67.9500 </td><td>72.48565</td><td>50.87   </td><td>50.31   </td><td>48.50   </td><td>1246.04 </td><td>3.563800</td></tr>\n",
       "\t<tr><th scope=row>133</th><td>2017M06 </td><td>80.95227</td><td>73.9800 </td><td>77.37136</td><td>46.89   </td><td>46.44   </td><td>45.17   </td><td>1260.26 </td><td>3.518990</td></tr>\n",
       "\t<tr><th scope=row>134</th><td>2017M07 </td><td>87.53095</td><td>78.7500 </td><td>81.95143</td><td>48.69   </td><td>47.63   </td><td>46.65   </td><td>1236.85 </td><td>3.563679</td></tr>\n",
       "\t<tr><th scope=row>135</th><td>2017M08 </td><td>95.89000</td><td>79.1875 </td><td>84.25857</td><td>51.37   </td><td>50.43   </td><td>48.03   </td><td>1283.04 </td><td>3.512477</td></tr>\n",
       "\t<tr><th scope=row>136</th><td>2017M09 </td><td>96.86905</td><td>82.7400 </td><td>85.68571</td><td>55.16   </td><td>53.86   </td><td>49.83   </td><td>1314.07 </td><td>3.468047</td></tr>\n",
       "\t<tr><th scope=row>137</th><td>2017M10 </td><td>97.14091</td><td>84.0625 </td><td>85.09955</td><td>57.62   </td><td>55.58   </td><td>51.56   </td><td>1279.51 </td><td>3.662259</td></tr>\n",
       "</tbody>\n",
       "</table>\n"
      ],
      "text/latex": [
       "\\begin{tabular}{r|lllllllll}\n",
       "  & date & COAL\\_AUS & COAL\\_COL & COAL\\_SAFRICA & CRUDE\\_BRENT & CRUDE\\_DUBAI & CRUDE\\_WTI & GOLD & TLkur\\\\\n",
       "\\hline\n",
       "\t132 & 2017M05  & 74.52000 & 67.9500  & 72.48565 & 50.87    & 50.31    & 48.50    & 1246.04  & 3.563800\\\\\n",
       "\t133 & 2017M06  & 80.95227 & 73.9800  & 77.37136 & 46.89    & 46.44    & 45.17    & 1260.26  & 3.518990\\\\\n",
       "\t134 & 2017M07  & 87.53095 & 78.7500  & 81.95143 & 48.69    & 47.63    & 46.65    & 1236.85  & 3.563679\\\\\n",
       "\t135 & 2017M08  & 95.89000 & 79.1875  & 84.25857 & 51.37    & 50.43    & 48.03    & 1283.04  & 3.512477\\\\\n",
       "\t136 & 2017M09  & 96.86905 & 82.7400  & 85.68571 & 55.16    & 53.86    & 49.83    & 1314.07  & 3.468047\\\\\n",
       "\t137 & 2017M10  & 97.14091 & 84.0625  & 85.09955 & 57.62    & 55.58    & 51.56    & 1279.51  & 3.662259\\\\\n",
       "\\end{tabular}\n"
      ],
      "text/markdown": [
       "\n",
       "| <!--/--> | date | COAL_AUS | COAL_COL | COAL_SAFRICA | CRUDE_BRENT | CRUDE_DUBAI | CRUDE_WTI | GOLD | TLkur | \n",
       "|---|---|---|---|---|---|\n",
       "| 132 | 2017M05  | 74.52000 | 67.9500  | 72.48565 | 50.87    | 50.31    | 48.50    | 1246.04  | 3.563800 | \n",
       "| 133 | 2017M06  | 80.95227 | 73.9800  | 77.37136 | 46.89    | 46.44    | 45.17    | 1260.26  | 3.518990 | \n",
       "| 134 | 2017M07  | 87.53095 | 78.7500  | 81.95143 | 48.69    | 47.63    | 46.65    | 1236.85  | 3.563679 | \n",
       "| 135 | 2017M08  | 95.89000 | 79.1875  | 84.25857 | 51.37    | 50.43    | 48.03    | 1283.04  | 3.512477 | \n",
       "| 136 | 2017M09  | 96.86905 | 82.7400  | 85.68571 | 55.16    | 53.86    | 49.83    | 1314.07  | 3.468047 | \n",
       "| 137 | 2017M10  | 97.14091 | 84.0625  | 85.09955 | 57.62    | 55.58    | 51.56    | 1279.51  | 3.662259 | \n",
       "\n",
       "\n"
      ],
      "text/plain": [
       "    date    COAL_AUS COAL_COL COAL_SAFRICA CRUDE_BRENT CRUDE_DUBAI CRUDE_WTI\n",
       "132 2017M05 74.52000 67.9500  72.48565     50.87       50.31       48.50    \n",
       "133 2017M06 80.95227 73.9800  77.37136     46.89       46.44       45.17    \n",
       "134 2017M07 87.53095 78.7500  81.95143     48.69       47.63       46.65    \n",
       "135 2017M08 95.89000 79.1875  84.25857     51.37       50.43       48.03    \n",
       "136 2017M09 96.86905 82.7400  85.68571     55.16       53.86       49.83    \n",
       "137 2017M10 97.14091 84.0625  85.09955     57.62       55.58       51.56    \n",
       "    GOLD    TLkur   \n",
       "132 1246.04 3.563800\n",
       "133 1260.26 3.518990\n",
       "134 1236.85 3.563679\n",
       "135 1283.04 3.512477\n",
       "136 1314.07 3.468047\n",
       "137 1279.51 3.662259"
      ]
     },
     "metadata": {},
     "output_type": "display_data"
    }
   ],
   "source": [
    "tail(emtia_tablo)"
   ]
  },
  {
   "cell_type": "code",
   "execution_count": 46,
   "metadata": {},
   "outputs": [
    {
     "data": {
      "text/html": [
       "26"
      ],
      "text/latex": [
       "26"
      ],
      "text/markdown": [
       "26"
      ],
      "text/plain": [
       "[1] 26"
      ]
     },
     "metadata": {},
     "output_type": "display_data"
    }
   ],
   "source": [
    "which.max(emtia_tablo$CRUDE_BRENT)"
   ]
  },
  {
   "cell_type": "code",
   "execution_count": 49,
   "metadata": {},
   "outputs": [
    {
     "data": {
      "text/html": [
       "<table>\n",
       "<thead><tr><th></th><th scope=col>COAL_AUS</th><th scope=col>COAL_COL</th><th scope=col>COAL_SAFRICA</th><th scope=col>CRUDE_BRENT</th><th scope=col>CRUDE_DUBAI</th><th scope=col>CRUDE_WTI</th><th scope=col>GOLD</th><th scope=col>TLkur</th></tr></thead>\n",
       "<tbody>\n",
       "\t<tr><th scope=row>COAL_AUS</th><td> 1.0000000</td><td> 0.9519459</td><td> 0.9830495</td><td> 0.6451796</td><td> 0.6448318</td><td> 0.6559127</td><td>0.3468681 </td><td>-0.3091073</td></tr>\n",
       "\t<tr><th scope=row>COAL_COL</th><td> 0.9519459</td><td> 1.0000000</td><td> 0.9736121</td><td> 0.6223830</td><td> 0.6150920</td><td> 0.6386832</td><td>0.2389303 </td><td>-0.3189845</td></tr>\n",
       "\t<tr><th scope=row>COAL_SAFRICA</th><td> 0.9830495</td><td> 0.9736121</td><td> 1.0000000</td><td> 0.6730969</td><td> 0.6708876</td><td> 0.6791346</td><td>0.3634995 </td><td>-0.3034282</td></tr>\n",
       "\t<tr><th scope=row>CRUDE_BRENT</th><td> 0.6451796</td><td> 0.6223830</td><td> 0.6730969</td><td> 1.0000000</td><td> 0.9979618</td><td> 0.9689528</td><td>0.4562557 </td><td>-0.5106929</td></tr>\n",
       "\t<tr><th scope=row>CRUDE_DUBAI</th><td> 0.6448318</td><td> 0.6150920</td><td> 0.6708876</td><td> 0.9979618</td><td> 1.0000000</td><td> 0.9676416</td><td>0.4666980 </td><td>-0.5037115</td></tr>\n",
       "\t<tr><th scope=row>CRUDE_WTI</th><td> 0.6559127</td><td> 0.6386832</td><td> 0.6791346</td><td> 0.9689528</td><td> 0.9676416</td><td> 1.0000000</td><td>0.2832844 </td><td>-0.5828848</td></tr>\n",
       "\t<tr><th scope=row>GOLD</th><td> 0.3468681</td><td> 0.2389303</td><td> 0.3634995</td><td> 0.4562557</td><td> 0.4666980</td><td> 0.2832844</td><td>1.0000000 </td><td> 0.2734550</td></tr>\n",
       "\t<tr><th scope=row>TLkur</th><td>-0.3091073</td><td>-0.3189845</td><td>-0.3034282</td><td>-0.5106929</td><td>-0.5037115</td><td>-0.5828848</td><td>0.2734550 </td><td> 1.0000000</td></tr>\n",
       "</tbody>\n",
       "</table>\n"
      ],
      "text/latex": [
       "\\begin{tabular}{r|llllllll}\n",
       "  & COAL\\_AUS & COAL\\_COL & COAL\\_SAFRICA & CRUDE\\_BRENT & CRUDE\\_DUBAI & CRUDE\\_WTI & GOLD & TLkur\\\\\n",
       "\\hline\n",
       "\tCOAL\\_AUS &  1.0000000 &  0.9519459 &  0.9830495 &  0.6451796 &  0.6448318 &  0.6559127 & 0.3468681  & -0.3091073\\\\\n",
       "\tCOAL\\_COL &  0.9519459 &  1.0000000 &  0.9736121 &  0.6223830 &  0.6150920 &  0.6386832 & 0.2389303  & -0.3189845\\\\\n",
       "\tCOAL\\_SAFRICA &  0.9830495 &  0.9736121 &  1.0000000 &  0.6730969 &  0.6708876 &  0.6791346 & 0.3634995  & -0.3034282\\\\\n",
       "\tCRUDE\\_BRENT &  0.6451796 &  0.6223830 &  0.6730969 &  1.0000000 &  0.9979618 &  0.9689528 & 0.4562557  & -0.5106929\\\\\n",
       "\tCRUDE\\_DUBAI &  0.6448318 &  0.6150920 &  0.6708876 &  0.9979618 &  1.0000000 &  0.9676416 & 0.4666980  & -0.5037115\\\\\n",
       "\tCRUDE\\_WTI &  0.6559127 &  0.6386832 &  0.6791346 &  0.9689528 &  0.9676416 &  1.0000000 & 0.2832844  & -0.5828848\\\\\n",
       "\tGOLD &  0.3468681 &  0.2389303 &  0.3634995 &  0.4562557 &  0.4666980 &  0.2832844 & 1.0000000  &  0.2734550\\\\\n",
       "\tTLkur & -0.3091073 & -0.3189845 & -0.3034282 & -0.5106929 & -0.5037115 & -0.5828848 & 0.2734550  &  1.0000000\\\\\n",
       "\\end{tabular}\n"
      ],
      "text/markdown": [
       "\n",
       "| <!--/--> | COAL_AUS | COAL_COL | COAL_SAFRICA | CRUDE_BRENT | CRUDE_DUBAI | CRUDE_WTI | GOLD | TLkur | \n",
       "|---|---|---|---|---|---|---|---|\n",
       "| COAL_AUS |  1.0000000 |  0.9519459 |  0.9830495 |  0.6451796 |  0.6448318 |  0.6559127 | 0.3468681  | -0.3091073 | \n",
       "| COAL_COL |  0.9519459 |  1.0000000 |  0.9736121 |  0.6223830 |  0.6150920 |  0.6386832 | 0.2389303  | -0.3189845 | \n",
       "| COAL_SAFRICA |  0.9830495 |  0.9736121 |  1.0000000 |  0.6730969 |  0.6708876 |  0.6791346 | 0.3634995  | -0.3034282 | \n",
       "| CRUDE_BRENT |  0.6451796 |  0.6223830 |  0.6730969 |  1.0000000 |  0.9979618 |  0.9689528 | 0.4562557  | -0.5106929 | \n",
       "| CRUDE_DUBAI |  0.6448318 |  0.6150920 |  0.6708876 |  0.9979618 |  1.0000000 |  0.9676416 | 0.4666980  | -0.5037115 | \n",
       "| CRUDE_WTI |  0.6559127 |  0.6386832 |  0.6791346 |  0.9689528 |  0.9676416 |  1.0000000 | 0.2832844  | -0.5828848 | \n",
       "| GOLD |  0.3468681 |  0.2389303 |  0.3634995 |  0.4562557 |  0.4666980 |  0.2832844 | 1.0000000  |  0.2734550 | \n",
       "| TLkur | -0.3091073 | -0.3189845 | -0.3034282 | -0.5106929 | -0.5037115 | -0.5828848 | 0.2734550  |  1.0000000 | \n",
       "\n",
       "\n"
      ],
      "text/plain": [
       "             COAL_AUS   COAL_COL   COAL_SAFRICA CRUDE_BRENT CRUDE_DUBAI\n",
       "COAL_AUS      1.0000000  0.9519459  0.9830495    0.6451796   0.6448318 \n",
       "COAL_COL      0.9519459  1.0000000  0.9736121    0.6223830   0.6150920 \n",
       "COAL_SAFRICA  0.9830495  0.9736121  1.0000000    0.6730969   0.6708876 \n",
       "CRUDE_BRENT   0.6451796  0.6223830  0.6730969    1.0000000   0.9979618 \n",
       "CRUDE_DUBAI   0.6448318  0.6150920  0.6708876    0.9979618   1.0000000 \n",
       "CRUDE_WTI     0.6559127  0.6386832  0.6791346    0.9689528   0.9676416 \n",
       "GOLD          0.3468681  0.2389303  0.3634995    0.4562557   0.4666980 \n",
       "TLkur        -0.3091073 -0.3189845 -0.3034282   -0.5106929  -0.5037115 \n",
       "             CRUDE_WTI  GOLD      TLkur     \n",
       "COAL_AUS      0.6559127 0.3468681 -0.3091073\n",
       "COAL_COL      0.6386832 0.2389303 -0.3189845\n",
       "COAL_SAFRICA  0.6791346 0.3634995 -0.3034282\n",
       "CRUDE_BRENT   0.9689528 0.4562557 -0.5106929\n",
       "CRUDE_DUBAI   0.9676416 0.4666980 -0.5037115\n",
       "CRUDE_WTI     1.0000000 0.2832844 -0.5828848\n",
       "GOLD          0.2832844 1.0000000  0.2734550\n",
       "TLkur        -0.5828848 0.2734550  1.0000000"
      ]
     },
     "metadata": {},
     "output_type": "display_data"
    }
   ],
   "source": [
    "cor(emtia_tablo[,2:9])"
   ]
  },
  {
   "cell_type": "code",
   "execution_count": 50,
   "metadata": {
    "collapsed": true
   },
   "outputs": [],
   "source": [
    "emtia_tablo2<-emtia_tablo"
   ]
  },
  {
   "cell_type": "code",
   "execution_count": 52,
   "metadata": {
    "collapsed": true
   },
   "outputs": [],
   "source": [
    "emtia_tablo2$TLkur1<-lag(emtia_tablo$TLkur,-1)\n",
    "emtia_tablo2$TLkur2<-lag(emtia_tablo$TLkur,-2)\n",
    "emtia_tablo2$TLkur3<-lag(emtia_tablo$TLkur,-3)\n",
    "emtia_tablo2$TLkur4<-lag(emtia_tablo$TLkur,-4)"
   ]
  },
  {
   "cell_type": "code",
   "execution_count": 56,
   "metadata": {},
   "outputs": [
    {
     "data": {
      "text/html": [
       "<table>\n",
       "<thead><tr><th scope=col>date</th><th scope=col>COAL_AUS</th><th scope=col>COAL_COL</th><th scope=col>COAL_SAFRICA</th><th scope=col>CRUDE_BRENT</th><th scope=col>CRUDE_DUBAI</th><th scope=col>CRUDE_WTI</th><th scope=col>GOLD</th><th scope=col>TLkur</th><th scope=col>TLkur1</th><th scope=col>TLkur2</th><th scope=col>TLkur3</th><th scope=col>TLkur4</th></tr></thead>\n",
       "<tbody>\n",
       "\t<tr><td>2006M06 </td><td>52.3750 </td><td>54.25   </td><td>52.3750 </td><td>68.85773</td><td>65.08091</td><td>70.93182</td><td>596.145 </td><td>1.624308</td><td>1.548884</td><td>1.462191</td><td>1.472710</td><td>1.476242</td></tr>\n",
       "\t<tr><td>2006M07 </td><td>52.7500 </td><td>53.05   </td><td>51.6800 </td><td>73.89714</td><td>69.04905</td><td>74.40421</td><td>633.710 </td><td>1.548884</td><td>1.462191</td><td>1.472710</td><td>1.476242</td><td>1.449345</td></tr>\n",
       "\t<tr><td>2006M08 </td><td>50.9375 </td><td>55.44   </td><td>53.5875 </td><td>73.61217</td><td>68.78174</td><td>73.04174</td><td>632.593 </td><td>1.462191</td><td>1.472710</td><td>1.476242</td><td>1.449345</td><td>1.427032</td></tr>\n",
       "\t<tr><td>2006M09 </td><td>47.1000 </td><td>49.50   </td><td>48.7500 </td><td>62.77190</td><td>59.77286</td><td>63.81900</td><td>598.186 </td><td>1.472710</td><td>1.476242</td><td>1.449345</td><td>1.427032</td><td>1.419458</td></tr>\n",
       "\t<tr><td>2006M10 </td><td>44.0500 </td><td>50.25   </td><td>49.2125 </td><td>58.38000</td><td>56.50095</td><td>58.85045</td><td>585.780 </td><td>1.476242</td><td>1.449345</td><td>1.427032</td><td>1.419458</td><td>1.390689</td></tr>\n",
       "\t<tr><td>2006M11 </td><td>46.0000 </td><td>51.19   </td><td>48.2000 </td><td>58.48318</td><td>56.81545</td><td>59.13050</td><td>627.827 </td><td>1.449345</td><td>1.427032</td><td>1.419458</td><td>1.390689</td><td>1.402868</td></tr>\n",
       "</tbody>\n",
       "</table>\n"
      ],
      "text/latex": [
       "\\begin{tabular}{r|lllllllllllll}\n",
       " date & COAL\\_AUS & COAL\\_COL & COAL\\_SAFRICA & CRUDE\\_BRENT & CRUDE\\_DUBAI & CRUDE\\_WTI & GOLD & TLkur & TLkur1 & TLkur2 & TLkur3 & TLkur4\\\\\n",
       "\\hline\n",
       "\t 2006M06  & 52.3750  & 54.25    & 52.3750  & 68.85773 & 65.08091 & 70.93182 & 596.145  & 1.624308 & 1.548884 & 1.462191 & 1.472710 & 1.476242\\\\\n",
       "\t 2006M07  & 52.7500  & 53.05    & 51.6800  & 73.89714 & 69.04905 & 74.40421 & 633.710  & 1.548884 & 1.462191 & 1.472710 & 1.476242 & 1.449345\\\\\n",
       "\t 2006M08  & 50.9375  & 55.44    & 53.5875  & 73.61217 & 68.78174 & 73.04174 & 632.593  & 1.462191 & 1.472710 & 1.476242 & 1.449345 & 1.427032\\\\\n",
       "\t 2006M09  & 47.1000  & 49.50    & 48.7500  & 62.77190 & 59.77286 & 63.81900 & 598.186  & 1.472710 & 1.476242 & 1.449345 & 1.427032 & 1.419458\\\\\n",
       "\t 2006M10  & 44.0500  & 50.25    & 49.2125  & 58.38000 & 56.50095 & 58.85045 & 585.780  & 1.476242 & 1.449345 & 1.427032 & 1.419458 & 1.390689\\\\\n",
       "\t 2006M11  & 46.0000  & 51.19    & 48.2000  & 58.48318 & 56.81545 & 59.13050 & 627.827  & 1.449345 & 1.427032 & 1.419458 & 1.390689 & 1.402868\\\\\n",
       "\\end{tabular}\n"
      ],
      "text/markdown": [
       "\n",
       "date | COAL_AUS | COAL_COL | COAL_SAFRICA | CRUDE_BRENT | CRUDE_DUBAI | CRUDE_WTI | GOLD | TLkur | TLkur1 | TLkur2 | TLkur3 | TLkur4 | \n",
       "|---|---|---|---|---|---|\n",
       "| 2006M06  | 52.3750  | 54.25    | 52.3750  | 68.85773 | 65.08091 | 70.93182 | 596.145  | 1.624308 | 1.548884 | 1.462191 | 1.472710 | 1.476242 | \n",
       "| 2006M07  | 52.7500  | 53.05    | 51.6800  | 73.89714 | 69.04905 | 74.40421 | 633.710  | 1.548884 | 1.462191 | 1.472710 | 1.476242 | 1.449345 | \n",
       "| 2006M08  | 50.9375  | 55.44    | 53.5875  | 73.61217 | 68.78174 | 73.04174 | 632.593  | 1.462191 | 1.472710 | 1.476242 | 1.449345 | 1.427032 | \n",
       "| 2006M09  | 47.1000  | 49.50    | 48.7500  | 62.77190 | 59.77286 | 63.81900 | 598.186  | 1.472710 | 1.476242 | 1.449345 | 1.427032 | 1.419458 | \n",
       "| 2006M10  | 44.0500  | 50.25    | 49.2125  | 58.38000 | 56.50095 | 58.85045 | 585.780  | 1.476242 | 1.449345 | 1.427032 | 1.419458 | 1.390689 | \n",
       "| 2006M11  | 46.0000  | 51.19    | 48.2000  | 58.48318 | 56.81545 | 59.13050 | 627.827  | 1.449345 | 1.427032 | 1.419458 | 1.390689 | 1.402868 | \n",
       "\n",
       "\n"
      ],
      "text/plain": [
       "  date    COAL_AUS COAL_COL COAL_SAFRICA CRUDE_BRENT CRUDE_DUBAI CRUDE_WTI\n",
       "1 2006M06 52.3750  54.25    52.3750      68.85773    65.08091    70.93182 \n",
       "2 2006M07 52.7500  53.05    51.6800      73.89714    69.04905    74.40421 \n",
       "3 2006M08 50.9375  55.44    53.5875      73.61217    68.78174    73.04174 \n",
       "4 2006M09 47.1000  49.50    48.7500      62.77190    59.77286    63.81900 \n",
       "5 2006M10 44.0500  50.25    49.2125      58.38000    56.50095    58.85045 \n",
       "6 2006M11 46.0000  51.19    48.2000      58.48318    56.81545    59.13050 \n",
       "  GOLD    TLkur    TLkur1   TLkur2   TLkur3   TLkur4  \n",
       "1 596.145 1.624308 1.548884 1.462191 1.472710 1.476242\n",
       "2 633.710 1.548884 1.462191 1.472710 1.476242 1.449345\n",
       "3 632.593 1.462191 1.472710 1.476242 1.449345 1.427032\n",
       "4 598.186 1.472710 1.476242 1.449345 1.427032 1.419458\n",
       "5 585.780 1.476242 1.449345 1.427032 1.419458 1.390689\n",
       "6 627.827 1.449345 1.427032 1.419458 1.390689 1.402868"
      ]
     },
     "metadata": {},
     "output_type": "display_data"
    }
   ],
   "source": [
    "head(emtia_tablo2)"
   ]
  },
  {
   "cell_type": "code",
   "execution_count": 58,
   "metadata": {},
   "outputs": [
    {
     "data": {
      "text/html": [
       "<table>\n",
       "<thead><tr><th></th><th scope=col>COAL_AUS</th><th scope=col>COAL_COL</th><th scope=col>COAL_SAFRICA</th><th scope=col>CRUDE_BRENT</th><th scope=col>CRUDE_DUBAI</th><th scope=col>CRUDE_WTI</th><th scope=col>GOLD</th><th scope=col>TLkur</th><th scope=col>TLkur1</th><th scope=col>TLkur2</th><th scope=col>TLkur3</th></tr></thead>\n",
       "<tbody>\n",
       "\t<tr><th scope=row>COAL_AUS</th><td> 1.0000000</td><td> 0.9523307</td><td> 0.9839625</td><td> 0.6643023</td><td> 0.6635266</td><td> 0.6789970</td><td>0.3444324 </td><td>-0.3536977</td><td>-0.3327990</td><td>-0.3130657</td><td>-0.2969246</td></tr>\n",
       "\t<tr><th scope=row>COAL_COL</th><td> 0.9523307</td><td> 1.0000000</td><td> 0.9736992</td><td> 0.6353199</td><td> 0.6276306</td><td> 0.6549117</td><td>0.2373355 </td><td>-0.3525290</td><td>-0.3292454</td><td>-0.3083457</td><td>-0.2915924</td></tr>\n",
       "\t<tr><th scope=row>COAL_SAFRICA</th><td> 0.9839625</td><td> 0.9736992</td><td> 1.0000000</td><td> 0.6846841</td><td> 0.6821243</td><td> 0.6937119</td><td>0.3626525 </td><td>-0.3315395</td><td>-0.3091155</td><td>-0.2869191</td><td>-0.2691016</td></tr>\n",
       "\t<tr><th scope=row>CRUDE_BRENT</th><td> 0.6643023</td><td> 0.6353199</td><td> 0.6846841</td><td> 1.0000000</td><td> 0.9979240</td><td> 0.9684275</td><td>0.4695997 </td><td>-0.4959496</td><td>-0.4888172</td><td>-0.4783537</td><td>-0.4650009</td></tr>\n",
       "\t<tr><th scope=row>CRUDE_DUBAI</th><td> 0.6635266</td><td> 0.6276306</td><td> 0.6821243</td><td> 0.9979240</td><td> 1.0000000</td><td> 0.9671458</td><td>0.4798510 </td><td>-0.4891046</td><td>-0.4818509</td><td>-0.4710857</td><td>-0.4576067</td></tr>\n",
       "\t<tr><th scope=row>CRUDE_WTI</th><td> 0.6789970</td><td> 0.6549117</td><td> 0.6937119</td><td> 0.9684275</td><td> 0.9671458</td><td> 1.0000000</td><td>0.2966544 </td><td>-0.5675854</td><td>-0.5607679</td><td>-0.5490727</td><td>-0.5332823</td></tr>\n",
       "\t<tr><th scope=row>GOLD</th><td> 0.3444324</td><td> 0.2373355</td><td> 0.3626525</td><td> 0.4695997</td><td> 0.4798510</td><td> 0.2966544</td><td>1.0000000 </td><td> 0.2716796</td><td> 0.2782114</td><td> 0.2857312</td><td> 0.2929055</td></tr>\n",
       "\t<tr><th scope=row>TLkur</th><td>-0.3536977</td><td>-0.3525290</td><td>-0.3315395</td><td>-0.4959496</td><td>-0.4891046</td><td>-0.5675854</td><td>0.2716796 </td><td> 1.0000000</td><td> 0.9956706</td><td> 0.9885429</td><td> 0.9821103</td></tr>\n",
       "\t<tr><th scope=row>TLkur1</th><td>-0.3327990</td><td>-0.3292454</td><td>-0.3091155</td><td>-0.4888172</td><td>-0.4818509</td><td>-0.5607679</td><td>0.2782114 </td><td> 0.9956706</td><td> 1.0000000</td><td> 0.9958146</td><td> 0.9891718</td></tr>\n",
       "\t<tr><th scope=row>TLkur2</th><td>-0.3130657</td><td>-0.3083457</td><td>-0.2869191</td><td>-0.4783537</td><td>-0.4710857</td><td>-0.5490727</td><td>0.2857312 </td><td> 0.9885429</td><td> 0.9958146</td><td> 1.0000000</td><td> 0.9958495</td></tr>\n",
       "\t<tr><th scope=row>TLkur3</th><td>-0.2969246</td><td>-0.2915924</td><td>-0.2691016</td><td>-0.4650009</td><td>-0.4576067</td><td>-0.5332823</td><td>0.2929055 </td><td> 0.9821103</td><td> 0.9891718</td><td> 0.9958495</td><td> 1.0000000</td></tr>\n",
       "</tbody>\n",
       "</table>\n"
      ],
      "text/latex": [
       "\\begin{tabular}{r|lllllllllll}\n",
       "  & COAL\\_AUS & COAL\\_COL & COAL\\_SAFRICA & CRUDE\\_BRENT & CRUDE\\_DUBAI & CRUDE\\_WTI & GOLD & TLkur & TLkur1 & TLkur2 & TLkur3\\\\\n",
       "\\hline\n",
       "\tCOAL\\_AUS &  1.0000000 &  0.9523307 &  0.9839625 &  0.6643023 &  0.6635266 &  0.6789970 & 0.3444324  & -0.3536977 & -0.3327990 & -0.3130657 & -0.2969246\\\\\n",
       "\tCOAL\\_COL &  0.9523307 &  1.0000000 &  0.9736992 &  0.6353199 &  0.6276306 &  0.6549117 & 0.2373355  & -0.3525290 & -0.3292454 & -0.3083457 & -0.2915924\\\\\n",
       "\tCOAL\\_SAFRICA &  0.9839625 &  0.9736992 &  1.0000000 &  0.6846841 &  0.6821243 &  0.6937119 & 0.3626525  & -0.3315395 & -0.3091155 & -0.2869191 & -0.2691016\\\\\n",
       "\tCRUDE\\_BRENT &  0.6643023 &  0.6353199 &  0.6846841 &  1.0000000 &  0.9979240 &  0.9684275 & 0.4695997  & -0.4959496 & -0.4888172 & -0.4783537 & -0.4650009\\\\\n",
       "\tCRUDE\\_DUBAI &  0.6635266 &  0.6276306 &  0.6821243 &  0.9979240 &  1.0000000 &  0.9671458 & 0.4798510  & -0.4891046 & -0.4818509 & -0.4710857 & -0.4576067\\\\\n",
       "\tCRUDE\\_WTI &  0.6789970 &  0.6549117 &  0.6937119 &  0.9684275 &  0.9671458 &  1.0000000 & 0.2966544  & -0.5675854 & -0.5607679 & -0.5490727 & -0.5332823\\\\\n",
       "\tGOLD &  0.3444324 &  0.2373355 &  0.3626525 &  0.4695997 &  0.4798510 &  0.2966544 & 1.0000000  &  0.2716796 &  0.2782114 &  0.2857312 &  0.2929055\\\\\n",
       "\tTLkur & -0.3536977 & -0.3525290 & -0.3315395 & -0.4959496 & -0.4891046 & -0.5675854 & 0.2716796  &  1.0000000 &  0.9956706 &  0.9885429 &  0.9821103\\\\\n",
       "\tTLkur1 & -0.3327990 & -0.3292454 & -0.3091155 & -0.4888172 & -0.4818509 & -0.5607679 & 0.2782114  &  0.9956706 &  1.0000000 &  0.9958146 &  0.9891718\\\\\n",
       "\tTLkur2 & -0.3130657 & -0.3083457 & -0.2869191 & -0.4783537 & -0.4710857 & -0.5490727 & 0.2857312  &  0.9885429 &  0.9958146 &  1.0000000 &  0.9958495\\\\\n",
       "\tTLkur3 & -0.2969246 & -0.2915924 & -0.2691016 & -0.4650009 & -0.4576067 & -0.5332823 & 0.2929055  &  0.9821103 &  0.9891718 &  0.9958495 &  1.0000000\\\\\n",
       "\\end{tabular}\n"
      ],
      "text/markdown": [
       "\n",
       "| <!--/--> | COAL_AUS | COAL_COL | COAL_SAFRICA | CRUDE_BRENT | CRUDE_DUBAI | CRUDE_WTI | GOLD | TLkur | TLkur1 | TLkur2 | TLkur3 | \n",
       "|---|---|---|---|---|---|---|---|---|---|---|\n",
       "| COAL_AUS |  1.0000000 |  0.9523307 |  0.9839625 |  0.6643023 |  0.6635266 |  0.6789970 | 0.3444324  | -0.3536977 | -0.3327990 | -0.3130657 | -0.2969246 | \n",
       "| COAL_COL |  0.9523307 |  1.0000000 |  0.9736992 |  0.6353199 |  0.6276306 |  0.6549117 | 0.2373355  | -0.3525290 | -0.3292454 | -0.3083457 | -0.2915924 | \n",
       "| COAL_SAFRICA |  0.9839625 |  0.9736992 |  1.0000000 |  0.6846841 |  0.6821243 |  0.6937119 | 0.3626525  | -0.3315395 | -0.3091155 | -0.2869191 | -0.2691016 | \n",
       "| CRUDE_BRENT |  0.6643023 |  0.6353199 |  0.6846841 |  1.0000000 |  0.9979240 |  0.9684275 | 0.4695997  | -0.4959496 | -0.4888172 | -0.4783537 | -0.4650009 | \n",
       "| CRUDE_DUBAI |  0.6635266 |  0.6276306 |  0.6821243 |  0.9979240 |  1.0000000 |  0.9671458 | 0.4798510  | -0.4891046 | -0.4818509 | -0.4710857 | -0.4576067 | \n",
       "| CRUDE_WTI |  0.6789970 |  0.6549117 |  0.6937119 |  0.9684275 |  0.9671458 |  1.0000000 | 0.2966544  | -0.5675854 | -0.5607679 | -0.5490727 | -0.5332823 | \n",
       "| GOLD |  0.3444324 |  0.2373355 |  0.3626525 |  0.4695997 |  0.4798510 |  0.2966544 | 1.0000000  |  0.2716796 |  0.2782114 |  0.2857312 |  0.2929055 | \n",
       "| TLkur | -0.3536977 | -0.3525290 | -0.3315395 | -0.4959496 | -0.4891046 | -0.5675854 | 0.2716796  |  1.0000000 |  0.9956706 |  0.9885429 |  0.9821103 | \n",
       "| TLkur1 | -0.3327990 | -0.3292454 | -0.3091155 | -0.4888172 | -0.4818509 | -0.5607679 | 0.2782114  |  0.9956706 |  1.0000000 |  0.9958146 |  0.9891718 | \n",
       "| TLkur2 | -0.3130657 | -0.3083457 | -0.2869191 | -0.4783537 | -0.4710857 | -0.5490727 | 0.2857312  |  0.9885429 |  0.9958146 |  1.0000000 |  0.9958495 | \n",
       "| TLkur3 | -0.2969246 | -0.2915924 | -0.2691016 | -0.4650009 | -0.4576067 | -0.5332823 | 0.2929055  |  0.9821103 |  0.9891718 |  0.9958495 |  1.0000000 | \n",
       "\n",
       "\n"
      ],
      "text/plain": [
       "             COAL_AUS   COAL_COL   COAL_SAFRICA CRUDE_BRENT CRUDE_DUBAI\n",
       "COAL_AUS      1.0000000  0.9523307  0.9839625    0.6643023   0.6635266 \n",
       "COAL_COL      0.9523307  1.0000000  0.9736992    0.6353199   0.6276306 \n",
       "COAL_SAFRICA  0.9839625  0.9736992  1.0000000    0.6846841   0.6821243 \n",
       "CRUDE_BRENT   0.6643023  0.6353199  0.6846841    1.0000000   0.9979240 \n",
       "CRUDE_DUBAI   0.6635266  0.6276306  0.6821243    0.9979240   1.0000000 \n",
       "CRUDE_WTI     0.6789970  0.6549117  0.6937119    0.9684275   0.9671458 \n",
       "GOLD          0.3444324  0.2373355  0.3626525    0.4695997   0.4798510 \n",
       "TLkur        -0.3536977 -0.3525290 -0.3315395   -0.4959496  -0.4891046 \n",
       "TLkur1       -0.3327990 -0.3292454 -0.3091155   -0.4888172  -0.4818509 \n",
       "TLkur2       -0.3130657 -0.3083457 -0.2869191   -0.4783537  -0.4710857 \n",
       "TLkur3       -0.2969246 -0.2915924 -0.2691016   -0.4650009  -0.4576067 \n",
       "             CRUDE_WTI  GOLD      TLkur      TLkur1     TLkur2     TLkur3    \n",
       "COAL_AUS      0.6789970 0.3444324 -0.3536977 -0.3327990 -0.3130657 -0.2969246\n",
       "COAL_COL      0.6549117 0.2373355 -0.3525290 -0.3292454 -0.3083457 -0.2915924\n",
       "COAL_SAFRICA  0.6937119 0.3626525 -0.3315395 -0.3091155 -0.2869191 -0.2691016\n",
       "CRUDE_BRENT   0.9684275 0.4695997 -0.4959496 -0.4888172 -0.4783537 -0.4650009\n",
       "CRUDE_DUBAI   0.9671458 0.4798510 -0.4891046 -0.4818509 -0.4710857 -0.4576067\n",
       "CRUDE_WTI     1.0000000 0.2966544 -0.5675854 -0.5607679 -0.5490727 -0.5332823\n",
       "GOLD          0.2966544 1.0000000  0.2716796  0.2782114  0.2857312  0.2929055\n",
       "TLkur        -0.5675854 0.2716796  1.0000000  0.9956706  0.9885429  0.9821103\n",
       "TLkur1       -0.5607679 0.2782114  0.9956706  1.0000000  0.9958146  0.9891718\n",
       "TLkur2       -0.5490727 0.2857312  0.9885429  0.9958146  1.0000000  0.9958495\n",
       "TLkur3       -0.5332823 0.2929055  0.9821103  0.9891718  0.9958495  1.0000000"
      ]
     },
     "metadata": {},
     "output_type": "display_data"
    }
   ],
   "source": [
    "cor(emtia_tablo2[,2:12], use=\"complete.obs\")"
   ]
  },
  {
   "cell_type": "code",
   "execution_count": 59,
   "metadata": {
    "collapsed": true
   },
   "outputs": [],
   "source": [
    "library(leaps)"
   ]
  },
  {
   "cell_type": "code",
   "execution_count": null,
   "metadata": {},
   "outputs": [
    {
     "name": "stderr",
     "output_type": "stream",
     "text": [
      "Warning message in leaps.setup(x, y, wt = wt, nbest = nbest, nvmax = nvmax, force.in = force.in, :\n",
      "“11  linear dependencies found”"
     ]
    }
   ],
   "source": [
    "regsubsets(data=emtia_tablo2,TLkur2~.,nbest = 1, really.big=T)"
   ]
  },
  {
   "cell_type": "markdown",
   "metadata": {},
   "source": [
    "###  buradan başla"
   ]
  },
  {
   "cell_type": "code",
   "execution_count": 1,
   "metadata": {
    "collapsed": true
   },
   "outputs": [],
   "source": [
    "veri<-read.csv(\"emtiatablo.csv\")"
   ]
  },
  {
   "cell_type": "code",
   "execution_count": 2,
   "metadata": {},
   "outputs": [
    {
     "data": {
      "text/html": [
       "10"
      ],
      "text/latex": [
       "10"
      ],
      "text/markdown": [
       "10"
      ],
      "text/plain": [
       "[1] 10"
      ]
     },
     "metadata": {},
     "output_type": "display_data"
    }
   ],
   "source": [
    "ncol(veri)"
   ]
  },
  {
   "cell_type": "code",
   "execution_count": 5,
   "metadata": {},
   "outputs": [
    {
     "data": {
      "text/html": [
       "2006M06\n",
       "<details>\n",
       "\t<summary style=display:list-item;cursor:pointer>\n",
       "\t\t<strong>Levels</strong>:\n",
       "\t</summary>\n",
       "\t<ol class=list-inline>\n",
       "\t\t<li>'2006M06'</li>\n",
       "\t\t<li>'2006M07'</li>\n",
       "\t\t<li>'2006M08'</li>\n",
       "\t\t<li>'2006M09'</li>\n",
       "\t\t<li>'2006M10'</li>\n",
       "\t\t<li>'2006M11'</li>\n",
       "\t\t<li>'2006M12'</li>\n",
       "\t\t<li>'2007M01'</li>\n",
       "\t\t<li>'2007M02'</li>\n",
       "\t\t<li>'2007M03'</li>\n",
       "\t\t<li>'2007M04'</li>\n",
       "\t\t<li>'2007M05'</li>\n",
       "\t\t<li>'2007M06'</li>\n",
       "\t\t<li>'2007M07'</li>\n",
       "\t\t<li>'2007M08'</li>\n",
       "\t\t<li>'2007M09'</li>\n",
       "\t\t<li>'2007M10'</li>\n",
       "\t\t<li>'2007M11'</li>\n",
       "\t\t<li>'2007M12'</li>\n",
       "\t\t<li>'2008M01'</li>\n",
       "\t\t<li>'2008M02'</li>\n",
       "\t\t<li>'2008M03'</li>\n",
       "\t\t<li>'2008M04'</li>\n",
       "\t\t<li>'2008M05'</li>\n",
       "\t\t<li>'2008M06'</li>\n",
       "\t\t<li>'2008M07'</li>\n",
       "\t\t<li>'2008M08'</li>\n",
       "\t\t<li>'2008M09'</li>\n",
       "\t\t<li>'2008M10'</li>\n",
       "\t\t<li>'2008M11'</li>\n",
       "\t\t<li>'2008M12'</li>\n",
       "\t\t<li>'2009M01'</li>\n",
       "\t\t<li>'2009M02'</li>\n",
       "\t\t<li>'2009M03'</li>\n",
       "\t\t<li>'2009M04'</li>\n",
       "\t\t<li>'2009M05'</li>\n",
       "\t\t<li>'2009M06'</li>\n",
       "\t\t<li>'2009M07'</li>\n",
       "\t\t<li>'2009M08'</li>\n",
       "\t\t<li>'2009M09'</li>\n",
       "\t\t<li>'2009M10'</li>\n",
       "\t\t<li>'2009M11'</li>\n",
       "\t\t<li>'2009M12'</li>\n",
       "\t\t<li>'2010M01'</li>\n",
       "\t\t<li>'2010M02'</li>\n",
       "\t\t<li>'2010M03'</li>\n",
       "\t\t<li>'2010M04'</li>\n",
       "\t\t<li>'2010M05'</li>\n",
       "\t\t<li>'2010M06'</li>\n",
       "\t\t<li>'2010M07'</li>\n",
       "\t\t<li>'2010M08'</li>\n",
       "\t\t<li>'2010M09'</li>\n",
       "\t\t<li>'2010M10'</li>\n",
       "\t\t<li>'2010M11'</li>\n",
       "\t\t<li>'2010M12'</li>\n",
       "\t\t<li>'2011M01'</li>\n",
       "\t\t<li>'2011M02'</li>\n",
       "\t\t<li>'2011M03'</li>\n",
       "\t\t<li>'2011M04'</li>\n",
       "\t\t<li>'2011M05'</li>\n",
       "\t\t<li>'2011M06'</li>\n",
       "\t\t<li>'2011M07'</li>\n",
       "\t\t<li>'2011M08'</li>\n",
       "\t\t<li>'2011M09'</li>\n",
       "\t\t<li>'2011M10'</li>\n",
       "\t\t<li>'2011M11'</li>\n",
       "\t\t<li>'2011M12'</li>\n",
       "\t\t<li>'2012M01'</li>\n",
       "\t\t<li>'2012M02'</li>\n",
       "\t\t<li>'2012M03'</li>\n",
       "\t\t<li>'2012M04'</li>\n",
       "\t\t<li>'2012M05'</li>\n",
       "\t\t<li>'2012M06'</li>\n",
       "\t\t<li>'2012M07'</li>\n",
       "\t\t<li>'2012M08'</li>\n",
       "\t\t<li>'2012M09'</li>\n",
       "\t\t<li>'2012M10'</li>\n",
       "\t\t<li>'2012M11'</li>\n",
       "\t\t<li>'2012M12'</li>\n",
       "\t\t<li>'2013M01'</li>\n",
       "\t\t<li>'2013M02'</li>\n",
       "\t\t<li>'2013M03'</li>\n",
       "\t\t<li>'2013M04'</li>\n",
       "\t\t<li>'2013M05'</li>\n",
       "\t\t<li>'2013M06'</li>\n",
       "\t\t<li>'2013M07'</li>\n",
       "\t\t<li>'2013M08'</li>\n",
       "\t\t<li>'2013M09'</li>\n",
       "\t\t<li>'2013M10'</li>\n",
       "\t\t<li>'2013M11'</li>\n",
       "\t\t<li>'2013M12'</li>\n",
       "\t\t<li>'2014M01'</li>\n",
       "\t\t<li>'2014M02'</li>\n",
       "\t\t<li>'2014M03'</li>\n",
       "\t\t<li>'2014M04'</li>\n",
       "\t\t<li>'2014M05'</li>\n",
       "\t\t<li>'2014M06'</li>\n",
       "\t\t<li>'2014M07'</li>\n",
       "\t\t<li>'2014M08'</li>\n",
       "\t\t<li>'2014M09'</li>\n",
       "\t\t<li>'2014M10'</li>\n",
       "\t\t<li>'2014M11'</li>\n",
       "\t\t<li>'2014M12'</li>\n",
       "\t\t<li>'2015M01'</li>\n",
       "\t\t<li>'2015M02'</li>\n",
       "\t\t<li>'2015M03'</li>\n",
       "\t\t<li>'2015M04'</li>\n",
       "\t\t<li>'2015M05'</li>\n",
       "\t\t<li>'2015M06'</li>\n",
       "\t\t<li>'2015M07'</li>\n",
       "\t\t<li>'2015M08'</li>\n",
       "\t\t<li>'2015M09'</li>\n",
       "\t\t<li>'2015M10'</li>\n",
       "\t\t<li>'2015M11'</li>\n",
       "\t\t<li>'2015M12'</li>\n",
       "\t\t<li>'2016M01'</li>\n",
       "\t\t<li>'2016M02'</li>\n",
       "\t\t<li>'2016M03'</li>\n",
       "\t\t<li>'2016M04'</li>\n",
       "\t\t<li>'2016M05'</li>\n",
       "\t\t<li>'2016M06'</li>\n",
       "\t\t<li>'2016M07'</li>\n",
       "\t\t<li>'2016M08'</li>\n",
       "\t\t<li>'2016M09'</li>\n",
       "\t\t<li>'2016M10'</li>\n",
       "\t\t<li>'2016M11'</li>\n",
       "\t\t<li>'2016M12'</li>\n",
       "\t\t<li>'2017M01'</li>\n",
       "\t\t<li>'2017M02'</li>\n",
       "\t\t<li>'2017M03'</li>\n",
       "\t\t<li>'2017M04'</li>\n",
       "\t\t<li>'2017M05'</li>\n",
       "\t\t<li>'2017M06'</li>\n",
       "\t\t<li>'2017M07'</li>\n",
       "\t\t<li>'2017M08'</li>\n",
       "\t\t<li>'2017M09'</li>\n",
       "\t\t<li>'2017M10'</li>\n",
       "\t</ol>\n",
       "</details>"
      ],
      "text/latex": [
       "2006M06\n",
       "\\emph{Levels}: \\begin{enumerate*}\n",
       "\\item '2006M06'\n",
       "\\item '2006M07'\n",
       "\\item '2006M08'\n",
       "\\item '2006M09'\n",
       "\\item '2006M10'\n",
       "\\item '2006M11'\n",
       "\\item '2006M12'\n",
       "\\item '2007M01'\n",
       "\\item '2007M02'\n",
       "\\item '2007M03'\n",
       "\\item '2007M04'\n",
       "\\item '2007M05'\n",
       "\\item '2007M06'\n",
       "\\item '2007M07'\n",
       "\\item '2007M08'\n",
       "\\item '2007M09'\n",
       "\\item '2007M10'\n",
       "\\item '2007M11'\n",
       "\\item '2007M12'\n",
       "\\item '2008M01'\n",
       "\\item '2008M02'\n",
       "\\item '2008M03'\n",
       "\\item '2008M04'\n",
       "\\item '2008M05'\n",
       "\\item '2008M06'\n",
       "\\item '2008M07'\n",
       "\\item '2008M08'\n",
       "\\item '2008M09'\n",
       "\\item '2008M10'\n",
       "\\item '2008M11'\n",
       "\\item '2008M12'\n",
       "\\item '2009M01'\n",
       "\\item '2009M02'\n",
       "\\item '2009M03'\n",
       "\\item '2009M04'\n",
       "\\item '2009M05'\n",
       "\\item '2009M06'\n",
       "\\item '2009M07'\n",
       "\\item '2009M08'\n",
       "\\item '2009M09'\n",
       "\\item '2009M10'\n",
       "\\item '2009M11'\n",
       "\\item '2009M12'\n",
       "\\item '2010M01'\n",
       "\\item '2010M02'\n",
       "\\item '2010M03'\n",
       "\\item '2010M04'\n",
       "\\item '2010M05'\n",
       "\\item '2010M06'\n",
       "\\item '2010M07'\n",
       "\\item '2010M08'\n",
       "\\item '2010M09'\n",
       "\\item '2010M10'\n",
       "\\item '2010M11'\n",
       "\\item '2010M12'\n",
       "\\item '2011M01'\n",
       "\\item '2011M02'\n",
       "\\item '2011M03'\n",
       "\\item '2011M04'\n",
       "\\item '2011M05'\n",
       "\\item '2011M06'\n",
       "\\item '2011M07'\n",
       "\\item '2011M08'\n",
       "\\item '2011M09'\n",
       "\\item '2011M10'\n",
       "\\item '2011M11'\n",
       "\\item '2011M12'\n",
       "\\item '2012M01'\n",
       "\\item '2012M02'\n",
       "\\item '2012M03'\n",
       "\\item '2012M04'\n",
       "\\item '2012M05'\n",
       "\\item '2012M06'\n",
       "\\item '2012M07'\n",
       "\\item '2012M08'\n",
       "\\item '2012M09'\n",
       "\\item '2012M10'\n",
       "\\item '2012M11'\n",
       "\\item '2012M12'\n",
       "\\item '2013M01'\n",
       "\\item '2013M02'\n",
       "\\item '2013M03'\n",
       "\\item '2013M04'\n",
       "\\item '2013M05'\n",
       "\\item '2013M06'\n",
       "\\item '2013M07'\n",
       "\\item '2013M08'\n",
       "\\item '2013M09'\n",
       "\\item '2013M10'\n",
       "\\item '2013M11'\n",
       "\\item '2013M12'\n",
       "\\item '2014M01'\n",
       "\\item '2014M02'\n",
       "\\item '2014M03'\n",
       "\\item '2014M04'\n",
       "\\item '2014M05'\n",
       "\\item '2014M06'\n",
       "\\item '2014M07'\n",
       "\\item '2014M08'\n",
       "\\item '2014M09'\n",
       "\\item '2014M10'\n",
       "\\item '2014M11'\n",
       "\\item '2014M12'\n",
       "\\item '2015M01'\n",
       "\\item '2015M02'\n",
       "\\item '2015M03'\n",
       "\\item '2015M04'\n",
       "\\item '2015M05'\n",
       "\\item '2015M06'\n",
       "\\item '2015M07'\n",
       "\\item '2015M08'\n",
       "\\item '2015M09'\n",
       "\\item '2015M10'\n",
       "\\item '2015M11'\n",
       "\\item '2015M12'\n",
       "\\item '2016M01'\n",
       "\\item '2016M02'\n",
       "\\item '2016M03'\n",
       "\\item '2016M04'\n",
       "\\item '2016M05'\n",
       "\\item '2016M06'\n",
       "\\item '2016M07'\n",
       "\\item '2016M08'\n",
       "\\item '2016M09'\n",
       "\\item '2016M10'\n",
       "\\item '2016M11'\n",
       "\\item '2016M12'\n",
       "\\item '2017M01'\n",
       "\\item '2017M02'\n",
       "\\item '2017M03'\n",
       "\\item '2017M04'\n",
       "\\item '2017M05'\n",
       "\\item '2017M06'\n",
       "\\item '2017M07'\n",
       "\\item '2017M08'\n",
       "\\item '2017M09'\n",
       "\\item '2017M10'\n",
       "\\end{enumerate*}\n"
      ],
      "text/markdown": [
       "2006M06\n",
       "**Levels**: 1. '2006M06'\n",
       "2. '2006M07'\n",
       "3. '2006M08'\n",
       "4. '2006M09'\n",
       "5. '2006M10'\n",
       "6. '2006M11'\n",
       "7. '2006M12'\n",
       "8. '2007M01'\n",
       "9. '2007M02'\n",
       "10. '2007M03'\n",
       "11. '2007M04'\n",
       "12. '2007M05'\n",
       "13. '2007M06'\n",
       "14. '2007M07'\n",
       "15. '2007M08'\n",
       "16. '2007M09'\n",
       "17. '2007M10'\n",
       "18. '2007M11'\n",
       "19. '2007M12'\n",
       "20. '2008M01'\n",
       "21. '2008M02'\n",
       "22. '2008M03'\n",
       "23. '2008M04'\n",
       "24. '2008M05'\n",
       "25. '2008M06'\n",
       "26. '2008M07'\n",
       "27. '2008M08'\n",
       "28. '2008M09'\n",
       "29. '2008M10'\n",
       "30. '2008M11'\n",
       "31. '2008M12'\n",
       "32. '2009M01'\n",
       "33. '2009M02'\n",
       "34. '2009M03'\n",
       "35. '2009M04'\n",
       "36. '2009M05'\n",
       "37. '2009M06'\n",
       "38. '2009M07'\n",
       "39. '2009M08'\n",
       "40. '2009M09'\n",
       "41. '2009M10'\n",
       "42. '2009M11'\n",
       "43. '2009M12'\n",
       "44. '2010M01'\n",
       "45. '2010M02'\n",
       "46. '2010M03'\n",
       "47. '2010M04'\n",
       "48. '2010M05'\n",
       "49. '2010M06'\n",
       "50. '2010M07'\n",
       "51. '2010M08'\n",
       "52. '2010M09'\n",
       "53. '2010M10'\n",
       "54. '2010M11'\n",
       "55. '2010M12'\n",
       "56. '2011M01'\n",
       "57. '2011M02'\n",
       "58. '2011M03'\n",
       "59. '2011M04'\n",
       "60. '2011M05'\n",
       "61. '2011M06'\n",
       "62. '2011M07'\n",
       "63. '2011M08'\n",
       "64. '2011M09'\n",
       "65. '2011M10'\n",
       "66. '2011M11'\n",
       "67. '2011M12'\n",
       "68. '2012M01'\n",
       "69. '2012M02'\n",
       "70. '2012M03'\n",
       "71. '2012M04'\n",
       "72. '2012M05'\n",
       "73. '2012M06'\n",
       "74. '2012M07'\n",
       "75. '2012M08'\n",
       "76. '2012M09'\n",
       "77. '2012M10'\n",
       "78. '2012M11'\n",
       "79. '2012M12'\n",
       "80. '2013M01'\n",
       "81. '2013M02'\n",
       "82. '2013M03'\n",
       "83. '2013M04'\n",
       "84. '2013M05'\n",
       "85. '2013M06'\n",
       "86. '2013M07'\n",
       "87. '2013M08'\n",
       "88. '2013M09'\n",
       "89. '2013M10'\n",
       "90. '2013M11'\n",
       "91. '2013M12'\n",
       "92. '2014M01'\n",
       "93. '2014M02'\n",
       "94. '2014M03'\n",
       "95. '2014M04'\n",
       "96. '2014M05'\n",
       "97. '2014M06'\n",
       "98. '2014M07'\n",
       "99. '2014M08'\n",
       "100. '2014M09'\n",
       "101. '2014M10'\n",
       "102. '2014M11'\n",
       "103. '2014M12'\n",
       "104. '2015M01'\n",
       "105. '2015M02'\n",
       "106. '2015M03'\n",
       "107. '2015M04'\n",
       "108. '2015M05'\n",
       "109. '2015M06'\n",
       "110. '2015M07'\n",
       "111. '2015M08'\n",
       "112. '2015M09'\n",
       "113. '2015M10'\n",
       "114. '2015M11'\n",
       "115. '2015M12'\n",
       "116. '2016M01'\n",
       "117. '2016M02'\n",
       "118. '2016M03'\n",
       "119. '2016M04'\n",
       "120. '2016M05'\n",
       "121. '2016M06'\n",
       "122. '2016M07'\n",
       "123. '2016M08'\n",
       "124. '2016M09'\n",
       "125. '2016M10'\n",
       "126. '2016M11'\n",
       "127. '2016M12'\n",
       "128. '2017M01'\n",
       "129. '2017M02'\n",
       "130. '2017M03'\n",
       "131. '2017M04'\n",
       "132. '2017M05'\n",
       "133. '2017M06'\n",
       "134. '2017M07'\n",
       "135. '2017M08'\n",
       "136. '2017M09'\n",
       "137. '2017M10'\n",
       "\n",
       "\n"
      ],
      "text/plain": [
       "[1] 2006M06\n",
       "137 Levels: 2006M06 2006M07 2006M08 2006M09 2006M10 2006M11 2006M12 ... 2017M10"
      ]
     },
     "metadata": {},
     "output_type": "display_data"
    }
   ],
   "source": [
    "veri[1,2]"
   ]
  },
  {
   "cell_type": "code",
   "execution_count": 3,
   "metadata": {},
   "outputs": [
    {
     "data": {
      "text/html": [
       "<table>\n",
       "<thead><tr><th scope=col>X</th><th scope=col>date</th><th scope=col>COAL_AUS</th><th scope=col>COAL_COL</th><th scope=col>COAL_SAFRICA</th><th scope=col>CRUDE_BRENT</th><th scope=col>CRUDE_DUBAI</th><th scope=col>CRUDE_WTI</th><th scope=col>GOLD</th><th scope=col>TLkur</th></tr></thead>\n",
       "<tbody>\n",
       "\t<tr><td>1       </td><td>2006M06 </td><td>52.3750 </td><td>54.25   </td><td>52.3750 </td><td>68.85773</td><td>65.08091</td><td>70.93182</td><td>596.145 </td><td>1.624308</td></tr>\n",
       "\t<tr><td>2       </td><td>2006M07 </td><td>52.7500 </td><td>53.05   </td><td>51.6800 </td><td>73.89714</td><td>69.04905</td><td>74.40421</td><td>633.710 </td><td>1.548884</td></tr>\n",
       "\t<tr><td>3       </td><td>2006M08 </td><td>50.9375 </td><td>55.44   </td><td>53.5875 </td><td>73.61217</td><td>68.78174</td><td>73.04174</td><td>632.593 </td><td>1.462191</td></tr>\n",
       "\t<tr><td>4       </td><td>2006M09 </td><td>47.1000 </td><td>49.50   </td><td>48.7500 </td><td>62.77190</td><td>59.77286</td><td>63.81900</td><td>598.186 </td><td>1.472710</td></tr>\n",
       "\t<tr><td>5       </td><td>2006M10 </td><td>44.0500 </td><td>50.25   </td><td>49.2125 </td><td>58.38000</td><td>56.50095</td><td>58.85045</td><td>585.780 </td><td>1.476242</td></tr>\n",
       "\t<tr><td>6       </td><td>2006M11 </td><td>46.0000 </td><td>51.19   </td><td>48.2000 </td><td>58.48318</td><td>56.81545</td><td>59.13050</td><td>627.827 </td><td>1.449345</td></tr>\n",
       "</tbody>\n",
       "</table>\n"
      ],
      "text/latex": [
       "\\begin{tabular}{r|llllllllll}\n",
       " X & date & COAL\\_AUS & COAL\\_COL & COAL\\_SAFRICA & CRUDE\\_BRENT & CRUDE\\_DUBAI & CRUDE\\_WTI & GOLD & TLkur\\\\\n",
       "\\hline\n",
       "\t 1        & 2006M06  & 52.3750  & 54.25    & 52.3750  & 68.85773 & 65.08091 & 70.93182 & 596.145  & 1.624308\\\\\n",
       "\t 2        & 2006M07  & 52.7500  & 53.05    & 51.6800  & 73.89714 & 69.04905 & 74.40421 & 633.710  & 1.548884\\\\\n",
       "\t 3        & 2006M08  & 50.9375  & 55.44    & 53.5875  & 73.61217 & 68.78174 & 73.04174 & 632.593  & 1.462191\\\\\n",
       "\t 4        & 2006M09  & 47.1000  & 49.50    & 48.7500  & 62.77190 & 59.77286 & 63.81900 & 598.186  & 1.472710\\\\\n",
       "\t 5        & 2006M10  & 44.0500  & 50.25    & 49.2125  & 58.38000 & 56.50095 & 58.85045 & 585.780  & 1.476242\\\\\n",
       "\t 6        & 2006M11  & 46.0000  & 51.19    & 48.2000  & 58.48318 & 56.81545 & 59.13050 & 627.827  & 1.449345\\\\\n",
       "\\end{tabular}\n"
      ],
      "text/markdown": [
       "\n",
       "X | date | COAL_AUS | COAL_COL | COAL_SAFRICA | CRUDE_BRENT | CRUDE_DUBAI | CRUDE_WTI | GOLD | TLkur | \n",
       "|---|---|---|---|---|---|\n",
       "| 1        | 2006M06  | 52.3750  | 54.25    | 52.3750  | 68.85773 | 65.08091 | 70.93182 | 596.145  | 1.624308 | \n",
       "| 2        | 2006M07  | 52.7500  | 53.05    | 51.6800  | 73.89714 | 69.04905 | 74.40421 | 633.710  | 1.548884 | \n",
       "| 3        | 2006M08  | 50.9375  | 55.44    | 53.5875  | 73.61217 | 68.78174 | 73.04174 | 632.593  | 1.462191 | \n",
       "| 4        | 2006M09  | 47.1000  | 49.50    | 48.7500  | 62.77190 | 59.77286 | 63.81900 | 598.186  | 1.472710 | \n",
       "| 5        | 2006M10  | 44.0500  | 50.25    | 49.2125  | 58.38000 | 56.50095 | 58.85045 | 585.780  | 1.476242 | \n",
       "| 6        | 2006M11  | 46.0000  | 51.19    | 48.2000  | 58.48318 | 56.81545 | 59.13050 | 627.827  | 1.449345 | \n",
       "\n",
       "\n"
      ],
      "text/plain": [
       "  X date    COAL_AUS COAL_COL COAL_SAFRICA CRUDE_BRENT CRUDE_DUBAI CRUDE_WTI\n",
       "1 1 2006M06 52.3750  54.25    52.3750      68.85773    65.08091    70.93182 \n",
       "2 2 2006M07 52.7500  53.05    51.6800      73.89714    69.04905    74.40421 \n",
       "3 3 2006M08 50.9375  55.44    53.5875      73.61217    68.78174    73.04174 \n",
       "4 4 2006M09 47.1000  49.50    48.7500      62.77190    59.77286    63.81900 \n",
       "5 5 2006M10 44.0500  50.25    49.2125      58.38000    56.50095    58.85045 \n",
       "6 6 2006M11 46.0000  51.19    48.2000      58.48318    56.81545    59.13050 \n",
       "  GOLD    TLkur   \n",
       "1 596.145 1.624308\n",
       "2 633.710 1.548884\n",
       "3 632.593 1.462191\n",
       "4 598.186 1.472710\n",
       "5 585.780 1.476242\n",
       "6 627.827 1.449345"
      ]
     },
     "metadata": {},
     "output_type": "display_data"
    }
   ],
   "source": [
    "head(veri)"
   ]
  },
  {
   "cell_type": "code",
   "execution_count": 30,
   "metadata": {},
   "outputs": [],
   "source": [
    "aylik_emtia<-ts(veri[,3:10],start = c(2006,06), frequency = 12)\n"
   ]
  },
  {
   "cell_type": "code",
   "execution_count": 31,
   "metadata": {},
   "outputs": [
    {
     "data": {
      "text/html": [
       "<table>\n",
       "<thead><tr><th scope=col>COAL_AUS</th><th scope=col>COAL_COL</th><th scope=col>COAL_SAFRICA</th><th scope=col>CRUDE_BRENT</th><th scope=col>CRUDE_DUBAI</th><th scope=col>CRUDE_WTI</th><th scope=col>GOLD</th><th scope=col>TLkur</th></tr></thead>\n",
       "<tbody>\n",
       "\t<tr><td>52.3750 </td><td>54.25   </td><td>52.3750 </td><td>68.85773</td><td>65.08091</td><td>70.93182</td><td>596.145 </td><td>1.624308</td></tr>\n",
       "\t<tr><td>52.7500 </td><td>53.05   </td><td>51.6800 </td><td>73.89714</td><td>69.04905</td><td>74.40421</td><td>633.710 </td><td>1.548884</td></tr>\n",
       "\t<tr><td>50.9375 </td><td>55.44   </td><td>53.5875 </td><td>73.61217</td><td>68.78174</td><td>73.04174</td><td>632.593 </td><td>1.462191</td></tr>\n",
       "\t<tr><td>47.1000 </td><td>49.50   </td><td>48.7500 </td><td>62.77190</td><td>59.77286</td><td>63.81900</td><td>598.186 </td><td>1.472710</td></tr>\n",
       "\t<tr><td>44.0500 </td><td>50.25   </td><td>49.2125 </td><td>58.38000</td><td>56.50095</td><td>58.85045</td><td>585.780 </td><td>1.476242</td></tr>\n",
       "\t<tr><td>46.0000 </td><td>51.19   </td><td>48.2000 </td><td>58.48318</td><td>56.81545</td><td>59.13050</td><td>627.827 </td><td>1.449345</td></tr>\n",
       "</tbody>\n",
       "</table>\n"
      ],
      "text/latex": [
       "\\begin{tabular}{llllllll}\n",
       " COAL\\_AUS & COAL\\_COL & COAL\\_SAFRICA & CRUDE\\_BRENT & CRUDE\\_DUBAI & CRUDE\\_WTI & GOLD & TLkur\\\\\n",
       "\\hline\n",
       "\t 52.3750  & 54.25    & 52.3750  & 68.85773 & 65.08091 & 70.93182 & 596.145  & 1.624308\\\\\n",
       "\t 52.7500  & 53.05    & 51.6800  & 73.89714 & 69.04905 & 74.40421 & 633.710  & 1.548884\\\\\n",
       "\t 50.9375  & 55.44    & 53.5875  & 73.61217 & 68.78174 & 73.04174 & 632.593  & 1.462191\\\\\n",
       "\t 47.1000  & 49.50    & 48.7500  & 62.77190 & 59.77286 & 63.81900 & 598.186  & 1.472710\\\\\n",
       "\t 44.0500  & 50.25    & 49.2125  & 58.38000 & 56.50095 & 58.85045 & 585.780  & 1.476242\\\\\n",
       "\t 46.0000  & 51.19    & 48.2000  & 58.48318 & 56.81545 & 59.13050 & 627.827  & 1.449345\\\\\n",
       "\\end{tabular}\n"
      ],
      "text/markdown": [
       "\n",
       "COAL_AUS | COAL_COL | COAL_SAFRICA | CRUDE_BRENT | CRUDE_DUBAI | CRUDE_WTI | GOLD | TLkur | \n",
       "|---|---|---|---|---|---|\n",
       "| 52.3750  | 54.25    | 52.3750  | 68.85773 | 65.08091 | 70.93182 | 596.145  | 1.624308 | \n",
       "| 52.7500  | 53.05    | 51.6800  | 73.89714 | 69.04905 | 74.40421 | 633.710  | 1.548884 | \n",
       "| 50.9375  | 55.44    | 53.5875  | 73.61217 | 68.78174 | 73.04174 | 632.593  | 1.462191 | \n",
       "| 47.1000  | 49.50    | 48.7500  | 62.77190 | 59.77286 | 63.81900 | 598.186  | 1.472710 | \n",
       "| 44.0500  | 50.25    | 49.2125  | 58.38000 | 56.50095 | 58.85045 | 585.780  | 1.476242 | \n",
       "| 46.0000  | 51.19    | 48.2000  | 58.48318 | 56.81545 | 59.13050 | 627.827  | 1.449345 | \n",
       "\n",
       "\n"
      ],
      "text/plain": [
       "     COAL_AUS COAL_COL COAL_SAFRICA CRUDE_BRENT CRUDE_DUBAI CRUDE_WTI GOLD   \n",
       "[1,] 52.3750  54.25    52.3750      68.85773    65.08091    70.93182  596.145\n",
       "[2,] 52.7500  53.05    51.6800      73.89714    69.04905    74.40421  633.710\n",
       "[3,] 50.9375  55.44    53.5875      73.61217    68.78174    73.04174  632.593\n",
       "[4,] 47.1000  49.50    48.7500      62.77190    59.77286    63.81900  598.186\n",
       "[5,] 44.0500  50.25    49.2125      58.38000    56.50095    58.85045  585.780\n",
       "[6,] 46.0000  51.19    48.2000      58.48318    56.81545    59.13050  627.827\n",
       "     TLkur   \n",
       "[1,] 1.624308\n",
       "[2,] 1.548884\n",
       "[3,] 1.462191\n",
       "[4,] 1.472710\n",
       "[5,] 1.476242\n",
       "[6,] 1.449345"
      ]
     },
     "metadata": {},
     "output_type": "display_data"
    }
   ],
   "source": [
    "head(aylik_emtia)"
   ]
  },
  {
   "cell_type": "code",
   "execution_count": 32,
   "metadata": {},
   "outputs": [
    {
     "ename": "ERROR",
     "evalue": "Error in aylik_emtia$TLkur: $ operator is invalid for atomic vectors\n",
     "output_type": "error",
     "traceback": [
      "Error in aylik_emtia$TLkur: $ operator is invalid for atomic vectors\nTraceback:\n",
      "1. ccf(aylik_emtia$TLkur, aylik_emtia$COAL_AUS)"
     ]
    }
   ],
   "source": [
    "ccf(aylik_emtia$TLkur, aylik_emtia$COAL_AUS)"
   ]
  },
  {
   "cell_type": "code",
   "execution_count": 18,
   "metadata": {},
   "outputs": [
    {
     "data": {
      "text/html": [
       "<table>\n",
       "<thead><tr><th></th><th scope=col>COAL_AUS</th><th scope=col>COAL_COL</th><th scope=col>COAL_SAFRICA</th><th scope=col>CRUDE_BRENT</th><th scope=col>CRUDE_DUBAI</th><th scope=col>CRUDE_WTI</th><th scope=col>GOLD</th><th scope=col>TLkur</th></tr></thead>\n",
       "<tbody>\n",
       "\t<tr><th scope=row>COAL_AUS</th><td> 1.0000000</td><td> 0.9519459</td><td> 0.9830495</td><td> 0.6451796</td><td> 0.6448318</td><td> 0.6559127</td><td>0.3468681 </td><td>-0.3091073</td></tr>\n",
       "\t<tr><th scope=row>COAL_COL</th><td> 0.9519459</td><td> 1.0000000</td><td> 0.9736121</td><td> 0.6223830</td><td> 0.6150920</td><td> 0.6386832</td><td>0.2389303 </td><td>-0.3189845</td></tr>\n",
       "\t<tr><th scope=row>COAL_SAFRICA</th><td> 0.9830495</td><td> 0.9736121</td><td> 1.0000000</td><td> 0.6730969</td><td> 0.6708876</td><td> 0.6791346</td><td>0.3634995 </td><td>-0.3034282</td></tr>\n",
       "\t<tr><th scope=row>CRUDE_BRENT</th><td> 0.6451796</td><td> 0.6223830</td><td> 0.6730969</td><td> 1.0000000</td><td> 0.9979618</td><td> 0.9689528</td><td>0.4562557 </td><td>-0.5106929</td></tr>\n",
       "\t<tr><th scope=row>CRUDE_DUBAI</th><td> 0.6448318</td><td> 0.6150920</td><td> 0.6708876</td><td> 0.9979618</td><td> 1.0000000</td><td> 0.9676416</td><td>0.4666980 </td><td>-0.5037115</td></tr>\n",
       "\t<tr><th scope=row>CRUDE_WTI</th><td> 0.6559127</td><td> 0.6386832</td><td> 0.6791346</td><td> 0.9689528</td><td> 0.9676416</td><td> 1.0000000</td><td>0.2832844 </td><td>-0.5828848</td></tr>\n",
       "\t<tr><th scope=row>GOLD</th><td> 0.3468681</td><td> 0.2389303</td><td> 0.3634995</td><td> 0.4562557</td><td> 0.4666980</td><td> 0.2832844</td><td>1.0000000 </td><td> 0.2734550</td></tr>\n",
       "\t<tr><th scope=row>TLkur</th><td>-0.3091073</td><td>-0.3189845</td><td>-0.3034282</td><td>-0.5106929</td><td>-0.5037115</td><td>-0.5828848</td><td>0.2734550 </td><td> 1.0000000</td></tr>\n",
       "</tbody>\n",
       "</table>\n"
      ],
      "text/latex": [
       "\\begin{tabular}{r|llllllll}\n",
       "  & COAL\\_AUS & COAL\\_COL & COAL\\_SAFRICA & CRUDE\\_BRENT & CRUDE\\_DUBAI & CRUDE\\_WTI & GOLD & TLkur\\\\\n",
       "\\hline\n",
       "\tCOAL\\_AUS &  1.0000000 &  0.9519459 &  0.9830495 &  0.6451796 &  0.6448318 &  0.6559127 & 0.3468681  & -0.3091073\\\\\n",
       "\tCOAL\\_COL &  0.9519459 &  1.0000000 &  0.9736121 &  0.6223830 &  0.6150920 &  0.6386832 & 0.2389303  & -0.3189845\\\\\n",
       "\tCOAL\\_SAFRICA &  0.9830495 &  0.9736121 &  1.0000000 &  0.6730969 &  0.6708876 &  0.6791346 & 0.3634995  & -0.3034282\\\\\n",
       "\tCRUDE\\_BRENT &  0.6451796 &  0.6223830 &  0.6730969 &  1.0000000 &  0.9979618 &  0.9689528 & 0.4562557  & -0.5106929\\\\\n",
       "\tCRUDE\\_DUBAI &  0.6448318 &  0.6150920 &  0.6708876 &  0.9979618 &  1.0000000 &  0.9676416 & 0.4666980  & -0.5037115\\\\\n",
       "\tCRUDE\\_WTI &  0.6559127 &  0.6386832 &  0.6791346 &  0.9689528 &  0.9676416 &  1.0000000 & 0.2832844  & -0.5828848\\\\\n",
       "\tGOLD &  0.3468681 &  0.2389303 &  0.3634995 &  0.4562557 &  0.4666980 &  0.2832844 & 1.0000000  &  0.2734550\\\\\n",
       "\tTLkur & -0.3091073 & -0.3189845 & -0.3034282 & -0.5106929 & -0.5037115 & -0.5828848 & 0.2734550  &  1.0000000\\\\\n",
       "\\end{tabular}\n"
      ],
      "text/markdown": [
       "\n",
       "| <!--/--> | COAL_AUS | COAL_COL | COAL_SAFRICA | CRUDE_BRENT | CRUDE_DUBAI | CRUDE_WTI | GOLD | TLkur | \n",
       "|---|---|---|---|---|---|---|---|\n",
       "| COAL_AUS |  1.0000000 |  0.9519459 |  0.9830495 |  0.6451796 |  0.6448318 |  0.6559127 | 0.3468681  | -0.3091073 | \n",
       "| COAL_COL |  0.9519459 |  1.0000000 |  0.9736121 |  0.6223830 |  0.6150920 |  0.6386832 | 0.2389303  | -0.3189845 | \n",
       "| COAL_SAFRICA |  0.9830495 |  0.9736121 |  1.0000000 |  0.6730969 |  0.6708876 |  0.6791346 | 0.3634995  | -0.3034282 | \n",
       "| CRUDE_BRENT |  0.6451796 |  0.6223830 |  0.6730969 |  1.0000000 |  0.9979618 |  0.9689528 | 0.4562557  | -0.5106929 | \n",
       "| CRUDE_DUBAI |  0.6448318 |  0.6150920 |  0.6708876 |  0.9979618 |  1.0000000 |  0.9676416 | 0.4666980  | -0.5037115 | \n",
       "| CRUDE_WTI |  0.6559127 |  0.6386832 |  0.6791346 |  0.9689528 |  0.9676416 |  1.0000000 | 0.2832844  | -0.5828848 | \n",
       "| GOLD |  0.3468681 |  0.2389303 |  0.3634995 |  0.4562557 |  0.4666980 |  0.2832844 | 1.0000000  |  0.2734550 | \n",
       "| TLkur | -0.3091073 | -0.3189845 | -0.3034282 | -0.5106929 | -0.5037115 | -0.5828848 | 0.2734550  |  1.0000000 | \n",
       "\n",
       "\n"
      ],
      "text/plain": [
       "             COAL_AUS   COAL_COL   COAL_SAFRICA CRUDE_BRENT CRUDE_DUBAI\n",
       "COAL_AUS      1.0000000  0.9519459  0.9830495    0.6451796   0.6448318 \n",
       "COAL_COL      0.9519459  1.0000000  0.9736121    0.6223830   0.6150920 \n",
       "COAL_SAFRICA  0.9830495  0.9736121  1.0000000    0.6730969   0.6708876 \n",
       "CRUDE_BRENT   0.6451796  0.6223830  0.6730969    1.0000000   0.9979618 \n",
       "CRUDE_DUBAI   0.6448318  0.6150920  0.6708876    0.9979618   1.0000000 \n",
       "CRUDE_WTI     0.6559127  0.6386832  0.6791346    0.9689528   0.9676416 \n",
       "GOLD          0.3468681  0.2389303  0.3634995    0.4562557   0.4666980 \n",
       "TLkur        -0.3091073 -0.3189845 -0.3034282   -0.5106929  -0.5037115 \n",
       "             CRUDE_WTI  GOLD      TLkur     \n",
       "COAL_AUS      0.6559127 0.3468681 -0.3091073\n",
       "COAL_COL      0.6386832 0.2389303 -0.3189845\n",
       "COAL_SAFRICA  0.6791346 0.3634995 -0.3034282\n",
       "CRUDE_BRENT   0.9689528 0.4562557 -0.5106929\n",
       "CRUDE_DUBAI   0.9676416 0.4666980 -0.5037115\n",
       "CRUDE_WTI     1.0000000 0.2832844 -0.5828848\n",
       "GOLD          0.2832844 1.0000000  0.2734550\n",
       "TLkur        -0.5828848 0.2734550  1.0000000"
      ]
     },
     "metadata": {},
     "output_type": "display_data"
    }
   ],
   "source": [
    "cor(aylik_emtia)"
   ]
  },
  {
   "cell_type": "code",
   "execution_count": 37,
   "metadata": {},
   "outputs": [
    {
     "data": {
      "text/plain": [
       "            TLkur\n",
       "Jun 2006 1.624308\n",
       "Jul 2006 1.548884\n",
       "Aug 2006 1.462191"
      ]
     },
     "metadata": {},
     "output_type": "display_data"
    },
    {
     "data": {
      "text/plain": [
       "            TLkur\n",
       "Jun 2006 1.548884\n",
       "Jul 2006 1.462191\n",
       "Aug 2006 1.472710"
      ]
     },
     "metadata": {},
     "output_type": "display_data"
    }
   ],
   "source": [
    "library(xts)\n",
    "aylik_emtia<-as.xts(aylik_emtia)\n",
    "head(aylik_emtia$TLkur,3)\n",
    "head(lag(aylik_emtia$TLkur,-1),3)\n",
    "aylik_emtia$TLkur1<-lag(aylik_emtia$TLkur,-1)\n",
    "aylik_emtia$TLkur2<-lag(aylik_emtia$TLkur,-2)\n",
    "aylik_emtia$TLkur3<-lag(aylik_emtia$TLkur,-3)\n",
    "aylik_emtia$TLkur4<-lag(aylik_emtia$TLkur,-4)\n",
    "aylik_emtia$TLkur5<-lag(aylik_emtia$TLkur,-5)\n",
    "aylik_emtia$TLkur6<-lag(aylik_emtia$TLkur,-6)\n",
    "\n",
    "\n"
   ]
  },
  {
   "cell_type": "code",
   "execution_count": 43,
   "metadata": {},
   "outputs": [
    {
     "data": {
      "text/html": [
       "<table>\n",
       "<thead><tr><th></th><th scope=col>COAL_AUS</th><th scope=col>COAL_COL</th><th scope=col>COAL_SAFRICA</th><th scope=col>CRUDE_BRENT</th><th scope=col>CRUDE_DUBAI</th><th scope=col>CRUDE_WTI</th><th scope=col>GOLD</th><th scope=col>TLkur</th><th scope=col>TLkur1</th><th scope=col>TLkur2</th><th scope=col>TLkur3</th><th scope=col>TLkur4</th><th scope=col>TLkur5</th><th scope=col>TLkur6</th></tr></thead>\n",
       "<tbody>\n",
       "\t<tr><th scope=row>COAL_AUS</th><td> 1.0000000</td><td> 0.9523064</td><td> 0.9839717</td><td> 0.6732744</td><td> 0.6719006</td><td> 0.6892759</td><td>0.3454092 </td><td>-0.3729298</td><td>-0.3488480</td><td>-0.3262413</td><td>-0.3095773</td><td>-0.2965281</td><td>-0.2885107</td><td>-0.2821376</td></tr>\n",
       "\t<tr><th scope=row>COAL_COL</th><td> 0.9523064</td><td> 1.0000000</td><td> 0.9737220</td><td> 0.6446903</td><td> 0.6362807</td><td> 0.6656816</td><td>0.2379533 </td><td>-0.3737224</td><td>-0.3470414</td><td>-0.3231552</td><td>-0.3057285</td><td>-0.2927276</td><td>-0.2844423</td><td>-0.2787568</td></tr>\n",
       "\t<tr><th scope=row>COAL_SAFRICA</th><td> 0.9839717</td><td> 0.9737220</td><td> 1.0000000</td><td> 0.6932498</td><td> 0.6900531</td><td> 0.7034751</td><td>0.3637166 </td><td>-0.3477569</td><td>-0.3222495</td><td>-0.2972511</td><td>-0.2786976</td><td>-0.2653333</td><td>-0.2561244</td><td>-0.2493121</td></tr>\n",
       "\t<tr><th scope=row>CRUDE_BRENT</th><td> 0.6732744</td><td> 0.6446903</td><td> 0.6932498</td><td> 1.0000000</td><td> 0.9978733</td><td> 0.9673190</td><td>0.4840834 </td><td>-0.4690135</td><td>-0.4613477</td><td>-0.4504160</td><td>-0.4361450</td><td>-0.4199674</td><td>-0.4046522</td><td>-0.3912271</td></tr>\n",
       "\t<tr><th scope=row>CRUDE_DUBAI</th><td> 0.6719006</td><td> 0.6362807</td><td> 0.6900531</td><td> 0.9978733</td><td> 1.0000000</td><td> 0.9661012</td><td>0.4937887 </td><td>-0.4633089</td><td>-0.4554722</td><td>-0.4441830</td><td>-0.4297398</td><td>-0.4140095</td><td>-0.3990533</td><td>-0.3857695</td></tr>\n",
       "\t<tr><th scope=row>CRUDE_WTI</th><td> 0.6892759</td><td> 0.6656816</td><td> 0.7034751</td><td> 0.9673190</td><td> 0.9661012</td><td> 1.0000000</td><td>0.3089021 </td><td>-0.5445147</td><td>-0.5369086</td><td>-0.5243942</td><td>-0.5074278</td><td>-0.4878438</td><td>-0.4690476</td><td>-0.4529137</td></tr>\n",
       "\t<tr><th scope=row>GOLD</th><td> 0.3454092</td><td> 0.2379533</td><td> 0.3637166</td><td> 0.4840834</td><td> 0.4937887</td><td> 0.3089021</td><td>1.0000000 </td><td> 0.2785706</td><td> 0.2844580</td><td> 0.2915476</td><td> 0.2990861</td><td> 0.3073800</td><td> 0.3147601</td><td> 0.3210151</td></tr>\n",
       "\t<tr><th scope=row>TLkur</th><td>-0.3729298</td><td>-0.3737224</td><td>-0.3477569</td><td>-0.4690135</td><td>-0.4633089</td><td>-0.5445147</td><td>0.2785706 </td><td> 1.0000000</td><td> 0.9952308</td><td> 0.9874637</td><td> 0.9803396</td><td> 0.9735439</td><td> 0.9668463</td><td> 0.9620010</td></tr>\n",
       "\t<tr><th scope=row>TLkur1</th><td>-0.3488480</td><td>-0.3470414</td><td>-0.3222495</td><td>-0.4613477</td><td>-0.4554722</td><td>-0.5369086</td><td>0.2844580 </td><td> 0.9952308</td><td> 1.0000000</td><td> 0.9954178</td><td> 0.9881826</td><td> 0.9810666</td><td> 0.9741750</td><td> 0.9684514</td></tr>\n",
       "\t<tr><th scope=row>TLkur2</th><td>-0.3262413</td><td>-0.3231552</td><td>-0.2972511</td><td>-0.4504160</td><td>-0.4441830</td><td>-0.5243942</td><td>0.2915476 </td><td> 0.9874637</td><td> 0.9954178</td><td> 1.0000000</td><td> 0.9956733</td><td> 0.9886089</td><td> 0.9815326</td><td> 0.9752906</td></tr>\n",
       "\t<tr><th scope=row>TLkur3</th><td>-0.3095773</td><td>-0.3057285</td><td>-0.2786976</td><td>-0.4361450</td><td>-0.4297398</td><td>-0.5074278</td><td>0.2990861 </td><td> 0.9803396</td><td> 0.9881826</td><td> 0.9956733</td><td> 1.0000000</td><td> 0.9957545</td><td> 0.9887359</td><td> 0.9822278</td></tr>\n",
       "\t<tr><th scope=row>TLkur4</th><td>-0.2965281</td><td>-0.2927276</td><td>-0.2653333</td><td>-0.4199674</td><td>-0.4140095</td><td>-0.4878438</td><td>0.3073800 </td><td> 0.9735439</td><td> 0.9810666</td><td> 0.9886089</td><td> 0.9957545</td><td> 1.0000000</td><td> 0.9958335</td><td> 0.9891098</td></tr>\n",
       "\t<tr><th scope=row>TLkur5</th><td>-0.2885107</td><td>-0.2844423</td><td>-0.2561244</td><td>-0.4046522</td><td>-0.3990533</td><td>-0.4690476</td><td>0.3147601 </td><td> 0.9668463</td><td> 0.9741750</td><td> 0.9815326</td><td> 0.9887359</td><td> 0.9958335</td><td> 1.0000000</td><td> 0.9958027</td></tr>\n",
       "\t<tr><th scope=row>TLkur6</th><td>-0.2821376</td><td>-0.2787568</td><td>-0.2493121</td><td>-0.3912271</td><td>-0.3857695</td><td>-0.4529137</td><td>0.3210151 </td><td> 0.9620010</td><td> 0.9684514</td><td> 0.9752906</td><td> 0.9822278</td><td> 0.9891098</td><td> 0.9958027</td><td> 1.0000000</td></tr>\n",
       "</tbody>\n",
       "</table>\n"
      ],
      "text/latex": [
       "\\begin{tabular}{r|llllllllllllll}\n",
       "  & COAL\\_AUS & COAL\\_COL & COAL\\_SAFRICA & CRUDE\\_BRENT & CRUDE\\_DUBAI & CRUDE\\_WTI & GOLD & TLkur & TLkur1 & TLkur2 & TLkur3 & TLkur4 & TLkur5 & TLkur6\\\\\n",
       "\\hline\n",
       "\tCOAL\\_AUS &  1.0000000 &  0.9523064 &  0.9839717 &  0.6732744 &  0.6719006 &  0.6892759 & 0.3454092  & -0.3729298 & -0.3488480 & -0.3262413 & -0.3095773 & -0.2965281 & -0.2885107 & -0.2821376\\\\\n",
       "\tCOAL\\_COL &  0.9523064 &  1.0000000 &  0.9737220 &  0.6446903 &  0.6362807 &  0.6656816 & 0.2379533  & -0.3737224 & -0.3470414 & -0.3231552 & -0.3057285 & -0.2927276 & -0.2844423 & -0.2787568\\\\\n",
       "\tCOAL\\_SAFRICA &  0.9839717 &  0.9737220 &  1.0000000 &  0.6932498 &  0.6900531 &  0.7034751 & 0.3637166  & -0.3477569 & -0.3222495 & -0.2972511 & -0.2786976 & -0.2653333 & -0.2561244 & -0.2493121\\\\\n",
       "\tCRUDE\\_BRENT &  0.6732744 &  0.6446903 &  0.6932498 &  1.0000000 &  0.9978733 &  0.9673190 & 0.4840834  & -0.4690135 & -0.4613477 & -0.4504160 & -0.4361450 & -0.4199674 & -0.4046522 & -0.3912271\\\\\n",
       "\tCRUDE\\_DUBAI &  0.6719006 &  0.6362807 &  0.6900531 &  0.9978733 &  1.0000000 &  0.9661012 & 0.4937887  & -0.4633089 & -0.4554722 & -0.4441830 & -0.4297398 & -0.4140095 & -0.3990533 & -0.3857695\\\\\n",
       "\tCRUDE\\_WTI &  0.6892759 &  0.6656816 &  0.7034751 &  0.9673190 &  0.9661012 &  1.0000000 & 0.3089021  & -0.5445147 & -0.5369086 & -0.5243942 & -0.5074278 & -0.4878438 & -0.4690476 & -0.4529137\\\\\n",
       "\tGOLD &  0.3454092 &  0.2379533 &  0.3637166 &  0.4840834 &  0.4937887 &  0.3089021 & 1.0000000  &  0.2785706 &  0.2844580 &  0.2915476 &  0.2990861 &  0.3073800 &  0.3147601 &  0.3210151\\\\\n",
       "\tTLkur & -0.3729298 & -0.3737224 & -0.3477569 & -0.4690135 & -0.4633089 & -0.5445147 & 0.2785706  &  1.0000000 &  0.9952308 &  0.9874637 &  0.9803396 &  0.9735439 &  0.9668463 &  0.9620010\\\\\n",
       "\tTLkur1 & -0.3488480 & -0.3470414 & -0.3222495 & -0.4613477 & -0.4554722 & -0.5369086 & 0.2844580  &  0.9952308 &  1.0000000 &  0.9954178 &  0.9881826 &  0.9810666 &  0.9741750 &  0.9684514\\\\\n",
       "\tTLkur2 & -0.3262413 & -0.3231552 & -0.2972511 & -0.4504160 & -0.4441830 & -0.5243942 & 0.2915476  &  0.9874637 &  0.9954178 &  1.0000000 &  0.9956733 &  0.9886089 &  0.9815326 &  0.9752906\\\\\n",
       "\tTLkur3 & -0.3095773 & -0.3057285 & -0.2786976 & -0.4361450 & -0.4297398 & -0.5074278 & 0.2990861  &  0.9803396 &  0.9881826 &  0.9956733 &  1.0000000 &  0.9957545 &  0.9887359 &  0.9822278\\\\\n",
       "\tTLkur4 & -0.2965281 & -0.2927276 & -0.2653333 & -0.4199674 & -0.4140095 & -0.4878438 & 0.3073800  &  0.9735439 &  0.9810666 &  0.9886089 &  0.9957545 &  1.0000000 &  0.9958335 &  0.9891098\\\\\n",
       "\tTLkur5 & -0.2885107 & -0.2844423 & -0.2561244 & -0.4046522 & -0.3990533 & -0.4690476 & 0.3147601  &  0.9668463 &  0.9741750 &  0.9815326 &  0.9887359 &  0.9958335 &  1.0000000 &  0.9958027\\\\\n",
       "\tTLkur6 & -0.2821376 & -0.2787568 & -0.2493121 & -0.3912271 & -0.3857695 & -0.4529137 & 0.3210151  &  0.9620010 &  0.9684514 &  0.9752906 &  0.9822278 &  0.9891098 &  0.9958027 &  1.0000000\\\\\n",
       "\\end{tabular}\n"
      ],
      "text/markdown": [
       "\n",
       "| <!--/--> | COAL_AUS | COAL_COL | COAL_SAFRICA | CRUDE_BRENT | CRUDE_DUBAI | CRUDE_WTI | GOLD | TLkur | TLkur1 | TLkur2 | TLkur3 | TLkur4 | TLkur5 | TLkur6 | \n",
       "|---|---|---|---|---|---|---|---|---|---|---|---|---|---|\n",
       "| COAL_AUS |  1.0000000 |  0.9523064 |  0.9839717 |  0.6732744 |  0.6719006 |  0.6892759 | 0.3454092  | -0.3729298 | -0.3488480 | -0.3262413 | -0.3095773 | -0.2965281 | -0.2885107 | -0.2821376 | \n",
       "| COAL_COL |  0.9523064 |  1.0000000 |  0.9737220 |  0.6446903 |  0.6362807 |  0.6656816 | 0.2379533  | -0.3737224 | -0.3470414 | -0.3231552 | -0.3057285 | -0.2927276 | -0.2844423 | -0.2787568 | \n",
       "| COAL_SAFRICA |  0.9839717 |  0.9737220 |  1.0000000 |  0.6932498 |  0.6900531 |  0.7034751 | 0.3637166  | -0.3477569 | -0.3222495 | -0.2972511 | -0.2786976 | -0.2653333 | -0.2561244 | -0.2493121 | \n",
       "| CRUDE_BRENT |  0.6732744 |  0.6446903 |  0.6932498 |  1.0000000 |  0.9978733 |  0.9673190 | 0.4840834  | -0.4690135 | -0.4613477 | -0.4504160 | -0.4361450 | -0.4199674 | -0.4046522 | -0.3912271 | \n",
       "| CRUDE_DUBAI |  0.6719006 |  0.6362807 |  0.6900531 |  0.9978733 |  1.0000000 |  0.9661012 | 0.4937887  | -0.4633089 | -0.4554722 | -0.4441830 | -0.4297398 | -0.4140095 | -0.3990533 | -0.3857695 | \n",
       "| CRUDE_WTI |  0.6892759 |  0.6656816 |  0.7034751 |  0.9673190 |  0.9661012 |  1.0000000 | 0.3089021  | -0.5445147 | -0.5369086 | -0.5243942 | -0.5074278 | -0.4878438 | -0.4690476 | -0.4529137 | \n",
       "| GOLD |  0.3454092 |  0.2379533 |  0.3637166 |  0.4840834 |  0.4937887 |  0.3089021 | 1.0000000  |  0.2785706 |  0.2844580 |  0.2915476 |  0.2990861 |  0.3073800 |  0.3147601 |  0.3210151 | \n",
       "| TLkur | -0.3729298 | -0.3737224 | -0.3477569 | -0.4690135 | -0.4633089 | -0.5445147 | 0.2785706  |  1.0000000 |  0.9952308 |  0.9874637 |  0.9803396 |  0.9735439 |  0.9668463 |  0.9620010 | \n",
       "| TLkur1 | -0.3488480 | -0.3470414 | -0.3222495 | -0.4613477 | -0.4554722 | -0.5369086 | 0.2844580  |  0.9952308 |  1.0000000 |  0.9954178 |  0.9881826 |  0.9810666 |  0.9741750 |  0.9684514 | \n",
       "| TLkur2 | -0.3262413 | -0.3231552 | -0.2972511 | -0.4504160 | -0.4441830 | -0.5243942 | 0.2915476  |  0.9874637 |  0.9954178 |  1.0000000 |  0.9956733 |  0.9886089 |  0.9815326 |  0.9752906 | \n",
       "| TLkur3 | -0.3095773 | -0.3057285 | -0.2786976 | -0.4361450 | -0.4297398 | -0.5074278 | 0.2990861  |  0.9803396 |  0.9881826 |  0.9956733 |  1.0000000 |  0.9957545 |  0.9887359 |  0.9822278 | \n",
       "| TLkur4 | -0.2965281 | -0.2927276 | -0.2653333 | -0.4199674 | -0.4140095 | -0.4878438 | 0.3073800  |  0.9735439 |  0.9810666 |  0.9886089 |  0.9957545 |  1.0000000 |  0.9958335 |  0.9891098 | \n",
       "| TLkur5 | -0.2885107 | -0.2844423 | -0.2561244 | -0.4046522 | -0.3990533 | -0.4690476 | 0.3147601  |  0.9668463 |  0.9741750 |  0.9815326 |  0.9887359 |  0.9958335 |  1.0000000 |  0.9958027 | \n",
       "| TLkur6 | -0.2821376 | -0.2787568 | -0.2493121 | -0.3912271 | -0.3857695 | -0.4529137 | 0.3210151  |  0.9620010 |  0.9684514 |  0.9752906 |  0.9822278 |  0.9891098 |  0.9958027 |  1.0000000 | \n",
       "\n",
       "\n"
      ],
      "text/plain": [
       "             COAL_AUS   COAL_COL   COAL_SAFRICA CRUDE_BRENT CRUDE_DUBAI\n",
       "COAL_AUS      1.0000000  0.9523064  0.9839717    0.6732744   0.6719006 \n",
       "COAL_COL      0.9523064  1.0000000  0.9737220    0.6446903   0.6362807 \n",
       "COAL_SAFRICA  0.9839717  0.9737220  1.0000000    0.6932498   0.6900531 \n",
       "CRUDE_BRENT   0.6732744  0.6446903  0.6932498    1.0000000   0.9978733 \n",
       "CRUDE_DUBAI   0.6719006  0.6362807  0.6900531    0.9978733   1.0000000 \n",
       "CRUDE_WTI     0.6892759  0.6656816  0.7034751    0.9673190   0.9661012 \n",
       "GOLD          0.3454092  0.2379533  0.3637166    0.4840834   0.4937887 \n",
       "TLkur        -0.3729298 -0.3737224 -0.3477569   -0.4690135  -0.4633089 \n",
       "TLkur1       -0.3488480 -0.3470414 -0.3222495   -0.4613477  -0.4554722 \n",
       "TLkur2       -0.3262413 -0.3231552 -0.2972511   -0.4504160  -0.4441830 \n",
       "TLkur3       -0.3095773 -0.3057285 -0.2786976   -0.4361450  -0.4297398 \n",
       "TLkur4       -0.2965281 -0.2927276 -0.2653333   -0.4199674  -0.4140095 \n",
       "TLkur5       -0.2885107 -0.2844423 -0.2561244   -0.4046522  -0.3990533 \n",
       "TLkur6       -0.2821376 -0.2787568 -0.2493121   -0.3912271  -0.3857695 \n",
       "             CRUDE_WTI  GOLD      TLkur      TLkur1     TLkur2     TLkur3    \n",
       "COAL_AUS      0.6892759 0.3454092 -0.3729298 -0.3488480 -0.3262413 -0.3095773\n",
       "COAL_COL      0.6656816 0.2379533 -0.3737224 -0.3470414 -0.3231552 -0.3057285\n",
       "COAL_SAFRICA  0.7034751 0.3637166 -0.3477569 -0.3222495 -0.2972511 -0.2786976\n",
       "CRUDE_BRENT   0.9673190 0.4840834 -0.4690135 -0.4613477 -0.4504160 -0.4361450\n",
       "CRUDE_DUBAI   0.9661012 0.4937887 -0.4633089 -0.4554722 -0.4441830 -0.4297398\n",
       "CRUDE_WTI     1.0000000 0.3089021 -0.5445147 -0.5369086 -0.5243942 -0.5074278\n",
       "GOLD          0.3089021 1.0000000  0.2785706  0.2844580  0.2915476  0.2990861\n",
       "TLkur        -0.5445147 0.2785706  1.0000000  0.9952308  0.9874637  0.9803396\n",
       "TLkur1       -0.5369086 0.2844580  0.9952308  1.0000000  0.9954178  0.9881826\n",
       "TLkur2       -0.5243942 0.2915476  0.9874637  0.9954178  1.0000000  0.9956733\n",
       "TLkur3       -0.5074278 0.2990861  0.9803396  0.9881826  0.9956733  1.0000000\n",
       "TLkur4       -0.4878438 0.3073800  0.9735439  0.9810666  0.9886089  0.9957545\n",
       "TLkur5       -0.4690476 0.3147601  0.9668463  0.9741750  0.9815326  0.9887359\n",
       "TLkur6       -0.4529137 0.3210151  0.9620010  0.9684514  0.9752906  0.9822278\n",
       "             TLkur4     TLkur5     TLkur6    \n",
       "COAL_AUS     -0.2965281 -0.2885107 -0.2821376\n",
       "COAL_COL     -0.2927276 -0.2844423 -0.2787568\n",
       "COAL_SAFRICA -0.2653333 -0.2561244 -0.2493121\n",
       "CRUDE_BRENT  -0.4199674 -0.4046522 -0.3912271\n",
       "CRUDE_DUBAI  -0.4140095 -0.3990533 -0.3857695\n",
       "CRUDE_WTI    -0.4878438 -0.4690476 -0.4529137\n",
       "GOLD          0.3073800  0.3147601  0.3210151\n",
       "TLkur         0.9735439  0.9668463  0.9620010\n",
       "TLkur1        0.9810666  0.9741750  0.9684514\n",
       "TLkur2        0.9886089  0.9815326  0.9752906\n",
       "TLkur3        0.9957545  0.9887359  0.9822278\n",
       "TLkur4        1.0000000  0.9958335  0.9891098\n",
       "TLkur5        0.9958335  1.0000000  0.9958027\n",
       "TLkur6        0.9891098  0.9958027  1.0000000"
      ]
     },
     "metadata": {},
     "output_type": "display_data"
    }
   ],
   "source": [
    "cor(aylik_emtia, use=\"complete.obs\")"
   ]
  },
  {
   "cell_type": "code",
   "execution_count": 50,
   "metadata": {},
   "outputs": [
    {
     "data": {
      "image/png": "[encoded data removed]"
     },
     "metadata": {},
     "output_type": "display_data"
    }
   ],
   "source": [
    "library(leaps)\n",
    "plot(regsubsets(data=aylik_emtia, TLkur4~COAL_AUS+COAL_COL+COAL_SAFRICA+CRUDE_BRENT+GOLD, nvmax = 2 , nbest = 1))"
   ]
  },
  {
   "cell_type": "code",
   "execution_count": 52,
   "metadata": {},
   "outputs": [
    {
     "data": {
      "text/plain": [
       "\n",
       "Call:\n",
       "lm(formula = TLkur4 ~ CRUDE_BRENT + GOLD, data = aylik_emtia)\n",
       "\n",
       "Residuals:\n",
       "     Min       1Q   Median       3Q      Max \n",
       "-0.88186 -0.40635 -0.08567  0.39309  1.12878 \n",
       "\n",
       "Coefficients:\n",
       "              Estimate Std. Error t value Pr(>|t|)    \n",
       "(Intercept)  1.8800432  0.1754752  10.714   <2e-16 ***\n",
       "CRUDE_BRENT -0.0198904  0.0017970 -11.069   <2e-16 ***\n",
       "GOLD         0.0014864  0.0001532   9.705   <2e-16 ***\n",
       "---\n",
       "Signif. codes:  0 '***' 0.001 '**' 0.01 '*' 0.05 '.' 0.1 ' ' 1\n",
       "\n",
       "Residual standard error: 0.4889 on 130 degrees of freedom\n",
       "  (4 observations deleted due to missingness)\n",
       "Multiple R-squared:  0.5326,\tAdjusted R-squared:  0.5255 \n",
       "F-statistic: 74.08 on 2 and 130 DF,  p-value: < 2.2e-16\n"
      ]
     },
     "metadata": {},
     "output_type": "display_data"
    }
   ],
   "source": [
    "model<-lm(data=aylik_emtia, TLkur4~CRUDE_BRENT+GOLD)\n",
    "summary(model)"
   ]
  },
  {
   "cell_type": "code",
   "execution_count": 45,
   "metadata": {
    "collapsed": true
   },
   "outputs": [],
   "source": [
    "llxc = function( a, ll=-12:12, legend.loc=\"topleft\", displayLegend=T, legend.cex=1.0, overplot=F )\n",
    "{\n",
    "\tif ( ncol(a) < 2 )\n",
    "\t{\n",
    "\t\tprint( \"Not enough columns\")\n",
    "\t\treturn;\n",
    "\t}\n",
    "\t\n",
    "\ta = na.omit(a)\n",
    "\t\n",
    "\tb = a[,1]\n",
    "\tfirstplot = T\n",
    "\t\n",
    "\tcolours = RColorBrewer::brewer.pal(length(names(a)), \"Dark2\")\n",
    "\tcolours[1] = \"black\"\n",
    "\tcount = 1\n",
    "\t\n",
    "\ts = {}\n",
    "\t\n",
    "\tylim = c(0, 0)\n",
    "\n",
    "\td = c()\n",
    "\tfor ( x in names(a)[2:length(names(a))] )\n",
    "\t{\n",
    "\t\tprint(x)\n",
    "\t\tc = a[,x]\n",
    "\t\tfor ( y in ll )\n",
    "\t\t{\n",
    "\t\t\tz = na.omit(merge(lag(b, k=y), c))\n",
    "\t\t\tr = cor(z)[2]\n",
    "\t\t\td = c( d, r )\n",
    "\t\t}\n",
    "\t}\t\n",
    "\t\n",
    "\tylim = c(min(d), max(d))\n",
    "\t\n",
    "\tfor ( x in names(a)[2:length(names(a))] )\n",
    "\t{\n",
    "\t\tprint(x)\n",
    "\t\tc = a[,x]\n",
    "\t\td = c()\n",
    "\t\tfor ( y in ll )\n",
    "\t\t{\n",
    "\t\t\tz = na.omit(merge(lag(b, k=y), c))\n",
    "\t\t\tr = cor(z)[2]\n",
    "\t\t\td = c( d, r )\n",
    "\t\t}\n",
    "\t\t\n",
    "\t\ts[x] = d\n",
    "\t\tprint(paste(\"Max correlation:\", max(abs(d))))\n",
    "\t\t\n",
    "\t\tif ( firstplot == T )\n",
    "\t\t{\n",
    "\t\t\tif ( overplot == T )\n",
    "\t\t\t{\n",
    "\t\t\t\tpar(yaxt=\"n\")\n",
    "\t\t\t}\n",
    "\t\t\tperiodicityOfData = cat( periodicity(a)$label, \"s\", sep=\"\" )\n",
    "\t\t\tprint(periodicityOfData)\n",
    "\t\t\tplot(ll, d, type=\"l\", col=colours[count], ylim=ylim, xlab=periodicityOfData, ylab=\"Correlation Coefficient\")\n",
    "\t\t\tfirstplot = F\n",
    "\t\t}\n",
    "\t\telse\n",
    "\t\t{\n",
    "\t\t\tif ( overplot == T )\n",
    "\t\t\t{\n",
    "\t\t\t\tpar(new=T, xaxt=\"n\", yaxt=\"n\")\n",
    "\t\t\t\tplot(ll, d, col=colours[count], type=\"l\")\t\t\t\t\n",
    "\t\t\t}\n",
    "\t\t\telse\n",
    "\t\t\t{\n",
    "\t\t\t\tlines(ll, d, col=colours[count], type=\"l\")\n",
    "\t\t\t}\n",
    "\t\t}\n",
    "\t\tcount = count + 1\n",
    "\t}\n",
    "\tprint (s)\n",
    "\t\n",
    "\tif ( displayLegend == T )\n",
    "\t{\n",
    "\t\tlegend(legend.loc, names(a)[2:length(names(a))], col=colours, lty=1, cex=legend.cex)\t\n",
    "\t}\n",
    "\tgrid()\n",
    "\tpar(xaxt=\"s\", yaxt=\"s\")\n",
    "}\n",
    "\n"
   ]
  },
  {
   "cell_type": "code",
   "execution_count": 62,
   "metadata": {},
   "outputs": [
    {
     "name": "stdout",
     "output_type": "stream",
     "text": [
      "[1] \"CRUDE_BRENT\"\n",
      "[1] \"GOLD\"\n",
      "[1] \"CRUDE_BRENT\"\n"
     ]
    },
    {
     "name": "stderr",
     "output_type": "stream",
     "text": [
      "Warning message in s[x] = d:\n",
      "\"number of items to replace is not a multiple of replacement length\""
     ]
    },
    {
     "name": "stdout",
     "output_type": "stream",
     "text": [
      "[1] \"Max correlation: 0.543988228805697\"\n",
      "monthsNULL\n",
      "[1] \"GOLD\"\n"
     ]
    },
    {
     "name": "stderr",
     "output_type": "stream",
     "text": [
      "Warning message in s[x] = d:\n",
      "\"number of items to replace is not a multiple of replacement length\""
     ]
    },
    {
     "name": "stdout",
     "output_type": "stream",
     "text": [
      "[1] \"Max correlation: 0.370774560501905\"\n",
      "CRUDE_BRENT        GOLD \n",
      " -0.2613789   0.3673099 \n"
     ]
    },
    {
     "data": {
      "image/png": "[encoded data removed]"
     },
     "metadata": {},
     "output_type": "display_data"
    }
   ],
   "source": [
    "options(repr.plot.height=4, repr.plot.width=4)\n",
    "# TLkur3 ile 4 ve 7. kolonun korelasyonu\n",
    "llxc(aylik_emtia[,c(10,4,7)])"
   ]
  },
  {
   "cell_type": "code",
   "execution_count": 38,
   "metadata": {},
   "outputs": [
    {
     "name": "stderr",
     "output_type": "stream",
     "text": [
      "Warning message in plot.xts(aylik_emtia):\n",
      "\"only the univariate series will be plotted\""
     ]
    },
    {
     "data": {
      "image/png": "[encoded data removed]"
     },
     "metadata": {},
     "output_type": "display_data"
    }
   ],
   "source": [
    "plot(aylik_emtia)\n"
   ]
  },
  {
   "cell_type": "code",
   "execution_count": 39,
   "metadata": {},
   "outputs": [
    {
     "name": "stderr",
     "output_type": "stream",
     "text": [
      "Warning message in decompose(aylik_emtia[, 4]):\n",
      "\"Incompatible methods (\"Ops.xts\", \"Ops.ts\") for \"-\"\"Warning message in structure(list(x = x, seasonal = seasonal, trend = trend, random = if (type == :\n",
      "\"Incompatible methods (\"Ops.xts\", \"Ops.ts\") for \"-\"\"Warning message in .cbind.ts(list(e1, e2), c(deparse(substitute(e1))[1L], deparse(substitute(e2))[1L]), :\n",
      "\"non-intersecting series\""
     ]
    },
    {
     "data": {
      "image/png": "[encoded data removed]"
     },
     "metadata": {},
     "output_type": "display_data"
    }
   ],
   "source": [
    "plot(decompose(aylik_emtia[,4]))"
   ]
  },
  {
   "cell_type": "code",
   "execution_count": 40,
   "metadata": {},
   "outputs": [
    {
     "data": {
      "image/png": "[encoded data removed]"
     },
     "metadata": {},
     "output_type": "display_data"
    }
   ],
   "source": [
    "plot(aylik_emtia[,4])"
   ]
  },
  {
   "cell_type": "code",
   "execution_count": 17,
   "metadata": {},
   "outputs": [
    {
     "name": "stderr",
     "output_type": "stream",
     "text": [
      "Loading required package: zoo\n",
      "\n",
      "Attaching package: 'zoo'\n",
      "\n",
      "The following objects are masked from 'package:base':\n",
      "\n",
      "    as.Date, as.Date.numeric\n",
      "\n",
      "Loading required package: timeDate\n",
      "This is forecast 7.1 \n",
      "\n"
     ]
    }
   ],
   "source": [
    "library(forecast)"
   ]
  },
  {
   "cell_type": "code",
   "execution_count": 41,
   "metadata": {},
   "outputs": [
    {
     "ename": "ERROR",
     "evalue": "Error in eval(expr, envir, enclos): could not find function \"hw\"\n",
     "output_type": "error",
     "traceback": [
      "Error in eval(expr, envir, enclos): could not find function \"hw\"\nTraceback:\n"
     ]
    }
   ],
   "source": [
    "fit_emtia<-hw(aylik_emtia[,4])\n"
   ]
  },
  {
   "cell_type": "code",
   "execution_count": 20,
   "metadata": {},
   "outputs": [
    {
     "data": {
      "image/png": "[encoded data removed]"
     },
     "metadata": {},
     "output_type": "display_data"
    }
   ],
   "source": [
    "plot(forecast(fit_emtia,h=20))"
   ]
  },
  {
   "cell_type": "code",
   "execution_count": 21,
   "metadata": {},
   "outputs": [
    {
     "data": {
      "text/plain": [
       "         Point Forecast     Lo 80     Hi 80      Lo 95     Hi 95\n",
       "Nov 2017       57.00197 48.794455  65.20949  44.449658  69.55428\n",
       "Dec 2017       56.55356 43.300304  69.80681  36.284455  76.82266\n",
       "Jan 2018       56.69570 39.144917  74.24647  29.854097  83.53729\n",
       "Feb 2018       61.12118 39.512732  82.72963  28.073910  94.16845\n",
       "Mar 2018       65.11811 39.529974  90.70625  25.984431 104.25180\n",
       "Apr 2018       68.99942 39.437081  98.56176  23.787722 114.21112\n",
       "May 2018       70.92509 37.356043 104.49414  19.585663 122.26452\n",
       "Jun 2018       72.75413 35.124117 110.38415  15.203990 130.30428\n",
       "Jul 2018       74.37539 32.617010 116.13377  10.511460 138.23932\n",
       "Aug 2018       73.50519 27.542907 119.46748   3.211943 143.79844\n",
       "Sep 2018       73.32972 23.082884 123.57656  -3.516186 150.17563\n",
       "Oct 2018       72.34496 17.729431 126.96049 -11.182283 155.87220\n",
       "Nov 2018       71.72693 12.657371 130.79649 -18.612164 162.06602\n",
       "Dec 2018       71.27852  7.668228 134.88881 -26.005025 168.56206\n",
       "Jan 2019       71.42065  3.182517 139.65879 -32.940570 175.78188\n",
       "Feb 2019       75.84614  2.893042 148.79923 -35.725994 187.41827\n",
       "Mar 2019       79.84307  2.088199 157.59795 -39.072744 198.75889\n",
       "Apr 2019       83.72438  1.081413 166.36735 -42.667131 210.11589\n",
       "May 2019       85.65005 -1.966685 173.26678 -48.348183 219.64828\n",
       "Jun 2019       87.47909 -5.196335 180.15452 -54.255743 229.21393"
      ]
     },
     "metadata": {},
     "output_type": "display_data"
    }
   ],
   "source": [
    "forecast(fit_emtia,h=20)"
   ]
  },
  {
   "cell_type": "code",
   "execution_count": 23,
   "metadata": {},
   "outputs": [
    {
     "ename": "ERROR",
     "evalue": "Error in forecast.forecast(fit_emtia, h = 20, level = c(10, 30, 70, 90)): Please set the level argument when the forecasts are first computed\n",
     "output_type": "error",
     "traceback": [
      "Error in forecast.forecast(fit_emtia, h = 20, level = c(10, 30, 70, 90)): Please set the level argument when the forecasts are first computed\nTraceback:\n",
      "1. forecast(fit_emtia, h = 20, level = c(10, 30, 70, 90))",
      "2. forecast.forecast(fit_emtia, h = 20, level = c(10, 30, 70, 90))",
      "3. stop(\"Please set the level argument when the forecasts are first computed\")"
     ]
    }
   ],
   "source": [
    "forecast(fit_emtia,h=20,level=c(10,30,70,90))"
   ]
  },
  {
   "cell_type": "code",
   "execution_count": 24,
   "metadata": {
    "collapsed": true
   },
   "outputs": [],
   "source": [
    "fit_emtia<-hw(aylik_emtia[,4], level = c(10,40,90))\n"
   ]
  },
  {
   "cell_type": "code",
   "execution_count": 26,
   "metadata": {},
   "outputs": [
    {
     "data": {
      "image/png": "[encoded data removed]"
     },
     "metadata": {},
     "output_type": "display_data"
    }
   ],
   "source": [
    "plot(forecast(fit_emtia))"
   ]
  },
  {
   "cell_type": "code",
   "execution_count": null,
   "metadata": {
    "collapsed": true
   },
   "outputs": [],
   "source": []
  }
 ],
 "metadata": {
  "kernelspec": {
   "display_name": "R",
   "language": "R",
   "name": "r"
  },
  "language_info": {
   "codemirror_mode": "r",
   "file_extension": ".r",
   "mimetype": "text/x-r-source",
   "name": "R",
   "pygments_lexer": "r",
   "version": "3.3.3"
  }
 },
 "nbformat": 4,
 "nbformat_minor": 2
}
