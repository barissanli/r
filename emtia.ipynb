{
 "cells": [
  {
   "cell_type": "code",
   "execution_count": 2,
   "metadata": {},
   "outputs": [
    {
     "name": "stderr",
     "output_type": "stream",
     "text": [
      "Installing package into '/home/nbuser/R'\n",
      "(as 'lib' is unspecified)\n"
     ]
    }
   ],
   "source": [
    "install.packages(\"wbstats\")\n",
    "library(wbstats)"
   ]
  },
  {
   "cell_type": "code",
   "execution_count": 14,
   "metadata": {
    "collapsed": true
   },
   "outputs": [],
   "source": [
    "oil_data <- wb(indicator = c(\"CRUDE_DUBAI\", \"CRUDE_BRENT\", \"CRUDE_WTI\", \"COAL_SAFRICA\",\"COAL_COL\",\"COAL_AUS\",\"GOLD\"),\n",
    "               startdate = \"2006M06\", enddate = \"2017M11\", freq = \"M\", POSIXct = TRUE)"
   ]
  },
  {
   "cell_type": "code",
   "execution_count": 15,
   "metadata": {},
   "outputs": [
    {
     "data": {
      "text/html": [
       "<table>\n",
       "<thead><tr><th scope=col>iso3c</th><th scope=col>date</th><th scope=col>value</th><th scope=col>indicatorID</th><th scope=col>indicator</th><th scope=col>iso2c</th><th scope=col>country</th><th scope=col>date_ct</th><th scope=col>granularity</th></tr></thead>\n",
       "<tbody>\n",
       "\t<tr><td>WLD                              </td><td>2017M10                          </td><td>55.58                            </td><td>CRUDE_DUBAI                      </td><td>Crude oil, Dubai, $/bbl, nominal$</td><td>1W                               </td><td>World                            </td><td>2017-10-01                       </td><td>monthly                          </td></tr>\n",
       "\t<tr><td>WLD                              </td><td>2017M09                          </td><td>53.86                            </td><td>CRUDE_DUBAI                      </td><td>Crude oil, Dubai, $/bbl, nominal$</td><td>1W                               </td><td>World                            </td><td>2017-09-01                       </td><td>monthly                          </td></tr>\n",
       "</tbody>\n",
       "</table>\n"
      ],
      "text/latex": [
       "\\begin{tabular}{r|lllllllll}\n",
       " iso3c & date & value & indicatorID & indicator & iso2c & country & date\\_ct & granularity\\\\\n",
       "\\hline\n",
       "\t WLD                                   & 2017M10                               & 55.58                                 & CRUDE\\_DUBAI                         & Crude oil, Dubai, \\$/bbl, nominal\\$ & 1W                                    & World                                 & 2017-10-01                            & monthly                              \\\\\n",
       "\t WLD                                   & 2017M09                               & 53.86                                 & CRUDE\\_DUBAI                         & Crude oil, Dubai, \\$/bbl, nominal\\$ & 1W                                    & World                                 & 2017-09-01                            & monthly                              \\\\\n",
       "\\end{tabular}\n"
      ],
      "text/markdown": [
       "\n",
       "iso3c | date | value | indicatorID | indicator | iso2c | country | date_ct | granularity | \n",
       "|---|---|\n",
       "| WLD                               | 2017M10                           | 55.58                             | CRUDE_DUBAI                       | Crude oil, Dubai, $/bbl, nominal$ | 1W                                | World                             | 2017-10-01                        | monthly                           | \n",
       "| WLD                               | 2017M09                           | 53.86                             | CRUDE_DUBAI                       | Crude oil, Dubai, $/bbl, nominal$ | 1W                                | World                             | 2017-09-01                        | monthly                           | \n",
       "\n",
       "\n"
      ],
      "text/plain": [
       "  iso3c date    value indicatorID indicator                         iso2c\n",
       "1 WLD   2017M10 55.58 CRUDE_DUBAI Crude oil, Dubai, $/bbl, nominal$ 1W   \n",
       "2 WLD   2017M09 53.86 CRUDE_DUBAI Crude oil, Dubai, $/bbl, nominal$ 1W   \n",
       "  country date_ct    granularity\n",
       "1 World   2017-10-01 monthly    \n",
       "2 World   2017-09-01 monthly    "
      ]
     },
     "metadata": {},
     "output_type": "display_data"
    }
   ],
   "source": [
    "head(oil_data,2)"
   ]
  },
  {
   "cell_type": "code",
   "execution_count": 16,
   "metadata": {
    "collapsed": true
   },
   "outputs": [],
   "source": [
    "library(reshape2)"
   ]
  },
  {
   "cell_type": "code",
   "execution_count": 17,
   "metadata": {
    "collapsed": true
   },
   "outputs": [],
   "source": [
    "emtia_tablo<-dcast(oil_data,date~indicatorID, value.var='value')"
   ]
  },
  {
   "cell_type": "code",
   "execution_count": 18,
   "metadata": {},
   "outputs": [
    {
     "data": {
      "text/html": [
       "<table>\n",
       "<thead><tr><th scope=col>date</th><th scope=col>COAL_AUS</th><th scope=col>COAL_COL</th><th scope=col>COAL_SAFRICA</th><th scope=col>CRUDE_BRENT</th><th scope=col>CRUDE_DUBAI</th><th scope=col>CRUDE_WTI</th><th scope=col>GOLD</th></tr></thead>\n",
       "<tbody>\n",
       "\t<tr><td>2006M06 </td><td>52.375  </td><td>54.25   </td><td>52.375  </td><td>68.85773</td><td>65.08091</td><td>70.93182</td><td>596.145 </td></tr>\n",
       "\t<tr><td>2006M07 </td><td>52.750  </td><td>53.05   </td><td>51.680  </td><td>73.89714</td><td>69.04905</td><td>74.40421</td><td>633.710 </td></tr>\n",
       "</tbody>\n",
       "</table>\n"
      ],
      "text/latex": [
       "\\begin{tabular}{r|llllllll}\n",
       " date & COAL\\_AUS & COAL\\_COL & COAL\\_SAFRICA & CRUDE\\_BRENT & CRUDE\\_DUBAI & CRUDE\\_WTI & GOLD\\\\\n",
       "\\hline\n",
       "\t 2006M06  & 52.375   & 54.25    & 52.375   & 68.85773 & 65.08091 & 70.93182 & 596.145 \\\\\n",
       "\t 2006M07  & 52.750   & 53.05    & 51.680   & 73.89714 & 69.04905 & 74.40421 & 633.710 \\\\\n",
       "\\end{tabular}\n"
      ],
      "text/markdown": [
       "\n",
       "date | COAL_AUS | COAL_COL | COAL_SAFRICA | CRUDE_BRENT | CRUDE_DUBAI | CRUDE_WTI | GOLD | \n",
       "|---|---|\n",
       "| 2006M06  | 52.375   | 54.25    | 52.375   | 68.85773 | 65.08091 | 70.93182 | 596.145  | \n",
       "| 2006M07  | 52.750   | 53.05    | 51.680   | 73.89714 | 69.04905 | 74.40421 | 633.710  | \n",
       "\n",
       "\n"
      ],
      "text/plain": [
       "  date    COAL_AUS COAL_COL COAL_SAFRICA CRUDE_BRENT CRUDE_DUBAI CRUDE_WTI\n",
       "1 2006M06 52.375   54.25    52.375       68.85773    65.08091    70.93182 \n",
       "2 2006M07 52.750   53.05    51.680       73.89714    69.04905    74.40421 \n",
       "  GOLD   \n",
       "1 596.145\n",
       "2 633.710"
      ]
     },
     "metadata": {},
     "output_type": "display_data"
    },
    {
     "data": {
      "text/html": [
       "<table>\n",
       "<thead><tr><th></th><th scope=col>date</th><th scope=col>COAL_AUS</th><th scope=col>COAL_COL</th><th scope=col>COAL_SAFRICA</th><th scope=col>CRUDE_BRENT</th><th scope=col>CRUDE_DUBAI</th><th scope=col>CRUDE_WTI</th><th scope=col>GOLD</th></tr></thead>\n",
       "<tbody>\n",
       "\t<tr><th scope=row>136</th><td>2017M09 </td><td>96.86905</td><td>82.7400 </td><td>85.68571</td><td>55.16   </td><td>53.86   </td><td>49.83   </td><td>1314.07 </td></tr>\n",
       "\t<tr><th scope=row>137</th><td>2017M10 </td><td>97.14091</td><td>84.0625 </td><td>85.09955</td><td>57.62   </td><td>55.58   </td><td>51.56   </td><td>1279.51 </td></tr>\n",
       "</tbody>\n",
       "</table>\n"
      ],
      "text/latex": [
       "\\begin{tabular}{r|llllllll}\n",
       "  & date & COAL\\_AUS & COAL\\_COL & COAL\\_SAFRICA & CRUDE\\_BRENT & CRUDE\\_DUBAI & CRUDE\\_WTI & GOLD\\\\\n",
       "\\hline\n",
       "\t136 & 2017M09  & 96.86905 & 82.7400  & 85.68571 & 55.16    & 53.86    & 49.83    & 1314.07 \\\\\n",
       "\t137 & 2017M10  & 97.14091 & 84.0625  & 85.09955 & 57.62    & 55.58    & 51.56    & 1279.51 \\\\\n",
       "\\end{tabular}\n"
      ],
      "text/markdown": [
       "\n",
       "| <!--/--> | date | COAL_AUS | COAL_COL | COAL_SAFRICA | CRUDE_BRENT | CRUDE_DUBAI | CRUDE_WTI | GOLD | \n",
       "|---|---|\n",
       "| 136 | 2017M09  | 96.86905 | 82.7400  | 85.68571 | 55.16    | 53.86    | 49.83    | 1314.07  | \n",
       "| 137 | 2017M10  | 97.14091 | 84.0625  | 85.09955 | 57.62    | 55.58    | 51.56    | 1279.51  | \n",
       "\n",
       "\n"
      ],
      "text/plain": [
       "    date    COAL_AUS COAL_COL COAL_SAFRICA CRUDE_BRENT CRUDE_DUBAI CRUDE_WTI\n",
       "136 2017M09 96.86905 82.7400  85.68571     55.16       53.86       49.83    \n",
       "137 2017M10 97.14091 84.0625  85.09955     57.62       55.58       51.56    \n",
       "    GOLD   \n",
       "136 1314.07\n",
       "137 1279.51"
      ]
     },
     "metadata": {},
     "output_type": "display_data"
    }
   ],
   "source": [
    "head(emtia_tablo,2)\n",
    "tail(emtia_tablo,2)"
   ]
  },
  {
   "cell_type": "code",
   "execution_count": 23,
   "metadata": {},
   "outputs": [
    {
     "data": {
      "text/html": [
       "<table>\n",
       "<thead><tr><th></th><th scope=col>COAL_AUS</th><th scope=col>COAL_COL</th><th scope=col>COAL_SAFRICA</th><th scope=col>CRUDE_BRENT</th><th scope=col>CRUDE_DUBAI</th><th scope=col>CRUDE_WTI</th><th scope=col>GOLD</th></tr></thead>\n",
       "<tbody>\n",
       "\t<tr><th scope=row>COAL_AUS</th><td>1.0000000 </td><td>0.88912596</td><td>0.9767807 </td><td>0.6033076 </td><td>0.5457090 </td><td>0.34857079</td><td>0.7606240 </td></tr>\n",
       "\t<tr><th scope=row>COAL_COL</th><td>0.8891260 </td><td>1.00000000</td><td>0.9357080 </td><td>0.4186015 </td><td>0.3298387 </td><td>0.06405974</td><td>0.6419130 </td></tr>\n",
       "\t<tr><th scope=row>COAL_SAFRICA</th><td>0.9767807 </td><td>0.93570798</td><td>1.0000000 </td><td>0.4773274 </td><td>0.4096605 </td><td>0.19888366</td><td>0.7351937 </td></tr>\n",
       "\t<tr><th scope=row>CRUDE_BRENT</th><td>0.6033076 </td><td>0.41860153</td><td>0.4773274 </td><td>1.0000000 </td><td>0.9936223 </td><td>0.91801644</td><td>0.5616891 </td></tr>\n",
       "\t<tr><th scope=row>CRUDE_DUBAI</th><td>0.5457090 </td><td>0.32983871</td><td>0.4096605 </td><td>0.9936223 </td><td>1.0000000 </td><td>0.94512288</td><td>0.5569540 </td></tr>\n",
       "\t<tr><th scope=row>CRUDE_WTI</th><td>0.3485708 </td><td>0.06405974</td><td>0.1988837 </td><td>0.9180164 </td><td>0.9451229 </td><td>1.00000000</td><td>0.3326030 </td></tr>\n",
       "\t<tr><th scope=row>GOLD</th><td>0.7606240 </td><td>0.64191302</td><td>0.7351937 </td><td>0.5616891 </td><td>0.5569540 </td><td>0.33260299</td><td>1.0000000 </td></tr>\n",
       "</tbody>\n",
       "</table>\n"
      ],
      "text/latex": [
       "\\begin{tabular}{r|lllllll}\n",
       "  & COAL\\_AUS & COAL\\_COL & COAL\\_SAFRICA & CRUDE\\_BRENT & CRUDE\\_DUBAI & CRUDE\\_WTI & GOLD\\\\\n",
       "\\hline\n",
       "\tCOAL\\_AUS & 1.0000000  & 0.88912596 & 0.9767807  & 0.6033076  & 0.5457090  & 0.34857079 & 0.7606240 \\\\\n",
       "\tCOAL\\_COL & 0.8891260  & 1.00000000 & 0.9357080  & 0.4186015  & 0.3298387  & 0.06405974 & 0.6419130 \\\\\n",
       "\tCOAL\\_SAFRICA & 0.9767807  & 0.93570798 & 1.0000000  & 0.4773274  & 0.4096605  & 0.19888366 & 0.7351937 \\\\\n",
       "\tCRUDE\\_BRENT & 0.6033076  & 0.41860153 & 0.4773274  & 1.0000000  & 0.9936223  & 0.91801644 & 0.5616891 \\\\\n",
       "\tCRUDE\\_DUBAI & 0.5457090  & 0.32983871 & 0.4096605  & 0.9936223  & 1.0000000  & 0.94512288 & 0.5569540 \\\\\n",
       "\tCRUDE\\_WTI & 0.3485708  & 0.06405974 & 0.1988837  & 0.9180164  & 0.9451229  & 1.00000000 & 0.3326030 \\\\\n",
       "\tGOLD & 0.7606240  & 0.64191302 & 0.7351937  & 0.5616891  & 0.5569540  & 0.33260299 & 1.0000000 \\\\\n",
       "\\end{tabular}\n"
      ],
      "text/markdown": [
       "\n",
       "| <!--/--> | COAL_AUS | COAL_COL | COAL_SAFRICA | CRUDE_BRENT | CRUDE_DUBAI | CRUDE_WTI | GOLD | \n",
       "|---|---|---|---|---|---|---|\n",
       "| COAL_AUS | 1.0000000  | 0.88912596 | 0.9767807  | 0.6033076  | 0.5457090  | 0.34857079 | 0.7606240  | \n",
       "| COAL_COL | 0.8891260  | 1.00000000 | 0.9357080  | 0.4186015  | 0.3298387  | 0.06405974 | 0.6419130  | \n",
       "| COAL_SAFRICA | 0.9767807  | 0.93570798 | 1.0000000  | 0.4773274  | 0.4096605  | 0.19888366 | 0.7351937  | \n",
       "| CRUDE_BRENT | 0.6033076  | 0.41860153 | 0.4773274  | 1.0000000  | 0.9936223  | 0.91801644 | 0.5616891  | \n",
       "| CRUDE_DUBAI | 0.5457090  | 0.32983871 | 0.4096605  | 0.9936223  | 1.0000000  | 0.94512288 | 0.5569540  | \n",
       "| CRUDE_WTI | 0.3485708  | 0.06405974 | 0.1988837  | 0.9180164  | 0.9451229  | 1.00000000 | 0.3326030  | \n",
       "| GOLD | 0.7606240  | 0.64191302 | 0.7351937  | 0.5616891  | 0.5569540  | 0.33260299 | 1.0000000  | \n",
       "\n",
       "\n"
      ],
      "text/plain": [
       "             COAL_AUS  COAL_COL   COAL_SAFRICA CRUDE_BRENT CRUDE_DUBAI\n",
       "COAL_AUS     1.0000000 0.88912596 0.9767807    0.6033076   0.5457090  \n",
       "COAL_COL     0.8891260 1.00000000 0.9357080    0.4186015   0.3298387  \n",
       "COAL_SAFRICA 0.9767807 0.93570798 1.0000000    0.4773274   0.4096605  \n",
       "CRUDE_BRENT  0.6033076 0.41860153 0.4773274    1.0000000   0.9936223  \n",
       "CRUDE_DUBAI  0.5457090 0.32983871 0.4096605    0.9936223   1.0000000  \n",
       "CRUDE_WTI    0.3485708 0.06405974 0.1988837    0.9180164   0.9451229  \n",
       "GOLD         0.7606240 0.64191302 0.7351937    0.5616891   0.5569540  \n",
       "             CRUDE_WTI  GOLD     \n",
       "COAL_AUS     0.34857079 0.7606240\n",
       "COAL_COL     0.06405974 0.6419130\n",
       "COAL_SAFRICA 0.19888366 0.7351937\n",
       "CRUDE_BRENT  0.91801644 0.5616891\n",
       "CRUDE_DUBAI  0.94512288 0.5569540\n",
       "CRUDE_WTI    1.00000000 0.3326030\n",
       "GOLD         0.33260299 1.0000000"
      ]
     },
     "metadata": {},
     "output_type": "display_data"
    }
   ],
   "source": [
    "cor(emtia_tablo[130:137,c(2,3,4,5,6,7,8)], use =   \"complete.obs\")"
   ]
  },
  {
   "cell_type": "code",
   "execution_count": 37,
   "metadata": {
    "collapsed": true
   },
   "outputs": [],
   "source": [
    "aylik_emtia<-ts(emtia_tablo[,2:8],start = c(2006,06), frequency = 12)\n"
   ]
  },
  {
   "cell_type": "code",
   "execution_count": 59,
   "metadata": {},
   "outputs": [
    {
     "data": {
      "text/plain": [
       "         COAL_AUS COAL_COL COAL_SAFRICA CRUDE_BRENT CRUDE_DUBAI CRUDE_WTI\n",
       "Sep 2017 96.86905  82.7400     85.68571       55.16       53.86     49.83\n",
       "Oct 2017 97.14091  84.0625     85.09955       57.62       55.58     51.56\n",
       "            GOLD\n",
       "Sep 2017 1314.07\n",
       "Oct 2017 1279.51"
      ]
     },
     "metadata": {},
     "output_type": "display_data"
    }
   ],
   "source": [
    "tail(aylik_emtia,2)"
   ]
  },
  {
   "cell_type": "code",
   "execution_count": 39,
   "metadata": {
    "collapsed": true,
    "scrolled": true
   },
   "outputs": [],
   "source": [
    "library(xts)"
   ]
  },
  {
   "cell_type": "code",
   "execution_count": 44,
   "metadata": {
    "collapsed": true
   },
   "outputs": [],
   "source": [
    "aylik_emtia<-as.xts(aylik_emtia)"
   ]
  },
  {
   "cell_type": "code",
   "execution_count": 45,
   "metadata": {},
   "outputs": [
    {
     "data": {
      "text/plain": [
       "\n",
       "Call:\n",
       "lm(formula = CRUDE_BRENT ~ GOLD, data = aylik_emtia)\n",
       "\n",
       "Residuals:\n",
       "    Min      1Q  Median      3Q     Max \n",
       "-48.156 -22.676   5.007  16.826  63.927 \n",
       "\n",
       "Coefficients:\n",
       "             Estimate Std. Error t value Pr(>|t|)    \n",
       "(Intercept) 34.018756   8.095688   4.202 4.78e-05 ***\n",
       "GOLD         0.039464   0.006624   5.957 2.10e-08 ***\n",
       "---\n",
       "Signif. codes:  0 '***' 0.001 '**' 0.01 '*' 0.05 '.' 0.1 ' ' 1\n",
       "\n",
       "Residual standard error: 24.05 on 135 degrees of freedom\n",
       "Multiple R-squared:  0.2082,\tAdjusted R-squared:  0.2023 \n",
       "F-statistic: 35.49 on 1 and 135 DF,  p-value: 2.104e-08\n"
      ]
     },
     "metadata": {},
     "output_type": "display_data"
    }
   ],
   "source": [
    "model<-lm(data=aylik_emtia, CRUDE_BRENT~GOLD)\n",
    "summary(model)"
   ]
  },
  {
   "cell_type": "code",
   "execution_count": 53,
   "metadata": {},
   "outputs": [
    {
     "data": {
      "image/png": "[encoded data removed]"
     },
     "metadata": {},
     "output_type": "display_data"
    }
   ],
   "source": [
    "plot(aylik_emtia[,4])"
   ]
  },
  {
   "cell_type": "code",
   "execution_count": 46,
   "metadata": {
    "collapsed": true
   },
   "outputs": [],
   "source": [
    "library(forecast)"
   ]
  },
  {
   "cell_type": "code",
   "execution_count": 62,
   "metadata": {},
   "outputs": [
    {
     "ename": "ERROR",
     "evalue": "Error in ts(coredata(x), frequency = frequency(x), ...): 'ts' object must have one or more observations\n",
     "output_type": "error",
     "traceback": [
      "Error in ts(coredata(x), frequency = frequency(x), ...): 'ts' object must have one or more observations\nTraceback:\n",
      "1. ets(aylik_emtia[, 0])",
      "2. as.ts(y)",
      "3. as.ts.xts(y)",
      "4. ts(coredata(x), frequency = frequency(x), ...)",
      "5. stop(\"'ts' object must have one or more observations\")"
     ]
    }
   ],
   "source": [
    "fe<-ets(aylik_emtia[,4])\n",
    "plot(forecast(fe,h=20))"
   ]
  },
  {
   "cell_type": "code",
   "execution_count": 58,
   "metadata": {},
   "outputs": [
    {
     "data": {
      "text/plain": [
       "       Point Forecast      Lo 80     Hi 80      Lo 95     Hi 95\n",
       "Jun 12       59.48776  51.744618  67.23091  47.645644  71.32988\n",
       "Jul 12       60.98200  44.871570  77.09242  36.343226  85.62077\n",
       "Aug 12       62.17738  39.189608  85.16516  27.020615  97.33415\n",
       "Sep 12       63.13369  33.804630  92.46276  18.278762 107.98863\n",
       "Oct 12       63.89874  28.585972  99.21151   9.892521 117.90496\n",
       "Nov 12       64.51078  23.512454 105.50911   1.809251 127.21231\n",
       "Dec 12       65.00041  18.585561 111.41526  -5.984976 135.98580\n",
       "Jan 13       65.39212  13.809730 116.97450 -13.496336 144.28057\n",
       "Feb 13       65.70548   9.187458 122.22350 -20.731375 152.14233\n",
       "Mar 13       65.95617   4.718494 127.19385 -27.698773 159.61111\n",
       "Apr 13       66.15672   0.400178 131.91327 -34.409234 166.72268\n",
       "May 13       66.31717  -3.771961 136.40629 -40.874904 173.50923\n",
       "Jun 13       66.44552  -7.803626 140.69466 -47.108749 179.99979\n",
       "Jul 13       66.54820 -11.701277 144.79768 -53.124049 186.22045\n",
       "Aug 13       66.63035 -15.471768 148.73247 -58.934003 192.19470\n",
       "Sep 13       66.69607 -19.122080 152.51421 -64.551462 197.94359\n",
       "Oct 13       66.74864 -22.659129 156.15641 -69.988743 203.48602\n",
       "Nov 13       66.79070 -26.089640 159.67104 -75.257521 208.83892\n",
       "Dec 13       66.82435 -29.420057 163.06875 -80.368766 214.01746\n",
       "Jan 14       66.85126 -32.656497 166.35902 -85.332724 219.03525"
      ]
     },
     "metadata": {},
     "output_type": "display_data"
    }
   ],
   "source": [
    "forecast(fit_emtia,h=20)"
   ]
  },
  {
   "cell_type": "code",
   "execution_count": 51,
   "metadata": {},
   "outputs": [
    {
     "name": "stderr",
     "output_type": "stream",
     "text": [
      "Warning message in plot.xts(aylik_emtia):\n",
      "\"only the univariate series will be plotted\""
     ]
    },
    {
     "data": {
      "image/png": "[encoded data removed]"
     },
     "metadata": {},
     "output_type": "display_data"
    }
   ],
   "source": [
    "plot(aylik_emtia)"
   ]
  },
  {
   "cell_type": "code",
   "execution_count": 13,
   "metadata": {},
   "outputs": [
    {
     "name": "stderr",
     "output_type": "stream",
     "text": [
      "Loading required package: data.table\n",
      "\n",
      "Attaching package: 'data.table'\n",
      "\n",
      "The following object is masked from 'package:xts':\n",
      "\n",
      "    last\n",
      "\n"
     ]
    }
   ],
   "source": [
    "# Make sure data.table is installed\n",
    "if(!'data.table' %in% installed.packages()[,1]) install.packages('data.table')\n",
    " \n",
    "# Function to fetch google stock data\n",
    "google_stocks <- function(sym, current = TRUE, sy = 2005, sm = 1, sd = 1, ey, em, ed)\n",
    "{\n",
    "  # sy, sm, sd, ey, em, ed correspond to\n",
    "  # start year, start month, start day, end year, end month, and end day\n",
    " \n",
    "  # If TRUE, use the date as the enddate\n",
    "  if(current){\n",
    "    system_time <- as.character(Sys.time())\n",
    "    ey <- as.numeric(substr(system_time, start = 1, stop = 4))\n",
    "    em <- as.numeric(substr(system_time, start = 6, stop = 7))\n",
    "    ed <- as.numeric(substr(system_time, start = 9, stop = 10))\n",
    "  }\n",
    "   \n",
    "  require(data.table)\n",
    "   \n",
    "  # Fetch data from google\n",
    "  google_out = tryCatch(\n",
    "    suppressWarnings(\n",
    "      fread(paste0(\"http://www.google.com/finance/historical\",\n",
    "                   \"?q=\", sym,\n",
    "                   \"&startdate=\", paste(sm, sd, sy, sep = \"+\"),\n",
    "                   \"&enddate=\", paste(em, ed, ey, sep = \"+\"),\n",
    "                   \"&output=csv\"), sep = \",\")),\n",
    "    error = function(e) NULL\n",
    "  )\n",
    "   \n",
    "  # If successful, rename first column\n",
    "  if(!is.null(google_out)){\n",
    "    names(google_out)[1] = \"Date\"\n",
    "  }\n",
    "   \n",
    "  return(google_out)\n",
    "}\n",
    " \n",
    "# Test it out\n",
    "apple_data = google_stocks('AAPL')"
   ]
  },
  {
   "cell_type": "code",
   "execution_count": 14,
   "metadata": {
    "collapsed": true
   },
   "outputs": [],
   "source": [
    "# enter https://finance.yahoo.com/quote/AAPL/history?p=AAPL\n",
    "# right click download data and compy link\n",
    "# https://query1.finance.yahoo.com/v7/finance/download/AAPL?period1=1513110820&period2=1515789220&interval=1d&events=history&\n",
    "# crumb=SUAHEzxDtrE"
   ]
  },
  {
   "cell_type": "code",
   "execution_count": 16,
   "metadata": {},
   "outputs": [
    {
     "data": {
      "text/plain": [
       "NULL"
      ]
     },
     "metadata": {},
     "output_type": "display_data"
    }
   ],
   "source": [
    "google_stocks('AAPL')"
   ]
  },
  {
   "cell_type": "code",
   "execution_count": null,
   "metadata": {
    "collapsed": true
   },
   "outputs": [],
   "source": []
  }
 ],
 "metadata": {
  "kernelspec": {
   "display_name": "R",
   "language": "R",
   "name": "r"
  },
  "language_info": {
   "codemirror_mode": "r",
   "file_extension": ".r",
   "mimetype": "text/x-r-source",
   "name": "R",
   "pygments_lexer": "r",
   "version": "3.3.3"
  }
 },
 "nbformat": 4,
 "nbformat_minor": 2
}
