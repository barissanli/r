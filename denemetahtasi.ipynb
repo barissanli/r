{
 "cells": [
  {
   "cell_type": "markdown",
   "metadata": {
    "collapsed": true
   },
   "source": [
    "# İlk ders denemeleri"
   ]
  },
  {
   "cell_type": "markdown",
   "metadata": {},
   "source": [
    "Bu derste anlatılacak olanlar:\n",
    "* sayılar\n",
    "* matrisler\n",
    "* veriler\n",
    "\n",
    "Bu çalışmada  ** basit kodlama ** göreceğiz. *sonra* da diğer sayfalara bakacağız\n",
    "\n"
   ]
  },
  {
   "cell_type": "code",
   "execution_count": 1,
   "metadata": {},
   "outputs": [
    {
     "data": {
      "text/html": [
       "6"
      ],
      "text/latex": [
       "6"
      ],
      "text/markdown": [
       "6"
      ],
      "text/plain": [
       "[1] 6"
      ]
     },
     "metadata": {},
     "output_type": "display_data"
    }
   ],
   "source": [
    "3*2"
   ]
  },
  {
   "cell_type": "code",
   "execution_count": 2,
   "metadata": {
    "collapsed": true
   },
   "outputs": [],
   "source": [
    "a<-3*2"
   ]
  },
  {
   "cell_type": "code",
   "execution_count": 3,
   "metadata": {},
   "outputs": [
    {
     "data": {
      "text/html": [
       "6"
      ],
      "text/latex": [
       "6"
      ],
      "text/markdown": [
       "6"
      ],
      "text/plain": [
       "[1] 6"
      ]
     },
     "metadata": {},
     "output_type": "display_data"
    }
   ],
   "source": [
    "a"
   ]
  },
  {
   "cell_type": "code",
   "execution_count": 4,
   "metadata": {},
   "outputs": [
    {
     "data": {
      "text/html": [
       "0.571428571428571"
      ],
      "text/latex": [
       "0.571428571428571"
      ],
      "text/markdown": [
       "0.571428571428571"
      ],
      "text/plain": [
       "[1] 0.5714286"
      ]
     },
     "metadata": {},
     "output_type": "display_data"
    }
   ],
   "source": [
    "4/7"
   ]
  },
  {
   "cell_type": "code",
   "execution_count": 5,
   "metadata": {
    "collapsed": true
   },
   "outputs": [],
   "source": [
    "cvp<-4/7"
   ]
  },
  {
   "cell_type": "code",
   "execution_count": 6,
   "metadata": {},
   "outputs": [
    {
     "data": {
      "text/html": [
       "0.326530612244898"
      ],
      "text/latex": [
       "0.326530612244898"
      ],
      "text/markdown": [
       "0.326530612244898"
      ],
      "text/plain": [
       "[1] 0.3265306"
      ]
     },
     "metadata": {},
     "output_type": "display_data"
    }
   ],
   "source": [
    "cvp**2"
   ]
  },
  {
   "cell_type": "code",
   "execution_count": 7,
   "metadata": {
    "collapsed": true
   },
   "outputs": [],
   "source": [
    "cvp<-4000000*12.31"
   ]
  },
  {
   "cell_type": "code",
   "execution_count": 8,
   "metadata": {},
   "outputs": [
    {
     "data": {
      "text/html": [
       "49240000"
      ],
      "text/latex": [
       "49240000"
      ],
      "text/markdown": [
       "49240000"
      ],
      "text/plain": [
       "[1] 49240000"
      ]
     },
     "metadata": {},
     "output_type": "display_data"
    }
   ],
   "source": [
    "cvp"
   ]
  },
  {
   "cell_type": "code",
   "execution_count": 9,
   "metadata": {
    "collapsed": true
   },
   "outputs": [],
   "source": [
    "petrol<-c(56.4,53.4,65.2)"
   ]
  },
  {
   "cell_type": "code",
   "execution_count": 10,
   "metadata": {},
   "outputs": [
    {
     "data": {
      "text/html": [
       "<ol class=list-inline>\n",
       "\t<li>56.4</li>\n",
       "\t<li>53.4</li>\n",
       "\t<li>65.2</li>\n",
       "</ol>\n"
      ],
      "text/latex": [
       "\\begin{enumerate*}\n",
       "\\item 56.4\n",
       "\\item 53.4\n",
       "\\item 65.2\n",
       "\\end{enumerate*}\n"
      ],
      "text/markdown": [
       "1. 56.4\n",
       "2. 53.4\n",
       "3. 65.2\n",
       "\n",
       "\n"
      ],
      "text/plain": [
       "[1] 56.4 53.4 65.2"
      ]
     },
     "metadata": {},
     "output_type": "display_data"
    }
   ],
   "source": [
    "petrol"
   ]
  },
  {
   "cell_type": "code",
   "execution_count": 11,
   "metadata": {},
   "outputs": [
    {
     "data": {
      "text/html": [
       "<ol class=list-inline>\n",
       "\t<li>56.2</li>\n",
       "\t<li>53.2</li>\n",
       "\t<li>65</li>\n",
       "</ol>\n"
      ],
      "text/latex": [
       "\\begin{enumerate*}\n",
       "\\item 56.2\n",
       "\\item 53.2\n",
       "\\item 65\n",
       "\\end{enumerate*}\n"
      ],
      "text/markdown": [
       "1. 56.2\n",
       "2. 53.2\n",
       "3. 65\n",
       "\n",
       "\n"
      ],
      "text/plain": [
       "[1] 56.2 53.2 65.0"
      ]
     },
     "metadata": {},
     "output_type": "display_data"
    }
   ],
   "source": [
    "petrol-0.2"
   ]
  },
  {
   "cell_type": "code",
   "execution_count": 12,
   "metadata": {
    "collapsed": true
   },
   "outputs": [],
   "source": [
    "tlkur<-3.93"
   ]
  },
  {
   "cell_type": "code",
   "execution_count": 13,
   "metadata": {},
   "outputs": [
    {
     "data": {
      "text/html": [
       "<ol class=list-inline>\n",
       "\t<li>221.652</li>\n",
       "\t<li>209.862</li>\n",
       "\t<li>256.236</li>\n",
       "</ol>\n"
      ],
      "text/latex": [
       "\\begin{enumerate*}\n",
       "\\item 221.652\n",
       "\\item 209.862\n",
       "\\item 256.236\n",
       "\\end{enumerate*}\n"
      ],
      "text/markdown": [
       "1. 221.652\n",
       "2. 209.862\n",
       "3. 256.236\n",
       "\n",
       "\n"
      ],
      "text/plain": [
       "[1] 221.652 209.862 256.236"
      ]
     },
     "metadata": {},
     "output_type": "display_data"
    }
   ],
   "source": [
    "petrol*tlkur"
   ]
  },
  {
   "cell_type": "code",
   "execution_count": 14,
   "metadata": {},
   "outputs": [
    {
     "data": {
      "text/html": [
       "<ol class=list-inline>\n",
       "\t<li>56.4</li>\n",
       "\t<li>53.4</li>\n",
       "\t<li>65.2</li>\n",
       "</ol>\n"
      ],
      "text/latex": [
       "\\begin{enumerate*}\n",
       "\\item 56.4\n",
       "\\item 53.4\n",
       "\\item 65.2\n",
       "\\end{enumerate*}\n"
      ],
      "text/markdown": [
       "1. 56.4\n",
       "2. 53.4\n",
       "3. 65.2\n",
       "\n",
       "\n"
      ],
      "text/plain": [
       "[1] 56.4 53.4 65.2"
      ]
     },
     "metadata": {},
     "output_type": "display_data"
    }
   ],
   "source": [
    "petrol"
   ]
  },
  {
   "cell_type": "code",
   "execution_count": 15,
   "metadata": {
    "collapsed": true
   },
   "outputs": [],
   "source": [
    "tlkur<-c(3.93, 3.7, 3.6)"
   ]
  },
  {
   "cell_type": "code",
   "execution_count": 16,
   "metadata": {},
   "outputs": [
    {
     "data": {
      "text/html": [
       "<ol class=list-inline>\n",
       "\t<li>3.93</li>\n",
       "\t<li>3.7</li>\n",
       "\t<li>3.6</li>\n",
       "</ol>\n"
      ],
      "text/latex": [
       "\\begin{enumerate*}\n",
       "\\item 3.93\n",
       "\\item 3.7\n",
       "\\item 3.6\n",
       "\\end{enumerate*}\n"
      ],
      "text/markdown": [
       "1. 3.93\n",
       "2. 3.7\n",
       "3. 3.6\n",
       "\n",
       "\n"
      ],
      "text/plain": [
       "[1] 3.93 3.70 3.60"
      ]
     },
     "metadata": {},
     "output_type": "display_data"
    }
   ],
   "source": [
    "tlkur"
   ]
  },
  {
   "cell_type": "code",
   "execution_count": 18,
   "metadata": {},
   "outputs": [
    {
     "data": {
      "image/png": "[encoded data removed]"
     },
     "metadata": {},
     "output_type": "display_data"
    }
   ],
   "source": [
    "plot(tlkur)"
   ]
  },
  {
   "cell_type": "code",
   "execution_count": 19,
   "metadata": {},
   "outputs": [
    {
     "data": {
      "text/html": [
       "<ol class=list-inline>\n",
       "\t<li>56.4</li>\n",
       "\t<li>53.4</li>\n",
       "\t<li>65.2</li>\n",
       "</ol>\n"
      ],
      "text/latex": [
       "\\begin{enumerate*}\n",
       "\\item 56.4\n",
       "\\item 53.4\n",
       "\\item 65.2\n",
       "\\end{enumerate*}\n"
      ],
      "text/markdown": [
       "1. 56.4\n",
       "2. 53.4\n",
       "3. 65.2\n",
       "\n",
       "\n"
      ],
      "text/plain": [
       "[1] 56.4 53.4 65.2"
      ]
     },
     "metadata": {},
     "output_type": "display_data"
    },
    {
     "data": {
      "text/html": [
       "<ol class=list-inline>\n",
       "\t<li>3.93</li>\n",
       "\t<li>3.7</li>\n",
       "\t<li>3.6</li>\n",
       "</ol>\n"
      ],
      "text/latex": [
       "\\begin{enumerate*}\n",
       "\\item 3.93\n",
       "\\item 3.7\n",
       "\\item 3.6\n",
       "\\end{enumerate*}\n"
      ],
      "text/markdown": [
       "1. 3.93\n",
       "2. 3.7\n",
       "3. 3.6\n",
       "\n",
       "\n"
      ],
      "text/plain": [
       "[1] 3.93 3.70 3.60"
      ]
     },
     "metadata": {},
     "output_type": "display_data"
    }
   ],
   "source": [
    "petrol\n",
    "tlkur"
   ]
  },
  {
   "cell_type": "code",
   "execution_count": 21,
   "metadata": {},
   "outputs": [
    {
     "data": {
      "text/html": [
       "<ol class=list-inline>\n",
       "\t<li>65.2</li>\n",
       "\t<li>53.4</li>\n",
       "\t<li>56.4</li>\n",
       "</ol>\n"
      ],
      "text/latex": [
       "\\begin{enumerate*}\n",
       "\\item 65.2\n",
       "\\item 53.4\n",
       "\\item 56.4\n",
       "\\end{enumerate*}\n"
      ],
      "text/markdown": [
       "1. 65.2\n",
       "2. 53.4\n",
       "3. 56.4\n",
       "\n",
       "\n"
      ],
      "text/plain": [
       "[1] 65.2 53.4 56.4"
      ]
     },
     "metadata": {},
     "output_type": "display_data"
    }
   ],
   "source": [
    "rev(petrol)"
   ]
  },
  {
   "cell_type": "code",
   "execution_count": 22,
   "metadata": {},
   "outputs": [
    {
     "data": {
      "text/html": [
       "<table>\n",
       "<tbody>\n",
       "\t<tr><th scope=row>petrol</th><td>56.40</td><td>53.4 </td><td>65.2 </td></tr>\n",
       "\t<tr><th scope=row>tlkur</th><td> 3.93</td><td> 3.7 </td><td> 3.6 </td></tr>\n",
       "</tbody>\n",
       "</table>\n"
      ],
      "text/latex": [
       "\\begin{tabular}{r|lll}\n",
       "\tpetrol & 56.40 & 53.4  & 65.2 \\\\\n",
       "\ttlkur &  3.93 &  3.7  &  3.6 \\\\\n",
       "\\end{tabular}\n"
      ],
      "text/markdown": [
       "\n",
       "| petrol | 56.40 | 53.4  | 65.2  | \n",
       "| tlkur |  3.93 |  3.7  |  3.6  | \n",
       "\n",
       "\n"
      ],
      "text/plain": [
       "       [,1]  [,2] [,3]\n",
       "petrol 56.40 53.4 65.2\n",
       "tlkur   3.93  3.7  3.6"
      ]
     },
     "metadata": {},
     "output_type": "display_data"
    }
   ],
   "source": [
    "rbind(petrol, tlkur)"
   ]
  },
  {
   "cell_type": "code",
   "execution_count": 23,
   "metadata": {},
   "outputs": [
    {
     "data": {
      "text/html": [
       "3"
      ],
      "text/latex": [
       "3"
      ],
      "text/markdown": [
       "3"
      ],
      "text/plain": [
       "[1] 3"
      ]
     },
     "metadata": {},
     "output_type": "display_data"
    }
   ],
   "source": [
    "length(petrol)"
   ]
  },
  {
   "cell_type": "code",
   "execution_count": 25,
   "metadata": {},
   "outputs": [
    {
     "data": {
      "text/html": [
       "53.4"
      ],
      "text/latex": [
       "53.4"
      ],
      "text/markdown": [
       "53.4"
      ],
      "text/plain": [
       "[1] 53.4"
      ]
     },
     "metadata": {},
     "output_type": "display_data"
    }
   ],
   "source": [
    " petrol[2]"
   ]
  },
  {
   "cell_type": "code",
   "execution_count": 28,
   "metadata": {
    "collapsed": true
   },
   "outputs": [],
   "source": [
    "petrol[2]<-NA"
   ]
  },
  {
   "cell_type": "code",
   "execution_count": 29,
   "metadata": {},
   "outputs": [
    {
     "data": {
      "text/html": [
       "<ol class=list-inline>\n",
       "\t<li>56.4</li>\n",
       "\t<li>&lt;NA&gt;</li>\n",
       "\t<li>65.2</li>\n",
       "</ol>\n"
      ],
      "text/latex": [
       "\\begin{enumerate*}\n",
       "\\item 56.4\n",
       "\\item <NA>\n",
       "\\item 65.2\n",
       "\\end{enumerate*}\n"
      ],
      "text/markdown": [
       "1. 56.4\n",
       "2. &lt;NA&gt;\n",
       "3. 65.2\n",
       "\n",
       "\n"
      ],
      "text/plain": [
       "[1] 56.4   NA 65.2"
      ]
     },
     "metadata": {},
     "output_type": "display_data"
    }
   ],
   "source": [
    "petrol"
   ]
  },
  {
   "cell_type": "code",
   "execution_count": 30,
   "metadata": {},
   "outputs": [
    {
     "data": {
      "text/html": [
       "<table>\n",
       "<tbody>\n",
       "\t<tr><th scope=row>petrol</th><td>56.40</td><td> NA  </td><td>65.2 </td></tr>\n",
       "\t<tr><th scope=row>tlkur</th><td> 3.93</td><td>3.7  </td><td> 3.6 </td></tr>\n",
       "</tbody>\n",
       "</table>\n"
      ],
      "text/latex": [
       "\\begin{tabular}{r|lll}\n",
       "\tpetrol & 56.40 &  NA   & 65.2 \\\\\n",
       "\ttlkur &  3.93 & 3.7   &  3.6 \\\\\n",
       "\\end{tabular}\n"
      ],
      "text/markdown": [
       "\n",
       "| petrol | 56.40 |  NA   | 65.2  | \n",
       "| tlkur |  3.93 | 3.7   |  3.6  | \n",
       "\n",
       "\n"
      ],
      "text/plain": [
       "       [,1]  [,2] [,3]\n",
       "petrol 56.40  NA  65.2\n",
       "tlkur   3.93 3.7   3.6"
      ]
     },
     "metadata": {},
     "output_type": "display_data"
    }
   ],
   "source": [
    "rbind(petrol,tlkur)"
   ]
  },
  {
   "cell_type": "code",
   "execution_count": 31,
   "metadata": {
    "collapsed": true
   },
   "outputs": [],
   "source": [
    "tlpetrol<-petrol*tlkur"
   ]
  },
  {
   "cell_type": "code",
   "execution_count": 32,
   "metadata": {},
   "outputs": [
    {
     "data": {
      "text/html": [
       "<ol class=list-inline>\n",
       "\t<li>221.652</li>\n",
       "\t<li>&lt;NA&gt;</li>\n",
       "\t<li>234.72</li>\n",
       "</ol>\n"
      ],
      "text/latex": [
       "\\begin{enumerate*}\n",
       "\\item 221.652\n",
       "\\item <NA>\n",
       "\\item 234.72\n",
       "\\end{enumerate*}\n"
      ],
      "text/markdown": [
       "1. 221.652\n",
       "2. &lt;NA&gt;\n",
       "3. 234.72\n",
       "\n",
       "\n"
      ],
      "text/plain": [
       "[1] 221.652      NA 234.720"
      ]
     },
     "metadata": {},
     "output_type": "display_data"
    }
   ],
   "source": [
    "petrol*tlkur"
   ]
  },
  {
   "cell_type": "code",
   "execution_count": 33,
   "metadata": {},
   "outputs": [
    {
     "data": {
      "text/html": [
       "<table>\n",
       "<thead><tr><th scope=col>petrol</th><th scope=col>tlkur</th><th scope=col>tlpetrol</th></tr></thead>\n",
       "<tbody>\n",
       "\t<tr><td>56.4   </td><td>3.93   </td><td>221.652</td></tr>\n",
       "\t<tr><td>  NA   </td><td>3.70   </td><td>     NA</td></tr>\n",
       "\t<tr><td>65.2   </td><td>3.60   </td><td>234.720</td></tr>\n",
       "</tbody>\n",
       "</table>\n"
      ],
      "text/latex": [
       "\\begin{tabular}{lll}\n",
       " petrol & tlkur & tlpetrol\\\\\n",
       "\\hline\n",
       "\t 56.4    & 3.93    & 221.652\\\\\n",
       "\t   NA    & 3.70    &      NA\\\\\n",
       "\t 65.2    & 3.60    & 234.720\\\\\n",
       "\\end{tabular}\n"
      ],
      "text/markdown": [
       "\n",
       "petrol | tlkur | tlpetrol | \n",
       "|---|---|---|\n",
       "| 56.4    | 3.93    | 221.652 | \n",
       "|   NA    | 3.70    |      NA | \n",
       "| 65.2    | 3.60    | 234.720 | \n",
       "\n",
       "\n"
      ],
      "text/plain": [
       "     petrol tlkur tlpetrol\n",
       "[1,] 56.4   3.93  221.652 \n",
       "[2,]   NA   3.70       NA \n",
       "[3,] 65.2   3.60  234.720 "
      ]
     },
     "metadata": {},
     "output_type": "display_data"
    }
   ],
   "source": [
    "cbind(petrol, tlkur, tlpetrol)"
   ]
  },
  {
   "cell_type": "code",
   "execution_count": 35,
   "metadata": {
    "collapsed": true
   },
   "outputs": [],
   "source": [
    "dogalgaz<-c(4.5, 4.6, 6)"
   ]
  },
  {
   "cell_type": "code",
   "execution_count": 36,
   "metadata": {},
   "outputs": [
    {
     "data": {
      "text/html": [
       "<ol class=list-inline>\n",
       "\t<li>4.5</li>\n",
       "\t<li>4.6</li>\n",
       "\t<li>6</li>\n",
       "</ol>\n"
      ],
      "text/latex": [
       "\\begin{enumerate*}\n",
       "\\item 4.5\n",
       "\\item 4.6\n",
       "\\item 6\n",
       "\\end{enumerate*}\n"
      ],
      "text/markdown": [
       "1. 4.5\n",
       "2. 4.6\n",
       "3. 6\n",
       "\n",
       "\n"
      ],
      "text/plain": [
       "[1] 4.5 4.6 6.0"
      ]
     },
     "metadata": {},
     "output_type": "display_data"
    }
   ],
   "source": [
    "dogalgaz"
   ]
  },
  {
   "cell_type": "code",
   "execution_count": 37,
   "metadata": {
    "collapsed": true
   },
   "outputs": [],
   "source": [
    "tlkur<-c(4,4.01,4.02)"
   ]
  },
  {
   "cell_type": "code",
   "execution_count": 38,
   "metadata": {},
   "outputs": [
    {
     "data": {
      "text/html": [
       "<table>\n",
       "<thead><tr><th scope=col>dogalgaz</th><th scope=col>tlkur</th></tr></thead>\n",
       "<tbody>\n",
       "\t<tr><td>4.5 </td><td>4.00</td></tr>\n",
       "\t<tr><td>4.6 </td><td>4.01</td></tr>\n",
       "\t<tr><td>6.0 </td><td>4.02</td></tr>\n",
       "</tbody>\n",
       "</table>\n"
      ],
      "text/latex": [
       "\\begin{tabular}{ll}\n",
       " dogalgaz & tlkur\\\\\n",
       "\\hline\n",
       "\t 4.5  & 4.00\\\\\n",
       "\t 4.6  & 4.01\\\\\n",
       "\t 6.0  & 4.02\\\\\n",
       "\\end{tabular}\n"
      ],
      "text/markdown": [
       "\n",
       "dogalgaz | tlkur | \n",
       "|---|---|---|\n",
       "| 4.5  | 4.00 | \n",
       "| 4.6  | 4.01 | \n",
       "| 6.0  | 4.02 | \n",
       "\n",
       "\n"
      ],
      "text/plain": [
       "     dogalgaz tlkur\n",
       "[1,] 4.5      4.00 \n",
       "[2,] 4.6      4.01 \n",
       "[3,] 6.0      4.02 "
      ]
     },
     "metadata": {},
     "output_type": "display_data"
    }
   ],
   "source": [
    "cbind(dogalgaz, tlkur)"
   ]
  },
  {
   "cell_type": "code",
   "execution_count": 40,
   "metadata": {},
   "outputs": [
    {
     "data": {
      "text/html": [
       "<ol class=list-inline>\n",
       "\t<li>630</li>\n",
       "\t<li>645.61</li>\n",
       "\t<li>844.2</li>\n",
       "</ol>\n"
      ],
      "text/latex": [
       "\\begin{enumerate*}\n",
       "\\item 630\n",
       "\\item 645.61\n",
       "\\item 844.2\n",
       "\\end{enumerate*}\n"
      ],
      "text/markdown": [
       "1. 630\n",
       "2. 645.61\n",
       "3. 844.2\n",
       "\n",
       "\n"
      ],
      "text/plain": [
       "[1] 630.00 645.61 844.20"
      ]
     },
     "metadata": {},
     "output_type": "display_data"
    }
   ],
   "source": [
    "dogalgaz*35*tlkur"
   ]
  },
  {
   "cell_type": "code",
   "execution_count": 43,
   "metadata": {},
   "outputs": [
    {
     "data": {
      "text/html": [
       "<table>\n",
       "<thead><tr><th scope=col>dogalgaz</th><th scope=col>tlkur</th><th scope=col></th><th scope=col></th></tr></thead>\n",
       "<tbody>\n",
       "\t<tr><td>4.5   </td><td>4.00  </td><td>630.00</td><td>3     </td></tr>\n",
       "\t<tr><td>4.6   </td><td>4.01  </td><td>645.61</td><td>3     </td></tr>\n",
       "\t<tr><td>6.0   </td><td>4.02  </td><td>844.20</td><td>3     </td></tr>\n",
       "</tbody>\n",
       "</table>\n"
      ],
      "text/latex": [
       "\\begin{tabular}{llll}\n",
       " dogalgaz & tlkur &  & \\\\\n",
       "\\hline\n",
       "\t 4.5    & 4.00   & 630.00 & 3     \\\\\n",
       "\t 4.6    & 4.01   & 645.61 & 3     \\\\\n",
       "\t 6.0    & 4.02   & 844.20 & 3     \\\\\n",
       "\\end{tabular}\n"
      ],
      "text/markdown": [
       "\n",
       "dogalgaz | tlkur |  |  | \n",
       "|---|---|---|\n",
       "| 4.5    | 4.00   | 630.00 | 3      | \n",
       "| 4.6    | 4.01   | 645.61 | 3      | \n",
       "| 6.0    | 4.02   | 844.20 | 3      | \n",
       "\n",
       "\n"
      ],
      "text/plain": [
       "     dogalgaz tlkur         \n",
       "[1,] 4.5      4.00  630.00 3\n",
       "[2,] 4.6      4.01  645.61 3\n",
       "[3,] 6.0      4.02  844.20 3"
      ]
     },
     "metadata": {},
     "output_type": "display_data"
    }
   ],
   "source": [
    "cbind(dogalgaz,tlkur,dogalgaz*35*tlkur,3)"
   ]
  },
  {
   "cell_type": "code",
   "execution_count": 44,
   "metadata": {
    "collapsed": true
   },
   "outputs": [],
   "source": [
    "veri<-cbind(dogalgaz,tlkur,dogalgaz*35*tlkur,3)"
   ]
  },
  {
   "cell_type": "code",
   "execution_count": 45,
   "metadata": {},
   "outputs": [
    {
     "data": {
      "text/html": [
       "<table>\n",
       "<thead><tr><th scope=col>dogalgaz</th><th scope=col>tlkur</th><th scope=col></th><th scope=col></th></tr></thead>\n",
       "<tbody>\n",
       "\t<tr><td>4.5   </td><td>4.00  </td><td>630.00</td><td>3     </td></tr>\n",
       "\t<tr><td>4.6   </td><td>4.01  </td><td>645.61</td><td>3     </td></tr>\n",
       "\t<tr><td>6.0   </td><td>4.02  </td><td>844.20</td><td>3     </td></tr>\n",
       "</tbody>\n",
       "</table>\n"
      ],
      "text/latex": [
       "\\begin{tabular}{llll}\n",
       " dogalgaz & tlkur &  & \\\\\n",
       "\\hline\n",
       "\t 4.5    & 4.00   & 630.00 & 3     \\\\\n",
       "\t 4.6    & 4.01   & 645.61 & 3     \\\\\n",
       "\t 6.0    & 4.02   & 844.20 & 3     \\\\\n",
       "\\end{tabular}\n"
      ],
      "text/markdown": [
       "\n",
       "dogalgaz | tlkur |  |  | \n",
       "|---|---|---|\n",
       "| 4.5    | 4.00   | 630.00 | 3      | \n",
       "| 4.6    | 4.01   | 645.61 | 3      | \n",
       "| 6.0    | 4.02   | 844.20 | 3      | \n",
       "\n",
       "\n"
      ],
      "text/plain": [
       "     dogalgaz tlkur         \n",
       "[1,] 4.5      4.00  630.00 3\n",
       "[2,] 4.6      4.01  645.61 3\n",
       "[3,] 6.0      4.02  844.20 3"
      ]
     },
     "metadata": {},
     "output_type": "display_data"
    }
   ],
   "source": [
    "veri"
   ]
  },
  {
   "cell_type": "code",
   "execution_count": 48,
   "metadata": {},
   "outputs": [
    {
     "data": {
      "text/html": [
       "'matrix'"
      ],
      "text/latex": [
       "'matrix'"
      ],
      "text/markdown": [
       "'matrix'"
      ],
      "text/plain": [
       "[1] \"matrix\""
      ]
     },
     "metadata": {},
     "output_type": "display_data"
    }
   ],
   "source": [
    "class(veri)"
   ]
  },
  {
   "cell_type": "code",
   "execution_count": 49,
   "metadata": {},
   "outputs": [
    {
     "name": "stderr",
     "output_type": "stream",
     "text": [
      "Warning message in cor(veri):\n",
      "\"the standard deviation is zero\""
     ]
    },
    {
     "data": {
      "text/html": [
       "<table>\n",
       "<thead><tr><th></th><th scope=col>dogalgaz</th><th scope=col>tlkur</th><th scope=col></th><th scope=col></th></tr></thead>\n",
       "<tbody>\n",
       "\t<tr><th scope=row>dogalgaz</th><td>1.0000000</td><td>0.8942947</td><td>0.9999835</td><td>NA       </td></tr>\n",
       "\t<tr><th scope=row>tlkur</th><td>0.8942947</td><td>1.0000000</td><td>0.8968531</td><td>NA       </td></tr>\n",
       "\t<tr><th scope=row></th><td>0.9999835</td><td>0.8968531</td><td>1.0000000</td><td>NA       </td></tr>\n",
       "\t<tr><th scope=row></th><td>       NA</td><td>       NA</td><td>       NA</td><td> 1       </td></tr>\n",
       "</tbody>\n",
       "</table>\n"
      ],
      "text/latex": [
       "\\begin{tabular}{r|llll}\n",
       "  & dogalgaz & tlkur &  & \\\\\n",
       "\\hline\n",
       "\tdogalgaz & 1.0000000 & 0.8942947 & 0.9999835 & NA       \\\\\n",
       "\ttlkur & 0.8942947 & 1.0000000 & 0.8968531 & NA       \\\\\n",
       "\t & 0.9999835 & 0.8968531 & 1.0000000 & NA       \\\\\n",
       "\t &        NA &        NA &        NA &  1       \\\\\n",
       "\\end{tabular}\n"
      ],
      "text/markdown": [
       "\n",
       "| <!--/--> | dogalgaz | tlkur |  |  | \n",
       "|---|---|---|---|\n",
       "| dogalgaz | 1.0000000 | 0.8942947 | 0.9999835 | NA        | \n",
       "| tlkur | 0.8942947 | 1.0000000 | 0.8968531 | NA        | \n",
       "|  | 0.9999835 | 0.8968531 | 1.0000000 | NA        | \n",
       "|  |        NA |        NA |        NA |  1        | \n",
       "\n",
       "\n"
      ],
      "text/plain": [
       "         dogalgaz  tlkur                 \n",
       "dogalgaz 1.0000000 0.8942947 0.9999835 NA\n",
       "tlkur    0.8942947 1.0000000 0.8968531 NA\n",
       "         0.9999835 0.8968531 1.0000000 NA\n",
       "                NA        NA        NA  1"
      ]
     },
     "metadata": {},
     "output_type": "display_data"
    }
   ],
   "source": [
    "cor(veri)"
   ]
  },
  {
   "cell_type": "code",
   "execution_count": 50,
   "metadata": {},
   "outputs": [
    {
     "data": {
      "text/html": [
       "'matrix'"
      ],
      "text/latex": [
       "'matrix'"
      ],
      "text/markdown": [
       "'matrix'"
      ],
      "text/plain": [
       "[1] \"matrix\""
      ]
     },
     "metadata": {},
     "output_type": "display_data"
    }
   ],
   "source": [
    "class(veri)"
   ]
  },
  {
   "cell_type": "code",
   "execution_count": 51,
   "metadata": {
    "collapsed": true
   },
   "outputs": [],
   "source": [
    "dfveri=data.frame(veri)"
   ]
  },
  {
   "cell_type": "code",
   "execution_count": 52,
   "metadata": {},
   "outputs": [
    {
     "data": {
      "text/html": [
       "'data.frame'"
      ],
      "text/latex": [
       "'data.frame'"
      ],
      "text/markdown": [
       "'data.frame'"
      ],
      "text/plain": [
       "[1] \"data.frame\""
      ]
     },
     "metadata": {},
     "output_type": "display_data"
    }
   ],
   "source": [
    "class(dfveri)"
   ]
  },
  {
   "cell_type": "code",
   "execution_count": 53,
   "metadata": {},
   "outputs": [
    {
     "data": {
      "text/html": [
       "<table>\n",
       "<thead><tr><th scope=col>dogalgaz</th><th scope=col>tlkur</th><th scope=col>V3</th><th scope=col>V4</th></tr></thead>\n",
       "<tbody>\n",
       "\t<tr><td>4.5   </td><td>4.00  </td><td>630.00</td><td>3     </td></tr>\n",
       "\t<tr><td>4.6   </td><td>4.01  </td><td>645.61</td><td>3     </td></tr>\n",
       "\t<tr><td>6.0   </td><td>4.02  </td><td>844.20</td><td>3     </td></tr>\n",
       "</tbody>\n",
       "</table>\n"
      ],
      "text/latex": [
       "\\begin{tabular}{r|llll}\n",
       " dogalgaz & tlkur & V3 & V4\\\\\n",
       "\\hline\n",
       "\t 4.5    & 4.00   & 630.00 & 3     \\\\\n",
       "\t 4.6    & 4.01   & 645.61 & 3     \\\\\n",
       "\t 6.0    & 4.02   & 844.20 & 3     \\\\\n",
       "\\end{tabular}\n"
      ],
      "text/markdown": [
       "\n",
       "dogalgaz | tlkur | V3 | V4 | \n",
       "|---|---|---|\n",
       "| 4.5    | 4.00   | 630.00 | 3      | \n",
       "| 4.6    | 4.01   | 645.61 | 3      | \n",
       "| 6.0    | 4.02   | 844.20 | 3      | \n",
       "\n",
       "\n"
      ],
      "text/plain": [
       "  dogalgaz tlkur V3     V4\n",
       "1 4.5      4.00  630.00 3 \n",
       "2 4.6      4.01  645.61 3 \n",
       "3 6.0      4.02  844.20 3 "
      ]
     },
     "metadata": {},
     "output_type": "display_data"
    }
   ],
   "source": [
    "dfveri"
   ]
  },
  {
   "cell_type": "code",
   "execution_count": 54,
   "metadata": {
    "scrolled": true
   },
   "outputs": [
    {
     "data": {
      "text/html": [
       "<table>\n",
       "<thead><tr><th scope=col>dogalgaz</th><th scope=col>tlkur</th><th scope=col></th><th scope=col></th></tr></thead>\n",
       "<tbody>\n",
       "\t<tr><td>4.5   </td><td>4.00  </td><td>630.00</td><td>3     </td></tr>\n",
       "\t<tr><td>4.6   </td><td>4.01  </td><td>645.61</td><td>3     </td></tr>\n",
       "\t<tr><td>6.0   </td><td>4.02  </td><td>844.20</td><td>3     </td></tr>\n",
       "</tbody>\n",
       "</table>\n"
      ],
      "text/latex": [
       "\\begin{tabular}{llll}\n",
       " dogalgaz & tlkur &  & \\\\\n",
       "\\hline\n",
       "\t 4.5    & 4.00   & 630.00 & 3     \\\\\n",
       "\t 4.6    & 4.01   & 645.61 & 3     \\\\\n",
       "\t 6.0    & 4.02   & 844.20 & 3     \\\\\n",
       "\\end{tabular}\n"
      ],
      "text/markdown": [
       "\n",
       "dogalgaz | tlkur |  |  | \n",
       "|---|---|---|\n",
       "| 4.5    | 4.00   | 630.00 | 3      | \n",
       "| 4.6    | 4.01   | 645.61 | 3      | \n",
       "| 6.0    | 4.02   | 844.20 | 3      | \n",
       "\n",
       "\n"
      ],
      "text/plain": [
       "     dogalgaz tlkur         \n",
       "[1,] 4.5      4.00  630.00 3\n",
       "[2,] 4.6      4.01  645.61 3\n",
       "[3,] 6.0      4.02  844.20 3"
      ]
     },
     "metadata": {},
     "output_type": "display_data"
    }
   ],
   "source": [
    "veri"
   ]
  },
  {
   "cell_type": "code",
   "execution_count": 56,
   "metadata": {},
   "outputs": [
    {
     "data": {
      "text/html": [
       "<table>\n",
       "<thead><tr><th scope=col>dogalgaz</th><th scope=col>tlkur</th><th scope=col>V3</th><th scope=col>V4</th></tr></thead>\n",
       "<tbody>\n",
       "\t<tr><td>4.5   </td><td>4.00  </td><td>630.00</td><td>3     </td></tr>\n",
       "\t<tr><td>4.6   </td><td>4.01  </td><td>645.61</td><td>3     </td></tr>\n",
       "\t<tr><td>6.0   </td><td>4.02  </td><td>844.20</td><td>3     </td></tr>\n",
       "</tbody>\n",
       "</table>\n"
      ],
      "text/latex": [
       "\\begin{tabular}{r|llll}\n",
       " dogalgaz & tlkur & V3 & V4\\\\\n",
       "\\hline\n",
       "\t 4.5    & 4.00   & 630.00 & 3     \\\\\n",
       "\t 4.6    & 4.01   & 645.61 & 3     \\\\\n",
       "\t 6.0    & 4.02   & 844.20 & 3     \\\\\n",
       "\\end{tabular}\n"
      ],
      "text/markdown": [
       "\n",
       "dogalgaz | tlkur | V3 | V4 | \n",
       "|---|---|---|\n",
       "| 4.5    | 4.00   | 630.00 | 3      | \n",
       "| 4.6    | 4.01   | 645.61 | 3      | \n",
       "| 6.0    | 4.02   | 844.20 | 3      | \n",
       "\n",
       "\n"
      ],
      "text/plain": [
       "  dogalgaz tlkur V3     V4\n",
       "1 4.5      4.00  630.00 3 \n",
       "2 4.6      4.01  645.61 3 \n",
       "3 6.0      4.02  844.20 3 "
      ]
     },
     "metadata": {},
     "output_type": "display_data"
    }
   ],
   "source": [
    "dfveri"
   ]
  },
  {
   "cell_type": "code",
   "execution_count": 57,
   "metadata": {},
   "outputs": [
    {
     "data": {
      "text/html": [
       "<ol class=list-inline>\n",
       "\t<li>4.5</li>\n",
       "\t<li>4.6</li>\n",
       "\t<li>6</li>\n",
       "</ol>\n"
      ],
      "text/latex": [
       "\\begin{enumerate*}\n",
       "\\item 4.5\n",
       "\\item 4.6\n",
       "\\item 6\n",
       "\\end{enumerate*}\n"
      ],
      "text/markdown": [
       "1. 4.5\n",
       "2. 4.6\n",
       "3. 6\n",
       "\n",
       "\n"
      ],
      "text/plain": [
       "[1] 4.5 4.6 6.0"
      ]
     },
     "metadata": {},
     "output_type": "display_data"
    }
   ],
   "source": [
    "dfveri$dogalgaz"
   ]
  },
  {
   "cell_type": "code",
   "execution_count": 58,
   "metadata": {},
   "outputs": [
    {
     "data": {
      "image/png": "[encoded data removed]"
     },
     "metadata": {},
     "output_type": "display_data"
    }
   ],
   "source": [
    "plot(dfveri$dogalgaz,type=\"l\")"
   ]
  },
  {
   "cell_type": "code",
   "execution_count": 59,
   "metadata": {
    "collapsed": true
   },
   "outputs": [],
   "source": [
    "dfveri$yenisutun<-dfveri$tlkur/100"
   ]
  },
  {
   "cell_type": "code",
   "execution_count": 60,
   "metadata": {},
   "outputs": [
    {
     "data": {
      "text/html": [
       "<table>\n",
       "<thead><tr><th scope=col>dogalgaz</th><th scope=col>tlkur</th><th scope=col>V3</th><th scope=col>V4</th><th scope=col>yenisutun</th></tr></thead>\n",
       "<tbody>\n",
       "\t<tr><td>4.5   </td><td>4.00  </td><td>630.00</td><td>3     </td><td>0.0400</td></tr>\n",
       "\t<tr><td>4.6   </td><td>4.01  </td><td>645.61</td><td>3     </td><td>0.0401</td></tr>\n",
       "\t<tr><td>6.0   </td><td>4.02  </td><td>844.20</td><td>3     </td><td>0.0402</td></tr>\n",
       "</tbody>\n",
       "</table>\n"
      ],
      "text/latex": [
       "\\begin{tabular}{r|lllll}\n",
       " dogalgaz & tlkur & V3 & V4 & yenisutun\\\\\n",
       "\\hline\n",
       "\t 4.5    & 4.00   & 630.00 & 3      & 0.0400\\\\\n",
       "\t 4.6    & 4.01   & 645.61 & 3      & 0.0401\\\\\n",
       "\t 6.0    & 4.02   & 844.20 & 3      & 0.0402\\\\\n",
       "\\end{tabular}\n"
      ],
      "text/markdown": [
       "\n",
       "dogalgaz | tlkur | V3 | V4 | yenisutun | \n",
       "|---|---|---|\n",
       "| 4.5    | 4.00   | 630.00 | 3      | 0.0400 | \n",
       "| 4.6    | 4.01   | 645.61 | 3      | 0.0401 | \n",
       "| 6.0    | 4.02   | 844.20 | 3      | 0.0402 | \n",
       "\n",
       "\n"
      ],
      "text/plain": [
       "  dogalgaz tlkur V3     V4 yenisutun\n",
       "1 4.5      4.00  630.00 3  0.0400   \n",
       "2 4.6      4.01  645.61 3  0.0401   \n",
       "3 6.0      4.02  844.20 3  0.0402   "
      ]
     },
     "metadata": {},
     "output_type": "display_data"
    }
   ],
   "source": [
    "dfveri"
   ]
  },
  {
   "cell_type": "code",
   "execution_count": 61,
   "metadata": {
    "collapsed": true
   },
   "outputs": [],
   "source": [
    "dfveri$Tlkur<-4"
   ]
  },
  {
   "cell_type": "code",
   "execution_count": 62,
   "metadata": {},
   "outputs": [
    {
     "data": {
      "text/html": [
       "<table>\n",
       "<thead><tr><th scope=col>dogalgaz</th><th scope=col>tlkur</th><th scope=col>V3</th><th scope=col>V4</th><th scope=col>yenisutun</th><th scope=col>Tlkur</th></tr></thead>\n",
       "<tbody>\n",
       "\t<tr><td>4.5   </td><td>4.00  </td><td>630.00</td><td>3     </td><td>0.0400</td><td>4     </td></tr>\n",
       "\t<tr><td>4.6   </td><td>4.01  </td><td>645.61</td><td>3     </td><td>0.0401</td><td>4     </td></tr>\n",
       "\t<tr><td>6.0   </td><td>4.02  </td><td>844.20</td><td>3     </td><td>0.0402</td><td>4     </td></tr>\n",
       "</tbody>\n",
       "</table>\n"
      ],
      "text/latex": [
       "\\begin{tabular}{r|llllll}\n",
       " dogalgaz & tlkur & V3 & V4 & yenisutun & Tlkur\\\\\n",
       "\\hline\n",
       "\t 4.5    & 4.00   & 630.00 & 3      & 0.0400 & 4     \\\\\n",
       "\t 4.6    & 4.01   & 645.61 & 3      & 0.0401 & 4     \\\\\n",
       "\t 6.0    & 4.02   & 844.20 & 3      & 0.0402 & 4     \\\\\n",
       "\\end{tabular}\n"
      ],
      "text/markdown": [
       "\n",
       "dogalgaz | tlkur | V3 | V4 | yenisutun | Tlkur | \n",
       "|---|---|---|\n",
       "| 4.5    | 4.00   | 630.00 | 3      | 0.0400 | 4      | \n",
       "| 4.6    | 4.01   | 645.61 | 3      | 0.0401 | 4      | \n",
       "| 6.0    | 4.02   | 844.20 | 3      | 0.0402 | 4      | \n",
       "\n",
       "\n"
      ],
      "text/plain": [
       "  dogalgaz tlkur V3     V4 yenisutun Tlkur\n",
       "1 4.5      4.00  630.00 3  0.0400    4    \n",
       "2 4.6      4.01  645.61 3  0.0401    4    \n",
       "3 6.0      4.02  844.20 3  0.0402    4    "
      ]
     },
     "metadata": {},
     "output_type": "display_data"
    }
   ],
   "source": [
    "dfveri"
   ]
  },
  {
   "cell_type": "code",
   "execution_count": 63,
   "metadata": {
    "collapsed": true
   },
   "outputs": [],
   "source": [
    "dfveri$Tlkur<-NULL"
   ]
  },
  {
   "cell_type": "code",
   "execution_count": 64,
   "metadata": {},
   "outputs": [
    {
     "data": {
      "text/html": [
       "<table>\n",
       "<thead><tr><th scope=col>dogalgaz</th><th scope=col>tlkur</th><th scope=col>V3</th><th scope=col>V4</th><th scope=col>yenisutun</th></tr></thead>\n",
       "<tbody>\n",
       "\t<tr><td>4.5   </td><td>4.00  </td><td>630.00</td><td>3     </td><td>0.0400</td></tr>\n",
       "\t<tr><td>4.6   </td><td>4.01  </td><td>645.61</td><td>3     </td><td>0.0401</td></tr>\n",
       "\t<tr><td>6.0   </td><td>4.02  </td><td>844.20</td><td>3     </td><td>0.0402</td></tr>\n",
       "</tbody>\n",
       "</table>\n"
      ],
      "text/latex": [
       "\\begin{tabular}{r|lllll}\n",
       " dogalgaz & tlkur & V3 & V4 & yenisutun\\\\\n",
       "\\hline\n",
       "\t 4.5    & 4.00   & 630.00 & 3      & 0.0400\\\\\n",
       "\t 4.6    & 4.01   & 645.61 & 3      & 0.0401\\\\\n",
       "\t 6.0    & 4.02   & 844.20 & 3      & 0.0402\\\\\n",
       "\\end{tabular}\n"
      ],
      "text/markdown": [
       "\n",
       "dogalgaz | tlkur | V3 | V4 | yenisutun | \n",
       "|---|---|---|\n",
       "| 4.5    | 4.00   | 630.00 | 3      | 0.0400 | \n",
       "| 4.6    | 4.01   | 645.61 | 3      | 0.0401 | \n",
       "| 6.0    | 4.02   | 844.20 | 3      | 0.0402 | \n",
       "\n",
       "\n"
      ],
      "text/plain": [
       "  dogalgaz tlkur V3     V4 yenisutun\n",
       "1 4.5      4.00  630.00 3  0.0400   \n",
       "2 4.6      4.01  645.61 3  0.0401   \n",
       "3 6.0      4.02  844.20 3  0.0402   "
      ]
     },
     "metadata": {},
     "output_type": "display_data"
    }
   ],
   "source": [
    "dfveri"
   ]
  },
  {
   "cell_type": "code",
   "execution_count": 65,
   "metadata": {},
   "outputs": [
    {
     "data": {
      "text/html": [
       "645.61"
      ],
      "text/latex": [
       "645.61"
      ],
      "text/markdown": [
       "645.61"
      ],
      "text/plain": [
       "[1] 645.61"
      ]
     },
     "metadata": {},
     "output_type": "display_data"
    }
   ],
   "source": [
    "dfveri[2,3]"
   ]
  },
  {
   "cell_type": "code",
   "execution_count": 66,
   "metadata": {},
   "outputs": [
    {
     "data": {
      "text/html": [
       "4.5"
      ],
      "text/latex": [
       "4.5"
      ],
      "text/markdown": [
       "4.5"
      ],
      "text/plain": [
       "[1] 4.5"
      ]
     },
     "metadata": {},
     "output_type": "display_data"
    }
   ],
   "source": [
    "dfveri[1,1]"
   ]
  },
  {
   "cell_type": "code",
   "execution_count": 67,
   "metadata": {},
   "outputs": [
    {
     "data": {
      "text/html": [
       "844.2"
      ],
      "text/latex": [
       "844.2"
      ],
      "text/markdown": [
       "844.2"
      ],
      "text/plain": [
       "[1] 844.2"
      ]
     },
     "metadata": {},
     "output_type": "display_data"
    }
   ],
   "source": [
    "dfveri[3,3]"
   ]
  },
  {
   "cell_type": "code",
   "execution_count": 68,
   "metadata": {},
   "outputs": [
    {
     "data": {
      "text/html": [
       "630"
      ],
      "text/latex": [
       "630"
      ],
      "text/markdown": [
       "630"
      ],
      "text/plain": [
       "[1] 630"
      ]
     },
     "metadata": {},
     "output_type": "display_data"
    }
   ],
   "source": [
    "dfveri[1,3]"
   ]
  },
  {
   "cell_type": "code",
   "execution_count": 71,
   "metadata": {
    "collapsed": true
   },
   "outputs": [],
   "source": [
    "#"
   ]
  },
  {
   "cell_type": "code",
   "execution_count": 72,
   "metadata": {},
   "outputs": [
    {
     "data": {
      "text/html": [
       "<table>\n",
       "<thead><tr><th scope=col>dogalgaz</th><th scope=col>tlkur</th><th scope=col>V3</th><th scope=col>V4</th><th scope=col>yenisutun</th></tr></thead>\n",
       "<tbody>\n",
       "\t<tr><td>4.5   </td><td>4.00  </td><td>630.00</td><td>3     </td><td>0.0400</td></tr>\n",
       "\t<tr><td>4.6   </td><td>4.01  </td><td>645.61</td><td>3     </td><td>0.0401</td></tr>\n",
       "\t<tr><td>6.0   </td><td>4.02  </td><td>844.20</td><td>3     </td><td>0.0402</td></tr>\n",
       "</tbody>\n",
       "</table>\n"
      ],
      "text/latex": [
       "\\begin{tabular}{r|lllll}\n",
       " dogalgaz & tlkur & V3 & V4 & yenisutun\\\\\n",
       "\\hline\n",
       "\t 4.5    & 4.00   & 630.00 & 3      & 0.0400\\\\\n",
       "\t 4.6    & 4.01   & 645.61 & 3      & 0.0401\\\\\n",
       "\t 6.0    & 4.02   & 844.20 & 3      & 0.0402\\\\\n",
       "\\end{tabular}\n"
      ],
      "text/markdown": [
       "\n",
       "dogalgaz | tlkur | V3 | V4 | yenisutun | \n",
       "|---|---|---|\n",
       "| 4.5    | 4.00   | 630.00 | 3      | 0.0400 | \n",
       "| 4.6    | 4.01   | 645.61 | 3      | 0.0401 | \n",
       "| 6.0    | 4.02   | 844.20 | 3      | 0.0402 | \n",
       "\n",
       "\n"
      ],
      "text/plain": [
       "  dogalgaz tlkur V3     V4 yenisutun\n",
       "1 4.5      4.00  630.00 3  0.0400   \n",
       "2 4.6      4.01  645.61 3  0.0401   \n",
       "3 6.0      4.02  844.20 3  0.0402   "
      ]
     },
     "metadata": {},
     "output_type": "display_data"
    }
   ],
   "source": [
    "dfveri"
   ]
  },
  {
   "cell_type": "code",
   "execution_count": 73,
   "metadata": {
    "collapsed": true
   },
   "outputs": [],
   "source": [
    "dfveri[3,2]<-4.03"
   ]
  },
  {
   "cell_type": "code",
   "execution_count": 74,
   "metadata": {},
   "outputs": [
    {
     "data": {
      "text/html": [
       "<table>\n",
       "<thead><tr><th scope=col>dogalgaz</th><th scope=col>tlkur</th><th scope=col>V3</th><th scope=col>V4</th><th scope=col>yenisutun</th></tr></thead>\n",
       "<tbody>\n",
       "\t<tr><td>4.5   </td><td>4.00  </td><td>630.00</td><td>3     </td><td>0.0400</td></tr>\n",
       "\t<tr><td>4.6   </td><td>4.01  </td><td>645.61</td><td>3     </td><td>0.0401</td></tr>\n",
       "\t<tr><td>6.0   </td><td>4.03  </td><td>844.20</td><td>3     </td><td>0.0402</td></tr>\n",
       "</tbody>\n",
       "</table>\n"
      ],
      "text/latex": [
       "\\begin{tabular}{r|lllll}\n",
       " dogalgaz & tlkur & V3 & V4 & yenisutun\\\\\n",
       "\\hline\n",
       "\t 4.5    & 4.00   & 630.00 & 3      & 0.0400\\\\\n",
       "\t 4.6    & 4.01   & 645.61 & 3      & 0.0401\\\\\n",
       "\t 6.0    & 4.03   & 844.20 & 3      & 0.0402\\\\\n",
       "\\end{tabular}\n"
      ],
      "text/markdown": [
       "\n",
       "dogalgaz | tlkur | V3 | V4 | yenisutun | \n",
       "|---|---|---|\n",
       "| 4.5    | 4.00   | 630.00 | 3      | 0.0400 | \n",
       "| 4.6    | 4.01   | 645.61 | 3      | 0.0401 | \n",
       "| 6.0    | 4.03   | 844.20 | 3      | 0.0402 | \n",
       "\n",
       "\n"
      ],
      "text/plain": [
       "  dogalgaz tlkur V3     V4 yenisutun\n",
       "1 4.5      4.00  630.00 3  0.0400   \n",
       "2 4.6      4.01  645.61 3  0.0401   \n",
       "3 6.0      4.03  844.20 3  0.0402   "
      ]
     },
     "metadata": {},
     "output_type": "display_data"
    }
   ],
   "source": [
    "dfveri"
   ]
  },
  {
   "cell_type": "code",
   "execution_count": 75,
   "metadata": {},
   "outputs": [
    {
     "data": {
      "text/html": [
       "<table>\n",
       "<thead><tr><th scope=col>dogalgaz</th><th scope=col>yenisutun</th></tr></thead>\n",
       "<tbody>\n",
       "\t<tr><td>4.5   </td><td>0.0400</td></tr>\n",
       "\t<tr><td>4.6   </td><td>0.0401</td></tr>\n",
       "\t<tr><td>6.0   </td><td>0.0402</td></tr>\n",
       "</tbody>\n",
       "</table>\n"
      ],
      "text/latex": [
       "\\begin{tabular}{r|ll}\n",
       " dogalgaz & yenisutun\\\\\n",
       "\\hline\n",
       "\t 4.5    & 0.0400\\\\\n",
       "\t 4.6    & 0.0401\\\\\n",
       "\t 6.0    & 0.0402\\\\\n",
       "\\end{tabular}\n"
      ],
      "text/markdown": [
       "\n",
       "dogalgaz | yenisutun | \n",
       "|---|---|---|\n",
       "| 4.5    | 0.0400 | \n",
       "| 4.6    | 0.0401 | \n",
       "| 6.0    | 0.0402 | \n",
       "\n",
       "\n"
      ],
      "text/plain": [
       "  dogalgaz yenisutun\n",
       "1 4.5      0.0400   \n",
       "2 4.6      0.0401   \n",
       "3 6.0      0.0402   "
      ]
     },
     "metadata": {},
     "output_type": "display_data"
    }
   ],
   "source": [
    "dfveri[,c(1,5)]"
   ]
  },
  {
   "cell_type": "code",
   "execution_count": 84,
   "metadata": {},
   "outputs": [
    {
     "data": {
      "text/html": [
       "<table>\n",
       "<thead><tr><th scope=col>V3</th><th scope=col>V4</th><th scope=col>yenisutun</th></tr></thead>\n",
       "<tbody>\n",
       "\t<tr><td>630.00</td><td>3     </td><td>0.0400</td></tr>\n",
       "\t<tr><td>645.61</td><td>3     </td><td>0.0401</td></tr>\n",
       "\t<tr><td>844.20</td><td>3     </td><td>0.0402</td></tr>\n",
       "</tbody>\n",
       "</table>\n"
      ],
      "text/latex": [
       "\\begin{tabular}{r|lll}\n",
       " V3 & V4 & yenisutun\\\\\n",
       "\\hline\n",
       "\t 630.00 & 3      & 0.0400\\\\\n",
       "\t 645.61 & 3      & 0.0401\\\\\n",
       "\t 844.20 & 3      & 0.0402\\\\\n",
       "\\end{tabular}\n"
      ],
      "text/markdown": [
       "\n",
       "V3 | V4 | yenisutun | \n",
       "|---|---|---|\n",
       "| 630.00 | 3      | 0.0400 | \n",
       "| 645.61 | 3      | 0.0401 | \n",
       "| 844.20 | 3      | 0.0402 | \n",
       "\n",
       "\n"
      ],
      "text/plain": [
       "  V3     V4 yenisutun\n",
       "1 630.00 3  0.0400   \n",
       "2 645.61 3  0.0401   \n",
       "3 844.20 3  0.0402   "
      ]
     },
     "metadata": {},
     "output_type": "display_data"
    }
   ],
   "source": [
    "dfveri[,3:5]"
   ]
  },
  {
   "cell_type": "code",
   "execution_count": 77,
   "metadata": {},
   "outputs": [
    {
     "data": {
      "text/html": [
       "<ol class=list-inline>\n",
       "\t<li>4.5</li>\n",
       "\t<li>4.6</li>\n",
       "\t<li>6</li>\n",
       "</ol>\n"
      ],
      "text/latex": [
       "\\begin{enumerate*}\n",
       "\\item 4.5\n",
       "\\item 4.6\n",
       "\\item 6\n",
       "\\end{enumerate*}\n"
      ],
      "text/markdown": [
       "1. 4.5\n",
       "2. 4.6\n",
       "3. 6\n",
       "\n",
       "\n"
      ],
      "text/plain": [
       "[1] 4.5 4.6 6.0"
      ]
     },
     "metadata": {},
     "output_type": "display_data"
    }
   ],
   "source": [
    "dfveri$dogalgaz"
   ]
  },
  {
   "cell_type": "code",
   "execution_count": 78,
   "metadata": {},
   "outputs": [
    {
     "data": {
      "text/html": [
       "<ol class=list-inline>\n",
       "\t<li>4.5</li>\n",
       "\t<li>4.6</li>\n",
       "\t<li>6</li>\n",
       "</ol>\n"
      ],
      "text/latex": [
       "\\begin{enumerate*}\n",
       "\\item 4.5\n",
       "\\item 4.6\n",
       "\\item 6\n",
       "\\end{enumerate*}\n"
      ],
      "text/markdown": [
       "1. 4.5\n",
       "2. 4.6\n",
       "3. 6\n",
       "\n",
       "\n"
      ],
      "text/plain": [
       "[1] 4.5 4.6 6.0"
      ]
     },
     "metadata": {},
     "output_type": "display_data"
    }
   ],
   "source": [
    "dfveri[,1]"
   ]
  },
  {
   "cell_type": "code",
   "execution_count": 79,
   "metadata": {},
   "outputs": [
    {
     "data": {
      "text/html": [
       "<ol class=list-inline>\n",
       "\t<li>2</li>\n",
       "\t<li>3</li>\n",
       "</ol>\n"
      ],
      "text/latex": [
       "\\begin{enumerate*}\n",
       "\\item 2\n",
       "\\item 3\n",
       "\\end{enumerate*}\n"
      ],
      "text/markdown": [
       "1. 2\n",
       "2. 3\n",
       "\n",
       "\n"
      ],
      "text/plain": [
       "[1] 2 3"
      ]
     },
     "metadata": {},
     "output_type": "display_data"
    }
   ],
   "source": [
    "c(2,3)"
   ]
  },
  {
   "cell_type": "code",
   "execution_count": 89,
   "metadata": {
    "collapsed": true
   },
   "outputs": [],
   "source": [
    "yenitablo<-NULL"
   ]
  },
  {
   "cell_type": "code",
   "execution_count": 80,
   "metadata": {},
   "outputs": [
    {
     "data": {
      "text/html": [
       "<table>\n",
       "<thead><tr><th scope=col>tlkur</th><th scope=col>V3</th></tr></thead>\n",
       "<tbody>\n",
       "\t<tr><td>4.00  </td><td>630.00</td></tr>\n",
       "\t<tr><td>4.01  </td><td>645.61</td></tr>\n",
       "\t<tr><td>4.03  </td><td>844.20</td></tr>\n",
       "</tbody>\n",
       "</table>\n"
      ],
      "text/latex": [
       "\\begin{tabular}{r|ll}\n",
       " tlkur & V3\\\\\n",
       "\\hline\n",
       "\t 4.00   & 630.00\\\\\n",
       "\t 4.01   & 645.61\\\\\n",
       "\t 4.03   & 844.20\\\\\n",
       "\\end{tabular}\n"
      ],
      "text/markdown": [
       "\n",
       "tlkur | V3 | \n",
       "|---|---|---|\n",
       "| 4.00   | 630.00 | \n",
       "| 4.01   | 645.61 | \n",
       "| 4.03   | 844.20 | \n",
       "\n",
       "\n"
      ],
      "text/plain": [
       "  tlkur V3    \n",
       "1 4.00  630.00\n",
       "2 4.01  645.61\n",
       "3 4.03  844.20"
      ]
     },
     "metadata": {},
     "output_type": "display_data"
    }
   ],
   "source": [
    "dfveri[,c(2,3)]"
   ]
  },
  {
   "cell_type": "code",
   "execution_count": 91,
   "metadata": {
    "collapsed": true
   },
   "outputs": [],
   "source": [
    "yenitablo<-dfveri[,2:5]"
   ]
  },
  {
   "cell_type": "code",
   "execution_count": 92,
   "metadata": {},
   "outputs": [
    {
     "data": {
      "text/html": [
       "<table>\n",
       "<thead><tr><th scope=col>tlkur</th><th scope=col>V3</th><th scope=col>V4</th><th scope=col>yenisutun</th></tr></thead>\n",
       "<tbody>\n",
       "\t<tr><td>4.00  </td><td>630.00</td><td>3     </td><td>0.0400</td></tr>\n",
       "\t<tr><td>4.01  </td><td>645.61</td><td>3     </td><td>0.0401</td></tr>\n",
       "\t<tr><td>4.03  </td><td>844.20</td><td>3     </td><td>0.0402</td></tr>\n",
       "</tbody>\n",
       "</table>\n"
      ],
      "text/latex": [
       "\\begin{tabular}{r|llll}\n",
       " tlkur & V3 & V4 & yenisutun\\\\\n",
       "\\hline\n",
       "\t 4.00   & 630.00 & 3      & 0.0400\\\\\n",
       "\t 4.01   & 645.61 & 3      & 0.0401\\\\\n",
       "\t 4.03   & 844.20 & 3      & 0.0402\\\\\n",
       "\\end{tabular}\n"
      ],
      "text/markdown": [
       "\n",
       "tlkur | V3 | V4 | yenisutun | \n",
       "|---|---|---|\n",
       "| 4.00   | 630.00 | 3      | 0.0400 | \n",
       "| 4.01   | 645.61 | 3      | 0.0401 | \n",
       "| 4.03   | 844.20 | 3      | 0.0402 | \n",
       "\n",
       "\n"
      ],
      "text/plain": [
       "  tlkur V3     V4 yenisutun\n",
       "1 4.00  630.00 3  0.0400   \n",
       "2 4.01  645.61 3  0.0401   \n",
       "3 4.03  844.20 3  0.0402   "
      ]
     },
     "metadata": {},
     "output_type": "display_data"
    }
   ],
   "source": [
    "yenitablo"
   ]
  },
  {
   "cell_type": "code",
   "execution_count": 93,
   "metadata": {
    "collapsed": true
   },
   "outputs": [],
   "source": [
    "yenitablo[,2:3]<-0"
   ]
  },
  {
   "cell_type": "code",
   "execution_count": 88,
   "metadata": {},
   "outputs": [
    {
     "data": {
      "text/html": [
       "<table>\n",
       "<thead><tr><th scope=col>tlkur</th><th scope=col>V3</th><th scope=col>V4</th><th scope=col>yenisutun</th></tr></thead>\n",
       "<tbody>\n",
       "\t<tr><td>4.00  </td><td>0     </td><td>0     </td><td>0.0400</td></tr>\n",
       "\t<tr><td>4.01  </td><td>0     </td><td>0     </td><td>0.0401</td></tr>\n",
       "\t<tr><td>4.03  </td><td>0     </td><td>0     </td><td>0.0402</td></tr>\n",
       "</tbody>\n",
       "</table>\n"
      ],
      "text/latex": [
       "\\begin{tabular}{r|llll}\n",
       " tlkur & V3 & V4 & yenisutun\\\\\n",
       "\\hline\n",
       "\t 4.00   & 0      & 0      & 0.0400\\\\\n",
       "\t 4.01   & 0      & 0      & 0.0401\\\\\n",
       "\t 4.03   & 0      & 0      & 0.0402\\\\\n",
       "\\end{tabular}\n"
      ],
      "text/markdown": [
       "\n",
       "tlkur | V3 | V4 | yenisutun | \n",
       "|---|---|---|\n",
       "| 4.00   | 0      | 0      | 0.0400 | \n",
       "| 4.01   | 0      | 0      | 0.0401 | \n",
       "| 4.03   | 0      | 0      | 0.0402 | \n",
       "\n",
       "\n"
      ],
      "text/plain": [
       "  tlkur V3 V4 yenisutun\n",
       "1 4.00  0  0  0.0400   \n",
       "2 4.01  0  0  0.0401   \n",
       "3 4.03  0  0  0.0402   "
      ]
     },
     "metadata": {},
     "output_type": "display_data"
    }
   ],
   "source": [
    "yenitablo"
   ]
  },
  {
   "cell_type": "markdown",
   "metadata": {},
   "source": [
    "# bu derste yapılanlar\n",
    "\n",
    "* sayı işlemleri , 3*4 ,3**2=9\n",
    "* atama işlemleri   a<-65\n",
    "* dizi işlemleri petrol<-c(54,53.2,55)\n",
    "* matrise çevirdik cbind(petrol,tlkur)\n",
    "* data.frame'e çevirdik data.frame(veri)\n",
    "* sütun ekledik veri\\$sütun\n",
    "* korelasyon hesapladık cor(veri)"
   ]
  },
  {
   "cell_type": "code",
   "execution_count": 94,
   "metadata": {},
   "outputs": [
    {
     "data": {
      "text/html": [
       "<table>\n",
       "<thead><tr><th scope=col>tlkur</th><th scope=col>V3</th><th scope=col>V4</th><th scope=col>yenisutun</th></tr></thead>\n",
       "<tbody>\n",
       "\t<tr><td>4.00  </td><td>0     </td><td>0     </td><td>0.0400</td></tr>\n",
       "\t<tr><td>4.01  </td><td>0     </td><td>0     </td><td>0.0401</td></tr>\n",
       "\t<tr><td>4.03  </td><td>0     </td><td>0     </td><td>0.0402</td></tr>\n",
       "</tbody>\n",
       "</table>\n"
      ],
      "text/latex": [
       "\\begin{tabular}{r|llll}\n",
       " tlkur & V3 & V4 & yenisutun\\\\\n",
       "\\hline\n",
       "\t 4.00   & 0      & 0      & 0.0400\\\\\n",
       "\t 4.01   & 0      & 0      & 0.0401\\\\\n",
       "\t 4.03   & 0      & 0      & 0.0402\\\\\n",
       "\\end{tabular}\n"
      ],
      "text/markdown": [
       "\n",
       "tlkur | V3 | V4 | yenisutun | \n",
       "|---|---|---|\n",
       "| 4.00   | 0      | 0      | 0.0400 | \n",
       "| 4.01   | 0      | 0      | 0.0401 | \n",
       "| 4.03   | 0      | 0      | 0.0402 | \n",
       "\n",
       "\n"
      ],
      "text/plain": [
       "  tlkur V3 V4 yenisutun\n",
       "1 4.00  0  0  0.0400   \n",
       "2 4.01  0  0  0.0401   \n",
       "3 4.03  0  0  0.0402   "
      ]
     },
     "metadata": {},
     "output_type": "display_data"
    }
   ],
   "source": [
    "yenitablo"
   ]
  },
  {
   "cell_type": "code",
   "execution_count": 96,
   "metadata": {
    "collapsed": true
   },
   "outputs": [],
   "source": [
    "yenitablo<-rbind(yenitablo,yenitablo,yenitablo)\n",
    "yenitablo<-rbind(yenitablo,yenitablo,yenitablo)\n",
    "yenitablo<-rbind(yenitablo,yenitablo,yenitablo)"
   ]
  },
  {
   "cell_type": "code",
   "execution_count": 102,
   "metadata": {},
   "outputs": [
    {
     "data": {
      "text/html": [
       "<table>\n",
       "<thead><tr><th scope=col>tlkur</th><th scope=col>V3</th><th scope=col>V4</th><th scope=col>yenisutun</th></tr></thead>\n",
       "<tbody>\n",
       "\t<tr><td>4.00  </td><td>0     </td><td>0     </td><td>0.0400</td></tr>\n",
       "\t<tr><td>4.01  </td><td>0     </td><td>0     </td><td>0.0401</td></tr>\n",
       "\t<tr><td>4.03  </td><td>0     </td><td>0     </td><td>0.0402</td></tr>\n",
       "\t<tr><td>4.00  </td><td>0     </td><td>0     </td><td>0.0400</td></tr>\n",
       "\t<tr><td>4.01  </td><td>0     </td><td>0     </td><td>0.0401</td></tr>\n",
       "</tbody>\n",
       "</table>\n"
      ],
      "text/latex": [
       "\\begin{tabular}{r|llll}\n",
       " tlkur & V3 & V4 & yenisutun\\\\\n",
       "\\hline\n",
       "\t 4.00   & 0      & 0      & 0.0400\\\\\n",
       "\t 4.01   & 0      & 0      & 0.0401\\\\\n",
       "\t 4.03   & 0      & 0      & 0.0402\\\\\n",
       "\t 4.00   & 0      & 0      & 0.0400\\\\\n",
       "\t 4.01   & 0      & 0      & 0.0401\\\\\n",
       "\\end{tabular}\n"
      ],
      "text/markdown": [
       "\n",
       "tlkur | V3 | V4 | yenisutun | \n",
       "|---|---|---|---|---|\n",
       "| 4.00   | 0      | 0      | 0.0400 | \n",
       "| 4.01   | 0      | 0      | 0.0401 | \n",
       "| 4.03   | 0      | 0      | 0.0402 | \n",
       "| 4.00   | 0      | 0      | 0.0400 | \n",
       "| 4.01   | 0      | 0      | 0.0401 | \n",
       "\n",
       "\n"
      ],
      "text/plain": [
       "  tlkur V3 V4 yenisutun\n",
       "1 4.00  0  0  0.0400   \n",
       "2 4.01  0  0  0.0401   \n",
       "3 4.03  0  0  0.0402   \n",
       "4 4.00  0  0  0.0400   \n",
       "5 4.01  0  0  0.0401   "
      ]
     },
     "metadata": {},
     "output_type": "display_data"
    }
   ],
   "source": [
    "head(yenitablo,5)"
   ]
  },
  {
   "cell_type": "code",
   "execution_count": 100,
   "metadata": {},
   "outputs": [
    {
     "data": {
      "text/html": [
       "<table>\n",
       "<thead><tr><th></th><th scope=col>tlkur</th><th scope=col>V3</th><th scope=col>V4</th><th scope=col>yenisutun</th></tr></thead>\n",
       "<tbody>\n",
       "\t<tr><th scope=row>79</th><td>4.00  </td><td>0     </td><td>0     </td><td>0.0400</td></tr>\n",
       "\t<tr><th scope=row>80</th><td>4.01  </td><td>0     </td><td>0     </td><td>0.0401</td></tr>\n",
       "\t<tr><th scope=row>81</th><td>4.03  </td><td>0     </td><td>0     </td><td>0.0402</td></tr>\n",
       "</tbody>\n",
       "</table>\n"
      ],
      "text/latex": [
       "\\begin{tabular}{r|llll}\n",
       "  & tlkur & V3 & V4 & yenisutun\\\\\n",
       "\\hline\n",
       "\t79 & 4.00   & 0      & 0      & 0.0400\\\\\n",
       "\t80 & 4.01   & 0      & 0      & 0.0401\\\\\n",
       "\t81 & 4.03   & 0      & 0      & 0.0402\\\\\n",
       "\\end{tabular}\n"
      ],
      "text/markdown": [
       "\n",
       "| <!--/--> | tlkur | V3 | V4 | yenisutun | \n",
       "|---|---|---|\n",
       "| 79 | 4.00   | 0      | 0      | 0.0400 | \n",
       "| 80 | 4.01   | 0      | 0      | 0.0401 | \n",
       "| 81 | 4.03   | 0      | 0      | 0.0402 | \n",
       "\n",
       "\n"
      ],
      "text/plain": [
       "   tlkur V3 V4 yenisutun\n",
       "79 4.00  0  0  0.0400   \n",
       "80 4.01  0  0  0.0401   \n",
       "81 4.03  0  0  0.0402   "
      ]
     },
     "metadata": {},
     "output_type": "display_data"
    }
   ],
   "source": [
    "tail(yenitablo,3)"
   ]
  },
  {
   "cell_type": "code",
   "execution_count": 107,
   "metadata": {
    "collapsed": true
   },
   "outputs": [],
   "source": [
    "tablo<-read.csv(\"emtiatablo.csv\")"
   ]
  },
  {
   "cell_type": "code",
   "execution_count": 108,
   "metadata": {},
   "outputs": [
    {
     "data": {
      "text/html": [
       "<ol class=list-inline>\n",
       "\t<li>'X'</li>\n",
       "\t<li>'date'</li>\n",
       "\t<li>'COAL_AUS'</li>\n",
       "\t<li>'COAL_COL'</li>\n",
       "\t<li>'COAL_SAFRICA'</li>\n",
       "\t<li>'CRUDE_BRENT'</li>\n",
       "\t<li>'CRUDE_DUBAI'</li>\n",
       "\t<li>'CRUDE_WTI'</li>\n",
       "\t<li>'GOLD'</li>\n",
       "\t<li>'TLkur'</li>\n",
       "</ol>\n"
      ],
      "text/latex": [
       "\\begin{enumerate*}\n",
       "\\item 'X'\n",
       "\\item 'date'\n",
       "\\item 'COAL\\_AUS'\n",
       "\\item 'COAL\\_COL'\n",
       "\\item 'COAL\\_SAFRICA'\n",
       "\\item 'CRUDE\\_BRENT'\n",
       "\\item 'CRUDE\\_DUBAI'\n",
       "\\item 'CRUDE\\_WTI'\n",
       "\\item 'GOLD'\n",
       "\\item 'TLkur'\n",
       "\\end{enumerate*}\n"
      ],
      "text/markdown": [
       "1. 'X'\n",
       "2. 'date'\n",
       "3. 'COAL_AUS'\n",
       "4. 'COAL_COL'\n",
       "5. 'COAL_SAFRICA'\n",
       "6. 'CRUDE_BRENT'\n",
       "7. 'CRUDE_DUBAI'\n",
       "8. 'CRUDE_WTI'\n",
       "9. 'GOLD'\n",
       "10. 'TLkur'\n",
       "\n",
       "\n"
      ],
      "text/plain": [
       " [1] \"X\"            \"date\"         \"COAL_AUS\"     \"COAL_COL\"     \"COAL_SAFRICA\"\n",
       " [6] \"CRUDE_BRENT\"  \"CRUDE_DUBAI\"  \"CRUDE_WTI\"    \"GOLD\"         \"TLkur\"       "
      ]
     },
     "metadata": {},
     "output_type": "display_data"
    }
   ],
   "source": [
    "colnames(tablo)"
   ]
  },
  {
   "cell_type": "code",
   "execution_count": 109,
   "metadata": {},
   "outputs": [
    {
     "data": {
      "text/html": [
       "<table>\n",
       "<thead><tr><th scope=col>X</th><th scope=col>date</th><th scope=col>COAL_AUS</th><th scope=col>COAL_COL</th><th scope=col>COAL_SAFRICA</th><th scope=col>CRUDE_BRENT</th><th scope=col>CRUDE_DUBAI</th><th scope=col>CRUDE_WTI</th><th scope=col>GOLD</th><th scope=col>TLkur</th></tr></thead>\n",
       "<tbody>\n",
       "\t<tr><td>1       </td><td>2006M06 </td><td>52.3750 </td><td>54.25   </td><td>52.3750 </td><td>68.85773</td><td>65.08091</td><td>70.93182</td><td>596.145 </td><td>1.624308</td></tr>\n",
       "\t<tr><td>2       </td><td>2006M07 </td><td>52.7500 </td><td>53.05   </td><td>51.6800 </td><td>73.89714</td><td>69.04905</td><td>74.40421</td><td>633.710 </td><td>1.548884</td></tr>\n",
       "\t<tr><td>3       </td><td>2006M08 </td><td>50.9375 </td><td>55.44   </td><td>53.5875 </td><td>73.61217</td><td>68.78174</td><td>73.04174</td><td>632.593 </td><td>1.462191</td></tr>\n",
       "\t<tr><td>4       </td><td>2006M09 </td><td>47.1000 </td><td>49.50   </td><td>48.7500 </td><td>62.77190</td><td>59.77286</td><td>63.81900</td><td>598.186 </td><td>1.472710</td></tr>\n",
       "\t<tr><td>5       </td><td>2006M10 </td><td>44.0500 </td><td>50.25   </td><td>49.2125 </td><td>58.38000</td><td>56.50095</td><td>58.85045</td><td>585.780 </td><td>1.476242</td></tr>\n",
       "\t<tr><td>6       </td><td>2006M11 </td><td>46.0000 </td><td>51.19   </td><td>48.2000 </td><td>58.48318</td><td>56.81545</td><td>59.13050</td><td>627.827 </td><td>1.449345</td></tr>\n",
       "</tbody>\n",
       "</table>\n"
      ],
      "text/latex": [
       "\\begin{tabular}{r|llllllllll}\n",
       " X & date & COAL\\_AUS & COAL\\_COL & COAL\\_SAFRICA & CRUDE\\_BRENT & CRUDE\\_DUBAI & CRUDE\\_WTI & GOLD & TLkur\\\\\n",
       "\\hline\n",
       "\t 1        & 2006M06  & 52.3750  & 54.25    & 52.3750  & 68.85773 & 65.08091 & 70.93182 & 596.145  & 1.624308\\\\\n",
       "\t 2        & 2006M07  & 52.7500  & 53.05    & 51.6800  & 73.89714 & 69.04905 & 74.40421 & 633.710  & 1.548884\\\\\n",
       "\t 3        & 2006M08  & 50.9375  & 55.44    & 53.5875  & 73.61217 & 68.78174 & 73.04174 & 632.593  & 1.462191\\\\\n",
       "\t 4        & 2006M09  & 47.1000  & 49.50    & 48.7500  & 62.77190 & 59.77286 & 63.81900 & 598.186  & 1.472710\\\\\n",
       "\t 5        & 2006M10  & 44.0500  & 50.25    & 49.2125  & 58.38000 & 56.50095 & 58.85045 & 585.780  & 1.476242\\\\\n",
       "\t 6        & 2006M11  & 46.0000  & 51.19    & 48.2000  & 58.48318 & 56.81545 & 59.13050 & 627.827  & 1.449345\\\\\n",
       "\\end{tabular}\n"
      ],
      "text/markdown": [
       "\n",
       "X | date | COAL_AUS | COAL_COL | COAL_SAFRICA | CRUDE_BRENT | CRUDE_DUBAI | CRUDE_WTI | GOLD | TLkur | \n",
       "|---|---|---|---|---|---|\n",
       "| 1        | 2006M06  | 52.3750  | 54.25    | 52.3750  | 68.85773 | 65.08091 | 70.93182 | 596.145  | 1.624308 | \n",
       "| 2        | 2006M07  | 52.7500  | 53.05    | 51.6800  | 73.89714 | 69.04905 | 74.40421 | 633.710  | 1.548884 | \n",
       "| 3        | 2006M08  | 50.9375  | 55.44    | 53.5875  | 73.61217 | 68.78174 | 73.04174 | 632.593  | 1.462191 | \n",
       "| 4        | 2006M09  | 47.1000  | 49.50    | 48.7500  | 62.77190 | 59.77286 | 63.81900 | 598.186  | 1.472710 | \n",
       "| 5        | 2006M10  | 44.0500  | 50.25    | 49.2125  | 58.38000 | 56.50095 | 58.85045 | 585.780  | 1.476242 | \n",
       "| 6        | 2006M11  | 46.0000  | 51.19    | 48.2000  | 58.48318 | 56.81545 | 59.13050 | 627.827  | 1.449345 | \n",
       "\n",
       "\n"
      ],
      "text/plain": [
       "  X date    COAL_AUS COAL_COL COAL_SAFRICA CRUDE_BRENT CRUDE_DUBAI CRUDE_WTI\n",
       "1 1 2006M06 52.3750  54.25    52.3750      68.85773    65.08091    70.93182 \n",
       "2 2 2006M07 52.7500  53.05    51.6800      73.89714    69.04905    74.40421 \n",
       "3 3 2006M08 50.9375  55.44    53.5875      73.61217    68.78174    73.04174 \n",
       "4 4 2006M09 47.1000  49.50    48.7500      62.77190    59.77286    63.81900 \n",
       "5 5 2006M10 44.0500  50.25    49.2125      58.38000    56.50095    58.85045 \n",
       "6 6 2006M11 46.0000  51.19    48.2000      58.48318    56.81545    59.13050 \n",
       "  GOLD    TLkur   \n",
       "1 596.145 1.624308\n",
       "2 633.710 1.548884\n",
       "3 632.593 1.462191\n",
       "4 598.186 1.472710\n",
       "5 585.780 1.476242\n",
       "6 627.827 1.449345"
      ]
     },
     "metadata": {},
     "output_type": "display_data"
    }
   ],
   "source": [
    "head(tablo)"
   ]
  },
  {
   "cell_type": "code",
   "execution_count": 110,
   "metadata": {},
   "outputs": [
    {
     "data": {
      "image/png": "[encoded data removed]"
     },
     "metadata": {},
     "output_type": "display_data"
    }
   ],
   "source": [
    "plot(tablo$COAL_COL, type=\"l\")"
   ]
  },
  {
   "cell_type": "code",
   "execution_count": 111,
   "metadata": {},
   "outputs": [
    {
     "name": "stderr",
     "output_type": "stream",
     "text": [
      "Loading required package: zoo\n",
      "\n",
      "Attaching package: 'zoo'\n",
      "\n",
      "The following objects are masked from 'package:base':\n",
      "\n",
      "    as.Date, as.Date.numeric\n",
      "\n",
      "Loading required package: timeDate\n",
      "This is forecast 7.1 \n",
      "\n"
     ]
    }
   ],
   "source": [
    "library(forecast)"
   ]
  },
  {
   "cell_type": "code",
   "execution_count": 126,
   "metadata": {
    "collapsed": true
   },
   "outputs": [],
   "source": [
    "model<-ets(tablo$COAL_COL)"
   ]
  },
  {
   "cell_type": "code",
   "execution_count": 129,
   "metadata": {},
   "outputs": [
    {
     "data": {
      "text/plain": [
       "    Point Forecast    Lo 10    Hi 10      Lo 90     Hi 90\n",
       "138       85.30209 84.54986 86.05431  75.455801  95.14837\n",
       "139       86.29372 84.88877 87.69868  67.903433 104.68401\n",
       "140       87.08703 85.13496 89.03911  61.535212 112.63886\n",
       "141       87.72168 85.26288 90.18049  55.536956 119.90641\n",
       "142       88.22940 85.28922 91.16959  49.743626 126.71518\n",
       "143       88.63558 85.23362 92.03753  44.105454 133.16570\n",
       "144       88.96052 85.11341 92.80763  38.603515 139.31752\n",
       "145       89.22047 84.94282 93.49812  33.227904 145.21304\n",
       "146       89.42843 84.73329 94.12357  27.971043 150.88582\n",
       "147       89.59480 84.49386 94.69575  22.825601 156.36400\n",
       "148       89.72790 84.23162 95.22418  17.783954 161.67184\n",
       "149       89.83437 83.95212 95.71663  12.838175 166.83057\n",
       "150       89.91955 83.65966 96.17945   7.980182 171.85893\n",
       "151       89.98770 83.35755 96.61785   3.201903 176.77350\n",
       "152       90.04222 83.04835 97.03609  -1.504579 181.58901\n",
       "153       90.08583 82.73397 97.43769  -6.146917 186.31857\n",
       "154       90.12072 82.41587 97.82556 -10.732433 190.97387\n",
       "155       90.14863 82.09515 98.20212 -15.268070 195.56533\n",
       "156       90.17096 81.77257 98.56935 -19.760371 200.10229\n",
       "157       90.18882 81.44872 98.92893 -24.215477 204.59313"
      ]
     },
     "metadata": {},
     "output_type": "display_data"
    }
   ],
   "source": [
    "forecast(model, h=20, level = c(10,90))"
   ]
  },
  {
   "cell_type": "code",
   "execution_count": 120,
   "metadata": {},
   "outputs": [
    {
     "ename": "ERROR",
     "evalue": "Error in stl(tablo$TLkur, s.window = \"periodic\"): series is not periodic or has less than two periods\n",
     "output_type": "error",
     "traceback": [
      "Error in stl(tablo$TLkur, s.window = \"periodic\"): series is not periodic or has less than two periods\nTraceback:\n",
      "1. plot(stl(tablo$TLkur, s.window = \"periodic\"))",
      "2. stl(tablo$TLkur, s.window = \"periodic\")",
      "3. stop(\"series is not periodic or has less than two periods\")"
     ]
    }
   ],
   "source": [
    "plot(stl(tablo$TLkur, s.window=\"periodic\"))"
   ]
  },
  {
   "cell_type": "code",
   "execution_count": 130,
   "metadata": {},
   "outputs": [
    {
     "name": "stderr",
     "output_type": "stream",
     "text": [
      "Installing package into '/home/nbcommon/R'\n",
      "(as 'lib' is unspecified)\n"
     ]
    }
   ],
   "source": [
    "#install.packages(\"wbstats\")"
   ]
  },
  {
   "cell_type": "code",
   "execution_count": 1,
   "metadata": {
    "collapsed": true
   },
   "outputs": [],
   "source": [
    "library(wbstats)"
   ]
  },
  {
   "cell_type": "code",
   "execution_count": 2,
   "metadata": {},
   "outputs": [
    {
     "data": {
      "text/html": [
       "<table>\n",
       "<thead><tr><th></th><th scope=col>indicatorID</th><th scope=col>indicator</th></tr></thead>\n",
       "<tbody>\n",
       "\t<tr><th scope=row>13296</th><td>CRUDE_PETRO                          </td><td>Crude oil, avg, spot, $/bbl, current$</td></tr>\n",
       "\t<tr><th scope=row>13298</th><td>CRUDE_BRENT                          </td><td>Crude oil, Brendt, $/bbl, current$   </td></tr>\n",
       "</tbody>\n",
       "</table>\n"
      ],
      "text/latex": [
       "\\begin{tabular}{r|ll}\n",
       "  & indicatorID & indicator\\\\\n",
       "\\hline\n",
       "\t13296 & CRUDE\\_PETRO                             & Crude oil, avg, spot, \\$/bbl, current\\$\\\\\n",
       "\t13298 & CRUDE\\_BRENT                             & Crude oil, Brendt, \\$/bbl, current\\$   \\\\\n",
       "\\end{tabular}\n"
      ],
      "text/markdown": [
       "\n",
       "| <!--/--> | indicatorID | indicator | \n",
       "|---|---|\n",
       "| 13296 | CRUDE_PETRO                           | Crude oil, avg, spot, $/bbl, current$ | \n",
       "| 13298 | CRUDE_BRENT                           | Crude oil, Brendt, $/bbl, current$    | \n",
       "\n",
       "\n"
      ],
      "text/plain": [
       "      indicatorID indicator                            \n",
       "13296 CRUDE_PETRO Crude oil, avg, spot, $/bbl, current$\n",
       "13298 CRUDE_BRENT Crude oil, Brendt, $/bbl, current$   "
      ]
     },
     "metadata": {},
     "output_type": "display_data"
    },
    {
     "data": {
      "text/html": [
       "<table>\n",
       "<thead><tr><th></th><th scope=col>indicatorID</th><th scope=col>indicator</th></tr></thead>\n",
       "<tbody>\n",
       "\t<tr><th scope=row>5354</th><td>KNGAS_US                                      </td><td>Natural gas, US, $/mmbtu, constant 2000$      </td></tr>\n",
       "\t<tr><th scope=row>5355</th><td>KNGAS_JP                                      </td><td>Natural gas LNG, $/mmbtu, constant 2000$      </td></tr>\n",
       "\t<tr><th scope=row>5356</th><td>KNGAS_EUR                                     </td><td>Natural gas, Europe, $/mmbtu, constant 2000$  </td></tr>\n",
       "\t<tr><th scope=row>6649</th><td>NGAS_US                                       </td><td>Natural gas, US, $/mmbtu, current$            </td></tr>\n",
       "\t<tr><th scope=row>6650</th><td>NGAS_JP                                       </td><td>Natural gas LNG, $/mmbtu, current$            </td></tr>\n",
       "\t<tr><th scope=row>6651</th><td>NGAS_EUR                                      </td><td>Natural gas, Europe, $/mmbtu, current$        </td></tr>\n",
       "\t<tr><th scope=row>7055</th><td>FNGAS_US                                      </td><td>Natural gas, US, nominal, $/mmbtu             </td></tr>\n",
       "\t<tr><th scope=row>7056</th><td>FNGAS_JP                                      </td><td>Liquefied natural gas, Japan, nominal, $/mmbtu</td></tr>\n",
       "\t<tr><th scope=row>7057</th><td>FNGAS_EUR                                     </td><td>Natural gas, Europe, nominal, $/mmbtu         </td></tr>\n",
       "\t<tr><th scope=row>14799</th><td>KFNGAS_US                                     </td><td>Natural gas, US, real, $/mmbtu                </td></tr>\n",
       "\t<tr><th scope=row>14800</th><td>KFNGAS_JP                                     </td><td>Liquefied natural gas, Japan, real, $/mmbtu   </td></tr>\n",
       "\t<tr><th scope=row>14801</th><td>KFNGAS_EUR                                    </td><td>Natural gas, Europe, real, $/mmbtu            </td></tr>\n",
       "</tbody>\n",
       "</table>\n"
      ],
      "text/latex": [
       "\\begin{tabular}{r|ll}\n",
       "  & indicatorID & indicator\\\\\n",
       "\\hline\n",
       "\t5354 & KNGAS\\_US                                         & Natural gas, US, \\$/mmbtu, constant 2000\\$      \\\\\n",
       "\t5355 & KNGAS\\_JP                                         & Natural gas LNG, \\$/mmbtu, constant 2000\\$      \\\\\n",
       "\t5356 & KNGAS\\_EUR                                        & Natural gas, Europe, \\$/mmbtu, constant 2000\\$  \\\\\n",
       "\t6649 & NGAS\\_US                                          & Natural gas, US, \\$/mmbtu, current\\$            \\\\\n",
       "\t6650 & NGAS\\_JP                                          & Natural gas LNG, \\$/mmbtu, current\\$            \\\\\n",
       "\t6651 & NGAS\\_EUR                                         & Natural gas, Europe, \\$/mmbtu, current\\$        \\\\\n",
       "\t7055 & FNGAS\\_US                                       & Natural gas, US, nominal, \\$/mmbtu             \\\\\n",
       "\t7056 & FNGAS\\_JP                                       & Liquefied natural gas, Japan, nominal, \\$/mmbtu\\\\\n",
       "\t7057 & FNGAS\\_EUR                                      & Natural gas, Europe, nominal, \\$/mmbtu         \\\\\n",
       "\t14799 & KFNGAS\\_US                                      & Natural gas, US, real, \\$/mmbtu                \\\\\n",
       "\t14800 & KFNGAS\\_JP                                      & Liquefied natural gas, Japan, real, \\$/mmbtu   \\\\\n",
       "\t14801 & KFNGAS\\_EUR                                     & Natural gas, Europe, real, \\$/mmbtu            \\\\\n",
       "\\end{tabular}\n"
      ],
      "text/markdown": [
       "\n",
       "| <!--/--> | indicatorID | indicator | \n",
       "|---|---|---|---|---|---|---|---|---|---|---|---|\n",
       "| 5354 | KNGAS_US                                       | Natural gas, US, $/mmbtu, constant 2000$       | \n",
       "| 5355 | KNGAS_JP                                       | Natural gas LNG, $/mmbtu, constant 2000$       | \n",
       "| 5356 | KNGAS_EUR                                      | Natural gas, Europe, $/mmbtu, constant 2000$   | \n",
       "| 6649 | NGAS_US                                        | Natural gas, US, $/mmbtu, current$             | \n",
       "| 6650 | NGAS_JP                                        | Natural gas LNG, $/mmbtu, current$             | \n",
       "| 6651 | NGAS_EUR                                       | Natural gas, Europe, $/mmbtu, current$         | \n",
       "| 7055 | FNGAS_US                                       | Natural gas, US, nominal, $/mmbtu              | \n",
       "| 7056 | FNGAS_JP                                       | Liquefied natural gas, Japan, nominal, $/mmbtu | \n",
       "| 7057 | FNGAS_EUR                                      | Natural gas, Europe, nominal, $/mmbtu          | \n",
       "| 14799 | KFNGAS_US                                      | Natural gas, US, real, $/mmbtu                 | \n",
       "| 14800 | KFNGAS_JP                                      | Liquefied natural gas, Japan, real, $/mmbtu    | \n",
       "| 14801 | KFNGAS_EUR                                     | Natural gas, Europe, real, $/mmbtu             | \n",
       "\n",
       "\n"
      ],
      "text/plain": [
       "      indicatorID indicator                                     \n",
       "5354  KNGAS_US    Natural gas, US, $/mmbtu, constant 2000$      \n",
       "5355  KNGAS_JP    Natural gas LNG, $/mmbtu, constant 2000$      \n",
       "5356  KNGAS_EUR   Natural gas, Europe, $/mmbtu, constant 2000$  \n",
       "6649  NGAS_US     Natural gas, US, $/mmbtu, current$            \n",
       "6650  NGAS_JP     Natural gas LNG, $/mmbtu, current$            \n",
       "6651  NGAS_EUR    Natural gas, Europe, $/mmbtu, current$        \n",
       "7055  FNGAS_US    Natural gas, US, nominal, $/mmbtu             \n",
       "7056  FNGAS_JP    Liquefied natural gas, Japan, nominal, $/mmbtu\n",
       "7057  FNGAS_EUR   Natural gas, Europe, nominal, $/mmbtu         \n",
       "14799 KFNGAS_US   Natural gas, US, real, $/mmbtu                \n",
       "14800 KFNGAS_JP   Liquefied natural gas, Japan, real, $/mmbtu   \n",
       "14801 KFNGAS_EUR  Natural gas, Europe, real, $/mmbtu            "
      ]
     },
     "metadata": {},
     "output_type": "display_data"
    }
   ],
   "source": [
    "wbsearch(\"brent\")\n",
    "wbsearch(\"mmbtu\")"
   ]
  },
  {
   "cell_type": "code",
   "execution_count": 3,
   "metadata": {
    "collapsed": true
   },
   "outputs": [],
   "source": [
    "veri<-wb(indicator = c(\"CRUDE_BRENT\",\"NGAS_EUR\"),\n",
    "         startdate = \"2006M06\", \n",
    "         enddate = \"2017M12\",     \n",
    "         freq = \"M\", \n",
    "         POSIXct = TRUE)"
   ]
  },
  {
   "cell_type": "code",
   "execution_count": 4,
   "metadata": {},
   "outputs": [
    {
     "data": {
      "text/html": [
       "<table>\n",
       "<thead><tr><th scope=col>iso3c</th><th scope=col>date</th><th scope=col>value</th><th scope=col>indicatorID</th><th scope=col>indicator</th><th scope=col>iso2c</th><th scope=col>country</th><th scope=col>date_ct</th><th scope=col>granularity</th></tr></thead>\n",
       "<tbody>\n",
       "\t<tr><td>WLD                               </td><td>2017M10                           </td><td>57.62                             </td><td>CRUDE_BRENT                       </td><td>Crude oil, Brendt, $/bbl, nominal$</td><td>1W                                </td><td>World                             </td><td>2017-10-01                        </td><td>monthly                           </td></tr>\n",
       "</tbody>\n",
       "</table>\n"
      ],
      "text/latex": [
       "\\begin{tabular}{r|lllllllll}\n",
       " iso3c & date & value & indicatorID & indicator & iso2c & country & date\\_ct & granularity\\\\\n",
       "\\hline\n",
       "\t WLD                                    & 2017M10                                & 57.62                                  & CRUDE\\_BRENT                          & Crude oil, Brendt, \\$/bbl, nominal\\$ & 1W                                     & World                                  & 2017-10-01                             & monthly                               \\\\\n",
       "\\end{tabular}\n"
      ],
      "text/markdown": [
       "\n",
       "iso3c | date | value | indicatorID | indicator | iso2c | country | date_ct | granularity | \n",
       "|---|\n",
       "| WLD                                | 2017M10                            | 57.62                              | CRUDE_BRENT                        | Crude oil, Brendt, $/bbl, nominal$ | 1W                                 | World                              | 2017-10-01                         | monthly                            | \n",
       "\n",
       "\n"
      ],
      "text/plain": [
       "  iso3c date    value indicatorID indicator                          iso2c\n",
       "1 WLD   2017M10 57.62 CRUDE_BRENT Crude oil, Brendt, $/bbl, nominal$ 1W   \n",
       "  country date_ct    granularity\n",
       "1 World   2017-10-01 monthly    "
      ]
     },
     "metadata": {},
     "output_type": "display_data"
    }
   ],
   "source": [
    "head(veri,1)"
   ]
  },
  {
   "cell_type": "code",
   "execution_count": 5,
   "metadata": {},
   "outputs": [
    {
     "data": {
      "text/html": [
       "<table>\n",
       "<thead><tr><th></th><th scope=col>iso3c</th><th scope=col>date</th><th scope=col>value</th><th scope=col>indicatorID</th><th scope=col>indicator</th><th scope=col>iso2c</th><th scope=col>country</th><th scope=col>date_ct</th><th scope=col>granularity</th></tr></thead>\n",
       "<tbody>\n",
       "\t<tr><th scope=row>274</th><td>WLD                                   </td><td>2006M06                               </td><td>8.29                                  </td><td>NGAS_EUR                              </td><td>Natural gas, Europe, $/mmbtu, nominal$</td><td>1W                                    </td><td>World                                 </td><td>2006-06-01                            </td><td>monthly                               </td></tr>\n",
       "</tbody>\n",
       "</table>\n"
      ],
      "text/latex": [
       "\\begin{tabular}{r|lllllllll}\n",
       "  & iso3c & date & value & indicatorID & indicator & iso2c & country & date\\_ct & granularity\\\\\n",
       "\\hline\n",
       "\t274 & WLD                                        & 2006M06                                    & 8.29                                       & NGAS\\_EUR                                 & Natural gas, Europe, \\$/mmbtu, nominal\\$ & 1W                                         & World                                      & 2006-06-01                                 & monthly                                   \\\\\n",
       "\\end{tabular}\n"
      ],
      "text/markdown": [
       "\n",
       "| <!--/--> | iso3c | date | value | indicatorID | indicator | iso2c | country | date_ct | granularity | \n",
       "|---|\n",
       "| 274 | WLD                                    | 2006M06                                | 8.29                                   | NGAS_EUR                               | Natural gas, Europe, $/mmbtu, nominal$ | 1W                                     | World                                  | 2006-06-01                             | monthly                                | \n",
       "\n",
       "\n"
      ],
      "text/plain": [
       "    iso3c date    value indicatorID indicator                             \n",
       "274 WLD   2006M06 8.29  NGAS_EUR    Natural gas, Europe, $/mmbtu, nominal$\n",
       "    iso2c country date_ct    granularity\n",
       "274 1W    World   2006-06-01 monthly    "
      ]
     },
     "metadata": {},
     "output_type": "display_data"
    }
   ],
   "source": [
    "tail(veri,1)"
   ]
  },
  {
   "cell_type": "code",
   "execution_count": 6,
   "metadata": {},
   "outputs": [
    {
     "name": "stderr",
     "output_type": "stream",
     "text": [
      "Installing package into '/home/nbuser/R'\n",
      "(as 'lib' is unspecified)\n"
     ]
    }
   ],
   "source": [
    "install.packages(\"reshape2\")\n"
   ]
  },
  {
   "cell_type": "code",
   "execution_count": 7,
   "metadata": {
    "collapsed": true
   },
   "outputs": [],
   "source": [
    "library(reshape2)"
   ]
  },
  {
   "cell_type": "code",
   "execution_count": 8,
   "metadata": {
    "collapsed": true
   },
   "outputs": [],
   "source": [
    "sonsutun<-dcast(veri,date~indicatorID, value.var='value')"
   ]
  },
  {
   "cell_type": "code",
   "execution_count": 9,
   "metadata": {},
   "outputs": [
    {
     "data": {
      "image/png": "[encoded data removed]"
     },
     "metadata": {},
     "output_type": "display_data"
    }
   ],
   "source": [
    "plot(sonsutun[,2],type=\"l\")"
   ]
  },
  {
   "cell_type": "code",
   "execution_count": 10,
   "metadata": {},
   "outputs": [
    {
     "data": {
      "text/html": [
       "<table>\n",
       "<thead><tr><th></th><th scope=col>CRUDE_BRENT</th><th scope=col>NGAS_EUR</th></tr></thead>\n",
       "<tbody>\n",
       "\t<tr><th scope=row>CRUDE_BRENT</th><td>1.0000000</td><td>0.6970207</td></tr>\n",
       "\t<tr><th scope=row>NGAS_EUR</th><td>0.6970207</td><td>1.0000000</td></tr>\n",
       "</tbody>\n",
       "</table>\n"
      ],
      "text/latex": [
       "\\begin{tabular}{r|ll}\n",
       "  & CRUDE\\_BRENT & NGAS\\_EUR\\\\\n",
       "\\hline\n",
       "\tCRUDE\\_BRENT & 1.0000000 & 0.6970207\\\\\n",
       "\tNGAS\\_EUR & 0.6970207 & 1.0000000\\\\\n",
       "\\end{tabular}\n"
      ],
      "text/markdown": [
       "\n",
       "| <!--/--> | CRUDE_BRENT | NGAS_EUR | \n",
       "|---|---|\n",
       "| CRUDE_BRENT | 1.0000000 | 0.6970207 | \n",
       "| NGAS_EUR | 0.6970207 | 1.0000000 | \n",
       "\n",
       "\n"
      ],
      "text/plain": [
       "            CRUDE_BRENT NGAS_EUR \n",
       "CRUDE_BRENT 1.0000000   0.6970207\n",
       "NGAS_EUR    0.6970207   1.0000000"
      ]
     },
     "metadata": {},
     "output_type": "display_data"
    }
   ],
   "source": [
    "cor(sonsutun[,2:3])"
   ]
  },
  {
   "cell_type": "code",
   "execution_count": 172,
   "metadata": {},
   "outputs": [
    {
     "data": {
      "text/html": [
       "<table>\n",
       "<thead><tr><th scope=col>date</th><th scope=col>COAL_SAFRICA</th><th scope=col>CRUDE_BRENT</th><th scope=col>NGAS_EUR</th></tr></thead>\n",
       "<tbody>\n",
       "\t<tr><td>2006M06 </td><td>52.375  </td><td>68.85773</td><td>8.29    </td></tr>\n",
       "\t<tr><td>2006M07 </td><td>51.680  </td><td>73.89714</td><td>8.58    </td></tr>\n",
       "</tbody>\n",
       "</table>\n"
      ],
      "text/latex": [
       "\\begin{tabular}{r|llll}\n",
       " date & COAL\\_SAFRICA & CRUDE\\_BRENT & NGAS\\_EUR\\\\\n",
       "\\hline\n",
       "\t 2006M06  & 52.375   & 68.85773 & 8.29    \\\\\n",
       "\t 2006M07  & 51.680   & 73.89714 & 8.58    \\\\\n",
       "\\end{tabular}\n"
      ],
      "text/markdown": [
       "\n",
       "date | COAL_SAFRICA | CRUDE_BRENT | NGAS_EUR | \n",
       "|---|---|\n",
       "| 2006M06  | 52.375   | 68.85773 | 8.29     | \n",
       "| 2006M07  | 51.680   | 73.89714 | 8.58     | \n",
       "\n",
       "\n"
      ],
      "text/plain": [
       "  date    COAL_SAFRICA CRUDE_BRENT NGAS_EUR\n",
       "1 2006M06 52.375       68.85773    8.29    \n",
       "2 2006M07 51.680       73.89714    8.58    "
      ]
     },
     "metadata": {},
     "output_type": "display_data"
    }
   ],
   "source": [
    "veri<-wb(indicator = c(\"CRUDE_BRENT\",\"NGAS_EUR\",\"COAL_SAFRICA\"),\n",
    "         startdate = \"2006M06\", \n",
    "         enddate = \"2017M10\",     \n",
    "         freq = \"M\", \n",
    "         POSIXct = TRUE)\n",
    "\n",
    "sonsutun<-dcast(veri,date~indicatorID, value.var='value')\n",
    "\n",
    "head(sonsutun,2)"
   ]
  },
  {
   "cell_type": "code",
   "execution_count": 174,
   "metadata": {},
   "outputs": [
    {
     "data": {
      "text/html": [
       "<table>\n",
       "<thead><tr><th></th><th scope=col>COAL_SAFRICA</th><th scope=col>CRUDE_BRENT</th><th scope=col>NGAS_EUR</th></tr></thead>\n",
       "<tbody>\n",
       "\t<tr><th scope=row>COAL_SAFRICA</th><td>1.0000000</td><td>0.6730969</td><td>0.5433554</td></tr>\n",
       "\t<tr><th scope=row>CRUDE_BRENT</th><td>0.6730969</td><td>1.0000000</td><td>0.6970207</td></tr>\n",
       "\t<tr><th scope=row>NGAS_EUR</th><td>0.5433554</td><td>0.6970207</td><td>1.0000000</td></tr>\n",
       "</tbody>\n",
       "</table>\n"
      ],
      "text/latex": [
       "\\begin{tabular}{r|lll}\n",
       "  & COAL\\_SAFRICA & CRUDE\\_BRENT & NGAS\\_EUR\\\\\n",
       "\\hline\n",
       "\tCOAL\\_SAFRICA & 1.0000000 & 0.6730969 & 0.5433554\\\\\n",
       "\tCRUDE\\_BRENT & 0.6730969 & 1.0000000 & 0.6970207\\\\\n",
       "\tNGAS\\_EUR & 0.5433554 & 0.6970207 & 1.0000000\\\\\n",
       "\\end{tabular}\n"
      ],
      "text/markdown": [
       "\n",
       "| <!--/--> | COAL_SAFRICA | CRUDE_BRENT | NGAS_EUR | \n",
       "|---|---|---|\n",
       "| COAL_SAFRICA | 1.0000000 | 0.6730969 | 0.5433554 | \n",
       "| CRUDE_BRENT | 0.6730969 | 1.0000000 | 0.6970207 | \n",
       "| NGAS_EUR | 0.5433554 | 0.6970207 | 1.0000000 | \n",
       "\n",
       "\n"
      ],
      "text/plain": [
       "             COAL_SAFRICA CRUDE_BRENT NGAS_EUR \n",
       "COAL_SAFRICA 1.0000000    0.6730969   0.5433554\n",
       "CRUDE_BRENT  0.6730969    1.0000000   0.6970207\n",
       "NGAS_EUR     0.5433554    0.6970207   1.0000000"
      ]
     },
     "metadata": {},
     "output_type": "display_data"
    }
   ],
   "source": [
    "cor(sonsutun[,2:4], use=\"complete.obs\")"
   ]
  },
  {
   "cell_type": "code",
   "execution_count": 179,
   "metadata": {},
   "outputs": [
    {
     "data": {
      "image/png": "[encoded data removed]"
     },
     "metadata": {},
     "output_type": "display_data"
    }
   ],
   "source": [
    "plot(sonsutun$COAL_SAFRICA, type=\"l\", \n",
    "                             col=\"blue\", \n",
    "     xlab=\"tarih\", ylab=\"$/ton\", main=\"GuneyAfrika Komur Fiyati\")"
   ]
  },
  {
   "cell_type": "code",
   "execution_count": 180,
   "metadata": {},
   "outputs": [
    {
     "data": {
      "text/html": [
       "<table>\n",
       "<thead><tr><th></th><th scope=col>COAL_SAFRICA</th><th scope=col>CRUDE_BRENT</th><th scope=col>NGAS_EUR</th></tr></thead>\n",
       "<tbody>\n",
       "\t<tr><th scope=row>COAL_SAFRICA</th><td>1.0000000</td><td>0.6730969</td><td>0.5433554</td></tr>\n",
       "\t<tr><th scope=row>CRUDE_BRENT</th><td>0.6730969</td><td>1.0000000</td><td>0.6970207</td></tr>\n",
       "\t<tr><th scope=row>NGAS_EUR</th><td>0.5433554</td><td>0.6970207</td><td>1.0000000</td></tr>\n",
       "</tbody>\n",
       "</table>\n"
      ],
      "text/latex": [
       "\\begin{tabular}{r|lll}\n",
       "  & COAL\\_SAFRICA & CRUDE\\_BRENT & NGAS\\_EUR\\\\\n",
       "\\hline\n",
       "\tCOAL\\_SAFRICA & 1.0000000 & 0.6730969 & 0.5433554\\\\\n",
       "\tCRUDE\\_BRENT & 0.6730969 & 1.0000000 & 0.6970207\\\\\n",
       "\tNGAS\\_EUR & 0.5433554 & 0.6970207 & 1.0000000\\\\\n",
       "\\end{tabular}\n"
      ],
      "text/markdown": [
       "\n",
       "| <!--/--> | COAL_SAFRICA | CRUDE_BRENT | NGAS_EUR | \n",
       "|---|---|---|\n",
       "| COAL_SAFRICA | 1.0000000 | 0.6730969 | 0.5433554 | \n",
       "| CRUDE_BRENT | 0.6730969 | 1.0000000 | 0.6970207 | \n",
       "| NGAS_EUR | 0.5433554 | 0.6970207 | 1.0000000 | \n",
       "\n",
       "\n"
      ],
      "text/plain": [
       "             COAL_SAFRICA CRUDE_BRENT NGAS_EUR \n",
       "COAL_SAFRICA 1.0000000    0.6730969   0.5433554\n",
       "CRUDE_BRENT  0.6730969    1.0000000   0.6970207\n",
       "NGAS_EUR     0.5433554    0.6970207   1.0000000"
      ]
     },
     "metadata": {},
     "output_type": "display_data"
    }
   ],
   "source": [
    "cor(sonsutun[,2:4])"
   ]
  },
  {
   "cell_type": "code",
   "execution_count": 11,
   "metadata": {},
   "outputs": [
    {
     "ename": "ERROR",
     "evalue": "Error in `[.data.frame`(sonsutun, , 2:4): undefined columns selected\n",
     "output_type": "error",
     "traceback": [
      "Error in `[.data.frame`(sonsutun, , 2:4): undefined columns selected\nTraceback:\n",
      "1. ts(sonsutun[, 2:4], start = c(2006, 6), frequency = 12)",
      "2. is.data.frame(data)",
      "3. sonsutun[, 2:4]",
      "4. `[.data.frame`(sonsutun, , 2:4)",
      "5. stop(\"undefined columns selected\")"
     ]
    }
   ],
   "source": [
    "sonsutun_ts<-ts(sonsutun[,2:4], start=c(2006,06), frequency=12 )"
   ]
  },
  {
   "cell_type": "code",
   "execution_count": 202,
   "metadata": {},
   "outputs": [
    {
     "data": {
      "text/plain": [
       "     Jan Feb Mar Apr May Jun Jul Aug Sep Oct Nov Dec\n",
       "2006                       6   7   8   9  10  11  12\n",
       "2007   1   2   3   4   5   6   7   8   9  10  11  12\n",
       "2008   1   2   3   4   5   6   7   8   9  10  11  12\n",
       "2009   1   2   3   4   5   6   7   8   9  10  11  12\n",
       "2010   1   2   3   4   5   6   7   8   9  10  11  12\n",
       "2011   1   2   3   4   5   6   7   8   9  10  11  12\n",
       "2012   1   2   3   4   5   6   7   8   9  10  11  12\n",
       "2013   1   2   3   4   5   6   7   8   9  10  11  12\n",
       "2014   1   2   3   4   5   6   7   8   9  10  11  12\n",
       "2015   1   2   3   4   5   6   7   8   9  10  11  12\n",
       "2016   1   2   3   4   5   6   7   8   9  10  11  12\n",
       "2017   1   2   3   4   5   6   7   8   9  10        "
      ]
     },
     "metadata": {},
     "output_type": "display_data"
    }
   ],
   "source": [
    "cycle(sonsutun_ts)"
   ]
  },
  {
   "cell_type": "code",
   "execution_count": 201,
   "metadata": {},
   "outputs": [
    {
     "data": {
      "image/png": "[encoded data removed]"
     },
     "metadata": {},
     "output_type": "display_data"
    }
   ],
   "source": [
    "plot(sonsutun_ts)"
   ]
  },
  {
   "cell_type": "code",
   "execution_count": 203,
   "metadata": {
    "collapsed": true
   },
   "outputs": [],
   "source": [
    "library(forecast)"
   ]
  },
  {
   "cell_type": "code",
   "execution_count": 206,
   "metadata": {},
   "outputs": [
    {
     "data": {
      "text/html": [
       "<ol class=list-inline>\n",
       "\t<li>'COAL_SAFRICA'</li>\n",
       "\t<li>'CRUDE_BRENT'</li>\n",
       "\t<li>'NGAS_EUR'</li>\n",
       "</ol>\n"
      ],
      "text/latex": [
       "\\begin{enumerate*}\n",
       "\\item 'COAL\\_SAFRICA'\n",
       "\\item 'CRUDE\\_BRENT'\n",
       "\\item 'NGAS\\_EUR'\n",
       "\\end{enumerate*}\n"
      ],
      "text/markdown": [
       "1. 'COAL_SAFRICA'\n",
       "2. 'CRUDE_BRENT'\n",
       "3. 'NGAS_EUR'\n",
       "\n",
       "\n"
      ],
      "text/plain": [
       "[1] \"COAL_SAFRICA\" \"CRUDE_BRENT\"  \"NGAS_EUR\"    "
      ]
     },
     "metadata": {},
     "output_type": "display_data"
    }
   ],
   "source": [
    "colnames(sonsutun_ts)"
   ]
  },
  {
   "cell_type": "code",
   "execution_count": 212,
   "metadata": {
    "collapsed": true
   },
   "outputs": [],
   "source": [
    "#plot(sonsutun_ts[,2])"
   ]
  },
  {
   "cell_type": "code",
   "execution_count": 209,
   "metadata": {
    "collapsed": true
   },
   "outputs": [],
   "source": [
    "# brent 2. sutun\n",
    "brent_forecast<-ets(sonsutun_ts[,2])"
   ]
  },
  {
   "cell_type": "code",
   "execution_count": 214,
   "metadata": {},
   "outputs": [
    {
     "data": {
      "image/png": "[encoded data removed]"
     },
     "metadata": {},
     "output_type": "display_data"
    }
   ],
   "source": [
    "plot(forecast(brent_forecast,h=10))"
   ]
  },
  {
   "cell_type": "code",
   "execution_count": null,
   "metadata": {
    "collapsed": true
   },
   "outputs": [],
   "source": []
  }
 ],
 "metadata": {
  "kernelspec": {
   "display_name": "R",
   "language": "R",
   "name": "r"
  },
  "language_info": {
   "codemirror_mode": "r",
   "file_extension": ".r",
   "mimetype": "text/x-r-source",
   "name": "R",
   "pygments_lexer": "r",
   "version": "3.3.3"
  }
 },
 "nbformat": 4,
 "nbformat_minor": 2
}
