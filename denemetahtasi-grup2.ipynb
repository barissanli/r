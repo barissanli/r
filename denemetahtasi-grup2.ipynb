{
 "cells": [
  {
   "cell_type": "markdown",
   "metadata": {
    "collapsed": true
   },
   "source": [
    "# İlk Programım\n",
    "\n",
    "Bu programda sırası ile veri analizinde\n",
    "* veri setleri\n",
    "\n",
    "göreceğiz. *yatık*"
   ]
  },
  {
   "cell_type": "code",
   "execution_count": 66,
   "metadata": {},
   "outputs": [
    {
     "data": {
      "text/html": [
       "7"
      ],
      "text/latex": [
       "7"
      ],
      "text/markdown": [
       "7"
      ],
      "text/plain": [
       "[1] 7"
      ]
     },
     "metadata": {},
     "output_type": "display_data"
    }
   ],
   "source": [
    "3+4"
   ]
  },
  {
   "cell_type": "code",
   "execution_count": 67,
   "metadata": {},
   "outputs": [
    {
     "data": {
      "text/html": [
       "2.5875"
      ],
      "text/latex": [
       "2.5875"
      ],
      "text/markdown": [
       "2.5875"
      ],
      "text/plain": [
       "[1] 2.5875"
      ]
     },
     "metadata": {},
     "output_type": "display_data"
    }
   ],
   "source": [
    "20.7/8"
   ]
  },
  {
   "cell_type": "code",
   "execution_count": 68,
   "metadata": {},
   "outputs": [
    {
     "data": {
      "text/html": [
       "Inf"
      ],
      "text/latex": [
       "Inf"
      ],
      "text/markdown": [
       "Inf"
      ],
      "text/plain": [
       "[1] Inf"
      ]
     },
     "metadata": {},
     "output_type": "display_data"
    }
   ],
   "source": [
    "9/0"
   ]
  },
  {
   "cell_type": "code",
   "execution_count": 69,
   "metadata": {},
   "outputs": [
    {
     "data": {
      "text/html": [],
      "text/latex": [],
      "text/markdown": [],
      "text/plain": [
       "numeric(0)"
      ]
     },
     "metadata": {},
     "output_type": "display_data"
    }
   ],
   "source": [
    "9/NULL"
   ]
  },
  {
   "cell_type": "code",
   "execution_count": 70,
   "metadata": {
    "collapsed": true
   },
   "outputs": [],
   "source": [
    "a<-8"
   ]
  },
  {
   "cell_type": "code",
   "execution_count": 71,
   "metadata": {
    "collapsed": true
   },
   "outputs": [],
   "source": [
    "b=9"
   ]
  },
  {
   "cell_type": "code",
   "execution_count": 72,
   "metadata": {},
   "outputs": [
    {
     "data": {
      "text/html": [
       "8"
      ],
      "text/latex": [
       "8"
      ],
      "text/markdown": [
       "8"
      ],
      "text/plain": [
       "[1] 8"
      ]
     },
     "metadata": {},
     "output_type": "display_data"
    },
    {
     "data": {
      "text/html": [
       "9"
      ],
      "text/latex": [
       "9"
      ],
      "text/markdown": [
       "9"
      ],
      "text/plain": [
       "[1] 9"
      ]
     },
     "metadata": {},
     "output_type": "display_data"
    }
   ],
   "source": [
    "a\n",
    "b"
   ]
  },
  {
   "cell_type": "code",
   "execution_count": 73,
   "metadata": {
    "collapsed": true
   },
   "outputs": [],
   "source": [
    "a<-c(8,9)"
   ]
  },
  {
   "cell_type": "code",
   "execution_count": 74,
   "metadata": {},
   "outputs": [
    {
     "data": {
      "text/html": [
       "<ol class=list-inline>\n",
       "\t<li>8</li>\n",
       "\t<li>9</li>\n",
       "</ol>\n"
      ],
      "text/latex": [
       "\\begin{enumerate*}\n",
       "\\item 8\n",
       "\\item 9\n",
       "\\end{enumerate*}\n"
      ],
      "text/markdown": [
       "1. 8\n",
       "2. 9\n",
       "\n",
       "\n"
      ],
      "text/plain": [
       "[1] 8 9"
      ]
     },
     "metadata": {},
     "output_type": "display_data"
    }
   ],
   "source": [
    "a"
   ]
  },
  {
   "cell_type": "code",
   "execution_count": 75,
   "metadata": {},
   "outputs": [
    {
     "data": {
      "text/html": [
       "12"
      ],
      "text/latex": [
       "12"
      ],
      "text/markdown": [
       "12"
      ],
      "text/plain": [
       "[1] 12"
      ]
     },
     "metadata": {},
     "output_type": "display_data"
    }
   ],
   "source": [
    "3*4"
   ]
  },
  {
   "cell_type": "code",
   "execution_count": 76,
   "metadata": {
    "collapsed": true
   },
   "outputs": [],
   "source": [
    "carpim<-3*4"
   ]
  },
  {
   "cell_type": "code",
   "execution_count": 77,
   "metadata": {},
   "outputs": [
    {
     "data": {
      "text/html": [
       "12"
      ],
      "text/latex": [
       "12"
      ],
      "text/markdown": [
       "12"
      ],
      "text/plain": [
       "[1] 12"
      ]
     },
     "metadata": {},
     "output_type": "display_data"
    }
   ],
   "source": [
    "carpim"
   ]
  },
  {
   "cell_type": "code",
   "execution_count": 78,
   "metadata": {
    "collapsed": true
   },
   "outputs": [],
   "source": [
    "petrol<-c(52.1, 54.5 , 65)"
   ]
  },
  {
   "cell_type": "code",
   "execution_count": 79,
   "metadata": {
    "collapsed": true
   },
   "outputs": [],
   "source": [
    "komur<-c(90,92.1,93.7)"
   ]
  },
  {
   "cell_type": "code",
   "execution_count": 80,
   "metadata": {},
   "outputs": [
    {
     "data": {
      "text/html": [
       "<ol class=list-inline>\n",
       "\t<li>90</li>\n",
       "\t<li>92.1</li>\n",
       "\t<li>93.7</li>\n",
       "</ol>\n"
      ],
      "text/latex": [
       "\\begin{enumerate*}\n",
       "\\item 90\n",
       "\\item 92.1\n",
       "\\item 93.7\n",
       "\\end{enumerate*}\n"
      ],
      "text/markdown": [
       "1. 90\n",
       "2. 92.1\n",
       "3. 93.7\n",
       "\n",
       "\n"
      ],
      "text/plain": [
       "[1] 90.0 92.1 93.7"
      ]
     },
     "metadata": {},
     "output_type": "display_data"
    },
    {
     "data": {
      "text/html": [
       "<ol class=list-inline>\n",
       "\t<li>52.1</li>\n",
       "\t<li>54.5</li>\n",
       "\t<li>65</li>\n",
       "</ol>\n"
      ],
      "text/latex": [
       "\\begin{enumerate*}\n",
       "\\item 52.1\n",
       "\\item 54.5\n",
       "\\item 65\n",
       "\\end{enumerate*}\n"
      ],
      "text/markdown": [
       "1. 52.1\n",
       "2. 54.5\n",
       "3. 65\n",
       "\n",
       "\n"
      ],
      "text/plain": [
       "[1] 52.1 54.5 65.0"
      ]
     },
     "metadata": {},
     "output_type": "display_data"
    }
   ],
   "source": [
    "komur\n",
    "petrol"
   ]
  },
  {
   "cell_type": "code",
   "execution_count": 81,
   "metadata": {},
   "outputs": [
    {
     "data": {
      "text/html": [
       "<ol class=list-inline>\n",
       "\t<li>4689</li>\n",
       "\t<li>5019.45</li>\n",
       "\t<li>6090.5</li>\n",
       "</ol>\n"
      ],
      "text/latex": [
       "\\begin{enumerate*}\n",
       "\\item 4689\n",
       "\\item 5019.45\n",
       "\\item 6090.5\n",
       "\\end{enumerate*}\n"
      ],
      "text/markdown": [
       "1. 4689\n",
       "2. 5019.45\n",
       "3. 6090.5\n",
       "\n",
       "\n"
      ],
      "text/plain": [
       "[1] 4689.00 5019.45 6090.50"
      ]
     },
     "metadata": {},
     "output_type": "display_data"
    }
   ],
   "source": [
    "komur*petrol"
   ]
  },
  {
   "cell_type": "code",
   "execution_count": 82,
   "metadata": {
    "collapsed": true
   },
   "outputs": [],
   "source": [
    "tlkur<-c(3.9, 3.7 , 3.4)"
   ]
  },
  {
   "cell_type": "code",
   "execution_count": 83,
   "metadata": {},
   "outputs": [
    {
     "data": {
      "text/html": [
       "<ol class=list-inline>\n",
       "\t<li>90</li>\n",
       "\t<li>92.1</li>\n",
       "\t<li>93.7</li>\n",
       "</ol>\n"
      ],
      "text/latex": [
       "\\begin{enumerate*}\n",
       "\\item 90\n",
       "\\item 92.1\n",
       "\\item 93.7\n",
       "\\end{enumerate*}\n"
      ],
      "text/markdown": [
       "1. 90\n",
       "2. 92.1\n",
       "3. 93.7\n",
       "\n",
       "\n"
      ],
      "text/plain": [
       "[1] 90.0 92.1 93.7"
      ]
     },
     "metadata": {},
     "output_type": "display_data"
    },
    {
     "data": {
      "text/html": [
       "<ol class=list-inline>\n",
       "\t<li>52.1</li>\n",
       "\t<li>54.5</li>\n",
       "\t<li>65</li>\n",
       "</ol>\n"
      ],
      "text/latex": [
       "\\begin{enumerate*}\n",
       "\\item 52.1\n",
       "\\item 54.5\n",
       "\\item 65\n",
       "\\end{enumerate*}\n"
      ],
      "text/markdown": [
       "1. 52.1\n",
       "2. 54.5\n",
       "3. 65\n",
       "\n",
       "\n"
      ],
      "text/plain": [
       "[1] 52.1 54.5 65.0"
      ]
     },
     "metadata": {},
     "output_type": "display_data"
    },
    {
     "data": {
      "text/html": [
       "<ol class=list-inline>\n",
       "\t<li>3.9</li>\n",
       "\t<li>3.7</li>\n",
       "\t<li>3.4</li>\n",
       "</ol>\n"
      ],
      "text/latex": [
       "\\begin{enumerate*}\n",
       "\\item 3.9\n",
       "\\item 3.7\n",
       "\\item 3.4\n",
       "\\end{enumerate*}\n"
      ],
      "text/markdown": [
       "1. 3.9\n",
       "2. 3.7\n",
       "3. 3.4\n",
       "\n",
       "\n"
      ],
      "text/plain": [
       "[1] 3.9 3.7 3.4"
      ]
     },
     "metadata": {},
     "output_type": "display_data"
    }
   ],
   "source": [
    "komur\n",
    "petrol \n",
    "tlkur"
   ]
  },
  {
   "cell_type": "code",
   "execution_count": 84,
   "metadata": {},
   "outputs": [
    {
     "data": {
      "image/png": "[encoded data removed]"
     },
     "metadata": {},
     "output_type": "display_data"
    }
   ],
   "source": [
    "plot(komur ,type=\"l\")"
   ]
  },
  {
   "cell_type": "code",
   "execution_count": 85,
   "metadata": {
    "collapsed": true
   },
   "outputs": [],
   "source": [
    "yil<-c(2015,2016,2017)"
   ]
  },
  {
   "cell_type": "code",
   "execution_count": 86,
   "metadata": {},
   "outputs": [
    {
     "data": {
      "image/png": "[encoded data removed]"
     },
     "metadata": {},
     "output_type": "display_data"
    }
   ],
   "source": [
    "plot(x=yil, y=petrol)"
   ]
  },
  {
   "cell_type": "code",
   "execution_count": 87,
   "metadata": {},
   "outputs": [
    {
     "data": {
      "text/html": [
       "<table>\n",
       "<tbody>\n",
       "\t<tr><th scope=row>petrol</th><td>52.1</td><td>54.5</td><td>65.0</td></tr>\n",
       "\t<tr><th scope=row>komur</th><td>90.0</td><td>92.1</td><td>93.7</td></tr>\n",
       "\t<tr><th scope=row>tlkur</th><td> 3.9</td><td> 3.7</td><td> 3.4</td></tr>\n",
       "</tbody>\n",
       "</table>\n"
      ],
      "text/latex": [
       "\\begin{tabular}{r|lll}\n",
       "\tpetrol & 52.1 & 54.5 & 65.0\\\\\n",
       "\tkomur & 90.0 & 92.1 & 93.7\\\\\n",
       "\ttlkur &  3.9 &  3.7 &  3.4\\\\\n",
       "\\end{tabular}\n"
      ],
      "text/markdown": [
       "\n",
       "| petrol | 52.1 | 54.5 | 65.0 | \n",
       "| komur | 90.0 | 92.1 | 93.7 | \n",
       "| tlkur |  3.9 |  3.7 |  3.4 | \n",
       "\n",
       "\n"
      ],
      "text/plain": [
       "       [,1] [,2] [,3]\n",
       "petrol 52.1 54.5 65.0\n",
       "komur  90.0 92.1 93.7\n",
       "tlkur   3.9  3.7  3.4"
      ]
     },
     "metadata": {},
     "output_type": "display_data"
    }
   ],
   "source": [
    "rbind(petrol,komur,tlkur)"
   ]
  },
  {
   "cell_type": "code",
   "execution_count": 88,
   "metadata": {
    "collapsed": true
   },
   "outputs": [],
   "source": [
    "emtia<-cbind(petrol,komur,tlkur)"
   ]
  },
  {
   "cell_type": "code",
   "execution_count": 89,
   "metadata": {},
   "outputs": [
    {
     "data": {
      "text/html": [
       "<table>\n",
       "<thead><tr><th scope=col>petrol</th><th scope=col>komur</th><th scope=col>tlkur</th></tr></thead>\n",
       "<tbody>\n",
       "\t<tr><td>52.1</td><td>90.0</td><td>3.9 </td></tr>\n",
       "\t<tr><td>54.5</td><td>92.1</td><td>3.7 </td></tr>\n",
       "\t<tr><td>65.0</td><td>93.7</td><td>3.4 </td></tr>\n",
       "</tbody>\n",
       "</table>\n"
      ],
      "text/latex": [
       "\\begin{tabular}{lll}\n",
       " petrol & komur & tlkur\\\\\n",
       "\\hline\n",
       "\t 52.1 & 90.0 & 3.9 \\\\\n",
       "\t 54.5 & 92.1 & 3.7 \\\\\n",
       "\t 65.0 & 93.7 & 3.4 \\\\\n",
       "\\end{tabular}\n"
      ],
      "text/markdown": [
       "\n",
       "petrol | komur | tlkur | \n",
       "|---|---|---|\n",
       "| 52.1 | 90.0 | 3.9  | \n",
       "| 54.5 | 92.1 | 3.7  | \n",
       "| 65.0 | 93.7 | 3.4  | \n",
       "\n",
       "\n"
      ],
      "text/plain": [
       "     petrol komur tlkur\n",
       "[1,] 52.1   90.0  3.9  \n",
       "[2,] 54.5   92.1  3.7  \n",
       "[3,] 65.0   93.7  3.4  "
      ]
     },
     "metadata": {},
     "output_type": "display_data"
    }
   ],
   "source": [
    "emtia"
   ]
  },
  {
   "cell_type": "code",
   "execution_count": 90,
   "metadata": {},
   "outputs": [
    {
     "data": {
      "text/html": [
       "<ol class=list-inline>\n",
       "\t<li>2</li>\n",
       "\t<li>3</li>\n",
       "\t<li>4</li>\n",
       "\t<li>5</li>\n",
       "</ol>\n"
      ],
      "text/latex": [
       "\\begin{enumerate*}\n",
       "\\item 2\n",
       "\\item 3\n",
       "\\item 4\n",
       "\\item 5\n",
       "\\end{enumerate*}\n"
      ],
      "text/markdown": [
       "1. 2\n",
       "2. 3\n",
       "3. 4\n",
       "4. 5\n",
       "\n",
       "\n"
      ],
      "text/plain": [
       "[1] 2 3 4 5"
      ]
     },
     "metadata": {},
     "output_type": "display_data"
    }
   ],
   "source": [
    "2:5"
   ]
  },
  {
   "cell_type": "code",
   "execution_count": 91,
   "metadata": {},
   "outputs": [
    {
     "data": {
      "text/html": [
       "<ol class=list-inline>\n",
       "\t<li>3.9</li>\n",
       "\t<li>3.7</li>\n",
       "\t<li>3.4</li>\n",
       "</ol>\n"
      ],
      "text/latex": [
       "\\begin{enumerate*}\n",
       "\\item 3.9\n",
       "\\item 3.7\n",
       "\\item 3.4\n",
       "\\end{enumerate*}\n"
      ],
      "text/markdown": [
       "1. 3.9\n",
       "2. 3.7\n",
       "3. 3.4\n",
       "\n",
       "\n"
      ],
      "text/plain": [
       "[1] 3.9 3.7 3.4"
      ]
     },
     "metadata": {},
     "output_type": "display_data"
    }
   ],
   "source": [
    "emtia[,3]"
   ]
  },
  {
   "cell_type": "code",
   "execution_count": 92,
   "metadata": {},
   "outputs": [
    {
     "data": {
      "text/html": [
       "<table>\n",
       "<thead><tr><th scope=col>petrol</th><th scope=col>komur</th></tr></thead>\n",
       "<tbody>\n",
       "\t<tr><td>52.1</td><td>90.0</td></tr>\n",
       "\t<tr><td>54.5</td><td>92.1</td></tr>\n",
       "\t<tr><td>65.0</td><td>93.7</td></tr>\n",
       "</tbody>\n",
       "</table>\n"
      ],
      "text/latex": [
       "\\begin{tabular}{ll}\n",
       " petrol & komur\\\\\n",
       "\\hline\n",
       "\t 52.1 & 90.0\\\\\n",
       "\t 54.5 & 92.1\\\\\n",
       "\t 65.0 & 93.7\\\\\n",
       "\\end{tabular}\n"
      ],
      "text/markdown": [
       "\n",
       "petrol | komur | \n",
       "|---|---|---|\n",
       "| 52.1 | 90.0 | \n",
       "| 54.5 | 92.1 | \n",
       "| 65.0 | 93.7 | \n",
       "\n",
       "\n"
      ],
      "text/plain": [
       "     petrol komur\n",
       "[1,] 52.1   90.0 \n",
       "[2,] 54.5   92.1 \n",
       "[3,] 65.0   93.7 "
      ]
     },
     "metadata": {},
     "output_type": "display_data"
    }
   ],
   "source": [
    "emtia[,1:2]"
   ]
  },
  {
   "cell_type": "code",
   "execution_count": 93,
   "metadata": {},
   "outputs": [
    {
     "data": {
      "text/html": [
       "<ol class=list-inline>\n",
       "\t<li>1</li>\n",
       "\t<li>3</li>\n",
       "</ol>\n"
      ],
      "text/latex": [
       "\\begin{enumerate*}\n",
       "\\item 1\n",
       "\\item 3\n",
       "\\end{enumerate*}\n"
      ],
      "text/markdown": [
       "1. 1\n",
       "2. 3\n",
       "\n",
       "\n"
      ],
      "text/plain": [
       "[1] 1 3"
      ]
     },
     "metadata": {},
     "output_type": "display_data"
    }
   ],
   "source": [
    "c(1,3)"
   ]
  },
  {
   "cell_type": "code",
   "execution_count": 94,
   "metadata": {},
   "outputs": [
    {
     "data": {
      "text/html": [
       "<table>\n",
       "<thead><tr><th scope=col>petrol</th><th scope=col>tlkur</th></tr></thead>\n",
       "<tbody>\n",
       "\t<tr><td>52.1</td><td>3.9 </td></tr>\n",
       "\t<tr><td>54.5</td><td>3.7 </td></tr>\n",
       "\t<tr><td>65.0</td><td>3.4 </td></tr>\n",
       "</tbody>\n",
       "</table>\n"
      ],
      "text/latex": [
       "\\begin{tabular}{ll}\n",
       " petrol & tlkur\\\\\n",
       "\\hline\n",
       "\t 52.1 & 3.9 \\\\\n",
       "\t 54.5 & 3.7 \\\\\n",
       "\t 65.0 & 3.4 \\\\\n",
       "\\end{tabular}\n"
      ],
      "text/markdown": [
       "\n",
       "petrol | tlkur | \n",
       "|---|---|---|\n",
       "| 52.1 | 3.9  | \n",
       "| 54.5 | 3.7  | \n",
       "| 65.0 | 3.4  | \n",
       "\n",
       "\n"
      ],
      "text/plain": [
       "     petrol tlkur\n",
       "[1,] 52.1   3.9  \n",
       "[2,] 54.5   3.7  \n",
       "[3,] 65.0   3.4  "
      ]
     },
     "metadata": {},
     "output_type": "display_data"
    }
   ],
   "source": [
    "emtia[,c(1,3)]"
   ]
  },
  {
   "cell_type": "code",
   "execution_count": 95,
   "metadata": {},
   "outputs": [
    {
     "data": {
      "text/html": [
       "<table>\n",
       "<thead><tr><th scope=col>petrol</th><th scope=col>komur</th><th scope=col>tlkur</th></tr></thead>\n",
       "<tbody>\n",
       "\t<tr><td>52.1</td><td>90.0</td><td>3.9 </td></tr>\n",
       "\t<tr><td>54.5</td><td>92.1</td><td>3.7 </td></tr>\n",
       "\t<tr><td>65.0</td><td>93.7</td><td>3.4 </td></tr>\n",
       "</tbody>\n",
       "</table>\n"
      ],
      "text/latex": [
       "\\begin{tabular}{lll}\n",
       " petrol & komur & tlkur\\\\\n",
       "\\hline\n",
       "\t 52.1 & 90.0 & 3.9 \\\\\n",
       "\t 54.5 & 92.1 & 3.7 \\\\\n",
       "\t 65.0 & 93.7 & 3.4 \\\\\n",
       "\\end{tabular}\n"
      ],
      "text/markdown": [
       "\n",
       "petrol | komur | tlkur | \n",
       "|---|---|---|\n",
       "| 52.1 | 90.0 | 3.9  | \n",
       "| 54.5 | 92.1 | 3.7  | \n",
       "| 65.0 | 93.7 | 3.4  | \n",
       "\n",
       "\n"
      ],
      "text/plain": [
       "     petrol komur tlkur\n",
       "[1,] 52.1   90.0  3.9  \n",
       "[2,] 54.5   92.1  3.7  \n",
       "[3,] 65.0   93.7  3.4  "
      ]
     },
     "metadata": {},
     "output_type": "display_data"
    }
   ],
   "source": [
    "emtia[,]"
   ]
  },
  {
   "cell_type": "code",
   "execution_count": 96,
   "metadata": {
    "collapsed": true
   },
   "outputs": [],
   "source": [
    "edf<-data.frame(emtia)"
   ]
  },
  {
   "cell_type": "code",
   "execution_count": 97,
   "metadata": {},
   "outputs": [
    {
     "data": {
      "text/html": [
       "<table>\n",
       "<thead><tr><th></th><th scope=col>petrol</th><th scope=col>komur</th><th scope=col>tlkur</th></tr></thead>\n",
       "<tbody>\n",
       "\t<tr><th scope=row>petrol</th><td> 1.0000000</td><td> 0.9107708</td><td>-0.9730183</td></tr>\n",
       "\t<tr><th scope=row>komur</th><td> 0.9107708</td><td> 1.0000000</td><td>-0.9814671</td></tr>\n",
       "\t<tr><th scope=row>tlkur</th><td>-0.9730183</td><td>-0.9814671</td><td> 1.0000000</td></tr>\n",
       "</tbody>\n",
       "</table>\n"
      ],
      "text/latex": [
       "\\begin{tabular}{r|lll}\n",
       "  & petrol & komur & tlkur\\\\\n",
       "\\hline\n",
       "\tpetrol &  1.0000000 &  0.9107708 & -0.9730183\\\\\n",
       "\tkomur &  0.9107708 &  1.0000000 & -0.9814671\\\\\n",
       "\ttlkur & -0.9730183 & -0.9814671 &  1.0000000\\\\\n",
       "\\end{tabular}\n"
      ],
      "text/markdown": [
       "\n",
       "| <!--/--> | petrol | komur | tlkur | \n",
       "|---|---|---|\n",
       "| petrol |  1.0000000 |  0.9107708 | -0.9730183 | \n",
       "| komur |  0.9107708 |  1.0000000 | -0.9814671 | \n",
       "| tlkur | -0.9730183 | -0.9814671 |  1.0000000 | \n",
       "\n",
       "\n"
      ],
      "text/plain": [
       "       petrol     komur      tlkur     \n",
       "petrol  1.0000000  0.9107708 -0.9730183\n",
       "komur   0.9107708  1.0000000 -0.9814671\n",
       "tlkur  -0.9730183 -0.9814671  1.0000000"
      ]
     },
     "metadata": {},
     "output_type": "display_data"
    }
   ],
   "source": [
    "cor(edf)"
   ]
  },
  {
   "cell_type": "code",
   "execution_count": 98,
   "metadata": {},
   "outputs": [
    {
     "data": {
      "text/html": [
       "<table>\n",
       "<thead><tr><th scope=col>petrol</th><th scope=col>komur</th><th scope=col>tlkur</th></tr></thead>\n",
       "<tbody>\n",
       "\t<tr><td>52.1</td><td>90.0</td><td>3.9 </td></tr>\n",
       "\t<tr><td>54.5</td><td>92.1</td><td>3.7 </td></tr>\n",
       "\t<tr><td>65.0</td><td>93.7</td><td>3.4 </td></tr>\n",
       "</tbody>\n",
       "</table>\n"
      ],
      "text/latex": [
       "\\begin{tabular}{r|lll}\n",
       " petrol & komur & tlkur\\\\\n",
       "\\hline\n",
       "\t 52.1 & 90.0 & 3.9 \\\\\n",
       "\t 54.5 & 92.1 & 3.7 \\\\\n",
       "\t 65.0 & 93.7 & 3.4 \\\\\n",
       "\\end{tabular}\n"
      ],
      "text/markdown": [
       "\n",
       "petrol | komur | tlkur | \n",
       "|---|---|---|\n",
       "| 52.1 | 90.0 | 3.9  | \n",
       "| 54.5 | 92.1 | 3.7  | \n",
       "| 65.0 | 93.7 | 3.4  | \n",
       "\n",
       "\n"
      ],
      "text/plain": [
       "  petrol komur tlkur\n",
       "1 52.1   90.0  3.9  \n",
       "2 54.5   92.1  3.7  \n",
       "3 65.0   93.7  3.4  "
      ]
     },
     "metadata": {},
     "output_type": "display_data"
    }
   ],
   "source": [
    "edf"
   ]
  },
  {
   "cell_type": "code",
   "execution_count": 99,
   "metadata": {},
   "outputs": [
    {
     "data": {
      "text/html": [
       "<table>\n",
       "<thead><tr><th scope=col>petrol</th><th scope=col>komur</th><th scope=col>tlkur</th></tr></thead>\n",
       "<tbody>\n",
       "\t<tr><td>52.1</td><td>90.0</td><td>3.9 </td></tr>\n",
       "\t<tr><td>54.5</td><td>92.1</td><td>3.7 </td></tr>\n",
       "</tbody>\n",
       "</table>\n"
      ],
      "text/latex": [
       "\\begin{tabular}{r|lll}\n",
       " petrol & komur & tlkur\\\\\n",
       "\\hline\n",
       "\t 52.1 & 90.0 & 3.9 \\\\\n",
       "\t 54.5 & 92.1 & 3.7 \\\\\n",
       "\\end{tabular}\n"
      ],
      "text/markdown": [
       "\n",
       "petrol | komur | tlkur | \n",
       "|---|---|\n",
       "| 52.1 | 90.0 | 3.9  | \n",
       "| 54.5 | 92.1 | 3.7  | \n",
       "\n",
       "\n"
      ],
      "text/plain": [
       "  petrol komur tlkur\n",
       "1 52.1   90.0  3.9  \n",
       "2 54.5   92.1  3.7  "
      ]
     },
     "metadata": {},
     "output_type": "display_data"
    }
   ],
   "source": [
    "edf[edf$petrol<64,]"
   ]
  },
  {
   "cell_type": "code",
   "execution_count": 100,
   "metadata": {
    "collapsed": true
   },
   "outputs": [],
   "source": [
    "edf_yedek<-edf"
   ]
  },
  {
   "cell_type": "code",
   "execution_count": 101,
   "metadata": {},
   "outputs": [
    {
     "data": {
      "text/html": [
       "<table>\n",
       "<thead><tr><th scope=col>petrol</th><th scope=col>komur</th><th scope=col>tlkur</th></tr></thead>\n",
       "<tbody>\n",
       "\t<tr><td>52.1</td><td>90.0</td><td>3.9 </td></tr>\n",
       "\t<tr><td>54.5</td><td>92.1</td><td>3.7 </td></tr>\n",
       "\t<tr><td>65.0</td><td>93.7</td><td>3.4 </td></tr>\n",
       "</tbody>\n",
       "</table>\n"
      ],
      "text/latex": [
       "\\begin{tabular}{r|lll}\n",
       " petrol & komur & tlkur\\\\\n",
       "\\hline\n",
       "\t 52.1 & 90.0 & 3.9 \\\\\n",
       "\t 54.5 & 92.1 & 3.7 \\\\\n",
       "\t 65.0 & 93.7 & 3.4 \\\\\n",
       "\\end{tabular}\n"
      ],
      "text/markdown": [
       "\n",
       "petrol | komur | tlkur | \n",
       "|---|---|---|\n",
       "| 52.1 | 90.0 | 3.9  | \n",
       "| 54.5 | 92.1 | 3.7  | \n",
       "| 65.0 | 93.7 | 3.4  | \n",
       "\n",
       "\n"
      ],
      "text/plain": [
       "  petrol komur tlkur\n",
       "1 52.1   90.0  3.9  \n",
       "2 54.5   92.1  3.7  \n",
       "3 65.0   93.7  3.4  "
      ]
     },
     "metadata": {},
     "output_type": "display_data"
    }
   ],
   "source": [
    "edf"
   ]
  },
  {
   "cell_type": "code",
   "execution_count": 102,
   "metadata": {},
   "outputs": [
    {
     "data": {
      "text/html": [
       "<table>\n",
       "<thead><tr><th></th><th scope=col>petrol</th><th scope=col>komur</th><th scope=col>tlkur</th></tr></thead>\n",
       "<tbody>\n",
       "\t<tr><th scope=row>1</th><td>52.1</td><td>90.0</td><td>3.9 </td></tr>\n",
       "\t<tr><th scope=row>3</th><td>65.0</td><td>93.7</td><td>3.4 </td></tr>\n",
       "</tbody>\n",
       "</table>\n"
      ],
      "text/latex": [
       "\\begin{tabular}{r|lll}\n",
       "  & petrol & komur & tlkur\\\\\n",
       "\\hline\n",
       "\t1 & 52.1 & 90.0 & 3.9 \\\\\n",
       "\t3 & 65.0 & 93.7 & 3.4 \\\\\n",
       "\\end{tabular}\n"
      ],
      "text/markdown": [
       "\n",
       "| <!--/--> | petrol | komur | tlkur | \n",
       "|---|---|\n",
       "| 1 | 52.1 | 90.0 | 3.9  | \n",
       "| 3 | 65.0 | 93.7 | 3.4  | \n",
       "\n",
       "\n"
      ],
      "text/plain": [
       "  petrol komur tlkur\n",
       "1 52.1   90.0  3.9  \n",
       "3 65.0   93.7  3.4  "
      ]
     },
     "metadata": {},
     "output_type": "display_data"
    }
   ],
   "source": [
    "edf[edf$petrol>64 | edf$petrol<53,]"
   ]
  },
  {
   "cell_type": "code",
   "execution_count": 103,
   "metadata": {},
   "outputs": [
    {
     "data": {
      "text/html": [
       "<table>\n",
       "<thead><tr><th></th><th scope=col>petrol</th><th scope=col>komur</th><th scope=col>tlkur</th></tr></thead>\n",
       "<tbody>\n",
       "\t<tr><th scope=row>1</th><td>52.1</td><td>90.0</td><td>3.9 </td></tr>\n",
       "\t<tr><th scope=row>3</th><td>65.0</td><td>93.7</td><td>3.4 </td></tr>\n",
       "</tbody>\n",
       "</table>\n"
      ],
      "text/latex": [
       "\\begin{tabular}{r|lll}\n",
       "  & petrol & komur & tlkur\\\\\n",
       "\\hline\n",
       "\t1 & 52.1 & 90.0 & 3.9 \\\\\n",
       "\t3 & 65.0 & 93.7 & 3.4 \\\\\n",
       "\\end{tabular}\n"
      ],
      "text/markdown": [
       "\n",
       "| <!--/--> | petrol | komur | tlkur | \n",
       "|---|---|\n",
       "| 1 | 52.1 | 90.0 | 3.9  | \n",
       "| 3 | 65.0 | 93.7 | 3.4  | \n",
       "\n",
       "\n"
      ],
      "text/plain": [
       "  petrol komur tlkur\n",
       "1 52.1   90.0  3.9  \n",
       "3 65.0   93.7  3.4  "
      ]
     },
     "metadata": {},
     "output_type": "display_data"
    }
   ],
   "source": [
    "subset(edf, petrol>64 |  petrol<54)"
   ]
  },
  {
   "cell_type": "code",
   "execution_count": 104,
   "metadata": {},
   "outputs": [
    {
     "data": {
      "text/html": [
       "<ol class=list-inline>\n",
       "\t<li>3.9</li>\n",
       "\t<li>3.7</li>\n",
       "\t<li>3.4</li>\n",
       "</ol>\n"
      ],
      "text/latex": [
       "\\begin{enumerate*}\n",
       "\\item 3.9\n",
       "\\item 3.7\n",
       "\\item 3.4\n",
       "\\end{enumerate*}\n"
      ],
      "text/markdown": [
       "1. 3.9\n",
       "2. 3.7\n",
       "3. 3.4\n",
       "\n",
       "\n"
      ],
      "text/plain": [
       "[1] 3.9 3.7 3.4"
      ]
     },
     "metadata": {},
     "output_type": "display_data"
    }
   ],
   "source": [
    "edf[edf$petrol>52,]$tlkur"
   ]
  },
  {
   "cell_type": "code",
   "execution_count": 105,
   "metadata": {},
   "outputs": [
    {
     "data": {
      "text/html": [
       "<ol class=list-inline>\n",
       "\t<li>3.9</li>\n",
       "\t<li>3.7</li>\n",
       "\t<li>3.4</li>\n",
       "</ol>\n"
      ],
      "text/latex": [
       "\\begin{enumerate*}\n",
       "\\item 3.9\n",
       "\\item 3.7\n",
       "\\item 3.4\n",
       "\\end{enumerate*}\n"
      ],
      "text/markdown": [
       "1. 3.9\n",
       "2. 3.7\n",
       "3. 3.4\n",
       "\n",
       "\n"
      ],
      "text/plain": [
       "[1] 3.9 3.7 3.4"
      ]
     },
     "metadata": {},
     "output_type": "display_data"
    }
   ],
   "source": [
    "edf[edf$petrol>52,][,3]"
   ]
  },
  {
   "cell_type": "code",
   "execution_count": 106,
   "metadata": {},
   "outputs": [
    {
     "data": {
      "text/html": [
       "'data.frame'"
      ],
      "text/latex": [
       "'data.frame'"
      ],
      "text/markdown": [
       "'data.frame'"
      ],
      "text/plain": [
       "[1] \"data.frame\""
      ]
     },
     "metadata": {},
     "output_type": "display_data"
    }
   ],
   "source": [
    "class(edf)"
   ]
  },
  {
   "cell_type": "code",
   "execution_count": 107,
   "metadata": {},
   "outputs": [
    {
     "data": {
      "text/html": [
       "<ol class=list-inline>\n",
       "\t<li>'petrol'</li>\n",
       "\t<li>'komur'</li>\n",
       "\t<li>'tlkur'</li>\n",
       "</ol>\n"
      ],
      "text/latex": [
       "\\begin{enumerate*}\n",
       "\\item 'petrol'\n",
       "\\item 'komur'\n",
       "\\item 'tlkur'\n",
       "\\end{enumerate*}\n"
      ],
      "text/markdown": [
       "1. 'petrol'\n",
       "2. 'komur'\n",
       "3. 'tlkur'\n",
       "\n",
       "\n"
      ],
      "text/plain": [
       "[1] \"petrol\" \"komur\"  \"tlkur\" "
      ]
     },
     "metadata": {},
     "output_type": "display_data"
    }
   ],
   "source": [
    "colnames(edf)"
   ]
  },
  {
   "cell_type": "code",
   "execution_count": 108,
   "metadata": {},
   "outputs": [
    {
     "data": {
      "text/plain": [
       "     petrol          komur           tlkur      \n",
       " Min.   :52.10   Min.   :90.00   Min.   :3.400  \n",
       " 1st Qu.:53.30   1st Qu.:91.05   1st Qu.:3.550  \n",
       " Median :54.50   Median :92.10   Median :3.700  \n",
       " Mean   :57.20   Mean   :91.93   Mean   :3.667  \n",
       " 3rd Qu.:59.75   3rd Qu.:92.90   3rd Qu.:3.800  \n",
       " Max.   :65.00   Max.   :93.70   Max.   :3.900  "
      ]
     },
     "metadata": {},
     "output_type": "display_data"
    }
   ],
   "source": [
    "summary(edf)"
   ]
  },
  {
   "cell_type": "code",
   "execution_count": 109,
   "metadata": {},
   "outputs": [
    {
     "data": {
      "image/png": "[encoded data removed]"
     },
     "metadata": {},
     "output_type": "display_data"
    }
   ],
   "source": [
    "hist(edf$petrol)"
   ]
  },
  {
   "cell_type": "code",
   "execution_count": 110,
   "metadata": {
    "collapsed": true
   },
   "outputs": [],
   "source": [
    "?rnorm"
   ]
  },
  {
   "cell_type": "code",
   "execution_count": 111,
   "metadata": {},
   "outputs": [
    {
     "data": {
      "text/html": [
       "<ol class=list-inline>\n",
       "\t<li>6.45488254819107</li>\n",
       "\t<li>7.89992208116088</li>\n",
       "\t<li>5.57328496719876</li>\n",
       "\t<li>2.86357558931651</li>\n",
       "\t<li>3.08230880823279</li>\n",
       "\t<li>2.82326463143573</li>\n",
       "\t<li>5.20324472158268</li>\n",
       "\t<li>9.82386263526431</li>\n",
       "\t<li>6.07288117352793</li>\n",
       "\t<li>8.47260171547722</li>\n",
       "\t<li>4.92627267814531</li>\n",
       "\t<li>10.0331404973115</li>\n",
       "\t<li>6.45303277516144</li>\n",
       "\t<li>-2.45607470092441</li>\n",
       "\t<li>2.09472324921502</li>\n",
       "\t<li>2.1910841481917</li>\n",
       "\t<li>7.85230571216625</li>\n",
       "\t<li>3.12100663625431</li>\n",
       "\t<li>3.50375423086673</li>\n",
       "\t<li>-5.3213627396051</li>\n",
       "\t<li>9.20955657866771</li>\n",
       "\t<li>7.47712401072034</li>\n",
       "\t<li>13.1919833244844</li>\n",
       "\t<li>6.22782573540758</li>\n",
       "\t<li>1.2510462399316</li>\n",
       "\t<li>6.27272364534542</li>\n",
       "\t<li>7.89482701209897</li>\n",
       "\t<li>7.87524740400039</li>\n",
       "\t<li>9.25467523064996</li>\n",
       "\t<li>2.82269258236562</li>\n",
       "\t<li>6.2474225061631</li>\n",
       "\t<li>1.56504511913417</li>\n",
       "\t<li>7.1258761272296</li>\n",
       "\t<li>5.21783551878864</li>\n",
       "\t<li>7.7033194169275</li>\n",
       "\t<li>5.85445866394365</li>\n",
       "\t<li>4.90203662526985</li>\n",
       "\t<li>-0.154640146818966</li>\n",
       "\t<li>5.0050108156918</li>\n",
       "\t<li>4.07185675129813</li>\n",
       "\t<li>0.787304242542769</li>\n",
       "\t<li>10.5675974998517</li>\n",
       "\t<li>3.07715582912159</li>\n",
       "\t<li>2.30642175029767</li>\n",
       "\t<li>7.60249814864846</li>\n",
       "\t<li>2.8385172880183</li>\n",
       "\t<li>2.93001768528923</li>\n",
       "\t<li>3.79829820316916</li>\n",
       "\t<li>6.74817487144215</li>\n",
       "\t<li>1.37450996876706</li>\n",
       "\t<li>4.88056567472418</li>\n",
       "\t<li>7.54989101153241</li>\n",
       "\t<li>3.30955691876615</li>\n",
       "\t<li>0.0781177767720047</li>\n",
       "\t<li>10.6087974155028</li>\n",
       "\t<li>-0.314411939657953</li>\n",
       "\t<li>6.6694472359353</li>\n",
       "\t<li>11.7776431907677</li>\n",
       "\t<li>5.29621243093865</li>\n",
       "\t<li>7.49633659276782</li>\n",
       "\t<li>3.19609766232051</li>\n",
       "\t<li>8.05039633132709</li>\n",
       "\t<li>5.80968275741231</li>\n",
       "\t<li>6.30065379380245</li>\n",
       "\t<li>10.4476761166997</li>\n",
       "\t<li>6.6875618974084</li>\n",
       "\t<li>3.11681753158783</li>\n",
       "\t<li>5.95608199659325</li>\n",
       "\t<li>4.36052661372333</li>\n",
       "\t<li>7.01770085705256</li>\n",
       "\t<li>5.02242526161096</li>\n",
       "\t<li>7.32514155342201</li>\n",
       "\t<li>4.83691619339315</li>\n",
       "\t<li>4.69114095561345</li>\n",
       "\t<li>11.1649089765884</li>\n",
       "\t<li>8.761230097982</li>\n",
       "\t<li>8.36657075397332</li>\n",
       "\t<li>12.3073795601128</li>\n",
       "\t<li>6.44292885859685</li>\n",
       "\t<li>3.68278454850874</li>\n",
       "\t<li>1.99479664163291</li>\n",
       "\t<li>11.3679176058839</li>\n",
       "\t<li>3.75861820324948</li>\n",
       "\t<li>3.42855735484913</li>\n",
       "\t<li>0.203352378384853</li>\n",
       "\t<li>3.1593139196262</li>\n",
       "\t<li>4.17003911977916</li>\n",
       "\t<li>6.16956755858839</li>\n",
       "\t<li>8.8299309430653</li>\n",
       "\t<li>7.00241861177093</li>\n",
       "\t<li>4.6921143538818</li>\n",
       "\t<li>2.58476000087726</li>\n",
       "\t<li>6.63883548456247</li>\n",
       "\t<li>8.40375531111741</li>\n",
       "\t<li>4.33165103020116</li>\n",
       "\t<li>1.99539861433698</li>\n",
       "\t<li>5.35502792115207</li>\n",
       "\t<li>0.275474203833175</li>\n",
       "\t<li>5.83242117573893</li>\n",
       "\t<li>5.74560156274955</li>\n",
       "</ol>\n"
      ],
      "text/latex": [
       "\\begin{enumerate*}\n",
       "\\item 6.45488254819107\n",
       "\\item 7.89992208116088\n",
       "\\item 5.57328496719876\n",
       "\\item 2.86357558931651\n",
       "\\item 3.08230880823279\n",
       "\\item 2.82326463143573\n",
       "\\item 5.20324472158268\n",
       "\\item 9.82386263526431\n",
       "\\item 6.07288117352793\n",
       "\\item 8.47260171547722\n",
       "\\item 4.92627267814531\n",
       "\\item 10.0331404973115\n",
       "\\item 6.45303277516144\n",
       "\\item -2.45607470092441\n",
       "\\item 2.09472324921502\n",
       "\\item 2.1910841481917\n",
       "\\item 7.85230571216625\n",
       "\\item 3.12100663625431\n",
       "\\item 3.50375423086673\n",
       "\\item -5.3213627396051\n",
       "\\item 9.20955657866771\n",
       "\\item 7.47712401072034\n",
       "\\item 13.1919833244844\n",
       "\\item 6.22782573540758\n",
       "\\item 1.2510462399316\n",
       "\\item 6.27272364534542\n",
       "\\item 7.89482701209897\n",
       "\\item 7.87524740400039\n",
       "\\item 9.25467523064996\n",
       "\\item 2.82269258236562\n",
       "\\item 6.2474225061631\n",
       "\\item 1.56504511913417\n",
       "\\item 7.1258761272296\n",
       "\\item 5.21783551878864\n",
       "\\item 7.7033194169275\n",
       "\\item 5.85445866394365\n",
       "\\item 4.90203662526985\n",
       "\\item -0.154640146818966\n",
       "\\item 5.0050108156918\n",
       "\\item 4.07185675129813\n",
       "\\item 0.787304242542769\n",
       "\\item 10.5675974998517\n",
       "\\item 3.07715582912159\n",
       "\\item 2.30642175029767\n",
       "\\item 7.60249814864846\n",
       "\\item 2.8385172880183\n",
       "\\item 2.93001768528923\n",
       "\\item 3.79829820316916\n",
       "\\item 6.74817487144215\n",
       "\\item 1.37450996876706\n",
       "\\item 4.88056567472418\n",
       "\\item 7.54989101153241\n",
       "\\item 3.30955691876615\n",
       "\\item 0.0781177767720047\n",
       "\\item 10.6087974155028\n",
       "\\item -0.314411939657953\n",
       "\\item 6.6694472359353\n",
       "\\item 11.7776431907677\n",
       "\\item 5.29621243093865\n",
       "\\item 7.49633659276782\n",
       "\\item 3.19609766232051\n",
       "\\item 8.05039633132709\n",
       "\\item 5.80968275741231\n",
       "\\item 6.30065379380245\n",
       "\\item 10.4476761166997\n",
       "\\item 6.6875618974084\n",
       "\\item 3.11681753158783\n",
       "\\item 5.95608199659325\n",
       "\\item 4.36052661372333\n",
       "\\item 7.01770085705256\n",
       "\\item 5.02242526161096\n",
       "\\item 7.32514155342201\n",
       "\\item 4.83691619339315\n",
       "\\item 4.69114095561345\n",
       "\\item 11.1649089765884\n",
       "\\item 8.761230097982\n",
       "\\item 8.36657075397332\n",
       "\\item 12.3073795601128\n",
       "\\item 6.44292885859685\n",
       "\\item 3.68278454850874\n",
       "\\item 1.99479664163291\n",
       "\\item 11.3679176058839\n",
       "\\item 3.75861820324948\n",
       "\\item 3.42855735484913\n",
       "\\item 0.203352378384853\n",
       "\\item 3.1593139196262\n",
       "\\item 4.17003911977916\n",
       "\\item 6.16956755858839\n",
       "\\item 8.8299309430653\n",
       "\\item 7.00241861177093\n",
       "\\item 4.6921143538818\n",
       "\\item 2.58476000087726\n",
       "\\item 6.63883548456247\n",
       "\\item 8.40375531111741\n",
       "\\item 4.33165103020116\n",
       "\\item 1.99539861433698\n",
       "\\item 5.35502792115207\n",
       "\\item 0.275474203833175\n",
       "\\item 5.83242117573893\n",
       "\\item 5.74560156274955\n",
       "\\end{enumerate*}\n"
      ],
      "text/markdown": [
       "1. 6.45488254819107\n",
       "2. 7.89992208116088\n",
       "3. 5.57328496719876\n",
       "4. 2.86357558931651\n",
       "5. 3.08230880823279\n",
       "6. 2.82326463143573\n",
       "7. 5.20324472158268\n",
       "8. 9.82386263526431\n",
       "9. 6.07288117352793\n",
       "10. 8.47260171547722\n",
       "11. 4.92627267814531\n",
       "12. 10.0331404973115\n",
       "13. 6.45303277516144\n",
       "14. -2.45607470092441\n",
       "15. 2.09472324921502\n",
       "16. 2.1910841481917\n",
       "17. 7.85230571216625\n",
       "18. 3.12100663625431\n",
       "19. 3.50375423086673\n",
       "20. -5.3213627396051\n",
       "21. 9.20955657866771\n",
       "22. 7.47712401072034\n",
       "23. 13.1919833244844\n",
       "24. 6.22782573540758\n",
       "25. 1.2510462399316\n",
       "26. 6.27272364534542\n",
       "27. 7.89482701209897\n",
       "28. 7.87524740400039\n",
       "29. 9.25467523064996\n",
       "30. 2.82269258236562\n",
       "31. 6.2474225061631\n",
       "32. 1.56504511913417\n",
       "33. 7.1258761272296\n",
       "34. 5.21783551878864\n",
       "35. 7.7033194169275\n",
       "36. 5.85445866394365\n",
       "37. 4.90203662526985\n",
       "38. -0.154640146818966\n",
       "39. 5.0050108156918\n",
       "40. 4.07185675129813\n",
       "41. 0.787304242542769\n",
       "42. 10.5675974998517\n",
       "43. 3.07715582912159\n",
       "44. 2.30642175029767\n",
       "45. 7.60249814864846\n",
       "46. 2.8385172880183\n",
       "47. 2.93001768528923\n",
       "48. 3.79829820316916\n",
       "49. 6.74817487144215\n",
       "50. 1.37450996876706\n",
       "51. 4.88056567472418\n",
       "52. 7.54989101153241\n",
       "53. 3.30955691876615\n",
       "54. 0.0781177767720047\n",
       "55. 10.6087974155028\n",
       "56. -0.314411939657953\n",
       "57. 6.6694472359353\n",
       "58. 11.7776431907677\n",
       "59. 5.29621243093865\n",
       "60. 7.49633659276782\n",
       "61. 3.19609766232051\n",
       "62. 8.05039633132709\n",
       "63. 5.80968275741231\n",
       "64. 6.30065379380245\n",
       "65. 10.4476761166997\n",
       "66. 6.6875618974084\n",
       "67. 3.11681753158783\n",
       "68. 5.95608199659325\n",
       "69. 4.36052661372333\n",
       "70. 7.01770085705256\n",
       "71. 5.02242526161096\n",
       "72. 7.32514155342201\n",
       "73. 4.83691619339315\n",
       "74. 4.69114095561345\n",
       "75. 11.1649089765884\n",
       "76. 8.761230097982\n",
       "77. 8.36657075397332\n",
       "78. 12.3073795601128\n",
       "79. 6.44292885859685\n",
       "80. 3.68278454850874\n",
       "81. 1.99479664163291\n",
       "82. 11.3679176058839\n",
       "83. 3.75861820324948\n",
       "84. 3.42855735484913\n",
       "85. 0.203352378384853\n",
       "86. 3.1593139196262\n",
       "87. 4.17003911977916\n",
       "88. 6.16956755858839\n",
       "89. 8.8299309430653\n",
       "90. 7.00241861177093\n",
       "91. 4.6921143538818\n",
       "92. 2.58476000087726\n",
       "93. 6.63883548456247\n",
       "94. 8.40375531111741\n",
       "95. 4.33165103020116\n",
       "96. 1.99539861433698\n",
       "97. 5.35502792115207\n",
       "98. 0.275474203833175\n",
       "99. 5.83242117573893\n",
       "100. 5.74560156274955\n",
       "\n",
       "\n"
      ],
      "text/plain": [
       "  [1]  6.45488255  7.89992208  5.57328497  2.86357559  3.08230881  2.82326463\n",
       "  [7]  5.20324472  9.82386264  6.07288117  8.47260172  4.92627268 10.03314050\n",
       " [13]  6.45303278 -2.45607470  2.09472325  2.19108415  7.85230571  3.12100664\n",
       " [19]  3.50375423 -5.32136274  9.20955658  7.47712401 13.19198332  6.22782574\n",
       " [25]  1.25104624  6.27272365  7.89482701  7.87524740  9.25467523  2.82269258\n",
       " [31]  6.24742251  1.56504512  7.12587613  5.21783552  7.70331942  5.85445866\n",
       " [37]  4.90203663 -0.15464015  5.00501082  4.07185675  0.78730424 10.56759750\n",
       " [43]  3.07715583  2.30642175  7.60249815  2.83851729  2.93001769  3.79829820\n",
       " [49]  6.74817487  1.37450997  4.88056567  7.54989101  3.30955692  0.07811778\n",
       " [55] 10.60879742 -0.31441194  6.66944724 11.77764319  5.29621243  7.49633659\n",
       " [61]  3.19609766  8.05039633  5.80968276  6.30065379 10.44767612  6.68756190\n",
       " [67]  3.11681753  5.95608200  4.36052661  7.01770086  5.02242526  7.32514155\n",
       " [73]  4.83691619  4.69114096 11.16490898  8.76123010  8.36657075 12.30737956\n",
       " [79]  6.44292886  3.68278455  1.99479664 11.36791761  3.75861820  3.42855735\n",
       " [85]  0.20335238  3.15931392  4.17003912  6.16956756  8.82993094  7.00241861\n",
       " [91]  4.69211435  2.58476000  6.63883548  8.40375531  4.33165103  1.99539861\n",
       " [97]  5.35502792  0.27547420  5.83242118  5.74560156"
      ]
     },
     "metadata": {},
     "output_type": "display_data"
    }
   ],
   "source": [
    "rnorm(100, mean = 5, sd = 3)"
   ]
  },
  {
   "cell_type": "code",
   "execution_count": 112,
   "metadata": {},
   "outputs": [
    {
     "data": {
      "image/png": "[encoded data removed]"
     },
     "metadata": {},
     "output_type": "display_data"
    }
   ],
   "source": [
    "hist(rnorm(100, mean = 5, sd = 3))"
   ]
  },
  {
   "cell_type": "code",
   "execution_count": 113,
   "metadata": {
    "collapsed": true
   },
   "outputs": [],
   "source": [
    "sample<-rnorm(100, mean = 5, sd = 3)"
   ]
  },
  {
   "cell_type": "code",
   "execution_count": 114,
   "metadata": {},
   "outputs": [
    {
     "data": {
      "image/png": "[encoded data removed]"
     },
     "metadata": {},
     "output_type": "display_data"
    }
   ],
   "source": [
    "plot(sample)"
   ]
  },
  {
   "cell_type": "code",
   "execution_count": 115,
   "metadata": {
    "collapsed": true
   },
   "outputs": [],
   "source": [
    "?hist"
   ]
  },
  {
   "cell_type": "code",
   "execution_count": 116,
   "metadata": {
    "collapsed": true
   },
   "outputs": [],
   "source": [
    "edf[2,2]<-NA"
   ]
  },
  {
   "cell_type": "code",
   "execution_count": 117,
   "metadata": {},
   "outputs": [
    {
     "data": {
      "text/html": [
       "<table>\n",
       "<thead><tr><th scope=col>petrol</th><th scope=col>komur</th><th scope=col>tlkur</th></tr></thead>\n",
       "<tbody>\n",
       "\t<tr><td>52.1</td><td>90.0</td><td>3.9 </td></tr>\n",
       "\t<tr><td>54.5</td><td>  NA</td><td>3.7 </td></tr>\n",
       "\t<tr><td>65.0</td><td>93.7</td><td>3.4 </td></tr>\n",
       "</tbody>\n",
       "</table>\n"
      ],
      "text/latex": [
       "\\begin{tabular}{r|lll}\n",
       " petrol & komur & tlkur\\\\\n",
       "\\hline\n",
       "\t 52.1 & 90.0 & 3.9 \\\\\n",
       "\t 54.5 &   NA & 3.7 \\\\\n",
       "\t 65.0 & 93.7 & 3.4 \\\\\n",
       "\\end{tabular}\n"
      ],
      "text/markdown": [
       "\n",
       "petrol | komur | tlkur | \n",
       "|---|---|---|\n",
       "| 52.1 | 90.0 | 3.9  | \n",
       "| 54.5 |   NA | 3.7  | \n",
       "| 65.0 | 93.7 | 3.4  | \n",
       "\n",
       "\n"
      ],
      "text/plain": [
       "  petrol komur tlkur\n",
       "1 52.1   90.0  3.9  \n",
       "2 54.5     NA  3.7  \n",
       "3 65.0   93.7  3.4  "
      ]
     },
     "metadata": {},
     "output_type": "display_data"
    }
   ],
   "source": [
    "edf"
   ]
  },
  {
   "cell_type": "code",
   "execution_count": 118,
   "metadata": {
    "collapsed": true
   },
   "outputs": [],
   "source": [
    "?is.na"
   ]
  },
  {
   "cell_type": "code",
   "execution_count": 119,
   "metadata": {},
   "outputs": [
    {
     "data": {
      "text/html": [
       "<table>\n",
       "<thead><tr><th scope=col>petrol</th><th scope=col>komur</th><th scope=col>tlkur</th></tr></thead>\n",
       "<tbody>\n",
       "\t<tr><td>FALSE</td><td>FALSE</td><td>FALSE</td></tr>\n",
       "\t<tr><td>FALSE</td><td> TRUE</td><td>FALSE</td></tr>\n",
       "\t<tr><td>FALSE</td><td>FALSE</td><td>FALSE</td></tr>\n",
       "</tbody>\n",
       "</table>\n"
      ],
      "text/latex": [
       "\\begin{tabular}{lll}\n",
       " petrol & komur & tlkur\\\\\n",
       "\\hline\n",
       "\t FALSE & FALSE & FALSE\\\\\n",
       "\t FALSE &  TRUE & FALSE\\\\\n",
       "\t FALSE & FALSE & FALSE\\\\\n",
       "\\end{tabular}\n"
      ],
      "text/markdown": [
       "\n",
       "petrol | komur | tlkur | \n",
       "|---|---|---|\n",
       "| FALSE | FALSE | FALSE | \n",
       "| FALSE |  TRUE | FALSE | \n",
       "| FALSE | FALSE | FALSE | \n",
       "\n",
       "\n"
      ],
      "text/plain": [
       "     petrol komur tlkur\n",
       "[1,] FALSE  FALSE FALSE\n",
       "[2,] FALSE   TRUE FALSE\n",
       "[3,] FALSE  FALSE FALSE"
      ]
     },
     "metadata": {},
     "output_type": "display_data"
    }
   ],
   "source": [
    "is.na(edf)"
   ]
  },
  {
   "cell_type": "code",
   "execution_count": 121,
   "metadata": {},
   "outputs": [],
   "source": [
    "?complete.cases"
   ]
  },
  {
   "cell_type": "code",
   "execution_count": 122,
   "metadata": {},
   "outputs": [
    {
     "data": {
      "text/html": [
       "<ol class=list-inline>\n",
       "\t<li>TRUE</li>\n",
       "\t<li>FALSE</li>\n",
       "\t<li>TRUE</li>\n",
       "</ol>\n"
      ],
      "text/latex": [
       "\\begin{enumerate*}\n",
       "\\item TRUE\n",
       "\\item FALSE\n",
       "\\item TRUE\n",
       "\\end{enumerate*}\n"
      ],
      "text/markdown": [
       "1. TRUE\n",
       "2. FALSE\n",
       "3. TRUE\n",
       "\n",
       "\n"
      ],
      "text/plain": [
       "[1]  TRUE FALSE  TRUE"
      ]
     },
     "metadata": {},
     "output_type": "display_data"
    }
   ],
   "source": [
    "complete.cases(edf)"
   ]
  },
  {
   "cell_type": "code",
   "execution_count": 123,
   "metadata": {},
   "outputs": [
    {
     "name": "stderr",
     "output_type": "stream",
     "text": [
      "Installing package into '/home/nbuser/R'\n",
      "(as 'lib' is unspecified)\n"
     ]
    }
   ],
   "source": [
    "install.packages(\"wbstats\")"
   ]
  },
  {
   "cell_type": "code",
   "execution_count": 124,
   "metadata": {
    "collapsed": true
   },
   "outputs": [],
   "source": [
    "library(wbstats)"
   ]
  },
  {
   "cell_type": "code",
   "execution_count": 125,
   "metadata": {},
   "outputs": [
    {
     "data": {
      "text/html": [
       "<table>\n",
       "<thead><tr><th></th><th scope=col>indicatorID</th><th scope=col>indicator</th></tr></thead>\n",
       "<tbody>\n",
       "\t<tr><th scope=row>5354</th><td>KNGAS_US                                      </td><td>Natural gas, US, $/mmbtu, constant 2000$      </td></tr>\n",
       "\t<tr><th scope=row>5355</th><td>KNGAS_JP                                      </td><td>Natural gas LNG, $/mmbtu, constant 2000$      </td></tr>\n",
       "\t<tr><th scope=row>5356</th><td>KNGAS_EUR                                     </td><td>Natural gas, Europe, $/mmbtu, constant 2000$  </td></tr>\n",
       "\t<tr><th scope=row>6649</th><td>NGAS_US                                       </td><td>Natural gas, US, $/mmbtu, current$            </td></tr>\n",
       "\t<tr><th scope=row>6650</th><td>NGAS_JP                                       </td><td>Natural gas LNG, $/mmbtu, current$            </td></tr>\n",
       "\t<tr><th scope=row>6651</th><td>NGAS_EUR                                      </td><td>Natural gas, Europe, $/mmbtu, current$        </td></tr>\n",
       "\t<tr><th scope=row>7055</th><td>FNGAS_US                                      </td><td>Natural gas, US, nominal, $/mmbtu             </td></tr>\n",
       "\t<tr><th scope=row>7056</th><td>FNGAS_JP                                      </td><td>Liquefied natural gas, Japan, nominal, $/mmbtu</td></tr>\n",
       "\t<tr><th scope=row>7057</th><td>FNGAS_EUR                                     </td><td>Natural gas, Europe, nominal, $/mmbtu         </td></tr>\n",
       "\t<tr><th scope=row>14799</th><td>KFNGAS_US                                     </td><td>Natural gas, US, real, $/mmbtu                </td></tr>\n",
       "\t<tr><th scope=row>14800</th><td>KFNGAS_JP                                     </td><td>Liquefied natural gas, Japan, real, $/mmbtu   </td></tr>\n",
       "\t<tr><th scope=row>14801</th><td>KFNGAS_EUR                                    </td><td>Natural gas, Europe, real, $/mmbtu            </td></tr>\n",
       "</tbody>\n",
       "</table>\n"
      ],
      "text/latex": [
       "\\begin{tabular}{r|ll}\n",
       "  & indicatorID & indicator\\\\\n",
       "\\hline\n",
       "\t5354 & KNGAS\\_US                                         & Natural gas, US, \\$/mmbtu, constant 2000\\$      \\\\\n",
       "\t5355 & KNGAS\\_JP                                         & Natural gas LNG, \\$/mmbtu, constant 2000\\$      \\\\\n",
       "\t5356 & KNGAS\\_EUR                                        & Natural gas, Europe, \\$/mmbtu, constant 2000\\$  \\\\\n",
       "\t6649 & NGAS\\_US                                          & Natural gas, US, \\$/mmbtu, current\\$            \\\\\n",
       "\t6650 & NGAS\\_JP                                          & Natural gas LNG, \\$/mmbtu, current\\$            \\\\\n",
       "\t6651 & NGAS\\_EUR                                         & Natural gas, Europe, \\$/mmbtu, current\\$        \\\\\n",
       "\t7055 & FNGAS\\_US                                       & Natural gas, US, nominal, \\$/mmbtu             \\\\\n",
       "\t7056 & FNGAS\\_JP                                       & Liquefied natural gas, Japan, nominal, \\$/mmbtu\\\\\n",
       "\t7057 & FNGAS\\_EUR                                      & Natural gas, Europe, nominal, \\$/mmbtu         \\\\\n",
       "\t14799 & KFNGAS\\_US                                      & Natural gas, US, real, \\$/mmbtu                \\\\\n",
       "\t14800 & KFNGAS\\_JP                                      & Liquefied natural gas, Japan, real, \\$/mmbtu   \\\\\n",
       "\t14801 & KFNGAS\\_EUR                                     & Natural gas, Europe, real, \\$/mmbtu            \\\\\n",
       "\\end{tabular}\n"
      ],
      "text/markdown": [
       "\n",
       "| <!--/--> | indicatorID | indicator | \n",
       "|---|---|---|---|---|---|---|---|---|---|---|---|\n",
       "| 5354 | KNGAS_US                                       | Natural gas, US, $/mmbtu, constant 2000$       | \n",
       "| 5355 | KNGAS_JP                                       | Natural gas LNG, $/mmbtu, constant 2000$       | \n",
       "| 5356 | KNGAS_EUR                                      | Natural gas, Europe, $/mmbtu, constant 2000$   | \n",
       "| 6649 | NGAS_US                                        | Natural gas, US, $/mmbtu, current$             | \n",
       "| 6650 | NGAS_JP                                        | Natural gas LNG, $/mmbtu, current$             | \n",
       "| 6651 | NGAS_EUR                                       | Natural gas, Europe, $/mmbtu, current$         | \n",
       "| 7055 | FNGAS_US                                       | Natural gas, US, nominal, $/mmbtu              | \n",
       "| 7056 | FNGAS_JP                                       | Liquefied natural gas, Japan, nominal, $/mmbtu | \n",
       "| 7057 | FNGAS_EUR                                      | Natural gas, Europe, nominal, $/mmbtu          | \n",
       "| 14799 | KFNGAS_US                                      | Natural gas, US, real, $/mmbtu                 | \n",
       "| 14800 | KFNGAS_JP                                      | Liquefied natural gas, Japan, real, $/mmbtu    | \n",
       "| 14801 | KFNGAS_EUR                                     | Natural gas, Europe, real, $/mmbtu             | \n",
       "\n",
       "\n"
      ],
      "text/plain": [
       "      indicatorID indicator                                     \n",
       "5354  KNGAS_US    Natural gas, US, $/mmbtu, constant 2000$      \n",
       "5355  KNGAS_JP    Natural gas LNG, $/mmbtu, constant 2000$      \n",
       "5356  KNGAS_EUR   Natural gas, Europe, $/mmbtu, constant 2000$  \n",
       "6649  NGAS_US     Natural gas, US, $/mmbtu, current$            \n",
       "6650  NGAS_JP     Natural gas LNG, $/mmbtu, current$            \n",
       "6651  NGAS_EUR    Natural gas, Europe, $/mmbtu, current$        \n",
       "7055  FNGAS_US    Natural gas, US, nominal, $/mmbtu             \n",
       "7056  FNGAS_JP    Liquefied natural gas, Japan, nominal, $/mmbtu\n",
       "7057  FNGAS_EUR   Natural gas, Europe, nominal, $/mmbtu         \n",
       "14799 KFNGAS_US   Natural gas, US, real, $/mmbtu                \n",
       "14800 KFNGAS_JP   Liquefied natural gas, Japan, real, $/mmbtu   \n",
       "14801 KFNGAS_EUR  Natural gas, Europe, real, $/mmbtu            "
      ]
     },
     "metadata": {},
     "output_type": "display_data"
    }
   ],
   "source": [
    "wbsearch(\"mmbtu\")"
   ]
  },
  {
   "cell_type": "code",
   "execution_count": 126,
   "metadata": {},
   "outputs": [
    {
     "data": {
      "text/html": [
       "<table>\n",
       "<thead><tr><th></th><th scope=col>indicatorID</th><th scope=col>indicator</th></tr></thead>\n",
       "<tbody>\n",
       "\t<tr><th scope=row>13296</th><td>CRUDE_PETRO                          </td><td>Crude oil, avg, spot, $/bbl, current$</td></tr>\n",
       "\t<tr><th scope=row>13298</th><td>CRUDE_BRENT                          </td><td>Crude oil, Brendt, $/bbl, current$   </td></tr>\n",
       "</tbody>\n",
       "</table>\n"
      ],
      "text/latex": [
       "\\begin{tabular}{r|ll}\n",
       "  & indicatorID & indicator\\\\\n",
       "\\hline\n",
       "\t13296 & CRUDE\\_PETRO                             & Crude oil, avg, spot, \\$/bbl, current\\$\\\\\n",
       "\t13298 & CRUDE\\_BRENT                             & Crude oil, Brendt, \\$/bbl, current\\$   \\\\\n",
       "\\end{tabular}\n"
      ],
      "text/markdown": [
       "\n",
       "| <!--/--> | indicatorID | indicator | \n",
       "|---|---|\n",
       "| 13296 | CRUDE_PETRO                           | Crude oil, avg, spot, $/bbl, current$ | \n",
       "| 13298 | CRUDE_BRENT                           | Crude oil, Brendt, $/bbl, current$    | \n",
       "\n",
       "\n"
      ],
      "text/plain": [
       "      indicatorID indicator                            \n",
       "13296 CRUDE_PETRO Crude oil, avg, spot, $/bbl, current$\n",
       "13298 CRUDE_BRENT Crude oil, Brendt, $/bbl, current$   "
      ]
     },
     "metadata": {},
     "output_type": "display_data"
    }
   ],
   "source": [
    "wbsearch(\"brent\")"
   ]
  },
  {
   "cell_type": "code",
   "execution_count": 132,
   "metadata": {},
   "outputs": [
    {
     "data": {
      "text/html": [
       "<table>\n",
       "<thead><tr><th scope=col>iso3c</th><th scope=col>date</th><th scope=col>value</th><th scope=col>indicatorID</th><th scope=col>indicator</th><th scope=col>iso2c</th><th scope=col>country</th></tr></thead>\n",
       "<tbody>\n",
       "\t<tr><td>WLD                               </td><td>2017M10                           </td><td>57.62                             </td><td>CRUDE_BRENT                       </td><td>Crude oil, Brendt, $/bbl, nominal$</td><td>1W                                </td><td>World                             </td></tr>\n",
       "\t<tr><td>WLD                               </td><td>2017M09                           </td><td>55.16                             </td><td>CRUDE_BRENT                       </td><td>Crude oil, Brendt, $/bbl, nominal$</td><td>1W                                </td><td>World                             </td></tr>\n",
       "\t<tr><td>WLD                               </td><td>2017M08                           </td><td>51.37                             </td><td>CRUDE_BRENT                       </td><td>Crude oil, Brendt, $/bbl, nominal$</td><td>1W                                </td><td>World                             </td></tr>\n",
       "\t<tr><td>WLD                               </td><td>2017M07                           </td><td>48.69                             </td><td>CRUDE_BRENT                       </td><td>Crude oil, Brendt, $/bbl, nominal$</td><td>1W                                </td><td>World                             </td></tr>\n",
       "\t<tr><td>WLD                               </td><td>2017M06                           </td><td>46.89                             </td><td>CRUDE_BRENT                       </td><td>Crude oil, Brendt, $/bbl, nominal$</td><td>1W                                </td><td>World                             </td></tr>\n",
       "\t<tr><td>WLD                               </td><td>2017M05                           </td><td>50.87                             </td><td>CRUDE_BRENT                       </td><td>Crude oil, Brendt, $/bbl, nominal$</td><td>1W                                </td><td>World                             </td></tr>\n",
       "\t<tr><td>WLD                               </td><td>2017M04                           </td><td>52.98                             </td><td>CRUDE_BRENT                       </td><td>Crude oil, Brendt, $/bbl, nominal$</td><td>1W                                </td><td>World                             </td></tr>\n",
       "\t<tr><td>WLD                               </td><td>2017M03                           </td><td>51.97                             </td><td>CRUDE_BRENT                       </td><td>Crude oil, Brendt, $/bbl, nominal$</td><td>1W                                </td><td>World                             </td></tr>\n",
       "\t<tr><td>WLD                               </td><td>2017M02                           </td><td>55.49                             </td><td>CRUDE_BRENT                       </td><td>Crude oil, Brendt, $/bbl, nominal$</td><td>1W                                </td><td>World                             </td></tr>\n",
       "\t<tr><td>WLD                               </td><td>2017M01                           </td><td>54.89                             </td><td>CRUDE_BRENT                       </td><td>Crude oil, Brendt, $/bbl, nominal$</td><td>1W                                </td><td>World                             </td></tr>\n",
       "\t<tr><td>WLD                               </td><td>2016M12                           </td><td>54.07                             </td><td>CRUDE_BRENT                       </td><td>Crude oil, Brendt, $/bbl, nominal$</td><td>1W                                </td><td>World                             </td></tr>\n",
       "\t<tr><td>WLD                               </td><td>2016M11                           </td><td>46.44                             </td><td>CRUDE_BRENT                       </td><td>Crude oil, Brendt, $/bbl, nominal$</td><td>1W                                </td><td>World                             </td></tr>\n",
       "\t<tr><td>WLD                               </td><td>2016M10                           </td><td>49.73                             </td><td>CRUDE_BRENT                       </td><td>Crude oil, Brendt, $/bbl, nominal$</td><td>1W                                </td><td>World                             </td></tr>\n",
       "\t<tr><td>WLD                               </td><td>2016M09                           </td><td>46.19                             </td><td>CRUDE_BRENT                       </td><td>Crude oil, Brendt, $/bbl, nominal$</td><td>1W                                </td><td>World                             </td></tr>\n",
       "\t<tr><td>WLD                               </td><td>2016M08                           </td><td>46.14                             </td><td>CRUDE_BRENT                       </td><td>Crude oil, Brendt, $/bbl, nominal$</td><td>1W                                </td><td>World                             </td></tr>\n",
       "\t<tr><td>WLD                               </td><td>2016M07                           </td><td>45.07                             </td><td>CRUDE_BRENT                       </td><td>Crude oil, Brendt, $/bbl, nominal$</td><td>1W                                </td><td>World                             </td></tr>\n",
       "\t<tr><td>WLD                               </td><td>2016M06                           </td><td>48.48                             </td><td>CRUDE_BRENT                       </td><td>Crude oil, Brendt, $/bbl, nominal$</td><td>1W                                </td><td>World                             </td></tr>\n",
       "\t<tr><td>WLD                               </td><td>2016M05                           </td><td>47.13                             </td><td>CRUDE_BRENT                       </td><td>Crude oil, Brendt, $/bbl, nominal$</td><td>1W                                </td><td>World                             </td></tr>\n",
       "\t<tr><td>WLD                               </td><td>2016M04                           </td><td>42.25                             </td><td>CRUDE_BRENT                       </td><td>Crude oil, Brendt, $/bbl, nominal$</td><td>1W                                </td><td>World                             </td></tr>\n",
       "\t<tr><td>WLD                               </td><td>2016M03                           </td><td>39.07                             </td><td>CRUDE_BRENT                       </td><td>Crude oil, Brendt, $/bbl, nominal$</td><td>1W                                </td><td>World                             </td></tr>\n",
       "\t<tr><td>WLD                               </td><td>2016M02                           </td><td>33.20                             </td><td>CRUDE_BRENT                       </td><td>Crude oil, Brendt, $/bbl, nominal$</td><td>1W                                </td><td>World                             </td></tr>\n",
       "\t<tr><td>WLD                               </td><td>2016M01                           </td><td>30.80                             </td><td>CRUDE_BRENT                       </td><td>Crude oil, Brendt, $/bbl, nominal$</td><td>1W                                </td><td>World                             </td></tr>\n",
       "\t<tr><td>WLD                               </td><td>2015M12                           </td><td>37.72                             </td><td>CRUDE_BRENT                       </td><td>Crude oil, Brendt, $/bbl, nominal$</td><td>1W                                </td><td>World                             </td></tr>\n",
       "\t<tr><td>WLD                               </td><td>2015M11                           </td><td>44.42                             </td><td>CRUDE_BRENT                       </td><td>Crude oil, Brendt, $/bbl, nominal$</td><td>1W                                </td><td>World                             </td></tr>\n",
       "\t<tr><td>WLD                               </td><td>2015M10                           </td><td>48.12                             </td><td>CRUDE_BRENT                       </td><td>Crude oil, Brendt, $/bbl, nominal$</td><td>1W                                </td><td>World                             </td></tr>\n",
       "\t<tr><td>WLD                               </td><td>2015M09                           </td><td>47.24                             </td><td>CRUDE_BRENT                       </td><td>Crude oil, Brendt, $/bbl, nominal$</td><td>1W                                </td><td>World                             </td></tr>\n",
       "\t<tr><td>WLD                               </td><td>2015M08                           </td><td>46.99                             </td><td>CRUDE_BRENT                       </td><td>Crude oil, Brendt, $/bbl, nominal$</td><td>1W                                </td><td>World                             </td></tr>\n",
       "\t<tr><td>WLD                               </td><td>2015M07                           </td><td>55.87                             </td><td>CRUDE_BRENT                       </td><td>Crude oil, Brendt, $/bbl, nominal$</td><td>1W                                </td><td>World                             </td></tr>\n",
       "\t<tr><td>WLD                               </td><td>2015M06                           </td><td>62.34                             </td><td>CRUDE_BRENT                       </td><td>Crude oil, Brendt, $/bbl, nominal$</td><td>1W                                </td><td>World                             </td></tr>\n",
       "\t<tr><td>WLD                               </td><td>2015M05                           </td><td>64.56                             </td><td>CRUDE_BRENT                       </td><td>Crude oil, Brendt, $/bbl, nominal$</td><td>1W                                </td><td>World                             </td></tr>\n",
       "\t<tr><td>...</td><td>...</td><td>...</td><td>...</td><td>...</td><td>...</td><td>...</td></tr>\n",
       "\t<tr><td>WLD                  </td><td>2008M11              </td><td>760.863              </td><td>GOLD                 </td><td>Gold, $/toz, nominal$</td><td>1W                   </td><td>World                </td></tr>\n",
       "\t<tr><td>WLD                  </td><td>2008M10              </td><td>806.620              </td><td>GOLD                 </td><td>Gold, $/toz, nominal$</td><td>1W                   </td><td>World                </td></tr>\n",
       "\t<tr><td>WLD                  </td><td>2008M09              </td><td>829.932              </td><td>GOLD                 </td><td>Gold, $/toz, nominal$</td><td>1W                   </td><td>World                </td></tr>\n",
       "\t<tr><td>WLD                  </td><td>2008M08              </td><td>839.025              </td><td>GOLD                 </td><td>Gold, $/toz, nominal$</td><td>1W                   </td><td>World                </td></tr>\n",
       "\t<tr><td>WLD                  </td><td>2008M07              </td><td>939.772              </td><td>GOLD                 </td><td>Gold, $/toz, nominal$</td><td>1W                   </td><td>World                </td></tr>\n",
       "\t<tr><td>WLD                  </td><td>2008M06              </td><td>889.488              </td><td>GOLD                 </td><td>Gold, $/toz, nominal$</td><td>1W                   </td><td>World                </td></tr>\n",
       "\t<tr><td>WLD                  </td><td>2008M05              </td><td>888.663              </td><td>GOLD                 </td><td>Gold, $/toz, nominal$</td><td>1W                   </td><td>World                </td></tr>\n",
       "\t<tr><td>WLD                  </td><td>2008M04              </td><td>909.705              </td><td>GOLD                 </td><td>Gold, $/toz, nominal$</td><td>1W                   </td><td>World                </td></tr>\n",
       "\t<tr><td>WLD                  </td><td>2008M03              </td><td>968.434              </td><td>GOLD                 </td><td>Gold, $/toz, nominal$</td><td>1W                   </td><td>World                </td></tr>\n",
       "\t<tr><td>WLD                  </td><td>2008M02              </td><td>922.298              </td><td>GOLD                 </td><td>Gold, $/toz, nominal$</td><td>1W                   </td><td>World                </td></tr>\n",
       "\t<tr><td>WLD                  </td><td>2008M01              </td><td>889.595              </td><td>GOLD                 </td><td>Gold, $/toz, nominal$</td><td>1W                   </td><td>World                </td></tr>\n",
       "\t<tr><td>WLD                  </td><td>2007M12              </td><td>803.203              </td><td>GOLD                 </td><td>Gold, $/toz, nominal$</td><td>1W                   </td><td>World                </td></tr>\n",
       "\t<tr><td>WLD                  </td><td>2007M11              </td><td>806.248              </td><td>GOLD                 </td><td>Gold, $/toz, nominal$</td><td>1W                   </td><td>World                </td></tr>\n",
       "\t<tr><td>WLD                  </td><td>2007M10              </td><td>754.604              </td><td>GOLD                 </td><td>Gold, $/toz, nominal$</td><td>1W                   </td><td>World                </td></tr>\n",
       "\t<tr><td>WLD                  </td><td>2007M09              </td><td>712.653              </td><td>GOLD                 </td><td>Gold, $/toz, nominal$</td><td>1W                   </td><td>World                </td></tr>\n",
       "\t<tr><td>WLD                  </td><td>2007M08              </td><td>665.411              </td><td>GOLD                 </td><td>Gold, $/toz, nominal$</td><td>1W                   </td><td>World                </td></tr>\n",
       "\t<tr><td>WLD                  </td><td>2007M07              </td><td>665.380              </td><td>GOLD                 </td><td>Gold, $/toz, nominal$</td><td>1W                   </td><td>World                </td></tr>\n",
       "\t<tr><td>WLD                  </td><td>2007M06              </td><td>655.660              </td><td>GOLD                 </td><td>Gold, $/toz, nominal$</td><td>1W                   </td><td>World                </td></tr>\n",
       "\t<tr><td>WLD                  </td><td>2007M05              </td><td>667.310              </td><td>GOLD                 </td><td>Gold, $/toz, nominal$</td><td>1W                   </td><td>World                </td></tr>\n",
       "\t<tr><td>WLD                  </td><td>2007M04              </td><td>679.368              </td><td>GOLD                 </td><td>Gold, $/toz, nominal$</td><td>1W                   </td><td>World                </td></tr>\n",
       "\t<tr><td>WLD                  </td><td>2007M03              </td><td>654.895              </td><td>GOLD                 </td><td>Gold, $/toz, nominal$</td><td>1W                   </td><td>World                </td></tr>\n",
       "\t<tr><td>WLD                  </td><td>2007M02              </td><td>664.745              </td><td>GOLD                 </td><td>Gold, $/toz, nominal$</td><td>1W                   </td><td>World                </td></tr>\n",
       "\t<tr><td>WLD                  </td><td>2007M01              </td><td>631.166              </td><td>GOLD                 </td><td>Gold, $/toz, nominal$</td><td>1W                   </td><td>World                </td></tr>\n",
       "\t<tr><td>WLD                  </td><td>2006M12              </td><td>629.791              </td><td>GOLD                 </td><td>Gold, $/toz, nominal$</td><td>1W                   </td><td>World                </td></tr>\n",
       "\t<tr><td>WLD                  </td><td>2006M11              </td><td>627.827              </td><td>GOLD                 </td><td>Gold, $/toz, nominal$</td><td>1W                   </td><td>World                </td></tr>\n",
       "\t<tr><td>WLD                  </td><td>2006M10              </td><td>585.780              </td><td>GOLD                 </td><td>Gold, $/toz, nominal$</td><td>1W                   </td><td>World                </td></tr>\n",
       "\t<tr><td>WLD                  </td><td>2006M09              </td><td>598.186              </td><td>GOLD                 </td><td>Gold, $/toz, nominal$</td><td>1W                   </td><td>World                </td></tr>\n",
       "\t<tr><td>WLD                  </td><td>2006M08              </td><td>632.593              </td><td>GOLD                 </td><td>Gold, $/toz, nominal$</td><td>1W                   </td><td>World                </td></tr>\n",
       "\t<tr><td>WLD                  </td><td>2006M07              </td><td>633.710              </td><td>GOLD                 </td><td>Gold, $/toz, nominal$</td><td>1W                   </td><td>World                </td></tr>\n",
       "\t<tr><td>WLD                  </td><td>2006M06              </td><td>596.145              </td><td>GOLD                 </td><td>Gold, $/toz, nominal$</td><td>1W                   </td><td>World                </td></tr>\n",
       "</tbody>\n",
       "</table>\n"
      ],
      "text/latex": [
       "\\begin{tabular}{r|lllllll}\n",
       " iso3c & date & value & indicatorID & indicator & iso2c & country\\\\\n",
       "\\hline\n",
       "\t WLD                                    & 2017M10                                & 57.62                                  & CRUDE\\_BRENT                          & Crude oil, Brendt, \\$/bbl, nominal\\$ & 1W                                     & World                                 \\\\\n",
       "\t WLD                                    & 2017M09                                & 55.16                                  & CRUDE\\_BRENT                          & Crude oil, Brendt, \\$/bbl, nominal\\$ & 1W                                     & World                                 \\\\\n",
       "\t WLD                                    & 2017M08                                & 51.37                                  & CRUDE\\_BRENT                          & Crude oil, Brendt, \\$/bbl, nominal\\$ & 1W                                     & World                                 \\\\\n",
       "\t WLD                                    & 2017M07                                & 48.69                                  & CRUDE\\_BRENT                          & Crude oil, Brendt, \\$/bbl, nominal\\$ & 1W                                     & World                                 \\\\\n",
       "\t WLD                                    & 2017M06                                & 46.89                                  & CRUDE\\_BRENT                          & Crude oil, Brendt, \\$/bbl, nominal\\$ & 1W                                     & World                                 \\\\\n",
       "\t WLD                                    & 2017M05                                & 50.87                                  & CRUDE\\_BRENT                          & Crude oil, Brendt, \\$/bbl, nominal\\$ & 1W                                     & World                                 \\\\\n",
       "\t WLD                                    & 2017M04                                & 52.98                                  & CRUDE\\_BRENT                          & Crude oil, Brendt, \\$/bbl, nominal\\$ & 1W                                     & World                                 \\\\\n",
       "\t WLD                                    & 2017M03                                & 51.97                                  & CRUDE\\_BRENT                          & Crude oil, Brendt, \\$/bbl, nominal\\$ & 1W                                     & World                                 \\\\\n",
       "\t WLD                                    & 2017M02                                & 55.49                                  & CRUDE\\_BRENT                          & Crude oil, Brendt, \\$/bbl, nominal\\$ & 1W                                     & World                                 \\\\\n",
       "\t WLD                                    & 2017M01                                & 54.89                                  & CRUDE\\_BRENT                          & Crude oil, Brendt, \\$/bbl, nominal\\$ & 1W                                     & World                                 \\\\\n",
       "\t WLD                                    & 2016M12                                & 54.07                                  & CRUDE\\_BRENT                          & Crude oil, Brendt, \\$/bbl, nominal\\$ & 1W                                     & World                                 \\\\\n",
       "\t WLD                                    & 2016M11                                & 46.44                                  & CRUDE\\_BRENT                          & Crude oil, Brendt, \\$/bbl, nominal\\$ & 1W                                     & World                                 \\\\\n",
       "\t WLD                                    & 2016M10                                & 49.73                                  & CRUDE\\_BRENT                          & Crude oil, Brendt, \\$/bbl, nominal\\$ & 1W                                     & World                                 \\\\\n",
       "\t WLD                                    & 2016M09                                & 46.19                                  & CRUDE\\_BRENT                          & Crude oil, Brendt, \\$/bbl, nominal\\$ & 1W                                     & World                                 \\\\\n",
       "\t WLD                                    & 2016M08                                & 46.14                                  & CRUDE\\_BRENT                          & Crude oil, Brendt, \\$/bbl, nominal\\$ & 1W                                     & World                                 \\\\\n",
       "\t WLD                                    & 2016M07                                & 45.07                                  & CRUDE\\_BRENT                          & Crude oil, Brendt, \\$/bbl, nominal\\$ & 1W                                     & World                                 \\\\\n",
       "\t WLD                                    & 2016M06                                & 48.48                                  & CRUDE\\_BRENT                          & Crude oil, Brendt, \\$/bbl, nominal\\$ & 1W                                     & World                                 \\\\\n",
       "\t WLD                                    & 2016M05                                & 47.13                                  & CRUDE\\_BRENT                          & Crude oil, Brendt, \\$/bbl, nominal\\$ & 1W                                     & World                                 \\\\\n",
       "\t WLD                                    & 2016M04                                & 42.25                                  & CRUDE\\_BRENT                          & Crude oil, Brendt, \\$/bbl, nominal\\$ & 1W                                     & World                                 \\\\\n",
       "\t WLD                                    & 2016M03                                & 39.07                                  & CRUDE\\_BRENT                          & Crude oil, Brendt, \\$/bbl, nominal\\$ & 1W                                     & World                                 \\\\\n",
       "\t WLD                                    & 2016M02                                & 33.20                                  & CRUDE\\_BRENT                          & Crude oil, Brendt, \\$/bbl, nominal\\$ & 1W                                     & World                                 \\\\\n",
       "\t WLD                                    & 2016M01                                & 30.80                                  & CRUDE\\_BRENT                          & Crude oil, Brendt, \\$/bbl, nominal\\$ & 1W                                     & World                                 \\\\\n",
       "\t WLD                                    & 2015M12                                & 37.72                                  & CRUDE\\_BRENT                          & Crude oil, Brendt, \\$/bbl, nominal\\$ & 1W                                     & World                                 \\\\\n",
       "\t WLD                                    & 2015M11                                & 44.42                                  & CRUDE\\_BRENT                          & Crude oil, Brendt, \\$/bbl, nominal\\$ & 1W                                     & World                                 \\\\\n",
       "\t WLD                                    & 2015M10                                & 48.12                                  & CRUDE\\_BRENT                          & Crude oil, Brendt, \\$/bbl, nominal\\$ & 1W                                     & World                                 \\\\\n",
       "\t WLD                                    & 2015M09                                & 47.24                                  & CRUDE\\_BRENT                          & Crude oil, Brendt, \\$/bbl, nominal\\$ & 1W                                     & World                                 \\\\\n",
       "\t WLD                                    & 2015M08                                & 46.99                                  & CRUDE\\_BRENT                          & Crude oil, Brendt, \\$/bbl, nominal\\$ & 1W                                     & World                                 \\\\\n",
       "\t WLD                                    & 2015M07                                & 55.87                                  & CRUDE\\_BRENT                          & Crude oil, Brendt, \\$/bbl, nominal\\$ & 1W                                     & World                                 \\\\\n",
       "\t WLD                                    & 2015M06                                & 62.34                                  & CRUDE\\_BRENT                          & Crude oil, Brendt, \\$/bbl, nominal\\$ & 1W                                     & World                                 \\\\\n",
       "\t WLD                                    & 2015M05                                & 64.56                                  & CRUDE\\_BRENT                          & Crude oil, Brendt, \\$/bbl, nominal\\$ & 1W                                     & World                                 \\\\\n",
       "\t ... & ... & ... & ... & ... & ... & ...\\\\\n",
       "\t WLD                       & 2008M11                   & 760.863                   & GOLD                      & Gold, \\$/toz, nominal\\$ & 1W                        & World                    \\\\\n",
       "\t WLD                       & 2008M10                   & 806.620                   & GOLD                      & Gold, \\$/toz, nominal\\$ & 1W                        & World                    \\\\\n",
       "\t WLD                       & 2008M09                   & 829.932                   & GOLD                      & Gold, \\$/toz, nominal\\$ & 1W                        & World                    \\\\\n",
       "\t WLD                       & 2008M08                   & 839.025                   & GOLD                      & Gold, \\$/toz, nominal\\$ & 1W                        & World                    \\\\\n",
       "\t WLD                       & 2008M07                   & 939.772                   & GOLD                      & Gold, \\$/toz, nominal\\$ & 1W                        & World                    \\\\\n",
       "\t WLD                       & 2008M06                   & 889.488                   & GOLD                      & Gold, \\$/toz, nominal\\$ & 1W                        & World                    \\\\\n",
       "\t WLD                       & 2008M05                   & 888.663                   & GOLD                      & Gold, \\$/toz, nominal\\$ & 1W                        & World                    \\\\\n",
       "\t WLD                       & 2008M04                   & 909.705                   & GOLD                      & Gold, \\$/toz, nominal\\$ & 1W                        & World                    \\\\\n",
       "\t WLD                       & 2008M03                   & 968.434                   & GOLD                      & Gold, \\$/toz, nominal\\$ & 1W                        & World                    \\\\\n",
       "\t WLD                       & 2008M02                   & 922.298                   & GOLD                      & Gold, \\$/toz, nominal\\$ & 1W                        & World                    \\\\\n",
       "\t WLD                       & 2008M01                   & 889.595                   & GOLD                      & Gold, \\$/toz, nominal\\$ & 1W                        & World                    \\\\\n",
       "\t WLD                       & 2007M12                   & 803.203                   & GOLD                      & Gold, \\$/toz, nominal\\$ & 1W                        & World                    \\\\\n",
       "\t WLD                       & 2007M11                   & 806.248                   & GOLD                      & Gold, \\$/toz, nominal\\$ & 1W                        & World                    \\\\\n",
       "\t WLD                       & 2007M10                   & 754.604                   & GOLD                      & Gold, \\$/toz, nominal\\$ & 1W                        & World                    \\\\\n",
       "\t WLD                       & 2007M09                   & 712.653                   & GOLD                      & Gold, \\$/toz, nominal\\$ & 1W                        & World                    \\\\\n",
       "\t WLD                       & 2007M08                   & 665.411                   & GOLD                      & Gold, \\$/toz, nominal\\$ & 1W                        & World                    \\\\\n",
       "\t WLD                       & 2007M07                   & 665.380                   & GOLD                      & Gold, \\$/toz, nominal\\$ & 1W                        & World                    \\\\\n",
       "\t WLD                       & 2007M06                   & 655.660                   & GOLD                      & Gold, \\$/toz, nominal\\$ & 1W                        & World                    \\\\\n",
       "\t WLD                       & 2007M05                   & 667.310                   & GOLD                      & Gold, \\$/toz, nominal\\$ & 1W                        & World                    \\\\\n",
       "\t WLD                       & 2007M04                   & 679.368                   & GOLD                      & Gold, \\$/toz, nominal\\$ & 1W                        & World                    \\\\\n",
       "\t WLD                       & 2007M03                   & 654.895                   & GOLD                      & Gold, \\$/toz, nominal\\$ & 1W                        & World                    \\\\\n",
       "\t WLD                       & 2007M02                   & 664.745                   & GOLD                      & Gold, \\$/toz, nominal\\$ & 1W                        & World                    \\\\\n",
       "\t WLD                       & 2007M01                   & 631.166                   & GOLD                      & Gold, \\$/toz, nominal\\$ & 1W                        & World                    \\\\\n",
       "\t WLD                       & 2006M12                   & 629.791                   & GOLD                      & Gold, \\$/toz, nominal\\$ & 1W                        & World                    \\\\\n",
       "\t WLD                       & 2006M11                   & 627.827                   & GOLD                      & Gold, \\$/toz, nominal\\$ & 1W                        & World                    \\\\\n",
       "\t WLD                       & 2006M10                   & 585.780                   & GOLD                      & Gold, \\$/toz, nominal\\$ & 1W                        & World                    \\\\\n",
       "\t WLD                       & 2006M09                   & 598.186                   & GOLD                      & Gold, \\$/toz, nominal\\$ & 1W                        & World                    \\\\\n",
       "\t WLD                       & 2006M08                   & 632.593                   & GOLD                      & Gold, \\$/toz, nominal\\$ & 1W                        & World                    \\\\\n",
       "\t WLD                       & 2006M07                   & 633.710                   & GOLD                      & Gold, \\$/toz, nominal\\$ & 1W                        & World                    \\\\\n",
       "\t WLD                       & 2006M06                   & 596.145                   & GOLD                      & Gold, \\$/toz, nominal\\$ & 1W                        & World                    \\\\\n",
       "\\end{tabular}\n"
      ],
      "text/markdown": [
       "\n",
       "iso3c | date | value | indicatorID | indicator | iso2c | country | \n",
       "|---|---|---|---|---|---|---|---|---|---|---|---|---|---|---|---|---|---|---|---|---|---|---|---|---|---|---|---|---|---|---|---|---|---|---|---|---|---|---|---|---|---|---|---|---|---|---|---|---|---|---|---|---|---|---|---|---|---|---|---|---|\n",
       "| WLD                                | 2017M10                            | 57.62                              | CRUDE_BRENT                        | Crude oil, Brendt, $/bbl, nominal$ | 1W                                 | World                              | \n",
       "| WLD                                | 2017M09                            | 55.16                              | CRUDE_BRENT                        | Crude oil, Brendt, $/bbl, nominal$ | 1W                                 | World                              | \n",
       "| WLD                                | 2017M08                            | 51.37                              | CRUDE_BRENT                        | Crude oil, Brendt, $/bbl, nominal$ | 1W                                 | World                              | \n",
       "| WLD                                | 2017M07                            | 48.69                              | CRUDE_BRENT                        | Crude oil, Brendt, $/bbl, nominal$ | 1W                                 | World                              | \n",
       "| WLD                                | 2017M06                            | 46.89                              | CRUDE_BRENT                        | Crude oil, Brendt, $/bbl, nominal$ | 1W                                 | World                              | \n",
       "| WLD                                | 2017M05                            | 50.87                              | CRUDE_BRENT                        | Crude oil, Brendt, $/bbl, nominal$ | 1W                                 | World                              | \n",
       "| WLD                                | 2017M04                            | 52.98                              | CRUDE_BRENT                        | Crude oil, Brendt, $/bbl, nominal$ | 1W                                 | World                              | \n",
       "| WLD                                | 2017M03                            | 51.97                              | CRUDE_BRENT                        | Crude oil, Brendt, $/bbl, nominal$ | 1W                                 | World                              | \n",
       "| WLD                                | 2017M02                            | 55.49                              | CRUDE_BRENT                        | Crude oil, Brendt, $/bbl, nominal$ | 1W                                 | World                              | \n",
       "| WLD                                | 2017M01                            | 54.89                              | CRUDE_BRENT                        | Crude oil, Brendt, $/bbl, nominal$ | 1W                                 | World                              | \n",
       "| WLD                                | 2016M12                            | 54.07                              | CRUDE_BRENT                        | Crude oil, Brendt, $/bbl, nominal$ | 1W                                 | World                              | \n",
       "| WLD                                | 2016M11                            | 46.44                              | CRUDE_BRENT                        | Crude oil, Brendt, $/bbl, nominal$ | 1W                                 | World                              | \n",
       "| WLD                                | 2016M10                            | 49.73                              | CRUDE_BRENT                        | Crude oil, Brendt, $/bbl, nominal$ | 1W                                 | World                              | \n",
       "| WLD                                | 2016M09                            | 46.19                              | CRUDE_BRENT                        | Crude oil, Brendt, $/bbl, nominal$ | 1W                                 | World                              | \n",
       "| WLD                                | 2016M08                            | 46.14                              | CRUDE_BRENT                        | Crude oil, Brendt, $/bbl, nominal$ | 1W                                 | World                              | \n",
       "| WLD                                | 2016M07                            | 45.07                              | CRUDE_BRENT                        | Crude oil, Brendt, $/bbl, nominal$ | 1W                                 | World                              | \n",
       "| WLD                                | 2016M06                            | 48.48                              | CRUDE_BRENT                        | Crude oil, Brendt, $/bbl, nominal$ | 1W                                 | World                              | \n",
       "| WLD                                | 2016M05                            | 47.13                              | CRUDE_BRENT                        | Crude oil, Brendt, $/bbl, nominal$ | 1W                                 | World                              | \n",
       "| WLD                                | 2016M04                            | 42.25                              | CRUDE_BRENT                        | Crude oil, Brendt, $/bbl, nominal$ | 1W                                 | World                              | \n",
       "| WLD                                | 2016M03                            | 39.07                              | CRUDE_BRENT                        | Crude oil, Brendt, $/bbl, nominal$ | 1W                                 | World                              | \n",
       "| WLD                                | 2016M02                            | 33.20                              | CRUDE_BRENT                        | Crude oil, Brendt, $/bbl, nominal$ | 1W                                 | World                              | \n",
       "| WLD                                | 2016M01                            | 30.80                              | CRUDE_BRENT                        | Crude oil, Brendt, $/bbl, nominal$ | 1W                                 | World                              | \n",
       "| WLD                                | 2015M12                            | 37.72                              | CRUDE_BRENT                        | Crude oil, Brendt, $/bbl, nominal$ | 1W                                 | World                              | \n",
       "| WLD                                | 2015M11                            | 44.42                              | CRUDE_BRENT                        | Crude oil, Brendt, $/bbl, nominal$ | 1W                                 | World                              | \n",
       "| WLD                                | 2015M10                            | 48.12                              | CRUDE_BRENT                        | Crude oil, Brendt, $/bbl, nominal$ | 1W                                 | World                              | \n",
       "| WLD                                | 2015M09                            | 47.24                              | CRUDE_BRENT                        | Crude oil, Brendt, $/bbl, nominal$ | 1W                                 | World                              | \n",
       "| WLD                                | 2015M08                            | 46.99                              | CRUDE_BRENT                        | Crude oil, Brendt, $/bbl, nominal$ | 1W                                 | World                              | \n",
       "| WLD                                | 2015M07                            | 55.87                              | CRUDE_BRENT                        | Crude oil, Brendt, $/bbl, nominal$ | 1W                                 | World                              | \n",
       "| WLD                                | 2015M06                            | 62.34                              | CRUDE_BRENT                        | Crude oil, Brendt, $/bbl, nominal$ | 1W                                 | World                              | \n",
       "| WLD                                | 2015M05                            | 64.56                              | CRUDE_BRENT                        | Crude oil, Brendt, $/bbl, nominal$ | 1W                                 | World                              | \n",
       "| ... | ... | ... | ... | ... | ... | ... | \n",
       "| WLD                   | 2008M11               | 760.863               | GOLD                  | Gold, $/toz, nominal$ | 1W                    | World                 | \n",
       "| WLD                   | 2008M10               | 806.620               | GOLD                  | Gold, $/toz, nominal$ | 1W                    | World                 | \n",
       "| WLD                   | 2008M09               | 829.932               | GOLD                  | Gold, $/toz, nominal$ | 1W                    | World                 | \n",
       "| WLD                   | 2008M08               | 839.025               | GOLD                  | Gold, $/toz, nominal$ | 1W                    | World                 | \n",
       "| WLD                   | 2008M07               | 939.772               | GOLD                  | Gold, $/toz, nominal$ | 1W                    | World                 | \n",
       "| WLD                   | 2008M06               | 889.488               | GOLD                  | Gold, $/toz, nominal$ | 1W                    | World                 | \n",
       "| WLD                   | 2008M05               | 888.663               | GOLD                  | Gold, $/toz, nominal$ | 1W                    | World                 | \n",
       "| WLD                   | 2008M04               | 909.705               | GOLD                  | Gold, $/toz, nominal$ | 1W                    | World                 | \n",
       "| WLD                   | 2008M03               | 968.434               | GOLD                  | Gold, $/toz, nominal$ | 1W                    | World                 | \n",
       "| WLD                   | 2008M02               | 922.298               | GOLD                  | Gold, $/toz, nominal$ | 1W                    | World                 | \n",
       "| WLD                   | 2008M01               | 889.595               | GOLD                  | Gold, $/toz, nominal$ | 1W                    | World                 | \n",
       "| WLD                   | 2007M12               | 803.203               | GOLD                  | Gold, $/toz, nominal$ | 1W                    | World                 | \n",
       "| WLD                   | 2007M11               | 806.248               | GOLD                  | Gold, $/toz, nominal$ | 1W                    | World                 | \n",
       "| WLD                   | 2007M10               | 754.604               | GOLD                  | Gold, $/toz, nominal$ | 1W                    | World                 | \n",
       "| WLD                   | 2007M09               | 712.653               | GOLD                  | Gold, $/toz, nominal$ | 1W                    | World                 | \n",
       "| WLD                   | 2007M08               | 665.411               | GOLD                  | Gold, $/toz, nominal$ | 1W                    | World                 | \n",
       "| WLD                   | 2007M07               | 665.380               | GOLD                  | Gold, $/toz, nominal$ | 1W                    | World                 | \n",
       "| WLD                   | 2007M06               | 655.660               | GOLD                  | Gold, $/toz, nominal$ | 1W                    | World                 | \n",
       "| WLD                   | 2007M05               | 667.310               | GOLD                  | Gold, $/toz, nominal$ | 1W                    | World                 | \n",
       "| WLD                   | 2007M04               | 679.368               | GOLD                  | Gold, $/toz, nominal$ | 1W                    | World                 | \n",
       "| WLD                   | 2007M03               | 654.895               | GOLD                  | Gold, $/toz, nominal$ | 1W                    | World                 | \n",
       "| WLD                   | 2007M02               | 664.745               | GOLD                  | Gold, $/toz, nominal$ | 1W                    | World                 | \n",
       "| WLD                   | 2007M01               | 631.166               | GOLD                  | Gold, $/toz, nominal$ | 1W                    | World                 | \n",
       "| WLD                   | 2006M12               | 629.791               | GOLD                  | Gold, $/toz, nominal$ | 1W                    | World                 | \n",
       "| WLD                   | 2006M11               | 627.827               | GOLD                  | Gold, $/toz, nominal$ | 1W                    | World                 | \n",
       "| WLD                   | 2006M10               | 585.780               | GOLD                  | Gold, $/toz, nominal$ | 1W                    | World                 | \n",
       "| WLD                   | 2006M09               | 598.186               | GOLD                  | Gold, $/toz, nominal$ | 1W                    | World                 | \n",
       "| WLD                   | 2006M08               | 632.593               | GOLD                  | Gold, $/toz, nominal$ | 1W                    | World                 | \n",
       "| WLD                   | 2006M07               | 633.710               | GOLD                  | Gold, $/toz, nominal$ | 1W                    | World                 | \n",
       "| WLD                   | 2006M06               | 596.145               | GOLD                  | Gold, $/toz, nominal$ | 1W                    | World                 | \n",
       "\n",
       "\n"
      ],
      "text/plain": [
       "    iso3c date    value   indicatorID indicator                          iso2c\n",
       "1   WLD   2017M10 57.62   CRUDE_BRENT Crude oil, Brendt, $/bbl, nominal$ 1W   \n",
       "2   WLD   2017M09 55.16   CRUDE_BRENT Crude oil, Brendt, $/bbl, nominal$ 1W   \n",
       "3   WLD   2017M08 51.37   CRUDE_BRENT Crude oil, Brendt, $/bbl, nominal$ 1W   \n",
       "4   WLD   2017M07 48.69   CRUDE_BRENT Crude oil, Brendt, $/bbl, nominal$ 1W   \n",
       "5   WLD   2017M06 46.89   CRUDE_BRENT Crude oil, Brendt, $/bbl, nominal$ 1W   \n",
       "6   WLD   2017M05 50.87   CRUDE_BRENT Crude oil, Brendt, $/bbl, nominal$ 1W   \n",
       "7   WLD   2017M04 52.98   CRUDE_BRENT Crude oil, Brendt, $/bbl, nominal$ 1W   \n",
       "8   WLD   2017M03 51.97   CRUDE_BRENT Crude oil, Brendt, $/bbl, nominal$ 1W   \n",
       "9   WLD   2017M02 55.49   CRUDE_BRENT Crude oil, Brendt, $/bbl, nominal$ 1W   \n",
       "10  WLD   2017M01 54.89   CRUDE_BRENT Crude oil, Brendt, $/bbl, nominal$ 1W   \n",
       "11  WLD   2016M12 54.07   CRUDE_BRENT Crude oil, Brendt, $/bbl, nominal$ 1W   \n",
       "12  WLD   2016M11 46.44   CRUDE_BRENT Crude oil, Brendt, $/bbl, nominal$ 1W   \n",
       "13  WLD   2016M10 49.73   CRUDE_BRENT Crude oil, Brendt, $/bbl, nominal$ 1W   \n",
       "14  WLD   2016M09 46.19   CRUDE_BRENT Crude oil, Brendt, $/bbl, nominal$ 1W   \n",
       "15  WLD   2016M08 46.14   CRUDE_BRENT Crude oil, Brendt, $/bbl, nominal$ 1W   \n",
       "16  WLD   2016M07 45.07   CRUDE_BRENT Crude oil, Brendt, $/bbl, nominal$ 1W   \n",
       "17  WLD   2016M06 48.48   CRUDE_BRENT Crude oil, Brendt, $/bbl, nominal$ 1W   \n",
       "18  WLD   2016M05 47.13   CRUDE_BRENT Crude oil, Brendt, $/bbl, nominal$ 1W   \n",
       "19  WLD   2016M04 42.25   CRUDE_BRENT Crude oil, Brendt, $/bbl, nominal$ 1W   \n",
       "20  WLD   2016M03 39.07   CRUDE_BRENT Crude oil, Brendt, $/bbl, nominal$ 1W   \n",
       "21  WLD   2016M02 33.20   CRUDE_BRENT Crude oil, Brendt, $/bbl, nominal$ 1W   \n",
       "22  WLD   2016M01 30.80   CRUDE_BRENT Crude oil, Brendt, $/bbl, nominal$ 1W   \n",
       "23  WLD   2015M12 37.72   CRUDE_BRENT Crude oil, Brendt, $/bbl, nominal$ 1W   \n",
       "24  WLD   2015M11 44.42   CRUDE_BRENT Crude oil, Brendt, $/bbl, nominal$ 1W   \n",
       "25  WLD   2015M10 48.12   CRUDE_BRENT Crude oil, Brendt, $/bbl, nominal$ 1W   \n",
       "26  WLD   2015M09 47.24   CRUDE_BRENT Crude oil, Brendt, $/bbl, nominal$ 1W   \n",
       "27  WLD   2015M08 46.99   CRUDE_BRENT Crude oil, Brendt, $/bbl, nominal$ 1W   \n",
       "28  WLD   2015M07 55.87   CRUDE_BRENT Crude oil, Brendt, $/bbl, nominal$ 1W   \n",
       "29  WLD   2015M06 62.34   CRUDE_BRENT Crude oil, Brendt, $/bbl, nominal$ 1W   \n",
       "30  WLD   2015M05 64.56   CRUDE_BRENT Crude oil, Brendt, $/bbl, nominal$ 1W   \n",
       "... ...   ...     ...     ...         ...                                ...  \n",
       "245 WLD   2008M11 760.863 GOLD        Gold, $/toz, nominal$              1W   \n",
       "246 WLD   2008M10 806.620 GOLD        Gold, $/toz, nominal$              1W   \n",
       "247 WLD   2008M09 829.932 GOLD        Gold, $/toz, nominal$              1W   \n",
       "248 WLD   2008M08 839.025 GOLD        Gold, $/toz, nominal$              1W   \n",
       "249 WLD   2008M07 939.772 GOLD        Gold, $/toz, nominal$              1W   \n",
       "250 WLD   2008M06 889.488 GOLD        Gold, $/toz, nominal$              1W   \n",
       "251 WLD   2008M05 888.663 GOLD        Gold, $/toz, nominal$              1W   \n",
       "252 WLD   2008M04 909.705 GOLD        Gold, $/toz, nominal$              1W   \n",
       "253 WLD   2008M03 968.434 GOLD        Gold, $/toz, nominal$              1W   \n",
       "254 WLD   2008M02 922.298 GOLD        Gold, $/toz, nominal$              1W   \n",
       "255 WLD   2008M01 889.595 GOLD        Gold, $/toz, nominal$              1W   \n",
       "256 WLD   2007M12 803.203 GOLD        Gold, $/toz, nominal$              1W   \n",
       "257 WLD   2007M11 806.248 GOLD        Gold, $/toz, nominal$              1W   \n",
       "258 WLD   2007M10 754.604 GOLD        Gold, $/toz, nominal$              1W   \n",
       "259 WLD   2007M09 712.653 GOLD        Gold, $/toz, nominal$              1W   \n",
       "260 WLD   2007M08 665.411 GOLD        Gold, $/toz, nominal$              1W   \n",
       "261 WLD   2007M07 665.380 GOLD        Gold, $/toz, nominal$              1W   \n",
       "262 WLD   2007M06 655.660 GOLD        Gold, $/toz, nominal$              1W   \n",
       "263 WLD   2007M05 667.310 GOLD        Gold, $/toz, nominal$              1W   \n",
       "264 WLD   2007M04 679.368 GOLD        Gold, $/toz, nominal$              1W   \n",
       "265 WLD   2007M03 654.895 GOLD        Gold, $/toz, nominal$              1W   \n",
       "266 WLD   2007M02 664.745 GOLD        Gold, $/toz, nominal$              1W   \n",
       "267 WLD   2007M01 631.166 GOLD        Gold, $/toz, nominal$              1W   \n",
       "268 WLD   2006M12 629.791 GOLD        Gold, $/toz, nominal$              1W   \n",
       "269 WLD   2006M11 627.827 GOLD        Gold, $/toz, nominal$              1W   \n",
       "270 WLD   2006M10 585.780 GOLD        Gold, $/toz, nominal$              1W   \n",
       "271 WLD   2006M09 598.186 GOLD        Gold, $/toz, nominal$              1W   \n",
       "272 WLD   2006M08 632.593 GOLD        Gold, $/toz, nominal$              1W   \n",
       "273 WLD   2006M07 633.710 GOLD        Gold, $/toz, nominal$              1W   \n",
       "274 WLD   2006M06 596.145 GOLD        Gold, $/toz, nominal$              1W   \n",
       "    country\n",
       "1   World  \n",
       "2   World  \n",
       "3   World  \n",
       "4   World  \n",
       "5   World  \n",
       "6   World  \n",
       "7   World  \n",
       "8   World  \n",
       "9   World  \n",
       "10  World  \n",
       "11  World  \n",
       "12  World  \n",
       "13  World  \n",
       "14  World  \n",
       "15  World  \n",
       "16  World  \n",
       "17  World  \n",
       "18  World  \n",
       "19  World  \n",
       "20  World  \n",
       "21  World  \n",
       "22  World  \n",
       "23  World  \n",
       "24  World  \n",
       "25  World  \n",
       "26  World  \n",
       "27  World  \n",
       "28  World  \n",
       "29  World  \n",
       "30  World  \n",
       "... ...    \n",
       "245 World  \n",
       "246 World  \n",
       "247 World  \n",
       "248 World  \n",
       "249 World  \n",
       "250 World  \n",
       "251 World  \n",
       "252 World  \n",
       "253 World  \n",
       "254 World  \n",
       "255 World  \n",
       "256 World  \n",
       "257 World  \n",
       "258 World  \n",
       "259 World  \n",
       "260 World  \n",
       "261 World  \n",
       "262 World  \n",
       "263 World  \n",
       "264 World  \n",
       "265 World  \n",
       "266 World  \n",
       "267 World  \n",
       "268 World  \n",
       "269 World  \n",
       "270 World  \n",
       "271 World  \n",
       "272 World  \n",
       "273 World  \n",
       "274 World  "
      ]
     },
     "metadata": {},
     "output_type": "display_data"
    }
   ],
   "source": [
    "wb(indicator=c(\"CRUDE_BRENT\",\"GOLD\"), \n",
    "   startdate=\"2006M06\" ,\n",
    "   enddate=\"2017M12\",\n",
    "   freq=\"M\")"
   ]
  },
  {
   "cell_type": "code",
   "execution_count": 133,
   "metadata": {
    "collapsed": true
   },
   "outputs": [],
   "source": [
    "veri<-wb(indicator=c(\"CRUDE_BRENT\",\"GOLD\"), \n",
    "   startdate=\"2006M06\" ,\n",
    "   enddate=\"2017M12\",\n",
    "   freq=\"M\")"
   ]
  },
  {
   "cell_type": "code",
   "execution_count": 138,
   "metadata": {},
   "outputs": [
    {
     "data": {
      "text/html": [
       "<table>\n",
       "<thead><tr><th scope=col>iso3c</th><th scope=col>date</th><th scope=col>value</th><th scope=col>indicatorID</th><th scope=col>indicator</th><th scope=col>iso2c</th><th scope=col>country</th></tr></thead>\n",
       "<tbody>\n",
       "\t<tr><td>WLD                               </td><td>2017M10                           </td><td>57.62                             </td><td>CRUDE_BRENT                       </td><td>Crude oil, Brendt, $/bbl, nominal$</td><td>1W                                </td><td>World                             </td></tr>\n",
       "\t<tr><td>WLD                               </td><td>2017M09                           </td><td>55.16                             </td><td>CRUDE_BRENT                       </td><td>Crude oil, Brendt, $/bbl, nominal$</td><td>1W                                </td><td>World                             </td></tr>\n",
       "\t<tr><td>WLD                               </td><td>2017M08                           </td><td>51.37                             </td><td>CRUDE_BRENT                       </td><td>Crude oil, Brendt, $/bbl, nominal$</td><td>1W                                </td><td>World                             </td></tr>\n",
       "\t<tr><td>WLD                               </td><td>2017M07                           </td><td>48.69                             </td><td>CRUDE_BRENT                       </td><td>Crude oil, Brendt, $/bbl, nominal$</td><td>1W                                </td><td>World                             </td></tr>\n",
       "\t<tr><td>WLD                               </td><td>2017M06                           </td><td>46.89                             </td><td>CRUDE_BRENT                       </td><td>Crude oil, Brendt, $/bbl, nominal$</td><td>1W                                </td><td>World                             </td></tr>\n",
       "\t<tr><td>WLD                               </td><td>2017M05                           </td><td>50.87                             </td><td>CRUDE_BRENT                       </td><td>Crude oil, Brendt, $/bbl, nominal$</td><td>1W                                </td><td>World                             </td></tr>\n",
       "\t<tr><td>WLD                               </td><td>2017M04                           </td><td>52.98                             </td><td>CRUDE_BRENT                       </td><td>Crude oil, Brendt, $/bbl, nominal$</td><td>1W                                </td><td>World                             </td></tr>\n",
       "\t<tr><td>WLD                               </td><td>2017M03                           </td><td>51.97                             </td><td>CRUDE_BRENT                       </td><td>Crude oil, Brendt, $/bbl, nominal$</td><td>1W                                </td><td>World                             </td></tr>\n",
       "\t<tr><td>WLD                               </td><td>2017M02                           </td><td>55.49                             </td><td>CRUDE_BRENT                       </td><td>Crude oil, Brendt, $/bbl, nominal$</td><td>1W                                </td><td>World                             </td></tr>\n",
       "\t<tr><td>WLD                               </td><td>2017M01                           </td><td>54.89                             </td><td>CRUDE_BRENT                       </td><td>Crude oil, Brendt, $/bbl, nominal$</td><td>1W                                </td><td>World                             </td></tr>\n",
       "\t<tr><td>WLD                               </td><td>2016M12                           </td><td>54.07                             </td><td>CRUDE_BRENT                       </td><td>Crude oil, Brendt, $/bbl, nominal$</td><td>1W                                </td><td>World                             </td></tr>\n",
       "\t<tr><td>WLD                               </td><td>2016M11                           </td><td>46.44                             </td><td>CRUDE_BRENT                       </td><td>Crude oil, Brendt, $/bbl, nominal$</td><td>1W                                </td><td>World                             </td></tr>\n",
       "\t<tr><td>WLD                               </td><td>2016M10                           </td><td>49.73                             </td><td>CRUDE_BRENT                       </td><td>Crude oil, Brendt, $/bbl, nominal$</td><td>1W                                </td><td>World                             </td></tr>\n",
       "\t<tr><td>WLD                               </td><td>2016M09                           </td><td>46.19                             </td><td>CRUDE_BRENT                       </td><td>Crude oil, Brendt, $/bbl, nominal$</td><td>1W                                </td><td>World                             </td></tr>\n",
       "\t<tr><td>WLD                               </td><td>2016M08                           </td><td>46.14                             </td><td>CRUDE_BRENT                       </td><td>Crude oil, Brendt, $/bbl, nominal$</td><td>1W                                </td><td>World                             </td></tr>\n",
       "\t<tr><td>WLD                               </td><td>2016M07                           </td><td>45.07                             </td><td>CRUDE_BRENT                       </td><td>Crude oil, Brendt, $/bbl, nominal$</td><td>1W                                </td><td>World                             </td></tr>\n",
       "\t<tr><td>WLD                               </td><td>2016M06                           </td><td>48.48                             </td><td>CRUDE_BRENT                       </td><td>Crude oil, Brendt, $/bbl, nominal$</td><td>1W                                </td><td>World                             </td></tr>\n",
       "\t<tr><td>WLD                               </td><td>2016M05                           </td><td>47.13                             </td><td>CRUDE_BRENT                       </td><td>Crude oil, Brendt, $/bbl, nominal$</td><td>1W                                </td><td>World                             </td></tr>\n",
       "\t<tr><td>WLD                               </td><td>2016M04                           </td><td>42.25                             </td><td>CRUDE_BRENT                       </td><td>Crude oil, Brendt, $/bbl, nominal$</td><td>1W                                </td><td>World                             </td></tr>\n",
       "\t<tr><td>WLD                               </td><td>2016M03                           </td><td>39.07                             </td><td>CRUDE_BRENT                       </td><td>Crude oil, Brendt, $/bbl, nominal$</td><td>1W                                </td><td>World                             </td></tr>\n",
       "\t<tr><td>WLD                               </td><td>2016M02                           </td><td>33.20                             </td><td>CRUDE_BRENT                       </td><td>Crude oil, Brendt, $/bbl, nominal$</td><td>1W                                </td><td>World                             </td></tr>\n",
       "\t<tr><td>WLD                               </td><td>2016M01                           </td><td>30.80                             </td><td>CRUDE_BRENT                       </td><td>Crude oil, Brendt, $/bbl, nominal$</td><td>1W                                </td><td>World                             </td></tr>\n",
       "\t<tr><td>WLD                               </td><td>2015M12                           </td><td>37.72                             </td><td>CRUDE_BRENT                       </td><td>Crude oil, Brendt, $/bbl, nominal$</td><td>1W                                </td><td>World                             </td></tr>\n",
       "\t<tr><td>WLD                               </td><td>2015M11                           </td><td>44.42                             </td><td>CRUDE_BRENT                       </td><td>Crude oil, Brendt, $/bbl, nominal$</td><td>1W                                </td><td>World                             </td></tr>\n",
       "\t<tr><td>WLD                               </td><td>2015M10                           </td><td>48.12                             </td><td>CRUDE_BRENT                       </td><td>Crude oil, Brendt, $/bbl, nominal$</td><td>1W                                </td><td>World                             </td></tr>\n",
       "\t<tr><td>WLD                               </td><td>2015M09                           </td><td>47.24                             </td><td>CRUDE_BRENT                       </td><td>Crude oil, Brendt, $/bbl, nominal$</td><td>1W                                </td><td>World                             </td></tr>\n",
       "\t<tr><td>WLD                               </td><td>2015M08                           </td><td>46.99                             </td><td>CRUDE_BRENT                       </td><td>Crude oil, Brendt, $/bbl, nominal$</td><td>1W                                </td><td>World                             </td></tr>\n",
       "\t<tr><td>WLD                               </td><td>2015M07                           </td><td>55.87                             </td><td>CRUDE_BRENT                       </td><td>Crude oil, Brendt, $/bbl, nominal$</td><td>1W                                </td><td>World                             </td></tr>\n",
       "\t<tr><td>WLD                               </td><td>2015M06                           </td><td>62.34                             </td><td>CRUDE_BRENT                       </td><td>Crude oil, Brendt, $/bbl, nominal$</td><td>1W                                </td><td>World                             </td></tr>\n",
       "\t<tr><td>WLD                               </td><td>2015M05                           </td><td>64.56                             </td><td>CRUDE_BRENT                       </td><td>Crude oil, Brendt, $/bbl, nominal$</td><td>1W                                </td><td>World                             </td></tr>\n",
       "\t<tr><td>...</td><td>...</td><td>...</td><td>...</td><td>...</td><td>...</td><td>...</td></tr>\n",
       "\t<tr><td>WLD                               </td><td>2008M11                           </td><td> 53.24100                         </td><td>CRUDE_BRENT                       </td><td>Crude oil, Brendt, $/bbl, nominal$</td><td>1W                                </td><td>World                             </td></tr>\n",
       "\t<tr><td>WLD                               </td><td>2008M10                           </td><td> 72.84261                         </td><td>CRUDE_BRENT                       </td><td>Crude oil, Brendt, $/bbl, nominal$</td><td>1W                                </td><td>World                             </td></tr>\n",
       "\t<tr><td>WLD                               </td><td>2008M09                           </td><td> 99.06409                         </td><td>CRUDE_BRENT                       </td><td>Crude oil, Brendt, $/bbl, nominal$</td><td>1W                                </td><td>World                             </td></tr>\n",
       "\t<tr><td>WLD                               </td><td>2008M08                           </td><td>113.84905                         </td><td>CRUDE_BRENT                       </td><td>Crude oil, Brendt, $/bbl, nominal$</td><td>1W                                </td><td>World                             </td></tr>\n",
       "\t<tr><td>WLD                               </td><td>2008M07                           </td><td>133.87304                         </td><td>CRUDE_BRENT                       </td><td>Crude oil, Brendt, $/bbl, nominal$</td><td>1W                                </td><td>World                             </td></tr>\n",
       "\t<tr><td>WLD                               </td><td>2008M06                           </td><td>133.04857                         </td><td>CRUDE_BRENT                       </td><td>Crude oil, Brendt, $/bbl, nominal$</td><td>1W                                </td><td>World                             </td></tr>\n",
       "\t<tr><td>WLD                               </td><td>2008M05                           </td><td>123.93619                         </td><td>CRUDE_BRENT                       </td><td>Crude oil, Brendt, $/bbl, nominal$</td><td>1W                                </td><td>World                             </td></tr>\n",
       "\t<tr><td>WLD                               </td><td>2008M04                           </td><td>110.18773                         </td><td>CRUDE_BRENT                       </td><td>Crude oil, Brendt, $/bbl, nominal$</td><td>1W                                </td><td>World                             </td></tr>\n",
       "\t<tr><td>WLD                               </td><td>2008M03                           </td><td>103.27750                         </td><td>CRUDE_BRENT                       </td><td>Crude oil, Brendt, $/bbl, nominal$</td><td>1W                                </td><td>World                             </td></tr>\n",
       "\t<tr><td>WLD                               </td><td>2008M02                           </td><td> 94.81667                         </td><td>CRUDE_BRENT                       </td><td>Crude oil, Brendt, $/bbl, nominal$</td><td>1W                                </td><td>World                             </td></tr>\n",
       "\t<tr><td>WLD                               </td><td>2008M01                           </td><td> 91.92045                         </td><td>CRUDE_BRENT                       </td><td>Crude oil, Brendt, $/bbl, nominal$</td><td>1W                                </td><td>World                             </td></tr>\n",
       "\t<tr><td>WLD                               </td><td>2007M12                           </td><td> 91.45000                         </td><td>CRUDE_BRENT                       </td><td>Crude oil, Brendt, $/bbl, nominal$</td><td>1W                                </td><td>World                             </td></tr>\n",
       "\t<tr><td>WLD                               </td><td>2007M11                           </td><td> 92.52818                         </td><td>CRUDE_BRENT                       </td><td>Crude oil, Brendt, $/bbl, nominal$</td><td>1W                                </td><td>World                             </td></tr>\n",
       "\t<tr><td>WLD                               </td><td>2007M10                           </td><td> 82.85783                         </td><td>CRUDE_BRENT                       </td><td>Crude oil, Brendt, $/bbl, nominal$</td><td>1W                                </td><td>World                             </td></tr>\n",
       "\t<tr><td>WLD                               </td><td>2007M09                           </td><td> 77.12700                         </td><td>CRUDE_BRENT                       </td><td>Crude oil, Brendt, $/bbl, nominal$</td><td>1W                                </td><td>World                             </td></tr>\n",
       "\t<tr><td>WLD                               </td><td>2007M08                           </td><td> 70.79652                         </td><td>CRUDE_BRENT                       </td><td>Crude oil, Brendt, $/bbl, nominal$</td><td>1W                                </td><td>World                             </td></tr>\n",
       "\t<tr><td>WLD                               </td><td>2007M07                           </td><td> 77.20409                         </td><td>CRUDE_BRENT                       </td><td>Crude oil, Brendt, $/bbl, nominal$</td><td>1W                                </td><td>World                             </td></tr>\n",
       "\t<tr><td>WLD                               </td><td>2007M06                           </td><td> 71.31619                         </td><td>CRUDE_BRENT                       </td><td>Crude oil, Brendt, $/bbl, nominal$</td><td>1W                                </td><td>World                             </td></tr>\n",
       "\t<tr><td>WLD                               </td><td>2007M05                           </td><td> 67.47609                         </td><td>CRUDE_BRENT                       </td><td>Crude oil, Brendt, $/bbl, nominal$</td><td>1W                                </td><td>World                             </td></tr>\n",
       "\t<tr><td>WLD                               </td><td>2007M04                           </td><td> 67.39842                         </td><td>CRUDE_BRENT                       </td><td>Crude oil, Brendt, $/bbl, nominal$</td><td>1W                                </td><td>World                             </td></tr>\n",
       "\t<tr><td>WLD                               </td><td>2007M03                           </td><td> 62.14364                         </td><td>CRUDE_BRENT                       </td><td>Crude oil, Brendt, $/bbl, nominal$</td><td>1W                                </td><td>World                             </td></tr>\n",
       "\t<tr><td>WLD                               </td><td>2007M02                           </td><td> 57.75700                         </td><td>CRUDE_BRENT                       </td><td>Crude oil, Brendt, $/bbl, nominal$</td><td>1W                                </td><td>World                             </td></tr>\n",
       "\t<tr><td>WLD                               </td><td>2007M01                           </td><td> 54.29909                         </td><td>CRUDE_BRENT                       </td><td>Crude oil, Brendt, $/bbl, nominal$</td><td>1W                                </td><td>World                             </td></tr>\n",
       "\t<tr><td>WLD                               </td><td>2006M12                           </td><td> 62.31474                         </td><td>CRUDE_BRENT                       </td><td>Crude oil, Brendt, $/bbl, nominal$</td><td>1W                                </td><td>World                             </td></tr>\n",
       "\t<tr><td>WLD                               </td><td>2006M11                           </td><td> 58.48318                         </td><td>CRUDE_BRENT                       </td><td>Crude oil, Brendt, $/bbl, nominal$</td><td>1W                                </td><td>World                             </td></tr>\n",
       "\t<tr><td>WLD                               </td><td>2006M10                           </td><td> 58.38000                         </td><td>CRUDE_BRENT                       </td><td>Crude oil, Brendt, $/bbl, nominal$</td><td>1W                                </td><td>World                             </td></tr>\n",
       "\t<tr><td>WLD                               </td><td>2006M09                           </td><td> 62.77190                         </td><td>CRUDE_BRENT                       </td><td>Crude oil, Brendt, $/bbl, nominal$</td><td>1W                                </td><td>World                             </td></tr>\n",
       "\t<tr><td>WLD                               </td><td>2006M08                           </td><td> 73.61217                         </td><td>CRUDE_BRENT                       </td><td>Crude oil, Brendt, $/bbl, nominal$</td><td>1W                                </td><td>World                             </td></tr>\n",
       "\t<tr><td>WLD                               </td><td>2006M07                           </td><td> 73.89714                         </td><td>CRUDE_BRENT                       </td><td>Crude oil, Brendt, $/bbl, nominal$</td><td>1W                                </td><td>World                             </td></tr>\n",
       "\t<tr><td>WLD                               </td><td>2006M06                           </td><td> 68.85773                         </td><td>CRUDE_BRENT                       </td><td>Crude oil, Brendt, $/bbl, nominal$</td><td>1W                                </td><td>World                             </td></tr>\n",
       "</tbody>\n",
       "</table>\n"
      ],
      "text/latex": [
       "\\begin{tabular}{r|lllllll}\n",
       " iso3c & date & value & indicatorID & indicator & iso2c & country\\\\\n",
       "\\hline\n",
       "\t WLD                                    & 2017M10                                & 57.62                                  & CRUDE\\_BRENT                          & Crude oil, Brendt, \\$/bbl, nominal\\$ & 1W                                     & World                                 \\\\\n",
       "\t WLD                                    & 2017M09                                & 55.16                                  & CRUDE\\_BRENT                          & Crude oil, Brendt, \\$/bbl, nominal\\$ & 1W                                     & World                                 \\\\\n",
       "\t WLD                                    & 2017M08                                & 51.37                                  & CRUDE\\_BRENT                          & Crude oil, Brendt, \\$/bbl, nominal\\$ & 1W                                     & World                                 \\\\\n",
       "\t WLD                                    & 2017M07                                & 48.69                                  & CRUDE\\_BRENT                          & Crude oil, Brendt, \\$/bbl, nominal\\$ & 1W                                     & World                                 \\\\\n",
       "\t WLD                                    & 2017M06                                & 46.89                                  & CRUDE\\_BRENT                          & Crude oil, Brendt, \\$/bbl, nominal\\$ & 1W                                     & World                                 \\\\\n",
       "\t WLD                                    & 2017M05                                & 50.87                                  & CRUDE\\_BRENT                          & Crude oil, Brendt, \\$/bbl, nominal\\$ & 1W                                     & World                                 \\\\\n",
       "\t WLD                                    & 2017M04                                & 52.98                                  & CRUDE\\_BRENT                          & Crude oil, Brendt, \\$/bbl, nominal\\$ & 1W                                     & World                                 \\\\\n",
       "\t WLD                                    & 2017M03                                & 51.97                                  & CRUDE\\_BRENT                          & Crude oil, Brendt, \\$/bbl, nominal\\$ & 1W                                     & World                                 \\\\\n",
       "\t WLD                                    & 2017M02                                & 55.49                                  & CRUDE\\_BRENT                          & Crude oil, Brendt, \\$/bbl, nominal\\$ & 1W                                     & World                                 \\\\\n",
       "\t WLD                                    & 2017M01                                & 54.89                                  & CRUDE\\_BRENT                          & Crude oil, Brendt, \\$/bbl, nominal\\$ & 1W                                     & World                                 \\\\\n",
       "\t WLD                                    & 2016M12                                & 54.07                                  & CRUDE\\_BRENT                          & Crude oil, Brendt, \\$/bbl, nominal\\$ & 1W                                     & World                                 \\\\\n",
       "\t WLD                                    & 2016M11                                & 46.44                                  & CRUDE\\_BRENT                          & Crude oil, Brendt, \\$/bbl, nominal\\$ & 1W                                     & World                                 \\\\\n",
       "\t WLD                                    & 2016M10                                & 49.73                                  & CRUDE\\_BRENT                          & Crude oil, Brendt, \\$/bbl, nominal\\$ & 1W                                     & World                                 \\\\\n",
       "\t WLD                                    & 2016M09                                & 46.19                                  & CRUDE\\_BRENT                          & Crude oil, Brendt, \\$/bbl, nominal\\$ & 1W                                     & World                                 \\\\\n",
       "\t WLD                                    & 2016M08                                & 46.14                                  & CRUDE\\_BRENT                          & Crude oil, Brendt, \\$/bbl, nominal\\$ & 1W                                     & World                                 \\\\\n",
       "\t WLD                                    & 2016M07                                & 45.07                                  & CRUDE\\_BRENT                          & Crude oil, Brendt, \\$/bbl, nominal\\$ & 1W                                     & World                                 \\\\\n",
       "\t WLD                                    & 2016M06                                & 48.48                                  & CRUDE\\_BRENT                          & Crude oil, Brendt, \\$/bbl, nominal\\$ & 1W                                     & World                                 \\\\\n",
       "\t WLD                                    & 2016M05                                & 47.13                                  & CRUDE\\_BRENT                          & Crude oil, Brendt, \\$/bbl, nominal\\$ & 1W                                     & World                                 \\\\\n",
       "\t WLD                                    & 2016M04                                & 42.25                                  & CRUDE\\_BRENT                          & Crude oil, Brendt, \\$/bbl, nominal\\$ & 1W                                     & World                                 \\\\\n",
       "\t WLD                                    & 2016M03                                & 39.07                                  & CRUDE\\_BRENT                          & Crude oil, Brendt, \\$/bbl, nominal\\$ & 1W                                     & World                                 \\\\\n",
       "\t WLD                                    & 2016M02                                & 33.20                                  & CRUDE\\_BRENT                          & Crude oil, Brendt, \\$/bbl, nominal\\$ & 1W                                     & World                                 \\\\\n",
       "\t WLD                                    & 2016M01                                & 30.80                                  & CRUDE\\_BRENT                          & Crude oil, Brendt, \\$/bbl, nominal\\$ & 1W                                     & World                                 \\\\\n",
       "\t WLD                                    & 2015M12                                & 37.72                                  & CRUDE\\_BRENT                          & Crude oil, Brendt, \\$/bbl, nominal\\$ & 1W                                     & World                                 \\\\\n",
       "\t WLD                                    & 2015M11                                & 44.42                                  & CRUDE\\_BRENT                          & Crude oil, Brendt, \\$/bbl, nominal\\$ & 1W                                     & World                                 \\\\\n",
       "\t WLD                                    & 2015M10                                & 48.12                                  & CRUDE\\_BRENT                          & Crude oil, Brendt, \\$/bbl, nominal\\$ & 1W                                     & World                                 \\\\\n",
       "\t WLD                                    & 2015M09                                & 47.24                                  & CRUDE\\_BRENT                          & Crude oil, Brendt, \\$/bbl, nominal\\$ & 1W                                     & World                                 \\\\\n",
       "\t WLD                                    & 2015M08                                & 46.99                                  & CRUDE\\_BRENT                          & Crude oil, Brendt, \\$/bbl, nominal\\$ & 1W                                     & World                                 \\\\\n",
       "\t WLD                                    & 2015M07                                & 55.87                                  & CRUDE\\_BRENT                          & Crude oil, Brendt, \\$/bbl, nominal\\$ & 1W                                     & World                                 \\\\\n",
       "\t WLD                                    & 2015M06                                & 62.34                                  & CRUDE\\_BRENT                          & Crude oil, Brendt, \\$/bbl, nominal\\$ & 1W                                     & World                                 \\\\\n",
       "\t WLD                                    & 2015M05                                & 64.56                                  & CRUDE\\_BRENT                          & Crude oil, Brendt, \\$/bbl, nominal\\$ & 1W                                     & World                                 \\\\\n",
       "\t ... & ... & ... & ... & ... & ... & ...\\\\\n",
       "\t WLD                                    & 2008M11                                &  53.24100                              & CRUDE\\_BRENT                          & Crude oil, Brendt, \\$/bbl, nominal\\$ & 1W                                     & World                                 \\\\\n",
       "\t WLD                                    & 2008M10                                &  72.84261                              & CRUDE\\_BRENT                          & Crude oil, Brendt, \\$/bbl, nominal\\$ & 1W                                     & World                                 \\\\\n",
       "\t WLD                                    & 2008M09                                &  99.06409                              & CRUDE\\_BRENT                          & Crude oil, Brendt, \\$/bbl, nominal\\$ & 1W                                     & World                                 \\\\\n",
       "\t WLD                                    & 2008M08                                & 113.84905                              & CRUDE\\_BRENT                          & Crude oil, Brendt, \\$/bbl, nominal\\$ & 1W                                     & World                                 \\\\\n",
       "\t WLD                                    & 2008M07                                & 133.87304                              & CRUDE\\_BRENT                          & Crude oil, Brendt, \\$/bbl, nominal\\$ & 1W                                     & World                                 \\\\\n",
       "\t WLD                                    & 2008M06                                & 133.04857                              & CRUDE\\_BRENT                          & Crude oil, Brendt, \\$/bbl, nominal\\$ & 1W                                     & World                                 \\\\\n",
       "\t WLD                                    & 2008M05                                & 123.93619                              & CRUDE\\_BRENT                          & Crude oil, Brendt, \\$/bbl, nominal\\$ & 1W                                     & World                                 \\\\\n",
       "\t WLD                                    & 2008M04                                & 110.18773                              & CRUDE\\_BRENT                          & Crude oil, Brendt, \\$/bbl, nominal\\$ & 1W                                     & World                                 \\\\\n",
       "\t WLD                                    & 2008M03                                & 103.27750                              & CRUDE\\_BRENT                          & Crude oil, Brendt, \\$/bbl, nominal\\$ & 1W                                     & World                                 \\\\\n",
       "\t WLD                                    & 2008M02                                &  94.81667                              & CRUDE\\_BRENT                          & Crude oil, Brendt, \\$/bbl, nominal\\$ & 1W                                     & World                                 \\\\\n",
       "\t WLD                                    & 2008M01                                &  91.92045                              & CRUDE\\_BRENT                          & Crude oil, Brendt, \\$/bbl, nominal\\$ & 1W                                     & World                                 \\\\\n",
       "\t WLD                                    & 2007M12                                &  91.45000                              & CRUDE\\_BRENT                          & Crude oil, Brendt, \\$/bbl, nominal\\$ & 1W                                     & World                                 \\\\\n",
       "\t WLD                                    & 2007M11                                &  92.52818                              & CRUDE\\_BRENT                          & Crude oil, Brendt, \\$/bbl, nominal\\$ & 1W                                     & World                                 \\\\\n",
       "\t WLD                                    & 2007M10                                &  82.85783                              & CRUDE\\_BRENT                          & Crude oil, Brendt, \\$/bbl, nominal\\$ & 1W                                     & World                                 \\\\\n",
       "\t WLD                                    & 2007M09                                &  77.12700                              & CRUDE\\_BRENT                          & Crude oil, Brendt, \\$/bbl, nominal\\$ & 1W                                     & World                                 \\\\\n",
       "\t WLD                                    & 2007M08                                &  70.79652                              & CRUDE\\_BRENT                          & Crude oil, Brendt, \\$/bbl, nominal\\$ & 1W                                     & World                                 \\\\\n",
       "\t WLD                                    & 2007M07                                &  77.20409                              & CRUDE\\_BRENT                          & Crude oil, Brendt, \\$/bbl, nominal\\$ & 1W                                     & World                                 \\\\\n",
       "\t WLD                                    & 2007M06                                &  71.31619                              & CRUDE\\_BRENT                          & Crude oil, Brendt, \\$/bbl, nominal\\$ & 1W                                     & World                                 \\\\\n",
       "\t WLD                                    & 2007M05                                &  67.47609                              & CRUDE\\_BRENT                          & Crude oil, Brendt, \\$/bbl, nominal\\$ & 1W                                     & World                                 \\\\\n",
       "\t WLD                                    & 2007M04                                &  67.39842                              & CRUDE\\_BRENT                          & Crude oil, Brendt, \\$/bbl, nominal\\$ & 1W                                     & World                                 \\\\\n",
       "\t WLD                                    & 2007M03                                &  62.14364                              & CRUDE\\_BRENT                          & Crude oil, Brendt, \\$/bbl, nominal\\$ & 1W                                     & World                                 \\\\\n",
       "\t WLD                                    & 2007M02                                &  57.75700                              & CRUDE\\_BRENT                          & Crude oil, Brendt, \\$/bbl, nominal\\$ & 1W                                     & World                                 \\\\\n",
       "\t WLD                                    & 2007M01                                &  54.29909                              & CRUDE\\_BRENT                          & Crude oil, Brendt, \\$/bbl, nominal\\$ & 1W                                     & World                                 \\\\\n",
       "\t WLD                                    & 2006M12                                &  62.31474                              & CRUDE\\_BRENT                          & Crude oil, Brendt, \\$/bbl, nominal\\$ & 1W                                     & World                                 \\\\\n",
       "\t WLD                                    & 2006M11                                &  58.48318                              & CRUDE\\_BRENT                          & Crude oil, Brendt, \\$/bbl, nominal\\$ & 1W                                     & World                                 \\\\\n",
       "\t WLD                                    & 2006M10                                &  58.38000                              & CRUDE\\_BRENT                          & Crude oil, Brendt, \\$/bbl, nominal\\$ & 1W                                     & World                                 \\\\\n",
       "\t WLD                                    & 2006M09                                &  62.77190                              & CRUDE\\_BRENT                          & Crude oil, Brendt, \\$/bbl, nominal\\$ & 1W                                     & World                                 \\\\\n",
       "\t WLD                                    & 2006M08                                &  73.61217                              & CRUDE\\_BRENT                          & Crude oil, Brendt, \\$/bbl, nominal\\$ & 1W                                     & World                                 \\\\\n",
       "\t WLD                                    & 2006M07                                &  73.89714                              & CRUDE\\_BRENT                          & Crude oil, Brendt, \\$/bbl, nominal\\$ & 1W                                     & World                                 \\\\\n",
       "\t WLD                                    & 2006M06                                &  68.85773                              & CRUDE\\_BRENT                          & Crude oil, Brendt, \\$/bbl, nominal\\$ & 1W                                     & World                                 \\\\\n",
       "\\end{tabular}\n"
      ],
      "text/markdown": [
       "\n",
       "iso3c | date | value | indicatorID | indicator | iso2c | country | \n",
       "|---|---|---|---|---|---|---|---|---|---|---|---|---|---|---|---|---|---|---|---|---|---|---|---|---|---|---|---|---|---|---|---|---|---|---|---|---|---|---|---|---|---|---|---|---|---|---|---|---|---|---|---|---|---|---|---|---|---|---|---|---|\n",
       "| WLD                                | 2017M10                            | 57.62                              | CRUDE_BRENT                        | Crude oil, Brendt, $/bbl, nominal$ | 1W                                 | World                              | \n",
       "| WLD                                | 2017M09                            | 55.16                              | CRUDE_BRENT                        | Crude oil, Brendt, $/bbl, nominal$ | 1W                                 | World                              | \n",
       "| WLD                                | 2017M08                            | 51.37                              | CRUDE_BRENT                        | Crude oil, Brendt, $/bbl, nominal$ | 1W                                 | World                              | \n",
       "| WLD                                | 2017M07                            | 48.69                              | CRUDE_BRENT                        | Crude oil, Brendt, $/bbl, nominal$ | 1W                                 | World                              | \n",
       "| WLD                                | 2017M06                            | 46.89                              | CRUDE_BRENT                        | Crude oil, Brendt, $/bbl, nominal$ | 1W                                 | World                              | \n",
       "| WLD                                | 2017M05                            | 50.87                              | CRUDE_BRENT                        | Crude oil, Brendt, $/bbl, nominal$ | 1W                                 | World                              | \n",
       "| WLD                                | 2017M04                            | 52.98                              | CRUDE_BRENT                        | Crude oil, Brendt, $/bbl, nominal$ | 1W                                 | World                              | \n",
       "| WLD                                | 2017M03                            | 51.97                              | CRUDE_BRENT                        | Crude oil, Brendt, $/bbl, nominal$ | 1W                                 | World                              | \n",
       "| WLD                                | 2017M02                            | 55.49                              | CRUDE_BRENT                        | Crude oil, Brendt, $/bbl, nominal$ | 1W                                 | World                              | \n",
       "| WLD                                | 2017M01                            | 54.89                              | CRUDE_BRENT                        | Crude oil, Brendt, $/bbl, nominal$ | 1W                                 | World                              | \n",
       "| WLD                                | 2016M12                            | 54.07                              | CRUDE_BRENT                        | Crude oil, Brendt, $/bbl, nominal$ | 1W                                 | World                              | \n",
       "| WLD                                | 2016M11                            | 46.44                              | CRUDE_BRENT                        | Crude oil, Brendt, $/bbl, nominal$ | 1W                                 | World                              | \n",
       "| WLD                                | 2016M10                            | 49.73                              | CRUDE_BRENT                        | Crude oil, Brendt, $/bbl, nominal$ | 1W                                 | World                              | \n",
       "| WLD                                | 2016M09                            | 46.19                              | CRUDE_BRENT                        | Crude oil, Brendt, $/bbl, nominal$ | 1W                                 | World                              | \n",
       "| WLD                                | 2016M08                            | 46.14                              | CRUDE_BRENT                        | Crude oil, Brendt, $/bbl, nominal$ | 1W                                 | World                              | \n",
       "| WLD                                | 2016M07                            | 45.07                              | CRUDE_BRENT                        | Crude oil, Brendt, $/bbl, nominal$ | 1W                                 | World                              | \n",
       "| WLD                                | 2016M06                            | 48.48                              | CRUDE_BRENT                        | Crude oil, Brendt, $/bbl, nominal$ | 1W                                 | World                              | \n",
       "| WLD                                | 2016M05                            | 47.13                              | CRUDE_BRENT                        | Crude oil, Brendt, $/bbl, nominal$ | 1W                                 | World                              | \n",
       "| WLD                                | 2016M04                            | 42.25                              | CRUDE_BRENT                        | Crude oil, Brendt, $/bbl, nominal$ | 1W                                 | World                              | \n",
       "| WLD                                | 2016M03                            | 39.07                              | CRUDE_BRENT                        | Crude oil, Brendt, $/bbl, nominal$ | 1W                                 | World                              | \n",
       "| WLD                                | 2016M02                            | 33.20                              | CRUDE_BRENT                        | Crude oil, Brendt, $/bbl, nominal$ | 1W                                 | World                              | \n",
       "| WLD                                | 2016M01                            | 30.80                              | CRUDE_BRENT                        | Crude oil, Brendt, $/bbl, nominal$ | 1W                                 | World                              | \n",
       "| WLD                                | 2015M12                            | 37.72                              | CRUDE_BRENT                        | Crude oil, Brendt, $/bbl, nominal$ | 1W                                 | World                              | \n",
       "| WLD                                | 2015M11                            | 44.42                              | CRUDE_BRENT                        | Crude oil, Brendt, $/bbl, nominal$ | 1W                                 | World                              | \n",
       "| WLD                                | 2015M10                            | 48.12                              | CRUDE_BRENT                        | Crude oil, Brendt, $/bbl, nominal$ | 1W                                 | World                              | \n",
       "| WLD                                | 2015M09                            | 47.24                              | CRUDE_BRENT                        | Crude oil, Brendt, $/bbl, nominal$ | 1W                                 | World                              | \n",
       "| WLD                                | 2015M08                            | 46.99                              | CRUDE_BRENT                        | Crude oil, Brendt, $/bbl, nominal$ | 1W                                 | World                              | \n",
       "| WLD                                | 2015M07                            | 55.87                              | CRUDE_BRENT                        | Crude oil, Brendt, $/bbl, nominal$ | 1W                                 | World                              | \n",
       "| WLD                                | 2015M06                            | 62.34                              | CRUDE_BRENT                        | Crude oil, Brendt, $/bbl, nominal$ | 1W                                 | World                              | \n",
       "| WLD                                | 2015M05                            | 64.56                              | CRUDE_BRENT                        | Crude oil, Brendt, $/bbl, nominal$ | 1W                                 | World                              | \n",
       "| ... | ... | ... | ... | ... | ... | ... | \n",
       "| WLD                                | 2008M11                            |  53.24100                          | CRUDE_BRENT                        | Crude oil, Brendt, $/bbl, nominal$ | 1W                                 | World                              | \n",
       "| WLD                                | 2008M10                            |  72.84261                          | CRUDE_BRENT                        | Crude oil, Brendt, $/bbl, nominal$ | 1W                                 | World                              | \n",
       "| WLD                                | 2008M09                            |  99.06409                          | CRUDE_BRENT                        | Crude oil, Brendt, $/bbl, nominal$ | 1W                                 | World                              | \n",
       "| WLD                                | 2008M08                            | 113.84905                          | CRUDE_BRENT                        | Crude oil, Brendt, $/bbl, nominal$ | 1W                                 | World                              | \n",
       "| WLD                                | 2008M07                            | 133.87304                          | CRUDE_BRENT                        | Crude oil, Brendt, $/bbl, nominal$ | 1W                                 | World                              | \n",
       "| WLD                                | 2008M06                            | 133.04857                          | CRUDE_BRENT                        | Crude oil, Brendt, $/bbl, nominal$ | 1W                                 | World                              | \n",
       "| WLD                                | 2008M05                            | 123.93619                          | CRUDE_BRENT                        | Crude oil, Brendt, $/bbl, nominal$ | 1W                                 | World                              | \n",
       "| WLD                                | 2008M04                            | 110.18773                          | CRUDE_BRENT                        | Crude oil, Brendt, $/bbl, nominal$ | 1W                                 | World                              | \n",
       "| WLD                                | 2008M03                            | 103.27750                          | CRUDE_BRENT                        | Crude oil, Brendt, $/bbl, nominal$ | 1W                                 | World                              | \n",
       "| WLD                                | 2008M02                            |  94.81667                          | CRUDE_BRENT                        | Crude oil, Brendt, $/bbl, nominal$ | 1W                                 | World                              | \n",
       "| WLD                                | 2008M01                            |  91.92045                          | CRUDE_BRENT                        | Crude oil, Brendt, $/bbl, nominal$ | 1W                                 | World                              | \n",
       "| WLD                                | 2007M12                            |  91.45000                          | CRUDE_BRENT                        | Crude oil, Brendt, $/bbl, nominal$ | 1W                                 | World                              | \n",
       "| WLD                                | 2007M11                            |  92.52818                          | CRUDE_BRENT                        | Crude oil, Brendt, $/bbl, nominal$ | 1W                                 | World                              | \n",
       "| WLD                                | 2007M10                            |  82.85783                          | CRUDE_BRENT                        | Crude oil, Brendt, $/bbl, nominal$ | 1W                                 | World                              | \n",
       "| WLD                                | 2007M09                            |  77.12700                          | CRUDE_BRENT                        | Crude oil, Brendt, $/bbl, nominal$ | 1W                                 | World                              | \n",
       "| WLD                                | 2007M08                            |  70.79652                          | CRUDE_BRENT                        | Crude oil, Brendt, $/bbl, nominal$ | 1W                                 | World                              | \n",
       "| WLD                                | 2007M07                            |  77.20409                          | CRUDE_BRENT                        | Crude oil, Brendt, $/bbl, nominal$ | 1W                                 | World                              | \n",
       "| WLD                                | 2007M06                            |  71.31619                          | CRUDE_BRENT                        | Crude oil, Brendt, $/bbl, nominal$ | 1W                                 | World                              | \n",
       "| WLD                                | 2007M05                            |  67.47609                          | CRUDE_BRENT                        | Crude oil, Brendt, $/bbl, nominal$ | 1W                                 | World                              | \n",
       "| WLD                                | 2007M04                            |  67.39842                          | CRUDE_BRENT                        | Crude oil, Brendt, $/bbl, nominal$ | 1W                                 | World                              | \n",
       "| WLD                                | 2007M03                            |  62.14364                          | CRUDE_BRENT                        | Crude oil, Brendt, $/bbl, nominal$ | 1W                                 | World                              | \n",
       "| WLD                                | 2007M02                            |  57.75700                          | CRUDE_BRENT                        | Crude oil, Brendt, $/bbl, nominal$ | 1W                                 | World                              | \n",
       "| WLD                                | 2007M01                            |  54.29909                          | CRUDE_BRENT                        | Crude oil, Brendt, $/bbl, nominal$ | 1W                                 | World                              | \n",
       "| WLD                                | 2006M12                            |  62.31474                          | CRUDE_BRENT                        | Crude oil, Brendt, $/bbl, nominal$ | 1W                                 | World                              | \n",
       "| WLD                                | 2006M11                            |  58.48318                          | CRUDE_BRENT                        | Crude oil, Brendt, $/bbl, nominal$ | 1W                                 | World                              | \n",
       "| WLD                                | 2006M10                            |  58.38000                          | CRUDE_BRENT                        | Crude oil, Brendt, $/bbl, nominal$ | 1W                                 | World                              | \n",
       "| WLD                                | 2006M09                            |  62.77190                          | CRUDE_BRENT                        | Crude oil, Brendt, $/bbl, nominal$ | 1W                                 | World                              | \n",
       "| WLD                                | 2006M08                            |  73.61217                          | CRUDE_BRENT                        | Crude oil, Brendt, $/bbl, nominal$ | 1W                                 | World                              | \n",
       "| WLD                                | 2006M07                            |  73.89714                          | CRUDE_BRENT                        | Crude oil, Brendt, $/bbl, nominal$ | 1W                                 | World                              | \n",
       "| WLD                                | 2006M06                            |  68.85773                          | CRUDE_BRENT                        | Crude oil, Brendt, $/bbl, nominal$ | 1W                                 | World                              | \n",
       "\n",
       "\n"
      ],
      "text/plain": [
       "    iso3c date    value     indicatorID indicator                         \n",
       "1   WLD   2017M10 57.62     CRUDE_BRENT Crude oil, Brendt, $/bbl, nominal$\n",
       "2   WLD   2017M09 55.16     CRUDE_BRENT Crude oil, Brendt, $/bbl, nominal$\n",
       "3   WLD   2017M08 51.37     CRUDE_BRENT Crude oil, Brendt, $/bbl, nominal$\n",
       "4   WLD   2017M07 48.69     CRUDE_BRENT Crude oil, Brendt, $/bbl, nominal$\n",
       "5   WLD   2017M06 46.89     CRUDE_BRENT Crude oil, Brendt, $/bbl, nominal$\n",
       "6   WLD   2017M05 50.87     CRUDE_BRENT Crude oil, Brendt, $/bbl, nominal$\n",
       "7   WLD   2017M04 52.98     CRUDE_BRENT Crude oil, Brendt, $/bbl, nominal$\n",
       "8   WLD   2017M03 51.97     CRUDE_BRENT Crude oil, Brendt, $/bbl, nominal$\n",
       "9   WLD   2017M02 55.49     CRUDE_BRENT Crude oil, Brendt, $/bbl, nominal$\n",
       "10  WLD   2017M01 54.89     CRUDE_BRENT Crude oil, Brendt, $/bbl, nominal$\n",
       "11  WLD   2016M12 54.07     CRUDE_BRENT Crude oil, Brendt, $/bbl, nominal$\n",
       "12  WLD   2016M11 46.44     CRUDE_BRENT Crude oil, Brendt, $/bbl, nominal$\n",
       "13  WLD   2016M10 49.73     CRUDE_BRENT Crude oil, Brendt, $/bbl, nominal$\n",
       "14  WLD   2016M09 46.19     CRUDE_BRENT Crude oil, Brendt, $/bbl, nominal$\n",
       "15  WLD   2016M08 46.14     CRUDE_BRENT Crude oil, Brendt, $/bbl, nominal$\n",
       "16  WLD   2016M07 45.07     CRUDE_BRENT Crude oil, Brendt, $/bbl, nominal$\n",
       "17  WLD   2016M06 48.48     CRUDE_BRENT Crude oil, Brendt, $/bbl, nominal$\n",
       "18  WLD   2016M05 47.13     CRUDE_BRENT Crude oil, Brendt, $/bbl, nominal$\n",
       "19  WLD   2016M04 42.25     CRUDE_BRENT Crude oil, Brendt, $/bbl, nominal$\n",
       "20  WLD   2016M03 39.07     CRUDE_BRENT Crude oil, Brendt, $/bbl, nominal$\n",
       "21  WLD   2016M02 33.20     CRUDE_BRENT Crude oil, Brendt, $/bbl, nominal$\n",
       "22  WLD   2016M01 30.80     CRUDE_BRENT Crude oil, Brendt, $/bbl, nominal$\n",
       "23  WLD   2015M12 37.72     CRUDE_BRENT Crude oil, Brendt, $/bbl, nominal$\n",
       "24  WLD   2015M11 44.42     CRUDE_BRENT Crude oil, Brendt, $/bbl, nominal$\n",
       "25  WLD   2015M10 48.12     CRUDE_BRENT Crude oil, Brendt, $/bbl, nominal$\n",
       "26  WLD   2015M09 47.24     CRUDE_BRENT Crude oil, Brendt, $/bbl, nominal$\n",
       "27  WLD   2015M08 46.99     CRUDE_BRENT Crude oil, Brendt, $/bbl, nominal$\n",
       "28  WLD   2015M07 55.87     CRUDE_BRENT Crude oil, Brendt, $/bbl, nominal$\n",
       "29  WLD   2015M06 62.34     CRUDE_BRENT Crude oil, Brendt, $/bbl, nominal$\n",
       "30  WLD   2015M05 64.56     CRUDE_BRENT Crude oil, Brendt, $/bbl, nominal$\n",
       "... ...   ...     ...       ...         ...                               \n",
       "108 WLD   2008M11  53.24100 CRUDE_BRENT Crude oil, Brendt, $/bbl, nominal$\n",
       "109 WLD   2008M10  72.84261 CRUDE_BRENT Crude oil, Brendt, $/bbl, nominal$\n",
       "110 WLD   2008M09  99.06409 CRUDE_BRENT Crude oil, Brendt, $/bbl, nominal$\n",
       "111 WLD   2008M08 113.84905 CRUDE_BRENT Crude oil, Brendt, $/bbl, nominal$\n",
       "112 WLD   2008M07 133.87304 CRUDE_BRENT Crude oil, Brendt, $/bbl, nominal$\n",
       "113 WLD   2008M06 133.04857 CRUDE_BRENT Crude oil, Brendt, $/bbl, nominal$\n",
       "114 WLD   2008M05 123.93619 CRUDE_BRENT Crude oil, Brendt, $/bbl, nominal$\n",
       "115 WLD   2008M04 110.18773 CRUDE_BRENT Crude oil, Brendt, $/bbl, nominal$\n",
       "116 WLD   2008M03 103.27750 CRUDE_BRENT Crude oil, Brendt, $/bbl, nominal$\n",
       "117 WLD   2008M02  94.81667 CRUDE_BRENT Crude oil, Brendt, $/bbl, nominal$\n",
       "118 WLD   2008M01  91.92045 CRUDE_BRENT Crude oil, Brendt, $/bbl, nominal$\n",
       "119 WLD   2007M12  91.45000 CRUDE_BRENT Crude oil, Brendt, $/bbl, nominal$\n",
       "120 WLD   2007M11  92.52818 CRUDE_BRENT Crude oil, Brendt, $/bbl, nominal$\n",
       "121 WLD   2007M10  82.85783 CRUDE_BRENT Crude oil, Brendt, $/bbl, nominal$\n",
       "122 WLD   2007M09  77.12700 CRUDE_BRENT Crude oil, Brendt, $/bbl, nominal$\n",
       "123 WLD   2007M08  70.79652 CRUDE_BRENT Crude oil, Brendt, $/bbl, nominal$\n",
       "124 WLD   2007M07  77.20409 CRUDE_BRENT Crude oil, Brendt, $/bbl, nominal$\n",
       "125 WLD   2007M06  71.31619 CRUDE_BRENT Crude oil, Brendt, $/bbl, nominal$\n",
       "126 WLD   2007M05  67.47609 CRUDE_BRENT Crude oil, Brendt, $/bbl, nominal$\n",
       "127 WLD   2007M04  67.39842 CRUDE_BRENT Crude oil, Brendt, $/bbl, nominal$\n",
       "128 WLD   2007M03  62.14364 CRUDE_BRENT Crude oil, Brendt, $/bbl, nominal$\n",
       "129 WLD   2007M02  57.75700 CRUDE_BRENT Crude oil, Brendt, $/bbl, nominal$\n",
       "130 WLD   2007M01  54.29909 CRUDE_BRENT Crude oil, Brendt, $/bbl, nominal$\n",
       "131 WLD   2006M12  62.31474 CRUDE_BRENT Crude oil, Brendt, $/bbl, nominal$\n",
       "132 WLD   2006M11  58.48318 CRUDE_BRENT Crude oil, Brendt, $/bbl, nominal$\n",
       "133 WLD   2006M10  58.38000 CRUDE_BRENT Crude oil, Brendt, $/bbl, nominal$\n",
       "134 WLD   2006M09  62.77190 CRUDE_BRENT Crude oil, Brendt, $/bbl, nominal$\n",
       "135 WLD   2006M08  73.61217 CRUDE_BRENT Crude oil, Brendt, $/bbl, nominal$\n",
       "136 WLD   2006M07  73.89714 CRUDE_BRENT Crude oil, Brendt, $/bbl, nominal$\n",
       "137 WLD   2006M06  68.85773 CRUDE_BRENT Crude oil, Brendt, $/bbl, nominal$\n",
       "    iso2c country\n",
       "1   1W    World  \n",
       "2   1W    World  \n",
       "3   1W    World  \n",
       "4   1W    World  \n",
       "5   1W    World  \n",
       "6   1W    World  \n",
       "7   1W    World  \n",
       "8   1W    World  \n",
       "9   1W    World  \n",
       "10  1W    World  \n",
       "11  1W    World  \n",
       "12  1W    World  \n",
       "13  1W    World  \n",
       "14  1W    World  \n",
       "15  1W    World  \n",
       "16  1W    World  \n",
       "17  1W    World  \n",
       "18  1W    World  \n",
       "19  1W    World  \n",
       "20  1W    World  \n",
       "21  1W    World  \n",
       "22  1W    World  \n",
       "23  1W    World  \n",
       "24  1W    World  \n",
       "25  1W    World  \n",
       "26  1W    World  \n",
       "27  1W    World  \n",
       "28  1W    World  \n",
       "29  1W    World  \n",
       "30  1W    World  \n",
       "... ...   ...    \n",
       "108 1W    World  \n",
       "109 1W    World  \n",
       "110 1W    World  \n",
       "111 1W    World  \n",
       "112 1W    World  \n",
       "113 1W    World  \n",
       "114 1W    World  \n",
       "115 1W    World  \n",
       "116 1W    World  \n",
       "117 1W    World  \n",
       "118 1W    World  \n",
       "119 1W    World  \n",
       "120 1W    World  \n",
       "121 1W    World  \n",
       "122 1W    World  \n",
       "123 1W    World  \n",
       "124 1W    World  \n",
       "125 1W    World  \n",
       "126 1W    World  \n",
       "127 1W    World  \n",
       "128 1W    World  \n",
       "129 1W    World  \n",
       "130 1W    World  \n",
       "131 1W    World  \n",
       "132 1W    World  \n",
       "133 1W    World  \n",
       "134 1W    World  \n",
       "135 1W    World  \n",
       "136 1W    World  \n",
       "137 1W    World  "
      ]
     },
     "metadata": {},
     "output_type": "display_data"
    }
   ],
   "source": [
    "veri[veri[,4]==\"CRUDE_BRENT\",]"
   ]
  },
  {
   "cell_type": "code",
   "execution_count": 139,
   "metadata": {
    "collapsed": true
   },
   "outputs": [],
   "source": [
    "library(reshape2)"
   ]
  },
  {
   "cell_type": "code",
   "execution_count": 141,
   "metadata": {},
   "outputs": [],
   "source": [
    "oilgold<-dcast(veri, date~indicatorID, value.var='value')"
   ]
  },
  {
   "cell_type": "code",
   "execution_count": 143,
   "metadata": {},
   "outputs": [
    {
     "data": {
      "image/png": "[encoded data removed]"
     },
     "metadata": {},
     "output_type": "display_data"
    }
   ],
   "source": [
    "plot(oilgold$CRUDE_BRENT)"
   ]
  },
  {
   "cell_type": "code",
   "execution_count": 146,
   "metadata": {},
   "outputs": [
    {
     "data": {
      "text/html": [
       "<table>\n",
       "<thead><tr><th></th><th scope=col>CRUDE_BRENT</th><th scope=col>GOLD</th></tr></thead>\n",
       "<tbody>\n",
       "\t<tr><th scope=row>CRUDE_BRENT</th><td>1.0000000</td><td>0.4562557</td></tr>\n",
       "\t<tr><th scope=row>GOLD</th><td>0.4562557</td><td>1.0000000</td></tr>\n",
       "</tbody>\n",
       "</table>\n"
      ],
      "text/latex": [
       "\\begin{tabular}{r|ll}\n",
       "  & CRUDE\\_BRENT & GOLD\\\\\n",
       "\\hline\n",
       "\tCRUDE\\_BRENT & 1.0000000 & 0.4562557\\\\\n",
       "\tGOLD & 0.4562557 & 1.0000000\\\\\n",
       "\\end{tabular}\n"
      ],
      "text/markdown": [
       "\n",
       "| <!--/--> | CRUDE_BRENT | GOLD | \n",
       "|---|---|\n",
       "| CRUDE_BRENT | 1.0000000 | 0.4562557 | \n",
       "| GOLD | 0.4562557 | 1.0000000 | \n",
       "\n",
       "\n"
      ],
      "text/plain": [
       "            CRUDE_BRENT GOLD     \n",
       "CRUDE_BRENT 1.0000000   0.4562557\n",
       "GOLD        0.4562557   1.0000000"
      ]
     },
     "metadata": {},
     "output_type": "display_data"
    }
   ],
   "source": [
    "cor(oilgold[,2:3])"
   ]
  },
  {
   "cell_type": "code",
   "execution_count": 147,
   "metadata": {},
   "outputs": [
    {
     "data": {
      "text/html": [
       "<table>\n",
       "<thead><tr><th scope=col>date</th><th scope=col>CRUDE_BRENT</th><th scope=col>GOLD</th></tr></thead>\n",
       "<tbody>\n",
       "\t<tr><td>2006M06 </td><td>68.85773</td><td>596.145 </td></tr>\n",
       "\t<tr><td>2006M07 </td><td>73.89714</td><td>633.710 </td></tr>\n",
       "</tbody>\n",
       "</table>\n"
      ],
      "text/latex": [
       "\\begin{tabular}{r|lll}\n",
       " date & CRUDE\\_BRENT & GOLD\\\\\n",
       "\\hline\n",
       "\t 2006M06  & 68.85773 & 596.145 \\\\\n",
       "\t 2006M07  & 73.89714 & 633.710 \\\\\n",
       "\\end{tabular}\n"
      ],
      "text/markdown": [
       "\n",
       "date | CRUDE_BRENT | GOLD | \n",
       "|---|---|\n",
       "| 2006M06  | 68.85773 | 596.145  | \n",
       "| 2006M07  | 73.89714 | 633.710  | \n",
       "\n",
       "\n"
      ],
      "text/plain": [
       "  date    CRUDE_BRENT GOLD   \n",
       "1 2006M06 68.85773    596.145\n",
       "2 2006M07 73.89714    633.710"
      ]
     },
     "metadata": {},
     "output_type": "display_data"
    }
   ],
   "source": [
    "head(oilgold,2)"
   ]
  },
  {
   "cell_type": "code",
   "execution_count": 150,
   "metadata": {},
   "outputs": [],
   "source": [
    "lr<-lm(oilgold$CRUDE_BRENT~ oilgold$GOLD)"
   ]
  },
  {
   "cell_type": "code",
   "execution_count": 151,
   "metadata": {},
   "outputs": [
    {
     "data": {
      "text/plain": [
       "\n",
       "Call:\n",
       "lm(formula = oilgold$CRUDE_BRENT ~ oilgold$GOLD)\n",
       "\n",
       "Residuals:\n",
       "    Min      1Q  Median      3Q     Max \n",
       "-48.156 -22.676   5.007  16.826  63.927 \n",
       "\n",
       "Coefficients:\n",
       "              Estimate Std. Error t value Pr(>|t|)    \n",
       "(Intercept)  34.018756   8.095688   4.202 4.78e-05 ***\n",
       "oilgold$GOLD  0.039464   0.006624   5.957 2.10e-08 ***\n",
       "---\n",
       "Signif. codes:  0 '***' 0.001 '**' 0.01 '*' 0.05 '.' 0.1 ' ' 1\n",
       "\n",
       "Residual standard error: 24.05 on 135 degrees of freedom\n",
       "Multiple R-squared:  0.2082,\tAdjusted R-squared:  0.2023 \n",
       "F-statistic: 35.49 on 1 and 135 DF,  p-value: 2.104e-08\n"
      ]
     },
     "metadata": {},
     "output_type": "display_data"
    }
   ],
   "source": [
    "summary(lr)"
   ]
  },
  {
   "cell_type": "code",
   "execution_count": null,
   "metadata": {
    "collapsed": true
   },
   "outputs": [],
   "source": []
  }
 ],
 "metadata": {
  "kernelspec": {
   "display_name": "R",
   "language": "R",
   "name": "r"
  },
  "language_info": {
   "codemirror_mode": "r",
   "file_extension": ".r",
   "mimetype": "text/x-r-source",
   "name": "R",
   "pygments_lexer": "r",
   "version": "3.3.3"
  }
 },
 "nbformat": 4,
 "nbformat_minor": 2
}
